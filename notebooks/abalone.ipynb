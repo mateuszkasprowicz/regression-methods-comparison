{
 "cells": [
  {
   "cell_type": "markdown",
   "source": [
    "# Porównanie 3 metod regresji na podstawie 3 różnych zbiorów danych: Wiek słuchotka (ang. abalone)\n",
    "\n",
    "W niniejszej pracy wykorzystuję metody:\n",
    "- K najbliższych sąsiądów (KNN)\n",
    "- Regresji liniowej\n",
    "- Lasu losowego\n",
    "\n",
    "Używam następujących zbiorów danych:\n",
    "-  [Abalon](https://www.kaggle.com/datasets/rodolfomendes/abalone-dataset)\n",
    "    - zmienna objaśniana: rings"
   ],
   "metadata": {
    "collapsed": false
   },
   "id": "8e6a5c08fdf59c41"
  },
  {
   "cell_type": "markdown",
   "source": [
    "## Załadowanie potrzebnych bibliotek"
   ],
   "metadata": {
    "collapsed": false
   },
   "id": "cdbcf20ba0c64295"
  },
  {
   "cell_type": "code",
   "execution_count": 2,
   "outputs": [],
   "source": [
    "import random\n",
    "import os\n",
    "from joblib import dump, load\n",
    "\n",
    "import pandas as pd\n",
    "from ydata_profiling import ProfileReport\n",
    "import numpy as np\n",
    "\n",
    "import matplotlib as mpl\n",
    "import matplotlib.pyplot as plt\n",
    "import seaborn as sns\n",
    "import plotly.express as px\n",
    "\n",
    "import sklearn\n",
    "from sklearn.compose import make_column_transformer, make_column_selector\n",
    "from sklearn.impute import SimpleImputer\n",
    "from sklearn.preprocessing import TargetEncoder, StandardScaler, OneHotEncoder\n",
    "from sklearn.pipeline import make_pipeline\n",
    "\n",
    "from sklearn.linear_model import LinearRegression\n",
    "from sklearn.neighbors import KNeighborsRegressor\n",
    "from sklearn.ensemble import RandomForestRegressor\n",
    "\n",
    "from sklearn.model_selection import train_test_split, GridSearchCV, KFold\n",
    "from sklearn.metrics import r2_score\n"
   ],
   "metadata": {
    "collapsed": false,
    "ExecuteTime": {
     "end_time": "2024-01-05T15:09:17.736489Z",
     "start_time": "2024-01-05T15:09:15.825941200Z"
    }
   },
   "id": "392b077ab414804e"
  },
  {
   "cell_type": "markdown",
   "source": [
    "## Stałe"
   ],
   "metadata": {
    "collapsed": false
   },
   "id": "19d5f5b943907b25"
  },
  {
   "cell_type": "code",
   "execution_count": 3,
   "outputs": [],
   "source": [
    "random_state = 0\n",
    "\n",
    "np.random.seed(random_state)\n",
    "os.environ[\"PYTHONHASHSEED\"] = str(random_state)\n",
    "random.seed(random_state)"
   ],
   "metadata": {
    "collapsed": false,
    "ExecuteTime": {
     "end_time": "2024-01-05T15:09:17.868573400Z",
     "start_time": "2024-01-05T15:09:17.846261700Z"
    }
   },
   "id": "9f303b328fe998e4"
  },
  {
   "cell_type": "code",
   "execution_count": 4,
   "outputs": [],
   "source": [
    "sklearn.set_config(transform_output=\"pandas\")"
   ],
   "metadata": {
    "collapsed": false,
    "ExecuteTime": {
     "end_time": "2024-01-05T15:10:16.701541400Z",
     "start_time": "2024-01-05T15:10:16.681427200Z"
    }
   },
   "id": "b7737e9d547de906"
  },
  {
   "cell_type": "markdown",
   "source": [
    "## Wczytanie danych"
   ],
   "metadata": {
    "collapsed": false
   },
   "id": "4a253bc1def973e1"
  },
  {
   "cell_type": "code",
   "execution_count": 5,
   "outputs": [],
   "source": [
    "abalone = pd.read_csv(\"../data/abalone.csv\")"
   ],
   "metadata": {
    "collapsed": false,
    "ExecuteTime": {
     "end_time": "2024-01-05T15:10:17.981475400Z",
     "start_time": "2024-01-05T15:10:17.961383300Z"
    }
   },
   "id": "9f7ba64f0485ffb3"
  },
  {
   "cell_type": "markdown",
   "source": [
    "### Krótka analiza eksploracyjna danych"
   ],
   "metadata": {
    "collapsed": false
   },
   "id": "857fc4209438d23a"
  },
  {
   "cell_type": "code",
   "execution_count": 6,
   "outputs": [],
   "source": [
    "# ProfileReport(dataset, title=f\"Profiling Report for Wine quality dataset\").to_file(f\"../data/wine_quality_EDA.html\")"
   ],
   "metadata": {
    "collapsed": false,
    "ExecuteTime": {
     "end_time": "2024-01-05T15:10:19.416640300Z",
     "start_time": "2024-01-05T15:10:19.396416800Z"
    }
   },
   "id": "38cc88d27ad49609"
  },
  {
   "cell_type": "markdown",
   "source": [
    "## Preprocessing"
   ],
   "metadata": {
    "collapsed": false
   },
   "id": "9fc1beabba9f9ed8"
  },
  {
   "cell_type": "code",
   "execution_count": 7,
   "outputs": [
    {
     "name": "stdout",
     "output_type": "stream",
     "text": [
      "<class 'pandas.core.frame.DataFrame'>\n",
      "RangeIndex: 4177 entries, 0 to 4176\n",
      "Data columns (total 9 columns):\n",
      " #   Column          Non-Null Count  Dtype  \n",
      "---  ------          --------------  -----  \n",
      " 0   Sex             4177 non-null   object \n",
      " 1   Length          4177 non-null   float64\n",
      " 2   Diameter        4177 non-null   float64\n",
      " 3   Height          4177 non-null   float64\n",
      " 4   Whole weight    4177 non-null   float64\n",
      " 5   Shucked weight  4177 non-null   float64\n",
      " 6   Viscera weight  4177 non-null   float64\n",
      " 7   Shell weight    4177 non-null   float64\n",
      " 8   Rings           4177 non-null   int64  \n",
      "dtypes: float64(7), int64(1), object(1)\n",
      "memory usage: 293.8+ KB\n"
     ]
    }
   ],
   "source": [
    "abalone.info()"
   ],
   "metadata": {
    "collapsed": false,
    "ExecuteTime": {
     "end_time": "2024-01-05T15:10:20.591781500Z",
     "start_time": "2024-01-05T15:10:20.556578800Z"
    }
   },
   "id": "a767c70ecd99f96d"
  },
  {
   "cell_type": "code",
   "execution_count": 10,
   "outputs": [
    {
     "data": {
      "text/plain": "     Sex  Length  Diameter  Height  Whole weight  Shucked weight  \\\n3972   M   0.415     0.315   0.120        0.4015          0.1990   \n1091   I   0.450     0.330   0.110        0.3685          0.1600   \n52     M   0.485     0.360   0.130        0.5415          0.2595   \n2063   M   0.525     0.385   0.100        0.5115          0.2460   \n3223   M   0.520     0.415   0.175        0.7530          0.2580   \n\n      Viscera weight  Shell weight  Rings  \n3972          0.0870        0.0970      8  \n1091          0.0885        0.1020      6  \n52            0.0960        0.1600     10  \n2063          0.1005        0.1455      8  \n3223          0.1710        0.2550      8  ",
      "text/html": "<div>\n<style scoped>\n    .dataframe tbody tr th:only-of-type {\n        vertical-align: middle;\n    }\n\n    .dataframe tbody tr th {\n        vertical-align: top;\n    }\n\n    .dataframe thead th {\n        text-align: right;\n    }\n</style>\n<table border=\"1\" class=\"dataframe\">\n  <thead>\n    <tr style=\"text-align: right;\">\n      <th></th>\n      <th>Sex</th>\n      <th>Length</th>\n      <th>Diameter</th>\n      <th>Height</th>\n      <th>Whole weight</th>\n      <th>Shucked weight</th>\n      <th>Viscera weight</th>\n      <th>Shell weight</th>\n      <th>Rings</th>\n    </tr>\n  </thead>\n  <tbody>\n    <tr>\n      <th>3972</th>\n      <td>M</td>\n      <td>0.415</td>\n      <td>0.315</td>\n      <td>0.120</td>\n      <td>0.4015</td>\n      <td>0.1990</td>\n      <td>0.0870</td>\n      <td>0.0970</td>\n      <td>8</td>\n    </tr>\n    <tr>\n      <th>1091</th>\n      <td>I</td>\n      <td>0.450</td>\n      <td>0.330</td>\n      <td>0.110</td>\n      <td>0.3685</td>\n      <td>0.1600</td>\n      <td>0.0885</td>\n      <td>0.1020</td>\n      <td>6</td>\n    </tr>\n    <tr>\n      <th>52</th>\n      <td>M</td>\n      <td>0.485</td>\n      <td>0.360</td>\n      <td>0.130</td>\n      <td>0.5415</td>\n      <td>0.2595</td>\n      <td>0.0960</td>\n      <td>0.1600</td>\n      <td>10</td>\n    </tr>\n    <tr>\n      <th>2063</th>\n      <td>M</td>\n      <td>0.525</td>\n      <td>0.385</td>\n      <td>0.100</td>\n      <td>0.5115</td>\n      <td>0.2460</td>\n      <td>0.1005</td>\n      <td>0.1455</td>\n      <td>8</td>\n    </tr>\n    <tr>\n      <th>3223</th>\n      <td>M</td>\n      <td>0.520</td>\n      <td>0.415</td>\n      <td>0.175</td>\n      <td>0.7530</td>\n      <td>0.2580</td>\n      <td>0.1710</td>\n      <td>0.2550</td>\n      <td>8</td>\n    </tr>\n  </tbody>\n</table>\n</div>"
     },
     "execution_count": 10,
     "metadata": {},
     "output_type": "execute_result"
    }
   ],
   "source": [
    "abalone.sample(5)"
   ],
   "metadata": {
    "collapsed": false,
    "ExecuteTime": {
     "end_time": "2024-01-05T15:12:53.121426700Z",
     "start_time": "2024-01-05T15:12:53.061055900Z"
    }
   },
   "id": "be877cfc2657bdf5"
  },
  {
   "cell_type": "code",
   "execution_count": 11,
   "outputs": [
    {
     "data": {
      "text/plain": "Sex               0\nLength            0\nDiameter          0\nHeight            0\nWhole weight      0\nShucked weight    0\nViscera weight    0\nShell weight      0\nRings             0\ndtype: int64"
     },
     "execution_count": 11,
     "metadata": {},
     "output_type": "execute_result"
    }
   ],
   "source": [
    "abalone.isna().sum().sort_values(ascending=False)"
   ],
   "metadata": {
    "collapsed": false,
    "ExecuteTime": {
     "end_time": "2024-01-05T15:12:53.521052800Z",
     "start_time": "2024-01-05T15:12:53.471064800Z"
    }
   },
   "id": "eba2aba5ddc3d0b1"
  },
  {
   "cell_type": "code",
   "execution_count": 12,
   "outputs": [],
   "source": [
    "X = abalone.drop(columns=[\"Rings\"])\n",
    "y = abalone[\"Rings\"]"
   ],
   "metadata": {
    "collapsed": false,
    "ExecuteTime": {
     "end_time": "2024-01-05T15:12:54.246325400Z",
     "start_time": "2024-01-05T15:12:54.226213800Z"
    }
   },
   "id": "da88e1ca329c6c4b"
  },
  {
   "cell_type": "code",
   "execution_count": 13,
   "outputs": [],
   "source": [
    "X_train, X_test, y_train, y_test = train_test_split(X, y, test_size=0.1, shuffle=True, random_state=random_state)"
   ],
   "metadata": {
    "collapsed": false,
    "ExecuteTime": {
     "end_time": "2024-01-05T15:12:56.201769100Z",
     "start_time": "2024-01-05T15:12:56.171328800Z"
    }
   },
   "id": "a899fa9600f82735"
  },
  {
   "cell_type": "code",
   "execution_count": 14,
   "outputs": [],
   "source": [
    "encoder = make_column_transformer((OneHotEncoder(sparse_output=False), [\"Sex\"]), \n",
    "                                  remainder=\"passthrough\",\n",
    "                                  n_jobs=-1, \n",
    "                                  verbose=True, \n",
    "                                  verbose_feature_names_out=False,\n",
    "                                  )\n"
   ],
   "metadata": {
    "collapsed": false,
    "ExecuteTime": {
     "end_time": "2024-01-05T15:12:56.616545100Z",
     "start_time": "2024-01-05T15:12:56.591133900Z"
    }
   },
   "id": "de55bdf94a330d5a"
  },
  {
   "cell_type": "code",
   "execution_count": 15,
   "outputs": [],
   "source": [
    "X_train_preprocessed = encoder.fit_transform(X_train)"
   ],
   "metadata": {
    "collapsed": false,
    "ExecuteTime": {
     "end_time": "2024-01-05T15:13:08.956324500Z",
     "start_time": "2024-01-05T15:13:02.751318100Z"
    }
   },
   "id": "f3aca8a86f03059d"
  },
  {
   "cell_type": "markdown",
   "source": [
    "# Modelowanie"
   ],
   "metadata": {
    "collapsed": false
   },
   "id": "1ea7313d61d65591"
  },
  {
   "cell_type": "code",
   "execution_count": 16,
   "outputs": [],
   "source": [
    "knn_params = {\"n_neighbors\": [5, 25, 50],\n",
    "                \"weights\": [\"uniform\", \"distance\"],\n",
    "                \"leaf_size\": [20, 30, 50],\n",
    "                \"p\": [1, 2],\n",
    "                }\n",
    "\n",
    "random_forest_params = {\"n_estimators\": [50, 100, 200],\n",
    "                          # \"criterion\": [\"squared_error\", \"absolute_error\"],\n",
    "                          \"max_depth\": [None, 3, 4, 5],\n",
    "                          \"max_features\": [None, \"sqrt\", \"log2\"],\n",
    "                          }"
   ],
   "metadata": {
    "collapsed": false,
    "ExecuteTime": {
     "end_time": "2024-01-05T15:13:08.981172600Z",
     "start_time": "2024-01-05T15:13:08.966399600Z"
    }
   },
   "id": "82bb73aa8ce0121a"
  },
  {
   "cell_type": "markdown",
   "source": [
    "Przy wyczerpującym przeszukiwania siatki parametrów w celu znalezienia najlepszej kombinacji parametrów użyjemy walidacji krzyżowej.\n",
    "\n",
    "[<img src=\"../img/grid_search_cross_validation.png\" alt=\"drawing\" width=\"400\"/>](\"../img/grid_search_cross_validation.png\")\n",
    "źródło: https://scikit-learn.org/stable/modules/cross_validation.html"
   ],
   "metadata": {
    "collapsed": false
   },
   "id": "14196c44e829d96d"
  },
  {
   "cell_type": "code",
   "execution_count": 17,
   "outputs": [],
   "source": [
    "folds = KFold(n_splits=5, shuffle=True, random_state=random_state)"
   ],
   "metadata": {
    "collapsed": false,
    "ExecuteTime": {
     "end_time": "2024-01-05T15:13:09.021339Z",
     "start_time": "2024-01-05T15:13:08.981172600Z"
    }
   },
   "id": "25c1dd6f9a985648"
  },
  {
   "cell_type": "markdown",
   "source": [
    "## Regresja liniowa"
   ],
   "metadata": {
    "collapsed": false
   },
   "id": "d51c40d312d5a339"
  },
  {
   "cell_type": "code",
   "execution_count": 18,
   "outputs": [],
   "source": [
    "linreg = LinearRegression(n_jobs=-1)"
   ],
   "metadata": {
    "collapsed": false,
    "ExecuteTime": {
     "end_time": "2024-01-05T15:13:12.261212Z",
     "start_time": "2024-01-05T15:13:12.241448700Z"
    }
   },
   "id": "c6a04b8a6e4c9097"
  },
  {
   "cell_type": "code",
   "execution_count": 19,
   "outputs": [
    {
     "data": {
      "text/plain": "LinearRegression(n_jobs=-1)",
      "text/html": "<style>#sk-container-id-1 {color: black;}#sk-container-id-1 pre{padding: 0;}#sk-container-id-1 div.sk-toggleable {background-color: white;}#sk-container-id-1 label.sk-toggleable__label {cursor: pointer;display: block;width: 100%;margin-bottom: 0;padding: 0.3em;box-sizing: border-box;text-align: center;}#sk-container-id-1 label.sk-toggleable__label-arrow:before {content: \"▸\";float: left;margin-right: 0.25em;color: #696969;}#sk-container-id-1 label.sk-toggleable__label-arrow:hover:before {color: black;}#sk-container-id-1 div.sk-estimator:hover label.sk-toggleable__label-arrow:before {color: black;}#sk-container-id-1 div.sk-toggleable__content {max-height: 0;max-width: 0;overflow: hidden;text-align: left;background-color: #f0f8ff;}#sk-container-id-1 div.sk-toggleable__content pre {margin: 0.2em;color: black;border-radius: 0.25em;background-color: #f0f8ff;}#sk-container-id-1 input.sk-toggleable__control:checked~div.sk-toggleable__content {max-height: 200px;max-width: 100%;overflow: auto;}#sk-container-id-1 input.sk-toggleable__control:checked~label.sk-toggleable__label-arrow:before {content: \"▾\";}#sk-container-id-1 div.sk-estimator input.sk-toggleable__control:checked~label.sk-toggleable__label {background-color: #d4ebff;}#sk-container-id-1 div.sk-label input.sk-toggleable__control:checked~label.sk-toggleable__label {background-color: #d4ebff;}#sk-container-id-1 input.sk-hidden--visually {border: 0;clip: rect(1px 1px 1px 1px);clip: rect(1px, 1px, 1px, 1px);height: 1px;margin: -1px;overflow: hidden;padding: 0;position: absolute;width: 1px;}#sk-container-id-1 div.sk-estimator {font-family: monospace;background-color: #f0f8ff;border: 1px dotted black;border-radius: 0.25em;box-sizing: border-box;margin-bottom: 0.5em;}#sk-container-id-1 div.sk-estimator:hover {background-color: #d4ebff;}#sk-container-id-1 div.sk-parallel-item::after {content: \"\";width: 100%;border-bottom: 1px solid gray;flex-grow: 1;}#sk-container-id-1 div.sk-label:hover label.sk-toggleable__label {background-color: #d4ebff;}#sk-container-id-1 div.sk-serial::before {content: \"\";position: absolute;border-left: 1px solid gray;box-sizing: border-box;top: 0;bottom: 0;left: 50%;z-index: 0;}#sk-container-id-1 div.sk-serial {display: flex;flex-direction: column;align-items: center;background-color: white;padding-right: 0.2em;padding-left: 0.2em;position: relative;}#sk-container-id-1 div.sk-item {position: relative;z-index: 1;}#sk-container-id-1 div.sk-parallel {display: flex;align-items: stretch;justify-content: center;background-color: white;position: relative;}#sk-container-id-1 div.sk-item::before, #sk-container-id-1 div.sk-parallel-item::before {content: \"\";position: absolute;border-left: 1px solid gray;box-sizing: border-box;top: 0;bottom: 0;left: 50%;z-index: -1;}#sk-container-id-1 div.sk-parallel-item {display: flex;flex-direction: column;z-index: 1;position: relative;background-color: white;}#sk-container-id-1 div.sk-parallel-item:first-child::after {align-self: flex-end;width: 50%;}#sk-container-id-1 div.sk-parallel-item:last-child::after {align-self: flex-start;width: 50%;}#sk-container-id-1 div.sk-parallel-item:only-child::after {width: 0;}#sk-container-id-1 div.sk-dashed-wrapped {border: 1px dashed gray;margin: 0 0.4em 0.5em 0.4em;box-sizing: border-box;padding-bottom: 0.4em;background-color: white;}#sk-container-id-1 div.sk-label label {font-family: monospace;font-weight: bold;display: inline-block;line-height: 1.2em;}#sk-container-id-1 div.sk-label-container {text-align: center;}#sk-container-id-1 div.sk-container {/* jupyter's `normalize.less` sets `[hidden] { display: none; }` but bootstrap.min.css set `[hidden] { display: none !important; }` so we also need the `!important` here to be able to override the default hidden behavior on the sphinx rendered scikit-learn.org. See: https://github.com/scikit-learn/scikit-learn/issues/21755 */display: inline-block !important;position: relative;}#sk-container-id-1 div.sk-text-repr-fallback {display: none;}</style><div id=\"sk-container-id-1\" class=\"sk-top-container\"><div class=\"sk-text-repr-fallback\"><pre>LinearRegression(n_jobs=-1)</pre><b>In a Jupyter environment, please rerun this cell to show the HTML representation or trust the notebook. <br />On GitHub, the HTML representation is unable to render, please try loading this page with nbviewer.org.</b></div><div class=\"sk-container\" hidden><div class=\"sk-item\"><div class=\"sk-estimator sk-toggleable\"><input class=\"sk-toggleable__control sk-hidden--visually\" id=\"sk-estimator-id-1\" type=\"checkbox\" checked><label for=\"sk-estimator-id-1\" class=\"sk-toggleable__label sk-toggleable__label-arrow\">LinearRegression</label><div class=\"sk-toggleable__content\"><pre>LinearRegression(n_jobs=-1)</pre></div></div></div></div></div>"
     },
     "execution_count": 19,
     "metadata": {},
     "output_type": "execute_result"
    }
   ],
   "source": [
    "linreg.fit(X_train_preprocessed, y_train)"
   ],
   "metadata": {
    "collapsed": false,
    "ExecuteTime": {
     "end_time": "2024-01-05T15:13:12.632456100Z",
     "start_time": "2024-01-05T15:13:12.596187400Z"
    }
   },
   "id": "1f7be9dfd1487fbe"
  },
  {
   "cell_type": "code",
   "execution_count": 20,
   "outputs": [
    {
     "data": {
      "text/plain": "0.5365659904594149"
     },
     "execution_count": 20,
     "metadata": {},
     "output_type": "execute_result"
    }
   ],
   "source": [
    "linreg.score(X_train_preprocessed, y_train)"
   ],
   "metadata": {
    "collapsed": false,
    "ExecuteTime": {
     "end_time": "2024-01-05T15:13:13.921447300Z",
     "start_time": "2024-01-05T15:13:13.861345800Z"
    }
   },
   "id": "c706d3705a556b19"
  },
  {
   "cell_type": "markdown",
   "source": [
    "### K najbliższych sąsiadów"
   ],
   "metadata": {
    "collapsed": false
   },
   "id": "3dc348791f18e1c0"
  },
  {
   "cell_type": "code",
   "execution_count": 21,
   "outputs": [],
   "source": [
    "search_knn = GridSearchCV(estimator=KNeighborsRegressor(n_jobs=-1),\n",
    "                   param_grid=knn_params,\n",
    "                   scoring=\"r2\",\n",
    "                   n_jobs=-1,\n",
    "                   refit=True,\n",
    "                   cv=folds,\n",
    "                   return_train_score=True,\n",
    "                   verbose=3,\n",
    "                   )"
   ],
   "metadata": {
    "collapsed": false,
    "ExecuteTime": {
     "end_time": "2024-01-05T15:13:15.801258200Z",
     "start_time": "2024-01-05T15:13:15.763275900Z"
    }
   },
   "id": "a08bc4986ddf4466"
  },
  {
   "cell_type": "code",
   "execution_count": 22,
   "outputs": [
    {
     "name": "stdout",
     "output_type": "stream",
     "text": [
      "Fitting 5 folds for each of 36 candidates, totalling 180 fits\n",
      "CPU times: total: 781 ms\n",
      "Wall time: 17.6 s\n"
     ]
    },
    {
     "data": {
      "text/plain": "GridSearchCV(cv=KFold(n_splits=5, random_state=0, shuffle=True),\n             estimator=KNeighborsRegressor(n_jobs=-1), n_jobs=-1,\n             param_grid={'leaf_size': [20, 30, 50], 'n_neighbors': [5, 25, 50],\n                         'p': [1, 2], 'weights': ['uniform', 'distance']},\n             return_train_score=True, scoring='r2', verbose=3)",
      "text/html": "<style>#sk-container-id-2 {color: black;}#sk-container-id-2 pre{padding: 0;}#sk-container-id-2 div.sk-toggleable {background-color: white;}#sk-container-id-2 label.sk-toggleable__label {cursor: pointer;display: block;width: 100%;margin-bottom: 0;padding: 0.3em;box-sizing: border-box;text-align: center;}#sk-container-id-2 label.sk-toggleable__label-arrow:before {content: \"▸\";float: left;margin-right: 0.25em;color: #696969;}#sk-container-id-2 label.sk-toggleable__label-arrow:hover:before {color: black;}#sk-container-id-2 div.sk-estimator:hover label.sk-toggleable__label-arrow:before {color: black;}#sk-container-id-2 div.sk-toggleable__content {max-height: 0;max-width: 0;overflow: hidden;text-align: left;background-color: #f0f8ff;}#sk-container-id-2 div.sk-toggleable__content pre {margin: 0.2em;color: black;border-radius: 0.25em;background-color: #f0f8ff;}#sk-container-id-2 input.sk-toggleable__control:checked~div.sk-toggleable__content {max-height: 200px;max-width: 100%;overflow: auto;}#sk-container-id-2 input.sk-toggleable__control:checked~label.sk-toggleable__label-arrow:before {content: \"▾\";}#sk-container-id-2 div.sk-estimator input.sk-toggleable__control:checked~label.sk-toggleable__label {background-color: #d4ebff;}#sk-container-id-2 div.sk-label input.sk-toggleable__control:checked~label.sk-toggleable__label {background-color: #d4ebff;}#sk-container-id-2 input.sk-hidden--visually {border: 0;clip: rect(1px 1px 1px 1px);clip: rect(1px, 1px, 1px, 1px);height: 1px;margin: -1px;overflow: hidden;padding: 0;position: absolute;width: 1px;}#sk-container-id-2 div.sk-estimator {font-family: monospace;background-color: #f0f8ff;border: 1px dotted black;border-radius: 0.25em;box-sizing: border-box;margin-bottom: 0.5em;}#sk-container-id-2 div.sk-estimator:hover {background-color: #d4ebff;}#sk-container-id-2 div.sk-parallel-item::after {content: \"\";width: 100%;border-bottom: 1px solid gray;flex-grow: 1;}#sk-container-id-2 div.sk-label:hover label.sk-toggleable__label {background-color: #d4ebff;}#sk-container-id-2 div.sk-serial::before {content: \"\";position: absolute;border-left: 1px solid gray;box-sizing: border-box;top: 0;bottom: 0;left: 50%;z-index: 0;}#sk-container-id-2 div.sk-serial {display: flex;flex-direction: column;align-items: center;background-color: white;padding-right: 0.2em;padding-left: 0.2em;position: relative;}#sk-container-id-2 div.sk-item {position: relative;z-index: 1;}#sk-container-id-2 div.sk-parallel {display: flex;align-items: stretch;justify-content: center;background-color: white;position: relative;}#sk-container-id-2 div.sk-item::before, #sk-container-id-2 div.sk-parallel-item::before {content: \"\";position: absolute;border-left: 1px solid gray;box-sizing: border-box;top: 0;bottom: 0;left: 50%;z-index: -1;}#sk-container-id-2 div.sk-parallel-item {display: flex;flex-direction: column;z-index: 1;position: relative;background-color: white;}#sk-container-id-2 div.sk-parallel-item:first-child::after {align-self: flex-end;width: 50%;}#sk-container-id-2 div.sk-parallel-item:last-child::after {align-self: flex-start;width: 50%;}#sk-container-id-2 div.sk-parallel-item:only-child::after {width: 0;}#sk-container-id-2 div.sk-dashed-wrapped {border: 1px dashed gray;margin: 0 0.4em 0.5em 0.4em;box-sizing: border-box;padding-bottom: 0.4em;background-color: white;}#sk-container-id-2 div.sk-label label {font-family: monospace;font-weight: bold;display: inline-block;line-height: 1.2em;}#sk-container-id-2 div.sk-label-container {text-align: center;}#sk-container-id-2 div.sk-container {/* jupyter's `normalize.less` sets `[hidden] { display: none; }` but bootstrap.min.css set `[hidden] { display: none !important; }` so we also need the `!important` here to be able to override the default hidden behavior on the sphinx rendered scikit-learn.org. See: https://github.com/scikit-learn/scikit-learn/issues/21755 */display: inline-block !important;position: relative;}#sk-container-id-2 div.sk-text-repr-fallback {display: none;}</style><div id=\"sk-container-id-2\" class=\"sk-top-container\"><div class=\"sk-text-repr-fallback\"><pre>GridSearchCV(cv=KFold(n_splits=5, random_state=0, shuffle=True),\n             estimator=KNeighborsRegressor(n_jobs=-1), n_jobs=-1,\n             param_grid={&#x27;leaf_size&#x27;: [20, 30, 50], &#x27;n_neighbors&#x27;: [5, 25, 50],\n                         &#x27;p&#x27;: [1, 2], &#x27;weights&#x27;: [&#x27;uniform&#x27;, &#x27;distance&#x27;]},\n             return_train_score=True, scoring=&#x27;r2&#x27;, verbose=3)</pre><b>In a Jupyter environment, please rerun this cell to show the HTML representation or trust the notebook. <br />On GitHub, the HTML representation is unable to render, please try loading this page with nbviewer.org.</b></div><div class=\"sk-container\" hidden><div class=\"sk-item sk-dashed-wrapped\"><div class=\"sk-label-container\"><div class=\"sk-label sk-toggleable\"><input class=\"sk-toggleable__control sk-hidden--visually\" id=\"sk-estimator-id-2\" type=\"checkbox\" ><label for=\"sk-estimator-id-2\" class=\"sk-toggleable__label sk-toggleable__label-arrow\">GridSearchCV</label><div class=\"sk-toggleable__content\"><pre>GridSearchCV(cv=KFold(n_splits=5, random_state=0, shuffle=True),\n             estimator=KNeighborsRegressor(n_jobs=-1), n_jobs=-1,\n             param_grid={&#x27;leaf_size&#x27;: [20, 30, 50], &#x27;n_neighbors&#x27;: [5, 25, 50],\n                         &#x27;p&#x27;: [1, 2], &#x27;weights&#x27;: [&#x27;uniform&#x27;, &#x27;distance&#x27;]},\n             return_train_score=True, scoring=&#x27;r2&#x27;, verbose=3)</pre></div></div></div><div class=\"sk-parallel\"><div class=\"sk-parallel-item\"><div class=\"sk-item\"><div class=\"sk-label-container\"><div class=\"sk-label sk-toggleable\"><input class=\"sk-toggleable__control sk-hidden--visually\" id=\"sk-estimator-id-3\" type=\"checkbox\" ><label for=\"sk-estimator-id-3\" class=\"sk-toggleable__label sk-toggleable__label-arrow\">estimator: KNeighborsRegressor</label><div class=\"sk-toggleable__content\"><pre>KNeighborsRegressor(n_jobs=-1)</pre></div></div></div><div class=\"sk-serial\"><div class=\"sk-item\"><div class=\"sk-estimator sk-toggleable\"><input class=\"sk-toggleable__control sk-hidden--visually\" id=\"sk-estimator-id-4\" type=\"checkbox\" ><label for=\"sk-estimator-id-4\" class=\"sk-toggleable__label sk-toggleable__label-arrow\">KNeighborsRegressor</label><div class=\"sk-toggleable__content\"><pre>KNeighborsRegressor(n_jobs=-1)</pre></div></div></div></div></div></div></div></div></div></div>"
     },
     "execution_count": 22,
     "metadata": {},
     "output_type": "execute_result"
    }
   ],
   "source": [
    "%%time\n",
    "search_knn.fit(X_train_preprocessed, y_train)"
   ],
   "metadata": {
    "collapsed": false,
    "ExecuteTime": {
     "end_time": "2024-01-05T15:13:36.621632100Z",
     "start_time": "2024-01-05T15:13:18.973953900Z"
    }
   },
   "id": "3f8d7c50789497ae"
  },
  {
   "cell_type": "code",
   "execution_count": 23,
   "outputs": [
    {
     "data": {
      "text/plain": "['../models/search_knn_abalone.joblib']"
     },
     "execution_count": 23,
     "metadata": {},
     "output_type": "execute_result"
    }
   ],
   "source": [
    "dump(search_knn, \"../models/search_knn_abalone.joblib\")"
   ],
   "metadata": {
    "collapsed": false,
    "ExecuteTime": {
     "end_time": "2024-01-05T15:13:36.686231100Z",
     "start_time": "2024-01-05T15:13:36.601488500Z"
    }
   },
   "id": "578d6beec9027904"
  },
  {
   "cell_type": "code",
   "execution_count": 24,
   "outputs": [],
   "source": [
    "# search_knn = load(\"../models/search_knn_wine_quality.joblib\")"
   ],
   "metadata": {
    "collapsed": false,
    "ExecuteTime": {
     "end_time": "2024-01-05T15:13:36.686231100Z",
     "start_time": "2024-01-05T15:13:36.650528900Z"
    }
   },
   "id": "56d62ce7a68116a"
  },
  {
   "cell_type": "code",
   "execution_count": 25,
   "outputs": [
    {
     "data": {
      "text/plain": "    mean_fit_time  std_fit_time  mean_score_time  std_score_time  \\\n0        0.078873      0.034499         0.256651        0.107112   \n1        0.024495      0.019824         0.101088        0.095737   \n2        0.013744      0.002357         0.050353        0.029915   \n3        0.030574      0.019205         0.085398        0.032234   \n4        0.013632      0.001850         0.062798        0.024487   \n5        0.018970      0.001830         0.085281        0.025641   \n6        0.031955      0.007542         0.130461        0.023859   \n7        0.065920      0.020858         0.116541        0.039473   \n8        0.047950      0.017123         0.107542        0.015723   \n9        0.052864      0.015648         0.177790        0.076180   \n10       0.096971      0.054531         0.286520        0.085664   \n11       0.091089      0.017347         0.190084        0.049729   \n12       0.070376      0.031537         0.184271        0.042325   \n13       0.040959      0.015320         0.175441        0.026196   \n14       0.020178      0.000179         0.201735        0.013462   \n15       0.032475      0.021896         0.170513        0.026271   \n16       0.036516      0.014392         0.178432        0.047270   \n17       0.024968      0.001953         0.153960        0.077525   \n18       0.026722      0.007678         0.174010        0.022304   \n19       0.034735      0.011070         0.207245        0.035828   \n20       0.031164      0.009796         0.217741        0.069649   \n21       0.062844      0.047265         0.187461        0.030113   \n22       0.052833      0.033871         0.219162        0.028035   \n23       0.031569      0.010625         0.276324        0.106564   \n24       0.040489      0.018532         0.347674        0.124071   \n25       0.065364      0.054165         0.250507        0.110278   \n26       0.028833      0.014210         0.329238        0.111707   \n27       0.020404      0.002711         0.263191        0.049011   \n28       0.021043      0.003571         0.240952        0.099715   \n29       0.020722      0.000813         0.361832        0.158554   \n30       0.055848      0.046855         0.323892        0.086110   \n31       0.040769      0.022499         0.300837        0.099824   \n32       0.032202      0.016437         0.336330        0.041967   \n33       0.018455      0.002097         0.238812        0.017273   \n34       0.024961      0.006399         0.288772        0.055315   \n35       0.032388      0.020996         0.379170        0.058775   \n\n   param_leaf_size param_n_neighbors param_p param_weights  \\\n0               20                 5       1       uniform   \n1               20                 5       1      distance   \n2               20                 5       2       uniform   \n3               20                 5       2      distance   \n4               20                25       1       uniform   \n5               20                25       1      distance   \n6               20                25       2       uniform   \n7               20                25       2      distance   \n8               20                50       1       uniform   \n9               20                50       1      distance   \n10              20                50       2       uniform   \n11              20                50       2      distance   \n12              30                 5       1       uniform   \n13              30                 5       1      distance   \n14              30                 5       2       uniform   \n15              30                 5       2      distance   \n16              30                25       1       uniform   \n17              30                25       1      distance   \n18              30                25       2       uniform   \n19              30                25       2      distance   \n20              30                50       1       uniform   \n21              30                50       1      distance   \n22              30                50       2       uniform   \n23              30                50       2      distance   \n24              50                 5       1       uniform   \n25              50                 5       1      distance   \n26              50                 5       2       uniform   \n27              50                 5       2      distance   \n28              50                25       1       uniform   \n29              50                25       1      distance   \n30              50                25       2       uniform   \n31              50                25       2      distance   \n32              50                50       1       uniform   \n33              50                50       1      distance   \n34              50                50       2       uniform   \n35              50                50       2      distance   \n\n                                               params  split0_test_score  ...  \\\n0   {'leaf_size': 20, 'n_neighbors': 5, 'p': 1, 'w...           0.533313  ...   \n1   {'leaf_size': 20, 'n_neighbors': 5, 'p': 1, 'w...           0.533517  ...   \n2   {'leaf_size': 20, 'n_neighbors': 5, 'p': 2, 'w...           0.530188  ...   \n3   {'leaf_size': 20, 'n_neighbors': 5, 'p': 2, 'w...           0.531408  ...   \n4   {'leaf_size': 20, 'n_neighbors': 25, 'p': 1, '...           0.519900  ...   \n5   {'leaf_size': 20, 'n_neighbors': 25, 'p': 1, '...           0.529055  ...   \n6   {'leaf_size': 20, 'n_neighbors': 25, 'p': 2, '...           0.525379  ...   \n7   {'leaf_size': 20, 'n_neighbors': 25, 'p': 2, '...           0.533728  ...   \n8   {'leaf_size': 20, 'n_neighbors': 50, 'p': 1, '...           0.489506  ...   \n9   {'leaf_size': 20, 'n_neighbors': 50, 'p': 1, '...           0.504903  ...   \n10  {'leaf_size': 20, 'n_neighbors': 50, 'p': 2, '...           0.493821  ...   \n11  {'leaf_size': 20, 'n_neighbors': 50, 'p': 2, '...           0.508504  ...   \n12  {'leaf_size': 30, 'n_neighbors': 5, 'p': 1, 'w...           0.533216  ...   \n13  {'leaf_size': 30, 'n_neighbors': 5, 'p': 1, 'w...           0.533456  ...   \n14  {'leaf_size': 30, 'n_neighbors': 5, 'p': 2, 'w...           0.530188  ...   \n15  {'leaf_size': 30, 'n_neighbors': 5, 'p': 2, 'w...           0.531408  ...   \n16  {'leaf_size': 30, 'n_neighbors': 25, 'p': 1, '...           0.519603  ...   \n17  {'leaf_size': 30, 'n_neighbors': 25, 'p': 1, '...           0.528844  ...   \n18  {'leaf_size': 30, 'n_neighbors': 25, 'p': 2, '...           0.525379  ...   \n19  {'leaf_size': 30, 'n_neighbors': 25, 'p': 2, '...           0.533728  ...   \n20  {'leaf_size': 30, 'n_neighbors': 50, 'p': 1, '...           0.489549  ...   \n21  {'leaf_size': 30, 'n_neighbors': 50, 'p': 1, '...           0.504936  ...   \n22  {'leaf_size': 30, 'n_neighbors': 50, 'p': 2, '...           0.493821  ...   \n23  {'leaf_size': 30, 'n_neighbors': 50, 'p': 2, '...           0.508504  ...   \n24  {'leaf_size': 50, 'n_neighbors': 5, 'p': 1, 'w...           0.533477  ...   \n25  {'leaf_size': 50, 'n_neighbors': 5, 'p': 1, 'w...           0.533668  ...   \n26  {'leaf_size': 50, 'n_neighbors': 5, 'p': 2, 'w...           0.530188  ...   \n27  {'leaf_size': 50, 'n_neighbors': 5, 'p': 2, 'w...           0.531408  ...   \n28  {'leaf_size': 50, 'n_neighbors': 25, 'p': 1, '...           0.519948  ...   \n29  {'leaf_size': 50, 'n_neighbors': 25, 'p': 1, '...           0.529106  ...   \n30  {'leaf_size': 50, 'n_neighbors': 25, 'p': 2, '...           0.525379  ...   \n31  {'leaf_size': 50, 'n_neighbors': 25, 'p': 2, '...           0.533728  ...   \n32  {'leaf_size': 50, 'n_neighbors': 50, 'p': 1, '...           0.489496  ...   \n33  {'leaf_size': 50, 'n_neighbors': 50, 'p': 1, '...           0.504898  ...   \n34  {'leaf_size': 50, 'n_neighbors': 50, 'p': 2, '...           0.493821  ...   \n35  {'leaf_size': 50, 'n_neighbors': 50, 'p': 2, '...           0.508504  ...   \n\n    mean_test_score  std_test_score  rank_test_score  split0_train_score  \\\n0          0.493883        0.026155               31            0.674734   \n1          0.495286        0.026309               28            1.000000   \n2          0.503800        0.019981               22            0.682383   \n3          0.504775        0.020875               19            1.000000   \n4          0.519285        0.011283               11            0.561586   \n5          0.526014        0.009321                5            1.000000   \n6          0.524532        0.009155                7            0.564599   \n7          0.531093        0.007826                1            1.000000   \n8          0.492402        0.013441               35            0.517634   \n9          0.506391        0.012101               17            1.000000   \n10         0.495857        0.015861               25            0.521445   \n11         0.510212        0.014277               13            1.000000   \n12         0.493859        0.026129               32            0.675214   \n13         0.495270        0.026294               29            1.000000   \n14         0.503800        0.019981               22            0.682383   \n15         0.504775        0.020875               19            1.000000   \n16         0.519231        0.011278               12            0.561466   \n17         0.525975        0.009300                6            1.000000   \n18         0.524532        0.009155                7            0.564599   \n19         0.531093        0.007826                1            1.000000   \n20         0.492433        0.013421               34            0.517602   \n21         0.506410        0.012089               16            1.000000   \n22         0.495857        0.015861               25            0.521445   \n23         0.510212        0.014277               13            1.000000   \n24         0.493693        0.026374               33            0.675169   \n25         0.495125        0.026511               30            1.000000   \n26         0.503800        0.019981               22            0.682383   \n27         0.504775        0.020875               19            1.000000   \n28         0.519358        0.011289               10            0.561452   \n29         0.526068        0.009323                4            1.000000   \n30         0.524532        0.009155                7            0.564599   \n31         0.531093        0.007826                1            1.000000   \n32         0.492395        0.013352               36            0.517590   \n33         0.506384        0.012031               18            1.000000   \n34         0.495857        0.015861               25            0.521445   \n35         0.510212        0.014277               13            1.000000   \n\n    split1_train_score  split2_train_score  split3_train_score  \\\n0             0.678449            0.674293            0.683059   \n1             1.000000            1.000000            1.000000   \n2             0.680086            0.678892            0.679133   \n3             1.000000            1.000000            1.000000   \n4             0.560842            0.564465            0.557876   \n5             1.000000            1.000000            1.000000   \n6             0.564253            0.567191            0.562209   \n7             1.000000            1.000000            1.000000   \n8             0.517909            0.520361            0.511128   \n9             1.000000            1.000000            1.000000   \n10            0.519899            0.523627            0.515612   \n11            1.000000            1.000000            1.000000   \n12            0.678554            0.674286            0.683032   \n13            1.000000            1.000000            1.000000   \n14            0.680086            0.678892            0.679133   \n15            1.000000            1.000000            1.000000   \n16            0.560890            0.564457            0.557932   \n17            1.000000            1.000000            1.000000   \n18            0.564251            0.567191            0.562209   \n19            1.000000            1.000000            1.000000   \n20            0.517880            0.520366            0.511135   \n21            1.000000            1.000000            1.000000   \n22            0.519898            0.523627            0.515612   \n23            1.000000            1.000000            1.000000   \n24            0.678457            0.674439            0.683063   \n25            1.000000            1.000000            1.000000   \n26            0.680086            0.678892            0.679133   \n27            1.000000            1.000000            1.000000   \n28            0.560821            0.564462            0.557873   \n29            1.000000            1.000000            1.000000   \n30            0.564253            0.567191            0.562209   \n31            1.000000            1.000000            1.000000   \n32            0.517878            0.520392            0.511128   \n33            1.000000            1.000000            1.000000   \n34            0.519899            0.523627            0.515612   \n35            1.000000            1.000000            1.000000   \n\n    split4_train_score  mean_train_score  std_train_score  \n0             0.680594          0.678226         0.003367  \n1             1.000000          1.000000         0.000000  \n2             0.685701          0.681239         0.002549  \n3             1.000000          1.000000         0.000000  \n4             0.557247          0.560403         0.002624  \n5             1.000000          1.000000         0.000000  \n6             0.563477          0.564346         0.001642  \n7             1.000000          1.000000         0.000000  \n8             0.509297          0.515266         0.004273  \n9             1.000000          1.000000         0.000000  \n10            0.511725          0.518461         0.004270  \n11            1.000000          1.000000         0.000000  \n12            0.680771          0.678371         0.003291  \n13            1.000000          1.000000         0.000000  \n14            0.685701          0.681239         0.002549  \n15            1.000000          1.000000         0.000000  \n16            0.557205          0.560390         0.002613  \n17            1.000000          1.000000         0.000000  \n18            0.563474          0.564345         0.001643  \n19            1.000000          1.000000         0.000000  \n20            0.509396          0.515276         0.004238  \n21            1.000000          1.000000         0.000000  \n22            0.511725          0.518461         0.004270  \n23            1.000000          1.000000         0.000000  \n24            0.680695          0.678365         0.003260  \n25            1.000000          1.000000         0.000000  \n26            0.685701          0.681239         0.002549  \n27            1.000000          1.000000         0.000000  \n28            0.557162          0.560354         0.002632  \n29            1.000000          1.000000         0.000000  \n30            0.563475          0.564345         0.001643  \n31            1.000000          1.000000         0.000000  \n32            0.509386          0.515275         0.004247  \n33            1.000000          1.000000         0.000000  \n34            0.511725          0.518461         0.004270  \n35            1.000000          1.000000         0.000000  \n\n[36 rows x 24 columns]",
      "text/html": "<div>\n<style scoped>\n    .dataframe tbody tr th:only-of-type {\n        vertical-align: middle;\n    }\n\n    .dataframe tbody tr th {\n        vertical-align: top;\n    }\n\n    .dataframe thead th {\n        text-align: right;\n    }\n</style>\n<table border=\"1\" class=\"dataframe\">\n  <thead>\n    <tr style=\"text-align: right;\">\n      <th></th>\n      <th>mean_fit_time</th>\n      <th>std_fit_time</th>\n      <th>mean_score_time</th>\n      <th>std_score_time</th>\n      <th>param_leaf_size</th>\n      <th>param_n_neighbors</th>\n      <th>param_p</th>\n      <th>param_weights</th>\n      <th>params</th>\n      <th>split0_test_score</th>\n      <th>...</th>\n      <th>mean_test_score</th>\n      <th>std_test_score</th>\n      <th>rank_test_score</th>\n      <th>split0_train_score</th>\n      <th>split1_train_score</th>\n      <th>split2_train_score</th>\n      <th>split3_train_score</th>\n      <th>split4_train_score</th>\n      <th>mean_train_score</th>\n      <th>std_train_score</th>\n    </tr>\n  </thead>\n  <tbody>\n    <tr>\n      <th>0</th>\n      <td>0.078873</td>\n      <td>0.034499</td>\n      <td>0.256651</td>\n      <td>0.107112</td>\n      <td>20</td>\n      <td>5</td>\n      <td>1</td>\n      <td>uniform</td>\n      <td>{'leaf_size': 20, 'n_neighbors': 5, 'p': 1, 'w...</td>\n      <td>0.533313</td>\n      <td>...</td>\n      <td>0.493883</td>\n      <td>0.026155</td>\n      <td>31</td>\n      <td>0.674734</td>\n      <td>0.678449</td>\n      <td>0.674293</td>\n      <td>0.683059</td>\n      <td>0.680594</td>\n      <td>0.678226</td>\n      <td>0.003367</td>\n    </tr>\n    <tr>\n      <th>1</th>\n      <td>0.024495</td>\n      <td>0.019824</td>\n      <td>0.101088</td>\n      <td>0.095737</td>\n      <td>20</td>\n      <td>5</td>\n      <td>1</td>\n      <td>distance</td>\n      <td>{'leaf_size': 20, 'n_neighbors': 5, 'p': 1, 'w...</td>\n      <td>0.533517</td>\n      <td>...</td>\n      <td>0.495286</td>\n      <td>0.026309</td>\n      <td>28</td>\n      <td>1.000000</td>\n      <td>1.000000</td>\n      <td>1.000000</td>\n      <td>1.000000</td>\n      <td>1.000000</td>\n      <td>1.000000</td>\n      <td>0.000000</td>\n    </tr>\n    <tr>\n      <th>2</th>\n      <td>0.013744</td>\n      <td>0.002357</td>\n      <td>0.050353</td>\n      <td>0.029915</td>\n      <td>20</td>\n      <td>5</td>\n      <td>2</td>\n      <td>uniform</td>\n      <td>{'leaf_size': 20, 'n_neighbors': 5, 'p': 2, 'w...</td>\n      <td>0.530188</td>\n      <td>...</td>\n      <td>0.503800</td>\n      <td>0.019981</td>\n      <td>22</td>\n      <td>0.682383</td>\n      <td>0.680086</td>\n      <td>0.678892</td>\n      <td>0.679133</td>\n      <td>0.685701</td>\n      <td>0.681239</td>\n      <td>0.002549</td>\n    </tr>\n    <tr>\n      <th>3</th>\n      <td>0.030574</td>\n      <td>0.019205</td>\n      <td>0.085398</td>\n      <td>0.032234</td>\n      <td>20</td>\n      <td>5</td>\n      <td>2</td>\n      <td>distance</td>\n      <td>{'leaf_size': 20, 'n_neighbors': 5, 'p': 2, 'w...</td>\n      <td>0.531408</td>\n      <td>...</td>\n      <td>0.504775</td>\n      <td>0.020875</td>\n      <td>19</td>\n      <td>1.000000</td>\n      <td>1.000000</td>\n      <td>1.000000</td>\n      <td>1.000000</td>\n      <td>1.000000</td>\n      <td>1.000000</td>\n      <td>0.000000</td>\n    </tr>\n    <tr>\n      <th>4</th>\n      <td>0.013632</td>\n      <td>0.001850</td>\n      <td>0.062798</td>\n      <td>0.024487</td>\n      <td>20</td>\n      <td>25</td>\n      <td>1</td>\n      <td>uniform</td>\n      <td>{'leaf_size': 20, 'n_neighbors': 25, 'p': 1, '...</td>\n      <td>0.519900</td>\n      <td>...</td>\n      <td>0.519285</td>\n      <td>0.011283</td>\n      <td>11</td>\n      <td>0.561586</td>\n      <td>0.560842</td>\n      <td>0.564465</td>\n      <td>0.557876</td>\n      <td>0.557247</td>\n      <td>0.560403</td>\n      <td>0.002624</td>\n    </tr>\n    <tr>\n      <th>5</th>\n      <td>0.018970</td>\n      <td>0.001830</td>\n      <td>0.085281</td>\n      <td>0.025641</td>\n      <td>20</td>\n      <td>25</td>\n      <td>1</td>\n      <td>distance</td>\n      <td>{'leaf_size': 20, 'n_neighbors': 25, 'p': 1, '...</td>\n      <td>0.529055</td>\n      <td>...</td>\n      <td>0.526014</td>\n      <td>0.009321</td>\n      <td>5</td>\n      <td>1.000000</td>\n      <td>1.000000</td>\n      <td>1.000000</td>\n      <td>1.000000</td>\n      <td>1.000000</td>\n      <td>1.000000</td>\n      <td>0.000000</td>\n    </tr>\n    <tr>\n      <th>6</th>\n      <td>0.031955</td>\n      <td>0.007542</td>\n      <td>0.130461</td>\n      <td>0.023859</td>\n      <td>20</td>\n      <td>25</td>\n      <td>2</td>\n      <td>uniform</td>\n      <td>{'leaf_size': 20, 'n_neighbors': 25, 'p': 2, '...</td>\n      <td>0.525379</td>\n      <td>...</td>\n      <td>0.524532</td>\n      <td>0.009155</td>\n      <td>7</td>\n      <td>0.564599</td>\n      <td>0.564253</td>\n      <td>0.567191</td>\n      <td>0.562209</td>\n      <td>0.563477</td>\n      <td>0.564346</td>\n      <td>0.001642</td>\n    </tr>\n    <tr>\n      <th>7</th>\n      <td>0.065920</td>\n      <td>0.020858</td>\n      <td>0.116541</td>\n      <td>0.039473</td>\n      <td>20</td>\n      <td>25</td>\n      <td>2</td>\n      <td>distance</td>\n      <td>{'leaf_size': 20, 'n_neighbors': 25, 'p': 2, '...</td>\n      <td>0.533728</td>\n      <td>...</td>\n      <td>0.531093</td>\n      <td>0.007826</td>\n      <td>1</td>\n      <td>1.000000</td>\n      <td>1.000000</td>\n      <td>1.000000</td>\n      <td>1.000000</td>\n      <td>1.000000</td>\n      <td>1.000000</td>\n      <td>0.000000</td>\n    </tr>\n    <tr>\n      <th>8</th>\n      <td>0.047950</td>\n      <td>0.017123</td>\n      <td>0.107542</td>\n      <td>0.015723</td>\n      <td>20</td>\n      <td>50</td>\n      <td>1</td>\n      <td>uniform</td>\n      <td>{'leaf_size': 20, 'n_neighbors': 50, 'p': 1, '...</td>\n      <td>0.489506</td>\n      <td>...</td>\n      <td>0.492402</td>\n      <td>0.013441</td>\n      <td>35</td>\n      <td>0.517634</td>\n      <td>0.517909</td>\n      <td>0.520361</td>\n      <td>0.511128</td>\n      <td>0.509297</td>\n      <td>0.515266</td>\n      <td>0.004273</td>\n    </tr>\n    <tr>\n      <th>9</th>\n      <td>0.052864</td>\n      <td>0.015648</td>\n      <td>0.177790</td>\n      <td>0.076180</td>\n      <td>20</td>\n      <td>50</td>\n      <td>1</td>\n      <td>distance</td>\n      <td>{'leaf_size': 20, 'n_neighbors': 50, 'p': 1, '...</td>\n      <td>0.504903</td>\n      <td>...</td>\n      <td>0.506391</td>\n      <td>0.012101</td>\n      <td>17</td>\n      <td>1.000000</td>\n      <td>1.000000</td>\n      <td>1.000000</td>\n      <td>1.000000</td>\n      <td>1.000000</td>\n      <td>1.000000</td>\n      <td>0.000000</td>\n    </tr>\n    <tr>\n      <th>10</th>\n      <td>0.096971</td>\n      <td>0.054531</td>\n      <td>0.286520</td>\n      <td>0.085664</td>\n      <td>20</td>\n      <td>50</td>\n      <td>2</td>\n      <td>uniform</td>\n      <td>{'leaf_size': 20, 'n_neighbors': 50, 'p': 2, '...</td>\n      <td>0.493821</td>\n      <td>...</td>\n      <td>0.495857</td>\n      <td>0.015861</td>\n      <td>25</td>\n      <td>0.521445</td>\n      <td>0.519899</td>\n      <td>0.523627</td>\n      <td>0.515612</td>\n      <td>0.511725</td>\n      <td>0.518461</td>\n      <td>0.004270</td>\n    </tr>\n    <tr>\n      <th>11</th>\n      <td>0.091089</td>\n      <td>0.017347</td>\n      <td>0.190084</td>\n      <td>0.049729</td>\n      <td>20</td>\n      <td>50</td>\n      <td>2</td>\n      <td>distance</td>\n      <td>{'leaf_size': 20, 'n_neighbors': 50, 'p': 2, '...</td>\n      <td>0.508504</td>\n      <td>...</td>\n      <td>0.510212</td>\n      <td>0.014277</td>\n      <td>13</td>\n      <td>1.000000</td>\n      <td>1.000000</td>\n      <td>1.000000</td>\n      <td>1.000000</td>\n      <td>1.000000</td>\n      <td>1.000000</td>\n      <td>0.000000</td>\n    </tr>\n    <tr>\n      <th>12</th>\n      <td>0.070376</td>\n      <td>0.031537</td>\n      <td>0.184271</td>\n      <td>0.042325</td>\n      <td>30</td>\n      <td>5</td>\n      <td>1</td>\n      <td>uniform</td>\n      <td>{'leaf_size': 30, 'n_neighbors': 5, 'p': 1, 'w...</td>\n      <td>0.533216</td>\n      <td>...</td>\n      <td>0.493859</td>\n      <td>0.026129</td>\n      <td>32</td>\n      <td>0.675214</td>\n      <td>0.678554</td>\n      <td>0.674286</td>\n      <td>0.683032</td>\n      <td>0.680771</td>\n      <td>0.678371</td>\n      <td>0.003291</td>\n    </tr>\n    <tr>\n      <th>13</th>\n      <td>0.040959</td>\n      <td>0.015320</td>\n      <td>0.175441</td>\n      <td>0.026196</td>\n      <td>30</td>\n      <td>5</td>\n      <td>1</td>\n      <td>distance</td>\n      <td>{'leaf_size': 30, 'n_neighbors': 5, 'p': 1, 'w...</td>\n      <td>0.533456</td>\n      <td>...</td>\n      <td>0.495270</td>\n      <td>0.026294</td>\n      <td>29</td>\n      <td>1.000000</td>\n      <td>1.000000</td>\n      <td>1.000000</td>\n      <td>1.000000</td>\n      <td>1.000000</td>\n      <td>1.000000</td>\n      <td>0.000000</td>\n    </tr>\n    <tr>\n      <th>14</th>\n      <td>0.020178</td>\n      <td>0.000179</td>\n      <td>0.201735</td>\n      <td>0.013462</td>\n      <td>30</td>\n      <td>5</td>\n      <td>2</td>\n      <td>uniform</td>\n      <td>{'leaf_size': 30, 'n_neighbors': 5, 'p': 2, 'w...</td>\n      <td>0.530188</td>\n      <td>...</td>\n      <td>0.503800</td>\n      <td>0.019981</td>\n      <td>22</td>\n      <td>0.682383</td>\n      <td>0.680086</td>\n      <td>0.678892</td>\n      <td>0.679133</td>\n      <td>0.685701</td>\n      <td>0.681239</td>\n      <td>0.002549</td>\n    </tr>\n    <tr>\n      <th>15</th>\n      <td>0.032475</td>\n      <td>0.021896</td>\n      <td>0.170513</td>\n      <td>0.026271</td>\n      <td>30</td>\n      <td>5</td>\n      <td>2</td>\n      <td>distance</td>\n      <td>{'leaf_size': 30, 'n_neighbors': 5, 'p': 2, 'w...</td>\n      <td>0.531408</td>\n      <td>...</td>\n      <td>0.504775</td>\n      <td>0.020875</td>\n      <td>19</td>\n      <td>1.000000</td>\n      <td>1.000000</td>\n      <td>1.000000</td>\n      <td>1.000000</td>\n      <td>1.000000</td>\n      <td>1.000000</td>\n      <td>0.000000</td>\n    </tr>\n    <tr>\n      <th>16</th>\n      <td>0.036516</td>\n      <td>0.014392</td>\n      <td>0.178432</td>\n      <td>0.047270</td>\n      <td>30</td>\n      <td>25</td>\n      <td>1</td>\n      <td>uniform</td>\n      <td>{'leaf_size': 30, 'n_neighbors': 25, 'p': 1, '...</td>\n      <td>0.519603</td>\n      <td>...</td>\n      <td>0.519231</td>\n      <td>0.011278</td>\n      <td>12</td>\n      <td>0.561466</td>\n      <td>0.560890</td>\n      <td>0.564457</td>\n      <td>0.557932</td>\n      <td>0.557205</td>\n      <td>0.560390</td>\n      <td>0.002613</td>\n    </tr>\n    <tr>\n      <th>17</th>\n      <td>0.024968</td>\n      <td>0.001953</td>\n      <td>0.153960</td>\n      <td>0.077525</td>\n      <td>30</td>\n      <td>25</td>\n      <td>1</td>\n      <td>distance</td>\n      <td>{'leaf_size': 30, 'n_neighbors': 25, 'p': 1, '...</td>\n      <td>0.528844</td>\n      <td>...</td>\n      <td>0.525975</td>\n      <td>0.009300</td>\n      <td>6</td>\n      <td>1.000000</td>\n      <td>1.000000</td>\n      <td>1.000000</td>\n      <td>1.000000</td>\n      <td>1.000000</td>\n      <td>1.000000</td>\n      <td>0.000000</td>\n    </tr>\n    <tr>\n      <th>18</th>\n      <td>0.026722</td>\n      <td>0.007678</td>\n      <td>0.174010</td>\n      <td>0.022304</td>\n      <td>30</td>\n      <td>25</td>\n      <td>2</td>\n      <td>uniform</td>\n      <td>{'leaf_size': 30, 'n_neighbors': 25, 'p': 2, '...</td>\n      <td>0.525379</td>\n      <td>...</td>\n      <td>0.524532</td>\n      <td>0.009155</td>\n      <td>7</td>\n      <td>0.564599</td>\n      <td>0.564251</td>\n      <td>0.567191</td>\n      <td>0.562209</td>\n      <td>0.563474</td>\n      <td>0.564345</td>\n      <td>0.001643</td>\n    </tr>\n    <tr>\n      <th>19</th>\n      <td>0.034735</td>\n      <td>0.011070</td>\n      <td>0.207245</td>\n      <td>0.035828</td>\n      <td>30</td>\n      <td>25</td>\n      <td>2</td>\n      <td>distance</td>\n      <td>{'leaf_size': 30, 'n_neighbors': 25, 'p': 2, '...</td>\n      <td>0.533728</td>\n      <td>...</td>\n      <td>0.531093</td>\n      <td>0.007826</td>\n      <td>1</td>\n      <td>1.000000</td>\n      <td>1.000000</td>\n      <td>1.000000</td>\n      <td>1.000000</td>\n      <td>1.000000</td>\n      <td>1.000000</td>\n      <td>0.000000</td>\n    </tr>\n    <tr>\n      <th>20</th>\n      <td>0.031164</td>\n      <td>0.009796</td>\n      <td>0.217741</td>\n      <td>0.069649</td>\n      <td>30</td>\n      <td>50</td>\n      <td>1</td>\n      <td>uniform</td>\n      <td>{'leaf_size': 30, 'n_neighbors': 50, 'p': 1, '...</td>\n      <td>0.489549</td>\n      <td>...</td>\n      <td>0.492433</td>\n      <td>0.013421</td>\n      <td>34</td>\n      <td>0.517602</td>\n      <td>0.517880</td>\n      <td>0.520366</td>\n      <td>0.511135</td>\n      <td>0.509396</td>\n      <td>0.515276</td>\n      <td>0.004238</td>\n    </tr>\n    <tr>\n      <th>21</th>\n      <td>0.062844</td>\n      <td>0.047265</td>\n      <td>0.187461</td>\n      <td>0.030113</td>\n      <td>30</td>\n      <td>50</td>\n      <td>1</td>\n      <td>distance</td>\n      <td>{'leaf_size': 30, 'n_neighbors': 50, 'p': 1, '...</td>\n      <td>0.504936</td>\n      <td>...</td>\n      <td>0.506410</td>\n      <td>0.012089</td>\n      <td>16</td>\n      <td>1.000000</td>\n      <td>1.000000</td>\n      <td>1.000000</td>\n      <td>1.000000</td>\n      <td>1.000000</td>\n      <td>1.000000</td>\n      <td>0.000000</td>\n    </tr>\n    <tr>\n      <th>22</th>\n      <td>0.052833</td>\n      <td>0.033871</td>\n      <td>0.219162</td>\n      <td>0.028035</td>\n      <td>30</td>\n      <td>50</td>\n      <td>2</td>\n      <td>uniform</td>\n      <td>{'leaf_size': 30, 'n_neighbors': 50, 'p': 2, '...</td>\n      <td>0.493821</td>\n      <td>...</td>\n      <td>0.495857</td>\n      <td>0.015861</td>\n      <td>25</td>\n      <td>0.521445</td>\n      <td>0.519898</td>\n      <td>0.523627</td>\n      <td>0.515612</td>\n      <td>0.511725</td>\n      <td>0.518461</td>\n      <td>0.004270</td>\n    </tr>\n    <tr>\n      <th>23</th>\n      <td>0.031569</td>\n      <td>0.010625</td>\n      <td>0.276324</td>\n      <td>0.106564</td>\n      <td>30</td>\n      <td>50</td>\n      <td>2</td>\n      <td>distance</td>\n      <td>{'leaf_size': 30, 'n_neighbors': 50, 'p': 2, '...</td>\n      <td>0.508504</td>\n      <td>...</td>\n      <td>0.510212</td>\n      <td>0.014277</td>\n      <td>13</td>\n      <td>1.000000</td>\n      <td>1.000000</td>\n      <td>1.000000</td>\n      <td>1.000000</td>\n      <td>1.000000</td>\n      <td>1.000000</td>\n      <td>0.000000</td>\n    </tr>\n    <tr>\n      <th>24</th>\n      <td>0.040489</td>\n      <td>0.018532</td>\n      <td>0.347674</td>\n      <td>0.124071</td>\n      <td>50</td>\n      <td>5</td>\n      <td>1</td>\n      <td>uniform</td>\n      <td>{'leaf_size': 50, 'n_neighbors': 5, 'p': 1, 'w...</td>\n      <td>0.533477</td>\n      <td>...</td>\n      <td>0.493693</td>\n      <td>0.026374</td>\n      <td>33</td>\n      <td>0.675169</td>\n      <td>0.678457</td>\n      <td>0.674439</td>\n      <td>0.683063</td>\n      <td>0.680695</td>\n      <td>0.678365</td>\n      <td>0.003260</td>\n    </tr>\n    <tr>\n      <th>25</th>\n      <td>0.065364</td>\n      <td>0.054165</td>\n      <td>0.250507</td>\n      <td>0.110278</td>\n      <td>50</td>\n      <td>5</td>\n      <td>1</td>\n      <td>distance</td>\n      <td>{'leaf_size': 50, 'n_neighbors': 5, 'p': 1, 'w...</td>\n      <td>0.533668</td>\n      <td>...</td>\n      <td>0.495125</td>\n      <td>0.026511</td>\n      <td>30</td>\n      <td>1.000000</td>\n      <td>1.000000</td>\n      <td>1.000000</td>\n      <td>1.000000</td>\n      <td>1.000000</td>\n      <td>1.000000</td>\n      <td>0.000000</td>\n    </tr>\n    <tr>\n      <th>26</th>\n      <td>0.028833</td>\n      <td>0.014210</td>\n      <td>0.329238</td>\n      <td>0.111707</td>\n      <td>50</td>\n      <td>5</td>\n      <td>2</td>\n      <td>uniform</td>\n      <td>{'leaf_size': 50, 'n_neighbors': 5, 'p': 2, 'w...</td>\n      <td>0.530188</td>\n      <td>...</td>\n      <td>0.503800</td>\n      <td>0.019981</td>\n      <td>22</td>\n      <td>0.682383</td>\n      <td>0.680086</td>\n      <td>0.678892</td>\n      <td>0.679133</td>\n      <td>0.685701</td>\n      <td>0.681239</td>\n      <td>0.002549</td>\n    </tr>\n    <tr>\n      <th>27</th>\n      <td>0.020404</td>\n      <td>0.002711</td>\n      <td>0.263191</td>\n      <td>0.049011</td>\n      <td>50</td>\n      <td>5</td>\n      <td>2</td>\n      <td>distance</td>\n      <td>{'leaf_size': 50, 'n_neighbors': 5, 'p': 2, 'w...</td>\n      <td>0.531408</td>\n      <td>...</td>\n      <td>0.504775</td>\n      <td>0.020875</td>\n      <td>19</td>\n      <td>1.000000</td>\n      <td>1.000000</td>\n      <td>1.000000</td>\n      <td>1.000000</td>\n      <td>1.000000</td>\n      <td>1.000000</td>\n      <td>0.000000</td>\n    </tr>\n    <tr>\n      <th>28</th>\n      <td>0.021043</td>\n      <td>0.003571</td>\n      <td>0.240952</td>\n      <td>0.099715</td>\n      <td>50</td>\n      <td>25</td>\n      <td>1</td>\n      <td>uniform</td>\n      <td>{'leaf_size': 50, 'n_neighbors': 25, 'p': 1, '...</td>\n      <td>0.519948</td>\n      <td>...</td>\n      <td>0.519358</td>\n      <td>0.011289</td>\n      <td>10</td>\n      <td>0.561452</td>\n      <td>0.560821</td>\n      <td>0.564462</td>\n      <td>0.557873</td>\n      <td>0.557162</td>\n      <td>0.560354</td>\n      <td>0.002632</td>\n    </tr>\n    <tr>\n      <th>29</th>\n      <td>0.020722</td>\n      <td>0.000813</td>\n      <td>0.361832</td>\n      <td>0.158554</td>\n      <td>50</td>\n      <td>25</td>\n      <td>1</td>\n      <td>distance</td>\n      <td>{'leaf_size': 50, 'n_neighbors': 25, 'p': 1, '...</td>\n      <td>0.529106</td>\n      <td>...</td>\n      <td>0.526068</td>\n      <td>0.009323</td>\n      <td>4</td>\n      <td>1.000000</td>\n      <td>1.000000</td>\n      <td>1.000000</td>\n      <td>1.000000</td>\n      <td>1.000000</td>\n      <td>1.000000</td>\n      <td>0.000000</td>\n    </tr>\n    <tr>\n      <th>30</th>\n      <td>0.055848</td>\n      <td>0.046855</td>\n      <td>0.323892</td>\n      <td>0.086110</td>\n      <td>50</td>\n      <td>25</td>\n      <td>2</td>\n      <td>uniform</td>\n      <td>{'leaf_size': 50, 'n_neighbors': 25, 'p': 2, '...</td>\n      <td>0.525379</td>\n      <td>...</td>\n      <td>0.524532</td>\n      <td>0.009155</td>\n      <td>7</td>\n      <td>0.564599</td>\n      <td>0.564253</td>\n      <td>0.567191</td>\n      <td>0.562209</td>\n      <td>0.563475</td>\n      <td>0.564345</td>\n      <td>0.001643</td>\n    </tr>\n    <tr>\n      <th>31</th>\n      <td>0.040769</td>\n      <td>0.022499</td>\n      <td>0.300837</td>\n      <td>0.099824</td>\n      <td>50</td>\n      <td>25</td>\n      <td>2</td>\n      <td>distance</td>\n      <td>{'leaf_size': 50, 'n_neighbors': 25, 'p': 2, '...</td>\n      <td>0.533728</td>\n      <td>...</td>\n      <td>0.531093</td>\n      <td>0.007826</td>\n      <td>1</td>\n      <td>1.000000</td>\n      <td>1.000000</td>\n      <td>1.000000</td>\n      <td>1.000000</td>\n      <td>1.000000</td>\n      <td>1.000000</td>\n      <td>0.000000</td>\n    </tr>\n    <tr>\n      <th>32</th>\n      <td>0.032202</td>\n      <td>0.016437</td>\n      <td>0.336330</td>\n      <td>0.041967</td>\n      <td>50</td>\n      <td>50</td>\n      <td>1</td>\n      <td>uniform</td>\n      <td>{'leaf_size': 50, 'n_neighbors': 50, 'p': 1, '...</td>\n      <td>0.489496</td>\n      <td>...</td>\n      <td>0.492395</td>\n      <td>0.013352</td>\n      <td>36</td>\n      <td>0.517590</td>\n      <td>0.517878</td>\n      <td>0.520392</td>\n      <td>0.511128</td>\n      <td>0.509386</td>\n      <td>0.515275</td>\n      <td>0.004247</td>\n    </tr>\n    <tr>\n      <th>33</th>\n      <td>0.018455</td>\n      <td>0.002097</td>\n      <td>0.238812</td>\n      <td>0.017273</td>\n      <td>50</td>\n      <td>50</td>\n      <td>1</td>\n      <td>distance</td>\n      <td>{'leaf_size': 50, 'n_neighbors': 50, 'p': 1, '...</td>\n      <td>0.504898</td>\n      <td>...</td>\n      <td>0.506384</td>\n      <td>0.012031</td>\n      <td>18</td>\n      <td>1.000000</td>\n      <td>1.000000</td>\n      <td>1.000000</td>\n      <td>1.000000</td>\n      <td>1.000000</td>\n      <td>1.000000</td>\n      <td>0.000000</td>\n    </tr>\n    <tr>\n      <th>34</th>\n      <td>0.024961</td>\n      <td>0.006399</td>\n      <td>0.288772</td>\n      <td>0.055315</td>\n      <td>50</td>\n      <td>50</td>\n      <td>2</td>\n      <td>uniform</td>\n      <td>{'leaf_size': 50, 'n_neighbors': 50, 'p': 2, '...</td>\n      <td>0.493821</td>\n      <td>...</td>\n      <td>0.495857</td>\n      <td>0.015861</td>\n      <td>25</td>\n      <td>0.521445</td>\n      <td>0.519899</td>\n      <td>0.523627</td>\n      <td>0.515612</td>\n      <td>0.511725</td>\n      <td>0.518461</td>\n      <td>0.004270</td>\n    </tr>\n    <tr>\n      <th>35</th>\n      <td>0.032388</td>\n      <td>0.020996</td>\n      <td>0.379170</td>\n      <td>0.058775</td>\n      <td>50</td>\n      <td>50</td>\n      <td>2</td>\n      <td>distance</td>\n      <td>{'leaf_size': 50, 'n_neighbors': 50, 'p': 2, '...</td>\n      <td>0.508504</td>\n      <td>...</td>\n      <td>0.510212</td>\n      <td>0.014277</td>\n      <td>13</td>\n      <td>1.000000</td>\n      <td>1.000000</td>\n      <td>1.000000</td>\n      <td>1.000000</td>\n      <td>1.000000</td>\n      <td>1.000000</td>\n      <td>0.000000</td>\n    </tr>\n  </tbody>\n</table>\n<p>36 rows × 24 columns</p>\n</div>"
     },
     "execution_count": 25,
     "metadata": {},
     "output_type": "execute_result"
    }
   ],
   "source": [
    "pd.DataFrame(search_knn.cv_results_)"
   ],
   "metadata": {
    "collapsed": false,
    "ExecuteTime": {
     "end_time": "2024-01-05T15:13:36.936213800Z",
     "start_time": "2024-01-05T15:13:36.670532Z"
    }
   },
   "id": "23e97750d349e086"
  },
  {
   "cell_type": "markdown",
   "source": [
    "### Las losowy"
   ],
   "metadata": {
    "collapsed": false
   },
   "id": "ca9e3e1568b00d3c"
  },
  {
   "cell_type": "code",
   "execution_count": 26,
   "outputs": [],
   "source": [
    "search_random_forest = GridSearchCV(estimator=RandomForestRegressor(random_state=random_state),\n",
    "                                           param_grid=random_forest_params,\n",
    "                                           scoring=\"r2\",\n",
    "                                           n_jobs=-1,\n",
    "                                           refit=True,\n",
    "                                           cv=folds,\n",
    "                                           return_train_score=True,\n",
    "                                         verbose=3,\n",
    "                                        )"
   ],
   "metadata": {
    "collapsed": false,
    "ExecuteTime": {
     "end_time": "2024-01-05T15:13:36.936213800Z",
     "start_time": "2024-01-05T15:13:36.796360Z"
    }
   },
   "id": "bd3bbed65ea60a22"
  },
  {
   "cell_type": "code",
   "execution_count": 27,
   "outputs": [
    {
     "name": "stdout",
     "output_type": "stream",
     "text": [
      "Fitting 5 folds for each of 36 candidates, totalling 180 fits\n",
      "CPU times: total: 5.16 s\n",
      "Wall time: 1min 36s\n"
     ]
    },
    {
     "data": {
      "text/plain": "GridSearchCV(cv=KFold(n_splits=5, random_state=0, shuffle=True),\n             estimator=RandomForestRegressor(random_state=0), n_jobs=-1,\n             param_grid={'max_depth': [None, 3, 4, 5],\n                         'max_features': [None, 'sqrt', 'log2'],\n                         'n_estimators': [50, 100, 200]},\n             return_train_score=True, scoring='r2', verbose=3)",
      "text/html": "<style>#sk-container-id-3 {color: black;}#sk-container-id-3 pre{padding: 0;}#sk-container-id-3 div.sk-toggleable {background-color: white;}#sk-container-id-3 label.sk-toggleable__label {cursor: pointer;display: block;width: 100%;margin-bottom: 0;padding: 0.3em;box-sizing: border-box;text-align: center;}#sk-container-id-3 label.sk-toggleable__label-arrow:before {content: \"▸\";float: left;margin-right: 0.25em;color: #696969;}#sk-container-id-3 label.sk-toggleable__label-arrow:hover:before {color: black;}#sk-container-id-3 div.sk-estimator:hover label.sk-toggleable__label-arrow:before {color: black;}#sk-container-id-3 div.sk-toggleable__content {max-height: 0;max-width: 0;overflow: hidden;text-align: left;background-color: #f0f8ff;}#sk-container-id-3 div.sk-toggleable__content pre {margin: 0.2em;color: black;border-radius: 0.25em;background-color: #f0f8ff;}#sk-container-id-3 input.sk-toggleable__control:checked~div.sk-toggleable__content {max-height: 200px;max-width: 100%;overflow: auto;}#sk-container-id-3 input.sk-toggleable__control:checked~label.sk-toggleable__label-arrow:before {content: \"▾\";}#sk-container-id-3 div.sk-estimator input.sk-toggleable__control:checked~label.sk-toggleable__label {background-color: #d4ebff;}#sk-container-id-3 div.sk-label input.sk-toggleable__control:checked~label.sk-toggleable__label {background-color: #d4ebff;}#sk-container-id-3 input.sk-hidden--visually {border: 0;clip: rect(1px 1px 1px 1px);clip: rect(1px, 1px, 1px, 1px);height: 1px;margin: -1px;overflow: hidden;padding: 0;position: absolute;width: 1px;}#sk-container-id-3 div.sk-estimator {font-family: monospace;background-color: #f0f8ff;border: 1px dotted black;border-radius: 0.25em;box-sizing: border-box;margin-bottom: 0.5em;}#sk-container-id-3 div.sk-estimator:hover {background-color: #d4ebff;}#sk-container-id-3 div.sk-parallel-item::after {content: \"\";width: 100%;border-bottom: 1px solid gray;flex-grow: 1;}#sk-container-id-3 div.sk-label:hover label.sk-toggleable__label {background-color: #d4ebff;}#sk-container-id-3 div.sk-serial::before {content: \"\";position: absolute;border-left: 1px solid gray;box-sizing: border-box;top: 0;bottom: 0;left: 50%;z-index: 0;}#sk-container-id-3 div.sk-serial {display: flex;flex-direction: column;align-items: center;background-color: white;padding-right: 0.2em;padding-left: 0.2em;position: relative;}#sk-container-id-3 div.sk-item {position: relative;z-index: 1;}#sk-container-id-3 div.sk-parallel {display: flex;align-items: stretch;justify-content: center;background-color: white;position: relative;}#sk-container-id-3 div.sk-item::before, #sk-container-id-3 div.sk-parallel-item::before {content: \"\";position: absolute;border-left: 1px solid gray;box-sizing: border-box;top: 0;bottom: 0;left: 50%;z-index: -1;}#sk-container-id-3 div.sk-parallel-item {display: flex;flex-direction: column;z-index: 1;position: relative;background-color: white;}#sk-container-id-3 div.sk-parallel-item:first-child::after {align-self: flex-end;width: 50%;}#sk-container-id-3 div.sk-parallel-item:last-child::after {align-self: flex-start;width: 50%;}#sk-container-id-3 div.sk-parallel-item:only-child::after {width: 0;}#sk-container-id-3 div.sk-dashed-wrapped {border: 1px dashed gray;margin: 0 0.4em 0.5em 0.4em;box-sizing: border-box;padding-bottom: 0.4em;background-color: white;}#sk-container-id-3 div.sk-label label {font-family: monospace;font-weight: bold;display: inline-block;line-height: 1.2em;}#sk-container-id-3 div.sk-label-container {text-align: center;}#sk-container-id-3 div.sk-container {/* jupyter's `normalize.less` sets `[hidden] { display: none; }` but bootstrap.min.css set `[hidden] { display: none !important; }` so we also need the `!important` here to be able to override the default hidden behavior on the sphinx rendered scikit-learn.org. See: https://github.com/scikit-learn/scikit-learn/issues/21755 */display: inline-block !important;position: relative;}#sk-container-id-3 div.sk-text-repr-fallback {display: none;}</style><div id=\"sk-container-id-3\" class=\"sk-top-container\"><div class=\"sk-text-repr-fallback\"><pre>GridSearchCV(cv=KFold(n_splits=5, random_state=0, shuffle=True),\n             estimator=RandomForestRegressor(random_state=0), n_jobs=-1,\n             param_grid={&#x27;max_depth&#x27;: [None, 3, 4, 5],\n                         &#x27;max_features&#x27;: [None, &#x27;sqrt&#x27;, &#x27;log2&#x27;],\n                         &#x27;n_estimators&#x27;: [50, 100, 200]},\n             return_train_score=True, scoring=&#x27;r2&#x27;, verbose=3)</pre><b>In a Jupyter environment, please rerun this cell to show the HTML representation or trust the notebook. <br />On GitHub, the HTML representation is unable to render, please try loading this page with nbviewer.org.</b></div><div class=\"sk-container\" hidden><div class=\"sk-item sk-dashed-wrapped\"><div class=\"sk-label-container\"><div class=\"sk-label sk-toggleable\"><input class=\"sk-toggleable__control sk-hidden--visually\" id=\"sk-estimator-id-5\" type=\"checkbox\" ><label for=\"sk-estimator-id-5\" class=\"sk-toggleable__label sk-toggleable__label-arrow\">GridSearchCV</label><div class=\"sk-toggleable__content\"><pre>GridSearchCV(cv=KFold(n_splits=5, random_state=0, shuffle=True),\n             estimator=RandomForestRegressor(random_state=0), n_jobs=-1,\n             param_grid={&#x27;max_depth&#x27;: [None, 3, 4, 5],\n                         &#x27;max_features&#x27;: [None, &#x27;sqrt&#x27;, &#x27;log2&#x27;],\n                         &#x27;n_estimators&#x27;: [50, 100, 200]},\n             return_train_score=True, scoring=&#x27;r2&#x27;, verbose=3)</pre></div></div></div><div class=\"sk-parallel\"><div class=\"sk-parallel-item\"><div class=\"sk-item\"><div class=\"sk-label-container\"><div class=\"sk-label sk-toggleable\"><input class=\"sk-toggleable__control sk-hidden--visually\" id=\"sk-estimator-id-6\" type=\"checkbox\" ><label for=\"sk-estimator-id-6\" class=\"sk-toggleable__label sk-toggleable__label-arrow\">estimator: RandomForestRegressor</label><div class=\"sk-toggleable__content\"><pre>RandomForestRegressor(random_state=0)</pre></div></div></div><div class=\"sk-serial\"><div class=\"sk-item\"><div class=\"sk-estimator sk-toggleable\"><input class=\"sk-toggleable__control sk-hidden--visually\" id=\"sk-estimator-id-7\" type=\"checkbox\" ><label for=\"sk-estimator-id-7\" class=\"sk-toggleable__label sk-toggleable__label-arrow\">RandomForestRegressor</label><div class=\"sk-toggleable__content\"><pre>RandomForestRegressor(random_state=0)</pre></div></div></div></div></div></div></div></div></div></div>"
     },
     "execution_count": 27,
     "metadata": {},
     "output_type": "execute_result"
    }
   ],
   "source": [
    "%%time\n",
    "search_random_forest.fit(X_train_preprocessed, y_train)"
   ],
   "metadata": {
    "collapsed": false,
    "ExecuteTime": {
     "end_time": "2024-01-05T15:15:13.816811800Z",
     "start_time": "2024-01-05T15:13:36.836179500Z"
    }
   },
   "id": "393b76e7eb6cfbba"
  },
  {
   "cell_type": "code",
   "execution_count": 28,
   "outputs": [
    {
     "data": {
      "text/plain": "['../models/search_random_forest_knn_abalone.joblib']"
     },
     "execution_count": 28,
     "metadata": {},
     "output_type": "execute_result"
    }
   ],
   "source": [
    "dump(search_random_forest, \"../models/search_random_forest_knn_abalone.joblib\")"
   ],
   "metadata": {
    "collapsed": false,
    "ExecuteTime": {
     "end_time": "2024-01-05T15:15:13.981179600Z",
     "start_time": "2024-01-05T15:15:13.818810400Z"
    }
   },
   "id": "2d0df61303827e86"
  },
  {
   "cell_type": "code",
   "execution_count": 29,
   "outputs": [],
   "source": [
    "# search_random_forest = load(\"../models/search_random_forest_wine_quality.joblib\")"
   ],
   "metadata": {
    "collapsed": false,
    "ExecuteTime": {
     "end_time": "2024-01-05T15:15:14.047926100Z",
     "start_time": "2024-01-05T15:15:13.981179600Z"
    }
   },
   "id": "57a04f7bd1ef8fe7"
  },
  {
   "cell_type": "code",
   "execution_count": 30,
   "outputs": [
    {
     "data": {
      "text/plain": "    mean_fit_time  std_fit_time  mean_score_time  std_score_time  \\\n0        6.187398      0.059237         0.037487        0.006149   \n1       12.052610      0.144723         0.067072        0.008704   \n2       23.529486      0.303783         0.136363        0.022068   \n3        2.350078      0.127389         0.034067        0.005007   \n4        4.641658      0.058329         0.061066        0.007507   \n5       10.217048      0.417408         0.138480        0.005472   \n6        2.681572      0.083120         0.045070        0.007106   \n7        5.435568      0.087698         0.076424        0.006886   \n8        9.527132      0.117580         0.147541        0.025762   \n9        1.065831      0.031548         0.021041        0.003327   \n10       2.091435      0.070855         0.039561        0.004562   \n11       4.745119      0.127977         0.091045        0.022599   \n12       0.558856      0.032049         0.026154        0.007958   \n13       1.140802      0.054540         0.046289        0.004628   \n14       2.117359      0.084822         0.068650        0.005190   \n15       0.529304      0.029880         0.022941        0.004171   \n16       0.981409      0.035083         0.040542        0.005479   \n17       1.986162      0.033187         0.070257        0.007938   \n18       1.394617      0.023954         0.025542        0.006100   \n19       3.055886      0.079638         0.061148        0.017763   \n20       8.034253      0.661105         0.167759        0.049003   \n21       0.744748      0.136272         0.035971        0.018650   \n22       1.909374      0.382085         0.081221        0.051136   \n23       3.850827      0.413782         0.096645        0.016605   \n24       0.770163      0.124270         0.025055        0.002271   \n25       1.380730      0.012688         0.050738        0.008643   \n26       2.381081      0.095695         0.071651        0.010561   \n27       1.861777      0.232424         0.021013        0.001520   \n28       4.137775      0.095004         0.044419        0.008841   \n29       7.823643      0.062493         0.071402        0.008842   \n30       0.841227      0.033450         0.030869        0.006232   \n31       1.656571      0.066153         0.053002        0.007768   \n32       2.922207      0.123851         0.076395        0.007390   \n33       0.705204      0.071128         0.023798        0.002484   \n34       1.454110      0.034742         0.052263        0.014355   \n35       2.824403      0.120345         0.068043        0.027009   \n\n   param_max_depth param_max_features param_n_estimators  \\\n0             None               None                 50   \n1             None               None                100   \n2             None               None                200   \n3             None               sqrt                 50   \n4             None               sqrt                100   \n5             None               sqrt                200   \n6             None               log2                 50   \n7             None               log2                100   \n8             None               log2                200   \n9                3               None                 50   \n10               3               None                100   \n11               3               None                200   \n12               3               sqrt                 50   \n13               3               sqrt                100   \n14               3               sqrt                200   \n15               3               log2                 50   \n16               3               log2                100   \n17               3               log2                200   \n18               4               None                 50   \n19               4               None                100   \n20               4               None                200   \n21               4               sqrt                 50   \n22               4               sqrt                100   \n23               4               sqrt                200   \n24               4               log2                 50   \n25               4               log2                100   \n26               4               log2                200   \n27               5               None                 50   \n28               5               None                100   \n29               5               None                200   \n30               5               sqrt                 50   \n31               5               sqrt                100   \n32               5               sqrt                200   \n33               5               log2                 50   \n34               5               log2                100   \n35               5               log2                200   \n\n                                               params  split0_test_score  \\\n0   {'max_depth': None, 'max_features': None, 'n_e...           0.532390   \n1   {'max_depth': None, 'max_features': None, 'n_e...           0.540768   \n2   {'max_depth': None, 'max_features': None, 'n_e...           0.542426   \n3   {'max_depth': None, 'max_features': 'sqrt', 'n...           0.561096   \n4   {'max_depth': None, 'max_features': 'sqrt', 'n...           0.560840   \n5   {'max_depth': None, 'max_features': 'sqrt', 'n...           0.564209   \n6   {'max_depth': None, 'max_features': 'log2', 'n...           0.561096   \n7   {'max_depth': None, 'max_features': 'log2', 'n...           0.560840   \n8   {'max_depth': None, 'max_features': 'log2', 'n...           0.564209   \n9   {'max_depth': 3, 'max_features': None, 'n_esti...           0.440963   \n10  {'max_depth': 3, 'max_features': None, 'n_esti...           0.446561   \n11  {'max_depth': 3, 'max_features': None, 'n_esti...           0.446569   \n12  {'max_depth': 3, 'max_features': 'sqrt', 'n_es...           0.413837   \n13  {'max_depth': 3, 'max_features': 'sqrt', 'n_es...           0.416054   \n14  {'max_depth': 3, 'max_features': 'sqrt', 'n_es...           0.415924   \n15  {'max_depth': 3, 'max_features': 'log2', 'n_es...           0.413837   \n16  {'max_depth': 3, 'max_features': 'log2', 'n_es...           0.416054   \n17  {'max_depth': 3, 'max_features': 'log2', 'n_es...           0.415924   \n18  {'max_depth': 4, 'max_features': None, 'n_esti...           0.505214   \n19  {'max_depth': 4, 'max_features': None, 'n_esti...           0.509018   \n20  {'max_depth': 4, 'max_features': None, 'n_esti...           0.509895   \n21  {'max_depth': 4, 'max_features': 'sqrt', 'n_es...           0.456364   \n22  {'max_depth': 4, 'max_features': 'sqrt', 'n_es...           0.456113   \n23  {'max_depth': 4, 'max_features': 'sqrt', 'n_es...           0.456171   \n24  {'max_depth': 4, 'max_features': 'log2', 'n_es...           0.456364   \n25  {'max_depth': 4, 'max_features': 'log2', 'n_es...           0.456113   \n26  {'max_depth': 4, 'max_features': 'log2', 'n_es...           0.456171   \n27  {'max_depth': 5, 'max_features': None, 'n_esti...           0.533940   \n28  {'max_depth': 5, 'max_features': None, 'n_esti...           0.534303   \n29  {'max_depth': 5, 'max_features': None, 'n_esti...           0.533118   \n30  {'max_depth': 5, 'max_features': 'sqrt', 'n_es...           0.491917   \n31  {'max_depth': 5, 'max_features': 'sqrt', 'n_es...           0.492974   \n32  {'max_depth': 5, 'max_features': 'sqrt', 'n_es...           0.493845   \n33  {'max_depth': 5, 'max_features': 'log2', 'n_es...           0.491917   \n34  {'max_depth': 5, 'max_features': 'log2', 'n_es...           0.492974   \n35  {'max_depth': 5, 'max_features': 'log2', 'n_es...           0.493845   \n\n    split1_test_score  ...  mean_test_score  std_test_score  rank_test_score  \\\n0            0.538431  ...         0.530921        0.012133               10   \n1            0.541636  ...         0.535888        0.014445                8   \n2            0.541523  ...         0.538898        0.013341                7   \n3            0.534493  ...         0.542535        0.010232                5   \n4            0.541886  ...         0.546165        0.009344                3   \n5            0.542555  ...         0.549812        0.009169                1   \n6            0.534493  ...         0.542535        0.010232                5   \n7            0.541886  ...         0.546165        0.009344                3   \n8            0.542555  ...         0.549812        0.009169                1   \n9            0.427173  ...         0.448539        0.020716               30   \n10           0.429657  ...         0.450679        0.020176               29   \n11           0.431012  ...         0.451657        0.020136               28   \n12           0.387763  ...         0.410181        0.024004               35   \n13           0.388674  ...         0.413212        0.024226               31   \n14           0.387687  ...         0.412125        0.024671               33   \n15           0.387763  ...         0.410181        0.024004               35   \n16           0.388674  ...         0.413212        0.024226               31   \n17           0.387687  ...         0.412125        0.024671               33   \n18           0.482816  ...         0.505962        0.015223               15   \n19           0.480430  ...         0.506788        0.015902               14   \n20           0.483133  ...         0.508437        0.015577               13   \n21           0.437831  ...         0.454013        0.020707               24   \n22           0.436549  ...         0.454718        0.020987               22   \n23           0.432023  ...         0.452353        0.022456               26   \n24           0.437831  ...         0.454013        0.020707               24   \n25           0.436549  ...         0.454718        0.020987               22   \n26           0.432023  ...         0.452353        0.022456               26   \n27           0.522802  ...         0.530032        0.007787               12   \n28           0.518082  ...         0.530503        0.008968               11   \n29           0.518506  ...         0.531301        0.009472                9   \n30           0.472191  ...         0.489899        0.020274               16   \n31           0.472755  ...         0.487290        0.020379               20   \n32           0.472696  ...         0.488047        0.020238               18   \n33           0.472191  ...         0.489899        0.020274               16   \n34           0.472755  ...         0.487290        0.020379               20   \n35           0.472696  ...         0.488047        0.020238               18   \n\n    split0_train_score  split1_train_score  split2_train_score  \\\n0             0.933468            0.933779            0.933313   \n1             0.935962            0.935930            0.935201   \n2             0.937455            0.937038            0.937062   \n3             0.935276            0.934643            0.933307   \n4             0.937444            0.937028            0.936364   \n5             0.939282            0.938476            0.937978   \n6             0.935276            0.934643            0.933307   \n7             0.937444            0.937028            0.936364   \n8             0.939282            0.938476            0.937978   \n9             0.467454            0.478548            0.476881   \n10            0.473304            0.480816            0.478508   \n11            0.473172            0.480836            0.478430   \n12            0.426188            0.438979            0.432580   \n13            0.427495            0.438471            0.436783   \n14            0.427690            0.434805            0.434354   \n15            0.426188            0.438979            0.432580   \n16            0.427495            0.438471            0.436783   \n17            0.427690            0.434805            0.434354   \n18            0.547764            0.548798            0.552191   \n19            0.547990            0.550683            0.552526   \n20            0.548763            0.551307            0.552685   \n21            0.483125            0.489830            0.490839   \n22            0.484105            0.491018            0.491742   \n23            0.482420            0.488250            0.488397   \n24            0.483125            0.489830            0.490839   \n25            0.484105            0.491018            0.491742   \n26            0.482420            0.488250            0.488397   \n27            0.597241            0.597197            0.595618   \n28            0.597157            0.598324            0.596184   \n29            0.597018            0.598883            0.597382   \n30            0.542889            0.555118            0.548696   \n31            0.542386            0.552908            0.543162   \n32            0.545539            0.551651            0.543621   \n33            0.542889            0.555118            0.548696   \n34            0.542386            0.552908            0.543162   \n35            0.545539            0.551651            0.543621   \n\n    split3_train_score  split4_train_score  mean_train_score  std_train_score  \n0             0.933284            0.932604          0.933290         0.000385  \n1             0.937381            0.936080          0.936111         0.000707  \n2             0.937365            0.938165          0.937417         0.000408  \n3             0.934844            0.934768          0.934568         0.000665  \n4             0.937677            0.937765          0.937255         0.000514  \n5             0.938946            0.939012          0.938739         0.000460  \n6             0.934844            0.934768          0.934568         0.000665  \n7             0.937677            0.937765          0.937255         0.000514  \n8             0.938946            0.939012          0.938739         0.000460  \n9             0.473420            0.467780          0.472816         0.004558  \n10            0.473904            0.467663          0.474839         0.004559  \n11            0.474394            0.466267          0.474620         0.005002  \n12            0.422950            0.422673          0.428674         0.006267  \n13            0.427385            0.425094          0.431046         0.005468  \n14            0.427243            0.423676          0.429553         0.004336  \n15            0.422950            0.422673          0.428674         0.006267  \n16            0.427385            0.425094          0.431046         0.005468  \n17            0.427243            0.423676          0.429553         0.004336  \n18            0.546867            0.549787          0.549081         0.001838  \n19            0.546898            0.547449          0.549109         0.002147  \n20            0.548824            0.547715          0.549859         0.001841  \n21            0.482084            0.483105          0.485797         0.003738  \n22            0.487631            0.483447          0.487589         0.003415  \n23            0.485268            0.482348          0.485337         0.002657  \n24            0.482084            0.483105          0.485797         0.003738  \n25            0.487631            0.483447          0.487589         0.003415  \n26            0.485268            0.482348          0.485337         0.002657  \n27            0.594745            0.599357          0.596831         0.001581  \n28            0.594964            0.597916          0.596909         0.001215  \n29            0.596445            0.598546          0.597655         0.000922  \n30            0.541831            0.548447          0.547396         0.004769  \n31            0.539304            0.546720          0.544896         0.004650  \n32            0.543441            0.543769          0.545604         0.003116  \n33            0.541831            0.548447          0.547396         0.004769  \n34            0.539304            0.546720          0.544896         0.004650  \n35            0.543441            0.543769          0.545604         0.003116  \n\n[36 rows x 23 columns]",
      "text/html": "<div>\n<style scoped>\n    .dataframe tbody tr th:only-of-type {\n        vertical-align: middle;\n    }\n\n    .dataframe tbody tr th {\n        vertical-align: top;\n    }\n\n    .dataframe thead th {\n        text-align: right;\n    }\n</style>\n<table border=\"1\" class=\"dataframe\">\n  <thead>\n    <tr style=\"text-align: right;\">\n      <th></th>\n      <th>mean_fit_time</th>\n      <th>std_fit_time</th>\n      <th>mean_score_time</th>\n      <th>std_score_time</th>\n      <th>param_max_depth</th>\n      <th>param_max_features</th>\n      <th>param_n_estimators</th>\n      <th>params</th>\n      <th>split0_test_score</th>\n      <th>split1_test_score</th>\n      <th>...</th>\n      <th>mean_test_score</th>\n      <th>std_test_score</th>\n      <th>rank_test_score</th>\n      <th>split0_train_score</th>\n      <th>split1_train_score</th>\n      <th>split2_train_score</th>\n      <th>split3_train_score</th>\n      <th>split4_train_score</th>\n      <th>mean_train_score</th>\n      <th>std_train_score</th>\n    </tr>\n  </thead>\n  <tbody>\n    <tr>\n      <th>0</th>\n      <td>6.187398</td>\n      <td>0.059237</td>\n      <td>0.037487</td>\n      <td>0.006149</td>\n      <td>None</td>\n      <td>None</td>\n      <td>50</td>\n      <td>{'max_depth': None, 'max_features': None, 'n_e...</td>\n      <td>0.532390</td>\n      <td>0.538431</td>\n      <td>...</td>\n      <td>0.530921</td>\n      <td>0.012133</td>\n      <td>10</td>\n      <td>0.933468</td>\n      <td>0.933779</td>\n      <td>0.933313</td>\n      <td>0.933284</td>\n      <td>0.932604</td>\n      <td>0.933290</td>\n      <td>0.000385</td>\n    </tr>\n    <tr>\n      <th>1</th>\n      <td>12.052610</td>\n      <td>0.144723</td>\n      <td>0.067072</td>\n      <td>0.008704</td>\n      <td>None</td>\n      <td>None</td>\n      <td>100</td>\n      <td>{'max_depth': None, 'max_features': None, 'n_e...</td>\n      <td>0.540768</td>\n      <td>0.541636</td>\n      <td>...</td>\n      <td>0.535888</td>\n      <td>0.014445</td>\n      <td>8</td>\n      <td>0.935962</td>\n      <td>0.935930</td>\n      <td>0.935201</td>\n      <td>0.937381</td>\n      <td>0.936080</td>\n      <td>0.936111</td>\n      <td>0.000707</td>\n    </tr>\n    <tr>\n      <th>2</th>\n      <td>23.529486</td>\n      <td>0.303783</td>\n      <td>0.136363</td>\n      <td>0.022068</td>\n      <td>None</td>\n      <td>None</td>\n      <td>200</td>\n      <td>{'max_depth': None, 'max_features': None, 'n_e...</td>\n      <td>0.542426</td>\n      <td>0.541523</td>\n      <td>...</td>\n      <td>0.538898</td>\n      <td>0.013341</td>\n      <td>7</td>\n      <td>0.937455</td>\n      <td>0.937038</td>\n      <td>0.937062</td>\n      <td>0.937365</td>\n      <td>0.938165</td>\n      <td>0.937417</td>\n      <td>0.000408</td>\n    </tr>\n    <tr>\n      <th>3</th>\n      <td>2.350078</td>\n      <td>0.127389</td>\n      <td>0.034067</td>\n      <td>0.005007</td>\n      <td>None</td>\n      <td>sqrt</td>\n      <td>50</td>\n      <td>{'max_depth': None, 'max_features': 'sqrt', 'n...</td>\n      <td>0.561096</td>\n      <td>0.534493</td>\n      <td>...</td>\n      <td>0.542535</td>\n      <td>0.010232</td>\n      <td>5</td>\n      <td>0.935276</td>\n      <td>0.934643</td>\n      <td>0.933307</td>\n      <td>0.934844</td>\n      <td>0.934768</td>\n      <td>0.934568</td>\n      <td>0.000665</td>\n    </tr>\n    <tr>\n      <th>4</th>\n      <td>4.641658</td>\n      <td>0.058329</td>\n      <td>0.061066</td>\n      <td>0.007507</td>\n      <td>None</td>\n      <td>sqrt</td>\n      <td>100</td>\n      <td>{'max_depth': None, 'max_features': 'sqrt', 'n...</td>\n      <td>0.560840</td>\n      <td>0.541886</td>\n      <td>...</td>\n      <td>0.546165</td>\n      <td>0.009344</td>\n      <td>3</td>\n      <td>0.937444</td>\n      <td>0.937028</td>\n      <td>0.936364</td>\n      <td>0.937677</td>\n      <td>0.937765</td>\n      <td>0.937255</td>\n      <td>0.000514</td>\n    </tr>\n    <tr>\n      <th>5</th>\n      <td>10.217048</td>\n      <td>0.417408</td>\n      <td>0.138480</td>\n      <td>0.005472</td>\n      <td>None</td>\n      <td>sqrt</td>\n      <td>200</td>\n      <td>{'max_depth': None, 'max_features': 'sqrt', 'n...</td>\n      <td>0.564209</td>\n      <td>0.542555</td>\n      <td>...</td>\n      <td>0.549812</td>\n      <td>0.009169</td>\n      <td>1</td>\n      <td>0.939282</td>\n      <td>0.938476</td>\n      <td>0.937978</td>\n      <td>0.938946</td>\n      <td>0.939012</td>\n      <td>0.938739</td>\n      <td>0.000460</td>\n    </tr>\n    <tr>\n      <th>6</th>\n      <td>2.681572</td>\n      <td>0.083120</td>\n      <td>0.045070</td>\n      <td>0.007106</td>\n      <td>None</td>\n      <td>log2</td>\n      <td>50</td>\n      <td>{'max_depth': None, 'max_features': 'log2', 'n...</td>\n      <td>0.561096</td>\n      <td>0.534493</td>\n      <td>...</td>\n      <td>0.542535</td>\n      <td>0.010232</td>\n      <td>5</td>\n      <td>0.935276</td>\n      <td>0.934643</td>\n      <td>0.933307</td>\n      <td>0.934844</td>\n      <td>0.934768</td>\n      <td>0.934568</td>\n      <td>0.000665</td>\n    </tr>\n    <tr>\n      <th>7</th>\n      <td>5.435568</td>\n      <td>0.087698</td>\n      <td>0.076424</td>\n      <td>0.006886</td>\n      <td>None</td>\n      <td>log2</td>\n      <td>100</td>\n      <td>{'max_depth': None, 'max_features': 'log2', 'n...</td>\n      <td>0.560840</td>\n      <td>0.541886</td>\n      <td>...</td>\n      <td>0.546165</td>\n      <td>0.009344</td>\n      <td>3</td>\n      <td>0.937444</td>\n      <td>0.937028</td>\n      <td>0.936364</td>\n      <td>0.937677</td>\n      <td>0.937765</td>\n      <td>0.937255</td>\n      <td>0.000514</td>\n    </tr>\n    <tr>\n      <th>8</th>\n      <td>9.527132</td>\n      <td>0.117580</td>\n      <td>0.147541</td>\n      <td>0.025762</td>\n      <td>None</td>\n      <td>log2</td>\n      <td>200</td>\n      <td>{'max_depth': None, 'max_features': 'log2', 'n...</td>\n      <td>0.564209</td>\n      <td>0.542555</td>\n      <td>...</td>\n      <td>0.549812</td>\n      <td>0.009169</td>\n      <td>1</td>\n      <td>0.939282</td>\n      <td>0.938476</td>\n      <td>0.937978</td>\n      <td>0.938946</td>\n      <td>0.939012</td>\n      <td>0.938739</td>\n      <td>0.000460</td>\n    </tr>\n    <tr>\n      <th>9</th>\n      <td>1.065831</td>\n      <td>0.031548</td>\n      <td>0.021041</td>\n      <td>0.003327</td>\n      <td>3</td>\n      <td>None</td>\n      <td>50</td>\n      <td>{'max_depth': 3, 'max_features': None, 'n_esti...</td>\n      <td>0.440963</td>\n      <td>0.427173</td>\n      <td>...</td>\n      <td>0.448539</td>\n      <td>0.020716</td>\n      <td>30</td>\n      <td>0.467454</td>\n      <td>0.478548</td>\n      <td>0.476881</td>\n      <td>0.473420</td>\n      <td>0.467780</td>\n      <td>0.472816</td>\n      <td>0.004558</td>\n    </tr>\n    <tr>\n      <th>10</th>\n      <td>2.091435</td>\n      <td>0.070855</td>\n      <td>0.039561</td>\n      <td>0.004562</td>\n      <td>3</td>\n      <td>None</td>\n      <td>100</td>\n      <td>{'max_depth': 3, 'max_features': None, 'n_esti...</td>\n      <td>0.446561</td>\n      <td>0.429657</td>\n      <td>...</td>\n      <td>0.450679</td>\n      <td>0.020176</td>\n      <td>29</td>\n      <td>0.473304</td>\n      <td>0.480816</td>\n      <td>0.478508</td>\n      <td>0.473904</td>\n      <td>0.467663</td>\n      <td>0.474839</td>\n      <td>0.004559</td>\n    </tr>\n    <tr>\n      <th>11</th>\n      <td>4.745119</td>\n      <td>0.127977</td>\n      <td>0.091045</td>\n      <td>0.022599</td>\n      <td>3</td>\n      <td>None</td>\n      <td>200</td>\n      <td>{'max_depth': 3, 'max_features': None, 'n_esti...</td>\n      <td>0.446569</td>\n      <td>0.431012</td>\n      <td>...</td>\n      <td>0.451657</td>\n      <td>0.020136</td>\n      <td>28</td>\n      <td>0.473172</td>\n      <td>0.480836</td>\n      <td>0.478430</td>\n      <td>0.474394</td>\n      <td>0.466267</td>\n      <td>0.474620</td>\n      <td>0.005002</td>\n    </tr>\n    <tr>\n      <th>12</th>\n      <td>0.558856</td>\n      <td>0.032049</td>\n      <td>0.026154</td>\n      <td>0.007958</td>\n      <td>3</td>\n      <td>sqrt</td>\n      <td>50</td>\n      <td>{'max_depth': 3, 'max_features': 'sqrt', 'n_es...</td>\n      <td>0.413837</td>\n      <td>0.387763</td>\n      <td>...</td>\n      <td>0.410181</td>\n      <td>0.024004</td>\n      <td>35</td>\n      <td>0.426188</td>\n      <td>0.438979</td>\n      <td>0.432580</td>\n      <td>0.422950</td>\n      <td>0.422673</td>\n      <td>0.428674</td>\n      <td>0.006267</td>\n    </tr>\n    <tr>\n      <th>13</th>\n      <td>1.140802</td>\n      <td>0.054540</td>\n      <td>0.046289</td>\n      <td>0.004628</td>\n      <td>3</td>\n      <td>sqrt</td>\n      <td>100</td>\n      <td>{'max_depth': 3, 'max_features': 'sqrt', 'n_es...</td>\n      <td>0.416054</td>\n      <td>0.388674</td>\n      <td>...</td>\n      <td>0.413212</td>\n      <td>0.024226</td>\n      <td>31</td>\n      <td>0.427495</td>\n      <td>0.438471</td>\n      <td>0.436783</td>\n      <td>0.427385</td>\n      <td>0.425094</td>\n      <td>0.431046</td>\n      <td>0.005468</td>\n    </tr>\n    <tr>\n      <th>14</th>\n      <td>2.117359</td>\n      <td>0.084822</td>\n      <td>0.068650</td>\n      <td>0.005190</td>\n      <td>3</td>\n      <td>sqrt</td>\n      <td>200</td>\n      <td>{'max_depth': 3, 'max_features': 'sqrt', 'n_es...</td>\n      <td>0.415924</td>\n      <td>0.387687</td>\n      <td>...</td>\n      <td>0.412125</td>\n      <td>0.024671</td>\n      <td>33</td>\n      <td>0.427690</td>\n      <td>0.434805</td>\n      <td>0.434354</td>\n      <td>0.427243</td>\n      <td>0.423676</td>\n      <td>0.429553</td>\n      <td>0.004336</td>\n    </tr>\n    <tr>\n      <th>15</th>\n      <td>0.529304</td>\n      <td>0.029880</td>\n      <td>0.022941</td>\n      <td>0.004171</td>\n      <td>3</td>\n      <td>log2</td>\n      <td>50</td>\n      <td>{'max_depth': 3, 'max_features': 'log2', 'n_es...</td>\n      <td>0.413837</td>\n      <td>0.387763</td>\n      <td>...</td>\n      <td>0.410181</td>\n      <td>0.024004</td>\n      <td>35</td>\n      <td>0.426188</td>\n      <td>0.438979</td>\n      <td>0.432580</td>\n      <td>0.422950</td>\n      <td>0.422673</td>\n      <td>0.428674</td>\n      <td>0.006267</td>\n    </tr>\n    <tr>\n      <th>16</th>\n      <td>0.981409</td>\n      <td>0.035083</td>\n      <td>0.040542</td>\n      <td>0.005479</td>\n      <td>3</td>\n      <td>log2</td>\n      <td>100</td>\n      <td>{'max_depth': 3, 'max_features': 'log2', 'n_es...</td>\n      <td>0.416054</td>\n      <td>0.388674</td>\n      <td>...</td>\n      <td>0.413212</td>\n      <td>0.024226</td>\n      <td>31</td>\n      <td>0.427495</td>\n      <td>0.438471</td>\n      <td>0.436783</td>\n      <td>0.427385</td>\n      <td>0.425094</td>\n      <td>0.431046</td>\n      <td>0.005468</td>\n    </tr>\n    <tr>\n      <th>17</th>\n      <td>1.986162</td>\n      <td>0.033187</td>\n      <td>0.070257</td>\n      <td>0.007938</td>\n      <td>3</td>\n      <td>log2</td>\n      <td>200</td>\n      <td>{'max_depth': 3, 'max_features': 'log2', 'n_es...</td>\n      <td>0.415924</td>\n      <td>0.387687</td>\n      <td>...</td>\n      <td>0.412125</td>\n      <td>0.024671</td>\n      <td>33</td>\n      <td>0.427690</td>\n      <td>0.434805</td>\n      <td>0.434354</td>\n      <td>0.427243</td>\n      <td>0.423676</td>\n      <td>0.429553</td>\n      <td>0.004336</td>\n    </tr>\n    <tr>\n      <th>18</th>\n      <td>1.394617</td>\n      <td>0.023954</td>\n      <td>0.025542</td>\n      <td>0.006100</td>\n      <td>4</td>\n      <td>None</td>\n      <td>50</td>\n      <td>{'max_depth': 4, 'max_features': None, 'n_esti...</td>\n      <td>0.505214</td>\n      <td>0.482816</td>\n      <td>...</td>\n      <td>0.505962</td>\n      <td>0.015223</td>\n      <td>15</td>\n      <td>0.547764</td>\n      <td>0.548798</td>\n      <td>0.552191</td>\n      <td>0.546867</td>\n      <td>0.549787</td>\n      <td>0.549081</td>\n      <td>0.001838</td>\n    </tr>\n    <tr>\n      <th>19</th>\n      <td>3.055886</td>\n      <td>0.079638</td>\n      <td>0.061148</td>\n      <td>0.017763</td>\n      <td>4</td>\n      <td>None</td>\n      <td>100</td>\n      <td>{'max_depth': 4, 'max_features': None, 'n_esti...</td>\n      <td>0.509018</td>\n      <td>0.480430</td>\n      <td>...</td>\n      <td>0.506788</td>\n      <td>0.015902</td>\n      <td>14</td>\n      <td>0.547990</td>\n      <td>0.550683</td>\n      <td>0.552526</td>\n      <td>0.546898</td>\n      <td>0.547449</td>\n      <td>0.549109</td>\n      <td>0.002147</td>\n    </tr>\n    <tr>\n      <th>20</th>\n      <td>8.034253</td>\n      <td>0.661105</td>\n      <td>0.167759</td>\n      <td>0.049003</td>\n      <td>4</td>\n      <td>None</td>\n      <td>200</td>\n      <td>{'max_depth': 4, 'max_features': None, 'n_esti...</td>\n      <td>0.509895</td>\n      <td>0.483133</td>\n      <td>...</td>\n      <td>0.508437</td>\n      <td>0.015577</td>\n      <td>13</td>\n      <td>0.548763</td>\n      <td>0.551307</td>\n      <td>0.552685</td>\n      <td>0.548824</td>\n      <td>0.547715</td>\n      <td>0.549859</td>\n      <td>0.001841</td>\n    </tr>\n    <tr>\n      <th>21</th>\n      <td>0.744748</td>\n      <td>0.136272</td>\n      <td>0.035971</td>\n      <td>0.018650</td>\n      <td>4</td>\n      <td>sqrt</td>\n      <td>50</td>\n      <td>{'max_depth': 4, 'max_features': 'sqrt', 'n_es...</td>\n      <td>0.456364</td>\n      <td>0.437831</td>\n      <td>...</td>\n      <td>0.454013</td>\n      <td>0.020707</td>\n      <td>24</td>\n      <td>0.483125</td>\n      <td>0.489830</td>\n      <td>0.490839</td>\n      <td>0.482084</td>\n      <td>0.483105</td>\n      <td>0.485797</td>\n      <td>0.003738</td>\n    </tr>\n    <tr>\n      <th>22</th>\n      <td>1.909374</td>\n      <td>0.382085</td>\n      <td>0.081221</td>\n      <td>0.051136</td>\n      <td>4</td>\n      <td>sqrt</td>\n      <td>100</td>\n      <td>{'max_depth': 4, 'max_features': 'sqrt', 'n_es...</td>\n      <td>0.456113</td>\n      <td>0.436549</td>\n      <td>...</td>\n      <td>0.454718</td>\n      <td>0.020987</td>\n      <td>22</td>\n      <td>0.484105</td>\n      <td>0.491018</td>\n      <td>0.491742</td>\n      <td>0.487631</td>\n      <td>0.483447</td>\n      <td>0.487589</td>\n      <td>0.003415</td>\n    </tr>\n    <tr>\n      <th>23</th>\n      <td>3.850827</td>\n      <td>0.413782</td>\n      <td>0.096645</td>\n      <td>0.016605</td>\n      <td>4</td>\n      <td>sqrt</td>\n      <td>200</td>\n      <td>{'max_depth': 4, 'max_features': 'sqrt', 'n_es...</td>\n      <td>0.456171</td>\n      <td>0.432023</td>\n      <td>...</td>\n      <td>0.452353</td>\n      <td>0.022456</td>\n      <td>26</td>\n      <td>0.482420</td>\n      <td>0.488250</td>\n      <td>0.488397</td>\n      <td>0.485268</td>\n      <td>0.482348</td>\n      <td>0.485337</td>\n      <td>0.002657</td>\n    </tr>\n    <tr>\n      <th>24</th>\n      <td>0.770163</td>\n      <td>0.124270</td>\n      <td>0.025055</td>\n      <td>0.002271</td>\n      <td>4</td>\n      <td>log2</td>\n      <td>50</td>\n      <td>{'max_depth': 4, 'max_features': 'log2', 'n_es...</td>\n      <td>0.456364</td>\n      <td>0.437831</td>\n      <td>...</td>\n      <td>0.454013</td>\n      <td>0.020707</td>\n      <td>24</td>\n      <td>0.483125</td>\n      <td>0.489830</td>\n      <td>0.490839</td>\n      <td>0.482084</td>\n      <td>0.483105</td>\n      <td>0.485797</td>\n      <td>0.003738</td>\n    </tr>\n    <tr>\n      <th>25</th>\n      <td>1.380730</td>\n      <td>0.012688</td>\n      <td>0.050738</td>\n      <td>0.008643</td>\n      <td>4</td>\n      <td>log2</td>\n      <td>100</td>\n      <td>{'max_depth': 4, 'max_features': 'log2', 'n_es...</td>\n      <td>0.456113</td>\n      <td>0.436549</td>\n      <td>...</td>\n      <td>0.454718</td>\n      <td>0.020987</td>\n      <td>22</td>\n      <td>0.484105</td>\n      <td>0.491018</td>\n      <td>0.491742</td>\n      <td>0.487631</td>\n      <td>0.483447</td>\n      <td>0.487589</td>\n      <td>0.003415</td>\n    </tr>\n    <tr>\n      <th>26</th>\n      <td>2.381081</td>\n      <td>0.095695</td>\n      <td>0.071651</td>\n      <td>0.010561</td>\n      <td>4</td>\n      <td>log2</td>\n      <td>200</td>\n      <td>{'max_depth': 4, 'max_features': 'log2', 'n_es...</td>\n      <td>0.456171</td>\n      <td>0.432023</td>\n      <td>...</td>\n      <td>0.452353</td>\n      <td>0.022456</td>\n      <td>26</td>\n      <td>0.482420</td>\n      <td>0.488250</td>\n      <td>0.488397</td>\n      <td>0.485268</td>\n      <td>0.482348</td>\n      <td>0.485337</td>\n      <td>0.002657</td>\n    </tr>\n    <tr>\n      <th>27</th>\n      <td>1.861777</td>\n      <td>0.232424</td>\n      <td>0.021013</td>\n      <td>0.001520</td>\n      <td>5</td>\n      <td>None</td>\n      <td>50</td>\n      <td>{'max_depth': 5, 'max_features': None, 'n_esti...</td>\n      <td>0.533940</td>\n      <td>0.522802</td>\n      <td>...</td>\n      <td>0.530032</td>\n      <td>0.007787</td>\n      <td>12</td>\n      <td>0.597241</td>\n      <td>0.597197</td>\n      <td>0.595618</td>\n      <td>0.594745</td>\n      <td>0.599357</td>\n      <td>0.596831</td>\n      <td>0.001581</td>\n    </tr>\n    <tr>\n      <th>28</th>\n      <td>4.137775</td>\n      <td>0.095004</td>\n      <td>0.044419</td>\n      <td>0.008841</td>\n      <td>5</td>\n      <td>None</td>\n      <td>100</td>\n      <td>{'max_depth': 5, 'max_features': None, 'n_esti...</td>\n      <td>0.534303</td>\n      <td>0.518082</td>\n      <td>...</td>\n      <td>0.530503</td>\n      <td>0.008968</td>\n      <td>11</td>\n      <td>0.597157</td>\n      <td>0.598324</td>\n      <td>0.596184</td>\n      <td>0.594964</td>\n      <td>0.597916</td>\n      <td>0.596909</td>\n      <td>0.001215</td>\n    </tr>\n    <tr>\n      <th>29</th>\n      <td>7.823643</td>\n      <td>0.062493</td>\n      <td>0.071402</td>\n      <td>0.008842</td>\n      <td>5</td>\n      <td>None</td>\n      <td>200</td>\n      <td>{'max_depth': 5, 'max_features': None, 'n_esti...</td>\n      <td>0.533118</td>\n      <td>0.518506</td>\n      <td>...</td>\n      <td>0.531301</td>\n      <td>0.009472</td>\n      <td>9</td>\n      <td>0.597018</td>\n      <td>0.598883</td>\n      <td>0.597382</td>\n      <td>0.596445</td>\n      <td>0.598546</td>\n      <td>0.597655</td>\n      <td>0.000922</td>\n    </tr>\n    <tr>\n      <th>30</th>\n      <td>0.841227</td>\n      <td>0.033450</td>\n      <td>0.030869</td>\n      <td>0.006232</td>\n      <td>5</td>\n      <td>sqrt</td>\n      <td>50</td>\n      <td>{'max_depth': 5, 'max_features': 'sqrt', 'n_es...</td>\n      <td>0.491917</td>\n      <td>0.472191</td>\n      <td>...</td>\n      <td>0.489899</td>\n      <td>0.020274</td>\n      <td>16</td>\n      <td>0.542889</td>\n      <td>0.555118</td>\n      <td>0.548696</td>\n      <td>0.541831</td>\n      <td>0.548447</td>\n      <td>0.547396</td>\n      <td>0.004769</td>\n    </tr>\n    <tr>\n      <th>31</th>\n      <td>1.656571</td>\n      <td>0.066153</td>\n      <td>0.053002</td>\n      <td>0.007768</td>\n      <td>5</td>\n      <td>sqrt</td>\n      <td>100</td>\n      <td>{'max_depth': 5, 'max_features': 'sqrt', 'n_es...</td>\n      <td>0.492974</td>\n      <td>0.472755</td>\n      <td>...</td>\n      <td>0.487290</td>\n      <td>0.020379</td>\n      <td>20</td>\n      <td>0.542386</td>\n      <td>0.552908</td>\n      <td>0.543162</td>\n      <td>0.539304</td>\n      <td>0.546720</td>\n      <td>0.544896</td>\n      <td>0.004650</td>\n    </tr>\n    <tr>\n      <th>32</th>\n      <td>2.922207</td>\n      <td>0.123851</td>\n      <td>0.076395</td>\n      <td>0.007390</td>\n      <td>5</td>\n      <td>sqrt</td>\n      <td>200</td>\n      <td>{'max_depth': 5, 'max_features': 'sqrt', 'n_es...</td>\n      <td>0.493845</td>\n      <td>0.472696</td>\n      <td>...</td>\n      <td>0.488047</td>\n      <td>0.020238</td>\n      <td>18</td>\n      <td>0.545539</td>\n      <td>0.551651</td>\n      <td>0.543621</td>\n      <td>0.543441</td>\n      <td>0.543769</td>\n      <td>0.545604</td>\n      <td>0.003116</td>\n    </tr>\n    <tr>\n      <th>33</th>\n      <td>0.705204</td>\n      <td>0.071128</td>\n      <td>0.023798</td>\n      <td>0.002484</td>\n      <td>5</td>\n      <td>log2</td>\n      <td>50</td>\n      <td>{'max_depth': 5, 'max_features': 'log2', 'n_es...</td>\n      <td>0.491917</td>\n      <td>0.472191</td>\n      <td>...</td>\n      <td>0.489899</td>\n      <td>0.020274</td>\n      <td>16</td>\n      <td>0.542889</td>\n      <td>0.555118</td>\n      <td>0.548696</td>\n      <td>0.541831</td>\n      <td>0.548447</td>\n      <td>0.547396</td>\n      <td>0.004769</td>\n    </tr>\n    <tr>\n      <th>34</th>\n      <td>1.454110</td>\n      <td>0.034742</td>\n      <td>0.052263</td>\n      <td>0.014355</td>\n      <td>5</td>\n      <td>log2</td>\n      <td>100</td>\n      <td>{'max_depth': 5, 'max_features': 'log2', 'n_es...</td>\n      <td>0.492974</td>\n      <td>0.472755</td>\n      <td>...</td>\n      <td>0.487290</td>\n      <td>0.020379</td>\n      <td>20</td>\n      <td>0.542386</td>\n      <td>0.552908</td>\n      <td>0.543162</td>\n      <td>0.539304</td>\n      <td>0.546720</td>\n      <td>0.544896</td>\n      <td>0.004650</td>\n    </tr>\n    <tr>\n      <th>35</th>\n      <td>2.824403</td>\n      <td>0.120345</td>\n      <td>0.068043</td>\n      <td>0.027009</td>\n      <td>5</td>\n      <td>log2</td>\n      <td>200</td>\n      <td>{'max_depth': 5, 'max_features': 'log2', 'n_es...</td>\n      <td>0.493845</td>\n      <td>0.472696</td>\n      <td>...</td>\n      <td>0.488047</td>\n      <td>0.020238</td>\n      <td>18</td>\n      <td>0.545539</td>\n      <td>0.551651</td>\n      <td>0.543621</td>\n      <td>0.543441</td>\n      <td>0.543769</td>\n      <td>0.545604</td>\n      <td>0.003116</td>\n    </tr>\n  </tbody>\n</table>\n<p>36 rows × 23 columns</p>\n</div>"
     },
     "execution_count": 30,
     "metadata": {},
     "output_type": "execute_result"
    }
   ],
   "source": [
    "pd.DataFrame(search_random_forest.cv_results_)"
   ],
   "metadata": {
    "collapsed": false,
    "ExecuteTime": {
     "end_time": "2024-01-05T15:15:14.104253400Z",
     "start_time": "2024-01-05T15:15:14.006249100Z"
    }
   },
   "id": "b5bd145a7f32d4b0"
  },
  {
   "cell_type": "markdown",
   "source": [
    "## Analiza\n",
    "\n",
    "Na tym tym posiadam już dostrojone, finalne modele. Teraz zostaną one porównane wg następujących metryk:\n",
    "\n",
    "- MAE\n",
    "- MAPE\n",
    "- R2"
   ],
   "metadata": {
    "collapsed": false
   },
   "id": "470cbd9665679eec"
  },
  {
   "cell_type": "code",
   "execution_count": 4,
   "outputs": [],
   "source": [
    "# TODO: wybrać finalne metryki"
   ],
   "metadata": {
    "collapsed": false,
    "ExecuteTime": {
     "end_time": "2023-12-24T11:10:31.580884100Z",
     "start_time": "2023-12-24T11:10:31.580884100Z"
    }
   },
   "id": "5e36da8ecc33e8ef"
  },
  {
   "cell_type": "code",
   "execution_count": null,
   "outputs": [],
   "source": [],
   "metadata": {
    "collapsed": false
   },
   "id": "c332aa77179d60cf"
  }
 ],
 "metadata": {
  "kernelspec": {
   "name": "conda-env-regression-methods-comparison-py",
   "language": "python",
   "display_name": "Python [conda env:regression-methods-comparison]"
  },
  "language_info": {
   "codemirror_mode": {
    "name": "ipython",
    "version": 2
   },
   "file_extension": ".py",
   "mimetype": "text/x-python",
   "name": "python",
   "nbconvert_exporter": "python",
   "pygments_lexer": "ipython2",
   "version": "2.7.6"
  }
 },
 "nbformat": 4,
 "nbformat_minor": 5
}
