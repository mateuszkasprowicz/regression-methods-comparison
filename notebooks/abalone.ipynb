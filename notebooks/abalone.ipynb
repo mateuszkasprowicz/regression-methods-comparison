{
 "cells": [
  {
   "cell_type": "markdown",
   "id": "8e6a5c08fdf59c41",
   "metadata": {
    "collapsed": false
   },
   "source": [
    "# Porównanie 3 metod regresji na podstawie 3 różnych zbiorów danych: Wiek słuchotka (ang. abalone)\n",
    "\n",
    "W niniejszej pracy wykorzystuję metody:\n",
    "- K najbliższych sąsiądów (KNN)\n",
    "- Regresji liniowej\n",
    "- Lasu losowego\n",
    "\n",
    "Używam następujących zbiorów danych:\n",
    "-  [Abalon](https://www.kaggle.com/datasets/rodolfomendes/abalone-dataset)\n",
    "    - zmienna objaśniana: rings"
   ]
  },
  {
   "cell_type": "markdown",
   "id": "cdbcf20ba0c64295",
   "metadata": {
    "collapsed": false
   },
   "source": [
    "## Załadowanie potrzebnych bibliotek"
   ]
  },
  {
   "cell_type": "code",
   "execution_count": 53,
   "id": "392b077ab414804e",
   "metadata": {
    "ExecuteTime": {
     "end_time": "2024-01-05T16:36:33.113129300Z",
     "start_time": "2024-01-05T16:36:20.753861100Z"
    },
    "collapsed": false
   },
   "outputs": [
    {
     "name": "stdout",
     "output_type": "stream",
     "text": [
      "The dotenv extension is already loaded. To reload it, use:\n",
      "  %reload_ext dotenv\n"
     ]
    }
   ],
   "source": [
    "import random\n",
    "import os\n",
    "from joblib import dump, load\n",
    "\n",
    "import pandas as pd\n",
    "from ydata_profiling import ProfileReport\n",
    "import numpy as np\n",
    "\n",
    "import matplotlib.pyplot as plt\n",
    "\n",
    "import sklearn\n",
    "from sklearn.compose import ColumnTransformer, make_column_transformer, make_column_selector\n",
    "from sklearn.impute import SimpleImputer\n",
    "from sklearn.preprocessing import TargetEncoder, StandardScaler, OneHotEncoder\n",
    "from sklearn.pipeline import make_pipeline\n",
    "\n",
    "from sklearn.linear_model import LinearRegression\n",
    "from sklearn.neighbors import KNeighborsRegressor\n",
    "from sklearn.ensemble import RandomForestRegressor\n",
    "\n",
    "from sklearn.model_selection import train_test_split, GridSearchCV, KFold\n",
    "from sklearn.metrics import r2_score, mean_absolute_error, mean_absolute_percentage_error, mean_squared_error\n",
    "\n",
    "import mlflow\n",
    "\n",
    "%load_ext dotenv\n",
    "%dotenv ../.env"
   ]
  },
  {
   "cell_type": "markdown",
   "id": "19d5f5b943907b25",
   "metadata": {
    "collapsed": false
   },
   "source": [
    "## Stałe"
   ]
  },
  {
   "cell_type": "code",
   "execution_count": 27,
   "id": "9f303b328fe998e4",
   "metadata": {
    "ExecuteTime": {
     "end_time": "2024-01-05T15:09:17.868573400Z",
     "start_time": "2024-01-05T15:09:17.846261700Z"
    },
    "collapsed": false
   },
   "outputs": [],
   "source": [
    "random_state = 0\n",
    "\n",
    "np.random.seed(random_state)\n",
    "os.environ[\"PYTHONHASHSEED\"] = str(random_state)\n",
    "random.seed(random_state)"
   ]
  },
  {
   "cell_type": "code",
   "execution_count": 28,
   "id": "3082df2c",
   "metadata": {},
   "outputs": [],
   "source": [
    "# if you want to log mlflow and you have the server configured change to True\n",
    "want_to_log_mlflow = False\n",
    "\n",
    "log_mlflow = \"MLFLOW_TRACKING_URI\" in os.environ and want_to_log_mlflow\n",
    "if log_mlflow: mlflow.set_experiment(\"Abalone\")"
   ]
  },
  {
   "cell_type": "code",
   "execution_count": 29,
   "id": "b7737e9d547de906",
   "metadata": {
    "ExecuteTime": {
     "end_time": "2024-01-05T15:10:16.701541400Z",
     "start_time": "2024-01-05T15:10:16.681427200Z"
    },
    "collapsed": false
   },
   "outputs": [],
   "source": [
    "sklearn.set_config(transform_output=\"pandas\")"
   ]
  },
  {
   "cell_type": "code",
   "execution_count": 54,
   "id": "8bea2dcc",
   "metadata": {},
   "outputs": [],
   "source": [
    "plt.style.use(\"ggplot\")"
   ]
  },
  {
   "cell_type": "markdown",
   "id": "4a253bc1def973e1",
   "metadata": {
    "collapsed": false
   },
   "source": [
    "## Wczytanie danych"
   ]
  },
  {
   "cell_type": "code",
   "execution_count": 30,
   "id": "9f7ba64f0485ffb3",
   "metadata": {
    "ExecuteTime": {
     "end_time": "2024-01-05T15:10:17.981475400Z",
     "start_time": "2024-01-05T15:10:17.961383300Z"
    },
    "collapsed": false
   },
   "outputs": [],
   "source": [
    "abalone = pd.read_csv(\"../data/abalone.csv\")"
   ]
  },
  {
   "cell_type": "markdown",
   "id": "857fc4209438d23a",
   "metadata": {
    "collapsed": false
   },
   "source": [
    "### Krótka analiza eksploracyjna danych"
   ]
  },
  {
   "cell_type": "code",
   "execution_count": 31,
   "id": "38cc88d27ad49609",
   "metadata": {
    "ExecuteTime": {
     "end_time": "2024-01-05T15:10:19.416640300Z",
     "start_time": "2024-01-05T15:10:19.396416800Z"
    },
    "collapsed": false
   },
   "outputs": [],
   "source": [
    "## uncomment if you want to create an automated EDA report\n",
    "# ProfileReport(dataset, title=f\"Profiling Report for Wine quality dataset\").to_file(f\"../data/abalone_EDA.html\")"
   ]
  },
  {
   "cell_type": "markdown",
   "id": "9fc1beabba9f9ed8",
   "metadata": {
    "collapsed": false
   },
   "source": [
    "## Preprocessing"
   ]
  },
  {
   "cell_type": "code",
   "execution_count": 32,
   "id": "a767c70ecd99f96d",
   "metadata": {
    "ExecuteTime": {
     "end_time": "2024-01-05T15:10:20.591781500Z",
     "start_time": "2024-01-05T15:10:20.556578800Z"
    },
    "collapsed": false
   },
   "outputs": [
    {
     "name": "stdout",
     "output_type": "stream",
     "text": [
      "<class 'pandas.core.frame.DataFrame'>\n",
      "RangeIndex: 4177 entries, 0 to 4176\n",
      "Data columns (total 9 columns):\n",
      " #   Column          Non-Null Count  Dtype  \n",
      "---  ------          --------------  -----  \n",
      " 0   Sex             4177 non-null   object \n",
      " 1   Length          4177 non-null   float64\n",
      " 2   Diameter        4177 non-null   float64\n",
      " 3   Height          4177 non-null   float64\n",
      " 4   Whole weight    4177 non-null   float64\n",
      " 5   Shucked weight  4177 non-null   float64\n",
      " 6   Viscera weight  4177 non-null   float64\n",
      " 7   Shell weight    4177 non-null   float64\n",
      " 8   Rings           4177 non-null   int64  \n",
      "dtypes: float64(7), int64(1), object(1)\n",
      "memory usage: 293.8+ KB\n"
     ]
    }
   ],
   "source": [
    "abalone.info()"
   ]
  },
  {
   "cell_type": "code",
   "execution_count": 33,
   "id": "be877cfc2657bdf5",
   "metadata": {
    "ExecuteTime": {
     "end_time": "2024-01-05T15:12:53.121426700Z",
     "start_time": "2024-01-05T15:12:53.061055900Z"
    },
    "collapsed": false
   },
   "outputs": [
    {
     "data": {
      "text/html": [
       "<div>\n",
       "<style scoped>\n",
       "    .dataframe tbody tr th:only-of-type {\n",
       "        vertical-align: middle;\n",
       "    }\n",
       "\n",
       "    .dataframe tbody tr th {\n",
       "        vertical-align: top;\n",
       "    }\n",
       "\n",
       "    .dataframe thead th {\n",
       "        text-align: right;\n",
       "    }\n",
       "</style>\n",
       "<table border=\"1\" class=\"dataframe\">\n",
       "  <thead>\n",
       "    <tr style=\"text-align: right;\">\n",
       "      <th></th>\n",
       "      <th>Sex</th>\n",
       "      <th>Length</th>\n",
       "      <th>Diameter</th>\n",
       "      <th>Height</th>\n",
       "      <th>Whole weight</th>\n",
       "      <th>Shucked weight</th>\n",
       "      <th>Viscera weight</th>\n",
       "      <th>Shell weight</th>\n",
       "      <th>Rings</th>\n",
       "    </tr>\n",
       "  </thead>\n",
       "  <tbody>\n",
       "    <tr>\n",
       "      <th>668</th>\n",
       "      <td>M</td>\n",
       "      <td>0.550</td>\n",
       "      <td>0.425</td>\n",
       "      <td>0.155</td>\n",
       "      <td>0.9175</td>\n",
       "      <td>0.2775</td>\n",
       "      <td>0.2430</td>\n",
       "      <td>0.3350</td>\n",
       "      <td>13</td>\n",
       "    </tr>\n",
       "    <tr>\n",
       "      <th>1580</th>\n",
       "      <td>I</td>\n",
       "      <td>0.500</td>\n",
       "      <td>0.400</td>\n",
       "      <td>0.120</td>\n",
       "      <td>0.6160</td>\n",
       "      <td>0.2610</td>\n",
       "      <td>0.1430</td>\n",
       "      <td>0.1935</td>\n",
       "      <td>8</td>\n",
       "    </tr>\n",
       "    <tr>\n",
       "      <th>3784</th>\n",
       "      <td>M</td>\n",
       "      <td>0.620</td>\n",
       "      <td>0.480</td>\n",
       "      <td>0.155</td>\n",
       "      <td>1.2555</td>\n",
       "      <td>0.5270</td>\n",
       "      <td>0.3740</td>\n",
       "      <td>0.3175</td>\n",
       "      <td>11</td>\n",
       "    </tr>\n",
       "    <tr>\n",
       "      <th>463</th>\n",
       "      <td>I</td>\n",
       "      <td>0.220</td>\n",
       "      <td>0.165</td>\n",
       "      <td>0.055</td>\n",
       "      <td>0.0545</td>\n",
       "      <td>0.0215</td>\n",
       "      <td>0.0120</td>\n",
       "      <td>0.0200</td>\n",
       "      <td>5</td>\n",
       "    </tr>\n",
       "    <tr>\n",
       "      <th>2615</th>\n",
       "      <td>M</td>\n",
       "      <td>0.645</td>\n",
       "      <td>0.500</td>\n",
       "      <td>0.175</td>\n",
       "      <td>1.5105</td>\n",
       "      <td>0.6735</td>\n",
       "      <td>0.3755</td>\n",
       "      <td>0.3775</td>\n",
       "      <td>12</td>\n",
       "    </tr>\n",
       "  </tbody>\n",
       "</table>\n",
       "</div>"
      ],
      "text/plain": [
       "     Sex  Length  Diameter  Height  Whole weight  Shucked weight  \\\n",
       "668    M   0.550     0.425   0.155        0.9175          0.2775   \n",
       "1580   I   0.500     0.400   0.120        0.6160          0.2610   \n",
       "3784   M   0.620     0.480   0.155        1.2555          0.5270   \n",
       "463    I   0.220     0.165   0.055        0.0545          0.0215   \n",
       "2615   M   0.645     0.500   0.175        1.5105          0.6735   \n",
       "\n",
       "      Viscera weight  Shell weight  Rings  \n",
       "668           0.2430        0.3350     13  \n",
       "1580          0.1430        0.1935      8  \n",
       "3784          0.3740        0.3175     11  \n",
       "463           0.0120        0.0200      5  \n",
       "2615          0.3755        0.3775     12  "
      ]
     },
     "execution_count": 33,
     "metadata": {},
     "output_type": "execute_result"
    }
   ],
   "source": [
    "abalone.sample(5)"
   ]
  },
  {
   "cell_type": "code",
   "execution_count": 34,
   "id": "eba2aba5ddc3d0b1",
   "metadata": {
    "ExecuteTime": {
     "end_time": "2024-01-05T15:12:53.521052800Z",
     "start_time": "2024-01-05T15:12:53.471064800Z"
    },
    "collapsed": false
   },
   "outputs": [
    {
     "data": {
      "text/plain": [
       "Sex               0\n",
       "Length            0\n",
       "Diameter          0\n",
       "Height            0\n",
       "Whole weight      0\n",
       "Shucked weight    0\n",
       "Viscera weight    0\n",
       "Shell weight      0\n",
       "Rings             0\n",
       "dtype: int64"
      ]
     },
     "execution_count": 34,
     "metadata": {},
     "output_type": "execute_result"
    }
   ],
   "source": [
    "abalone.isna().sum().sort_values(ascending=False)"
   ]
  },
  {
   "cell_type": "code",
   "execution_count": 35,
   "id": "da88e1ca329c6c4b",
   "metadata": {
    "ExecuteTime": {
     "end_time": "2024-01-05T15:12:54.246325400Z",
     "start_time": "2024-01-05T15:12:54.226213800Z"
    },
    "collapsed": false
   },
   "outputs": [],
   "source": [
    "X = abalone.drop(columns=[\"Rings\"])\n",
    "y = abalone[\"Rings\"]"
   ]
  },
  {
   "cell_type": "code",
   "execution_count": 36,
   "id": "a899fa9600f82735",
   "metadata": {
    "ExecuteTime": {
     "end_time": "2024-01-05T15:12:56.201769100Z",
     "start_time": "2024-01-05T15:12:56.171328800Z"
    },
    "collapsed": false
   },
   "outputs": [],
   "source": [
    "X_train, X_test, y_train, y_test = train_test_split(X, y, test_size=0.1, shuffle=True, random_state=random_state)"
   ]
  },
  {
   "cell_type": "code",
   "execution_count": 37,
   "id": "de55bdf94a330d5a",
   "metadata": {
    "ExecuteTime": {
     "end_time": "2024-01-05T15:12:56.616545100Z",
     "start_time": "2024-01-05T15:12:56.591133900Z"
    },
    "collapsed": false
   },
   "outputs": [],
   "source": [
    "encoder = make_column_transformer((OneHotEncoder(sparse_output=False), [\"Sex\"]), \n",
    "                                  remainder=\"passthrough\",\n",
    "                                  n_jobs=-1, \n",
    "                                  verbose=True, \n",
    "                                  verbose_feature_names_out=False,\n",
    "                                  )\n"
   ]
  },
  {
   "cell_type": "code",
   "execution_count": 38,
   "id": "f3aca8a86f03059d",
   "metadata": {
    "ExecuteTime": {
     "end_time": "2024-01-05T15:13:08.956324500Z",
     "start_time": "2024-01-05T15:13:02.751318100Z"
    },
    "collapsed": false
   },
   "outputs": [],
   "source": [
    "X_train_preprocessed = encoder.fit_transform(X_train)"
   ]
  },
  {
   "cell_type": "markdown",
   "id": "1ea7313d61d65591",
   "metadata": {
    "collapsed": false
   },
   "source": [
    "# Modelowanie"
   ]
  },
  {
   "cell_type": "code",
   "execution_count": 39,
   "id": "82bb73aa8ce0121a",
   "metadata": {
    "ExecuteTime": {
     "end_time": "2024-01-05T15:13:08.981172600Z",
     "start_time": "2024-01-05T15:13:08.966399600Z"
    },
    "collapsed": false
   },
   "outputs": [],
   "source": [
    "knn_params = {\"n_neighbors\": [5, 25, 50],\n",
    "                \"weights\": [\"uniform\", \"distance\"],\n",
    "                \"leaf_size\": [20, 30, 50],\n",
    "                \"p\": [1, 2],\n",
    "                }\n",
    "\n",
    "random_forest_params = {\"n_estimators\": [50, 100, 200],\n",
    "                          # \"criterion\": [\"squared_error\", \"absolute_error\"],\n",
    "                          \"max_depth\": [None, 3, 4, 5],\n",
    "                          \"max_features\": [None, \"sqrt\", \"log2\"],\n",
    "                          }"
   ]
  },
  {
   "cell_type": "markdown",
   "id": "14196c44e829d96d",
   "metadata": {
    "collapsed": false
   },
   "source": [
    "Przy wyczerpującym przeszukiwania siatki parametrów w celu znalezienia najlepszej kombinacji parametrów użyjemy walidacji krzyżowej.\n",
    "\n",
    "[<img src=\"../img/grid_search_cross_validation.png\" alt=\"drawing\" width=\"400\"/>](\"../img/grid_search_cross_validation.png\") \\\n",
    "źródło: https://scikit-learn.org/stable/modules/cross_validation.html"
   ]
  },
  {
   "cell_type": "code",
   "execution_count": 40,
   "id": "25c1dd6f9a985648",
   "metadata": {
    "ExecuteTime": {
     "end_time": "2024-01-05T15:13:09.021339Z",
     "start_time": "2024-01-05T15:13:08.981172600Z"
    },
    "collapsed": false
   },
   "outputs": [],
   "source": [
    "folds = KFold(n_splits=5, shuffle=True, random_state=random_state)"
   ]
  },
  {
   "cell_type": "markdown",
   "id": "d51c40d312d5a339",
   "metadata": {
    "collapsed": false
   },
   "source": [
    "## Regresja liniowa"
   ]
  },
  {
   "cell_type": "code",
   "execution_count": 41,
   "id": "c6a04b8a6e4c9097",
   "metadata": {
    "ExecuteTime": {
     "end_time": "2024-01-05T15:13:12.261212Z",
     "start_time": "2024-01-05T15:13:12.241448700Z"
    },
    "collapsed": false
   },
   "outputs": [],
   "source": [
    "linreg = LinearRegression(n_jobs=-1)"
   ]
  },
  {
   "cell_type": "code",
   "execution_count": 42,
   "id": "1f7be9dfd1487fbe",
   "metadata": {
    "ExecuteTime": {
     "end_time": "2024-01-05T15:13:12.632456100Z",
     "start_time": "2024-01-05T15:13:12.596187400Z"
    },
    "collapsed": false
   },
   "outputs": [
    {
     "data": {
      "text/html": [
       "<style>#sk-container-id-2 {color: black;}#sk-container-id-2 pre{padding: 0;}#sk-container-id-2 div.sk-toggleable {background-color: white;}#sk-container-id-2 label.sk-toggleable__label {cursor: pointer;display: block;width: 100%;margin-bottom: 0;padding: 0.3em;box-sizing: border-box;text-align: center;}#sk-container-id-2 label.sk-toggleable__label-arrow:before {content: \"▸\";float: left;margin-right: 0.25em;color: #696969;}#sk-container-id-2 label.sk-toggleable__label-arrow:hover:before {color: black;}#sk-container-id-2 div.sk-estimator:hover label.sk-toggleable__label-arrow:before {color: black;}#sk-container-id-2 div.sk-toggleable__content {max-height: 0;max-width: 0;overflow: hidden;text-align: left;background-color: #f0f8ff;}#sk-container-id-2 div.sk-toggleable__content pre {margin: 0.2em;color: black;border-radius: 0.25em;background-color: #f0f8ff;}#sk-container-id-2 input.sk-toggleable__control:checked~div.sk-toggleable__content {max-height: 200px;max-width: 100%;overflow: auto;}#sk-container-id-2 input.sk-toggleable__control:checked~label.sk-toggleable__label-arrow:before {content: \"▾\";}#sk-container-id-2 div.sk-estimator input.sk-toggleable__control:checked~label.sk-toggleable__label {background-color: #d4ebff;}#sk-container-id-2 div.sk-label input.sk-toggleable__control:checked~label.sk-toggleable__label {background-color: #d4ebff;}#sk-container-id-2 input.sk-hidden--visually {border: 0;clip: rect(1px 1px 1px 1px);clip: rect(1px, 1px, 1px, 1px);height: 1px;margin: -1px;overflow: hidden;padding: 0;position: absolute;width: 1px;}#sk-container-id-2 div.sk-estimator {font-family: monospace;background-color: #f0f8ff;border: 1px dotted black;border-radius: 0.25em;box-sizing: border-box;margin-bottom: 0.5em;}#sk-container-id-2 div.sk-estimator:hover {background-color: #d4ebff;}#sk-container-id-2 div.sk-parallel-item::after {content: \"\";width: 100%;border-bottom: 1px solid gray;flex-grow: 1;}#sk-container-id-2 div.sk-label:hover label.sk-toggleable__label {background-color: #d4ebff;}#sk-container-id-2 div.sk-serial::before {content: \"\";position: absolute;border-left: 1px solid gray;box-sizing: border-box;top: 0;bottom: 0;left: 50%;z-index: 0;}#sk-container-id-2 div.sk-serial {display: flex;flex-direction: column;align-items: center;background-color: white;padding-right: 0.2em;padding-left: 0.2em;position: relative;}#sk-container-id-2 div.sk-item {position: relative;z-index: 1;}#sk-container-id-2 div.sk-parallel {display: flex;align-items: stretch;justify-content: center;background-color: white;position: relative;}#sk-container-id-2 div.sk-item::before, #sk-container-id-2 div.sk-parallel-item::before {content: \"\";position: absolute;border-left: 1px solid gray;box-sizing: border-box;top: 0;bottom: 0;left: 50%;z-index: -1;}#sk-container-id-2 div.sk-parallel-item {display: flex;flex-direction: column;z-index: 1;position: relative;background-color: white;}#sk-container-id-2 div.sk-parallel-item:first-child::after {align-self: flex-end;width: 50%;}#sk-container-id-2 div.sk-parallel-item:last-child::after {align-self: flex-start;width: 50%;}#sk-container-id-2 div.sk-parallel-item:only-child::after {width: 0;}#sk-container-id-2 div.sk-dashed-wrapped {border: 1px dashed gray;margin: 0 0.4em 0.5em 0.4em;box-sizing: border-box;padding-bottom: 0.4em;background-color: white;}#sk-container-id-2 div.sk-label label {font-family: monospace;font-weight: bold;display: inline-block;line-height: 1.2em;}#sk-container-id-2 div.sk-label-container {text-align: center;}#sk-container-id-2 div.sk-container {/* jupyter's `normalize.less` sets `[hidden] { display: none; }` but bootstrap.min.css set `[hidden] { display: none !important; }` so we also need the `!important` here to be able to override the default hidden behavior on the sphinx rendered scikit-learn.org. See: https://github.com/scikit-learn/scikit-learn/issues/21755 */display: inline-block !important;position: relative;}#sk-container-id-2 div.sk-text-repr-fallback {display: none;}</style><div id=\"sk-container-id-2\" class=\"sk-top-container\"><div class=\"sk-text-repr-fallback\"><pre>LinearRegression(n_jobs=-1)</pre><b>In a Jupyter environment, please rerun this cell to show the HTML representation or trust the notebook. <br />On GitHub, the HTML representation is unable to render, please try loading this page with nbviewer.org.</b></div><div class=\"sk-container\" hidden><div class=\"sk-item\"><div class=\"sk-estimator sk-toggleable\"><input class=\"sk-toggleable__control sk-hidden--visually\" id=\"sk-estimator-id-2\" type=\"checkbox\" checked><label for=\"sk-estimator-id-2\" class=\"sk-toggleable__label sk-toggleable__label-arrow\">LinearRegression</label><div class=\"sk-toggleable__content\"><pre>LinearRegression(n_jobs=-1)</pre></div></div></div></div></div>"
      ],
      "text/plain": [
       "LinearRegression(n_jobs=-1)"
      ]
     },
     "execution_count": 42,
     "metadata": {},
     "output_type": "execute_result"
    }
   ],
   "source": [
    "linreg.fit(X_train_preprocessed, y_train)"
   ]
  },
  {
   "cell_type": "code",
   "execution_count": 43,
   "id": "c706d3705a556b19",
   "metadata": {
    "ExecuteTime": {
     "end_time": "2024-01-05T15:13:13.921447300Z",
     "start_time": "2024-01-05T15:13:13.861345800Z"
    },
    "collapsed": false
   },
   "outputs": [
    {
     "data": {
      "text/plain": [
       "0.5365659904594149"
      ]
     },
     "execution_count": 43,
     "metadata": {},
     "output_type": "execute_result"
    }
   ],
   "source": [
    "linreg.score(X_train_preprocessed, y_train)"
   ]
  },
  {
   "cell_type": "markdown",
   "id": "3dc348791f18e1c0",
   "metadata": {
    "collapsed": false
   },
   "source": [
    "### K najbliższych sąsiadów"
   ]
  },
  {
   "cell_type": "code",
   "execution_count": 19,
   "id": "a08bc4986ddf4466",
   "metadata": {
    "ExecuteTime": {
     "end_time": "2024-01-05T15:13:15.801258200Z",
     "start_time": "2024-01-05T15:13:15.763275900Z"
    },
    "collapsed": false
   },
   "outputs": [],
   "source": [
    "search_knn = GridSearchCV(estimator=KNeighborsRegressor(n_jobs=-1),\n",
    "                   param_grid=knn_params,\n",
    "                   scoring=\"r2\",\n",
    "                   n_jobs=-1,\n",
    "                   refit=True,\n",
    "                   cv=folds,\n",
    "                   return_train_score=True,\n",
    "                   verbose=3,\n",
    "                   )"
   ]
  },
  {
   "cell_type": "code",
   "execution_count": 22,
   "id": "3f8d7c50789497ae",
   "metadata": {
    "ExecuteTime": {
     "end_time": "2024-01-05T15:13:36.621632100Z",
     "start_time": "2024-01-05T15:13:18.973953900Z"
    },
    "collapsed": false
   },
   "outputs": [
    {
     "name": "stdout",
     "output_type": "stream",
     "text": [
      "Fitting 5 folds for each of 36 candidates, totalling 180 fits\n",
      "CPU times: total: 781 ms\n",
      "Wall time: 17.6 s\n"
     ]
    },
    {
     "data": {
      "text/html": [
       "<style>#sk-container-id-2 {color: black;}#sk-container-id-2 pre{padding: 0;}#sk-container-id-2 div.sk-toggleable {background-color: white;}#sk-container-id-2 label.sk-toggleable__label {cursor: pointer;display: block;width: 100%;margin-bottom: 0;padding: 0.3em;box-sizing: border-box;text-align: center;}#sk-container-id-2 label.sk-toggleable__label-arrow:before {content: \"▸\";float: left;margin-right: 0.25em;color: #696969;}#sk-container-id-2 label.sk-toggleable__label-arrow:hover:before {color: black;}#sk-container-id-2 div.sk-estimator:hover label.sk-toggleable__label-arrow:before {color: black;}#sk-container-id-2 div.sk-toggleable__content {max-height: 0;max-width: 0;overflow: hidden;text-align: left;background-color: #f0f8ff;}#sk-container-id-2 div.sk-toggleable__content pre {margin: 0.2em;color: black;border-radius: 0.25em;background-color: #f0f8ff;}#sk-container-id-2 input.sk-toggleable__control:checked~div.sk-toggleable__content {max-height: 200px;max-width: 100%;overflow: auto;}#sk-container-id-2 input.sk-toggleable__control:checked~label.sk-toggleable__label-arrow:before {content: \"▾\";}#sk-container-id-2 div.sk-estimator input.sk-toggleable__control:checked~label.sk-toggleable__label {background-color: #d4ebff;}#sk-container-id-2 div.sk-label input.sk-toggleable__control:checked~label.sk-toggleable__label {background-color: #d4ebff;}#sk-container-id-2 input.sk-hidden--visually {border: 0;clip: rect(1px 1px 1px 1px);clip: rect(1px, 1px, 1px, 1px);height: 1px;margin: -1px;overflow: hidden;padding: 0;position: absolute;width: 1px;}#sk-container-id-2 div.sk-estimator {font-family: monospace;background-color: #f0f8ff;border: 1px dotted black;border-radius: 0.25em;box-sizing: border-box;margin-bottom: 0.5em;}#sk-container-id-2 div.sk-estimator:hover {background-color: #d4ebff;}#sk-container-id-2 div.sk-parallel-item::after {content: \"\";width: 100%;border-bottom: 1px solid gray;flex-grow: 1;}#sk-container-id-2 div.sk-label:hover label.sk-toggleable__label {background-color: #d4ebff;}#sk-container-id-2 div.sk-serial::before {content: \"\";position: absolute;border-left: 1px solid gray;box-sizing: border-box;top: 0;bottom: 0;left: 50%;z-index: 0;}#sk-container-id-2 div.sk-serial {display: flex;flex-direction: column;align-items: center;background-color: white;padding-right: 0.2em;padding-left: 0.2em;position: relative;}#sk-container-id-2 div.sk-item {position: relative;z-index: 1;}#sk-container-id-2 div.sk-parallel {display: flex;align-items: stretch;justify-content: center;background-color: white;position: relative;}#sk-container-id-2 div.sk-item::before, #sk-container-id-2 div.sk-parallel-item::before {content: \"\";position: absolute;border-left: 1px solid gray;box-sizing: border-box;top: 0;bottom: 0;left: 50%;z-index: -1;}#sk-container-id-2 div.sk-parallel-item {display: flex;flex-direction: column;z-index: 1;position: relative;background-color: white;}#sk-container-id-2 div.sk-parallel-item:first-child::after {align-self: flex-end;width: 50%;}#sk-container-id-2 div.sk-parallel-item:last-child::after {align-self: flex-start;width: 50%;}#sk-container-id-2 div.sk-parallel-item:only-child::after {width: 0;}#sk-container-id-2 div.sk-dashed-wrapped {border: 1px dashed gray;margin: 0 0.4em 0.5em 0.4em;box-sizing: border-box;padding-bottom: 0.4em;background-color: white;}#sk-container-id-2 div.sk-label label {font-family: monospace;font-weight: bold;display: inline-block;line-height: 1.2em;}#sk-container-id-2 div.sk-label-container {text-align: center;}#sk-container-id-2 div.sk-container {/* jupyter's `normalize.less` sets `[hidden] { display: none; }` but bootstrap.min.css set `[hidden] { display: none !important; }` so we also need the `!important` here to be able to override the default hidden behavior on the sphinx rendered scikit-learn.org. See: https://github.com/scikit-learn/scikit-learn/issues/21755 */display: inline-block !important;position: relative;}#sk-container-id-2 div.sk-text-repr-fallback {display: none;}</style><div id=\"sk-container-id-2\" class=\"sk-top-container\"><div class=\"sk-text-repr-fallback\"><pre>GridSearchCV(cv=KFold(n_splits=5, random_state=0, shuffle=True),\n",
       "             estimator=KNeighborsRegressor(n_jobs=-1), n_jobs=-1,\n",
       "             param_grid={&#x27;leaf_size&#x27;: [20, 30, 50], &#x27;n_neighbors&#x27;: [5, 25, 50],\n",
       "                         &#x27;p&#x27;: [1, 2], &#x27;weights&#x27;: [&#x27;uniform&#x27;, &#x27;distance&#x27;]},\n",
       "             return_train_score=True, scoring=&#x27;r2&#x27;, verbose=3)</pre><b>In a Jupyter environment, please rerun this cell to show the HTML representation or trust the notebook. <br />On GitHub, the HTML representation is unable to render, please try loading this page with nbviewer.org.</b></div><div class=\"sk-container\" hidden><div class=\"sk-item sk-dashed-wrapped\"><div class=\"sk-label-container\"><div class=\"sk-label sk-toggleable\"><input class=\"sk-toggleable__control sk-hidden--visually\" id=\"sk-estimator-id-2\" type=\"checkbox\" ><label for=\"sk-estimator-id-2\" class=\"sk-toggleable__label sk-toggleable__label-arrow\">GridSearchCV</label><div class=\"sk-toggleable__content\"><pre>GridSearchCV(cv=KFold(n_splits=5, random_state=0, shuffle=True),\n",
       "             estimator=KNeighborsRegressor(n_jobs=-1), n_jobs=-1,\n",
       "             param_grid={&#x27;leaf_size&#x27;: [20, 30, 50], &#x27;n_neighbors&#x27;: [5, 25, 50],\n",
       "                         &#x27;p&#x27;: [1, 2], &#x27;weights&#x27;: [&#x27;uniform&#x27;, &#x27;distance&#x27;]},\n",
       "             return_train_score=True, scoring=&#x27;r2&#x27;, verbose=3)</pre></div></div></div><div class=\"sk-parallel\"><div class=\"sk-parallel-item\"><div class=\"sk-item\"><div class=\"sk-label-container\"><div class=\"sk-label sk-toggleable\"><input class=\"sk-toggleable__control sk-hidden--visually\" id=\"sk-estimator-id-3\" type=\"checkbox\" ><label for=\"sk-estimator-id-3\" class=\"sk-toggleable__label sk-toggleable__label-arrow\">estimator: KNeighborsRegressor</label><div class=\"sk-toggleable__content\"><pre>KNeighborsRegressor(n_jobs=-1)</pre></div></div></div><div class=\"sk-serial\"><div class=\"sk-item\"><div class=\"sk-estimator sk-toggleable\"><input class=\"sk-toggleable__control sk-hidden--visually\" id=\"sk-estimator-id-4\" type=\"checkbox\" ><label for=\"sk-estimator-id-4\" class=\"sk-toggleable__label sk-toggleable__label-arrow\">KNeighborsRegressor</label><div class=\"sk-toggleable__content\"><pre>KNeighborsRegressor(n_jobs=-1)</pre></div></div></div></div></div></div></div></div></div></div>"
      ],
      "text/plain": [
       "GridSearchCV(cv=KFold(n_splits=5, random_state=0, shuffle=True),\n",
       "             estimator=KNeighborsRegressor(n_jobs=-1), n_jobs=-1,\n",
       "             param_grid={'leaf_size': [20, 30, 50], 'n_neighbors': [5, 25, 50],\n",
       "                         'p': [1, 2], 'weights': ['uniform', 'distance']},\n",
       "             return_train_score=True, scoring='r2', verbose=3)"
      ]
     },
     "execution_count": 22,
     "metadata": {},
     "output_type": "execute_result"
    }
   ],
   "source": [
    "%%time\n",
    "search_knn.fit(X_train_preprocessed, y_train)"
   ]
  },
  {
   "cell_type": "code",
   "execution_count": 44,
   "id": "578d6beec9027904",
   "metadata": {
    "ExecuteTime": {
     "end_time": "2024-01-05T15:13:36.686231100Z",
     "start_time": "2024-01-05T15:13:36.601488500Z"
    },
    "collapsed": false
   },
   "outputs": [],
   "source": [
    "## uncomment if you want to save you model\n",
    "# dump(search_knn, \"../models/search_knn_abalone.joblib\")\n",
    "## uncomment if you want load a saved model\n",
    "search_knn = load(\"../models/search_knn_abalone.joblib\")"
   ]
  },
  {
   "cell_type": "code",
   "execution_count": 45,
   "id": "23e97750d349e086",
   "metadata": {
    "ExecuteTime": {
     "end_time": "2024-01-05T15:13:36.936213800Z",
     "start_time": "2024-01-05T15:13:36.670532Z"
    },
    "collapsed": false
   },
   "outputs": [],
   "source": [
    "pd.DataFrame(search_knn.cv_results_);"
   ]
  },
  {
   "cell_type": "markdown",
   "id": "ca9e3e1568b00d3c",
   "metadata": {
    "collapsed": false
   },
   "source": [
    "### Las losowy"
   ]
  },
  {
   "cell_type": "code",
   "execution_count": 26,
   "id": "bd3bbed65ea60a22",
   "metadata": {
    "ExecuteTime": {
     "end_time": "2024-01-05T15:13:36.936213800Z",
     "start_time": "2024-01-05T15:13:36.796360Z"
    },
    "collapsed": false
   },
   "outputs": [],
   "source": [
    "search_random_forest = GridSearchCV(estimator=RandomForestRegressor(random_state=random_state),\n",
    "                                           param_grid=random_forest_params,\n",
    "                                           scoring=\"r2\",\n",
    "                                           n_jobs=-1,\n",
    "                                           refit=True,\n",
    "                                           cv=folds,\n",
    "                                           return_train_score=True,\n",
    "                                         verbose=3,\n",
    "                                        )"
   ]
  },
  {
   "cell_type": "code",
   "execution_count": 27,
   "id": "393b76e7eb6cfbba",
   "metadata": {
    "ExecuteTime": {
     "end_time": "2024-01-05T15:15:13.816811800Z",
     "start_time": "2024-01-05T15:13:36.836179500Z"
    },
    "collapsed": false
   },
   "outputs": [
    {
     "name": "stdout",
     "output_type": "stream",
     "text": [
      "Fitting 5 folds for each of 36 candidates, totalling 180 fits\n",
      "CPU times: total: 5.16 s\n",
      "Wall time: 1min 36s\n"
     ]
    },
    {
     "data": {
      "text/html": [
       "<style>#sk-container-id-3 {color: black;}#sk-container-id-3 pre{padding: 0;}#sk-container-id-3 div.sk-toggleable {background-color: white;}#sk-container-id-3 label.sk-toggleable__label {cursor: pointer;display: block;width: 100%;margin-bottom: 0;padding: 0.3em;box-sizing: border-box;text-align: center;}#sk-container-id-3 label.sk-toggleable__label-arrow:before {content: \"▸\";float: left;margin-right: 0.25em;color: #696969;}#sk-container-id-3 label.sk-toggleable__label-arrow:hover:before {color: black;}#sk-container-id-3 div.sk-estimator:hover label.sk-toggleable__label-arrow:before {color: black;}#sk-container-id-3 div.sk-toggleable__content {max-height: 0;max-width: 0;overflow: hidden;text-align: left;background-color: #f0f8ff;}#sk-container-id-3 div.sk-toggleable__content pre {margin: 0.2em;color: black;border-radius: 0.25em;background-color: #f0f8ff;}#sk-container-id-3 input.sk-toggleable__control:checked~div.sk-toggleable__content {max-height: 200px;max-width: 100%;overflow: auto;}#sk-container-id-3 input.sk-toggleable__control:checked~label.sk-toggleable__label-arrow:before {content: \"▾\";}#sk-container-id-3 div.sk-estimator input.sk-toggleable__control:checked~label.sk-toggleable__label {background-color: #d4ebff;}#sk-container-id-3 div.sk-label input.sk-toggleable__control:checked~label.sk-toggleable__label {background-color: #d4ebff;}#sk-container-id-3 input.sk-hidden--visually {border: 0;clip: rect(1px 1px 1px 1px);clip: rect(1px, 1px, 1px, 1px);height: 1px;margin: -1px;overflow: hidden;padding: 0;position: absolute;width: 1px;}#sk-container-id-3 div.sk-estimator {font-family: monospace;background-color: #f0f8ff;border: 1px dotted black;border-radius: 0.25em;box-sizing: border-box;margin-bottom: 0.5em;}#sk-container-id-3 div.sk-estimator:hover {background-color: #d4ebff;}#sk-container-id-3 div.sk-parallel-item::after {content: \"\";width: 100%;border-bottom: 1px solid gray;flex-grow: 1;}#sk-container-id-3 div.sk-label:hover label.sk-toggleable__label {background-color: #d4ebff;}#sk-container-id-3 div.sk-serial::before {content: \"\";position: absolute;border-left: 1px solid gray;box-sizing: border-box;top: 0;bottom: 0;left: 50%;z-index: 0;}#sk-container-id-3 div.sk-serial {display: flex;flex-direction: column;align-items: center;background-color: white;padding-right: 0.2em;padding-left: 0.2em;position: relative;}#sk-container-id-3 div.sk-item {position: relative;z-index: 1;}#sk-container-id-3 div.sk-parallel {display: flex;align-items: stretch;justify-content: center;background-color: white;position: relative;}#sk-container-id-3 div.sk-item::before, #sk-container-id-3 div.sk-parallel-item::before {content: \"\";position: absolute;border-left: 1px solid gray;box-sizing: border-box;top: 0;bottom: 0;left: 50%;z-index: -1;}#sk-container-id-3 div.sk-parallel-item {display: flex;flex-direction: column;z-index: 1;position: relative;background-color: white;}#sk-container-id-3 div.sk-parallel-item:first-child::after {align-self: flex-end;width: 50%;}#sk-container-id-3 div.sk-parallel-item:last-child::after {align-self: flex-start;width: 50%;}#sk-container-id-3 div.sk-parallel-item:only-child::after {width: 0;}#sk-container-id-3 div.sk-dashed-wrapped {border: 1px dashed gray;margin: 0 0.4em 0.5em 0.4em;box-sizing: border-box;padding-bottom: 0.4em;background-color: white;}#sk-container-id-3 div.sk-label label {font-family: monospace;font-weight: bold;display: inline-block;line-height: 1.2em;}#sk-container-id-3 div.sk-label-container {text-align: center;}#sk-container-id-3 div.sk-container {/* jupyter's `normalize.less` sets `[hidden] { display: none; }` but bootstrap.min.css set `[hidden] { display: none !important; }` so we also need the `!important` here to be able to override the default hidden behavior on the sphinx rendered scikit-learn.org. See: https://github.com/scikit-learn/scikit-learn/issues/21755 */display: inline-block !important;position: relative;}#sk-container-id-3 div.sk-text-repr-fallback {display: none;}</style><div id=\"sk-container-id-3\" class=\"sk-top-container\"><div class=\"sk-text-repr-fallback\"><pre>GridSearchCV(cv=KFold(n_splits=5, random_state=0, shuffle=True),\n",
       "             estimator=RandomForestRegressor(random_state=0), n_jobs=-1,\n",
       "             param_grid={&#x27;max_depth&#x27;: [None, 3, 4, 5],\n",
       "                         &#x27;max_features&#x27;: [None, &#x27;sqrt&#x27;, &#x27;log2&#x27;],\n",
       "                         &#x27;n_estimators&#x27;: [50, 100, 200]},\n",
       "             return_train_score=True, scoring=&#x27;r2&#x27;, verbose=3)</pre><b>In a Jupyter environment, please rerun this cell to show the HTML representation or trust the notebook. <br />On GitHub, the HTML representation is unable to render, please try loading this page with nbviewer.org.</b></div><div class=\"sk-container\" hidden><div class=\"sk-item sk-dashed-wrapped\"><div class=\"sk-label-container\"><div class=\"sk-label sk-toggleable\"><input class=\"sk-toggleable__control sk-hidden--visually\" id=\"sk-estimator-id-5\" type=\"checkbox\" ><label for=\"sk-estimator-id-5\" class=\"sk-toggleable__label sk-toggleable__label-arrow\">GridSearchCV</label><div class=\"sk-toggleable__content\"><pre>GridSearchCV(cv=KFold(n_splits=5, random_state=0, shuffle=True),\n",
       "             estimator=RandomForestRegressor(random_state=0), n_jobs=-1,\n",
       "             param_grid={&#x27;max_depth&#x27;: [None, 3, 4, 5],\n",
       "                         &#x27;max_features&#x27;: [None, &#x27;sqrt&#x27;, &#x27;log2&#x27;],\n",
       "                         &#x27;n_estimators&#x27;: [50, 100, 200]},\n",
       "             return_train_score=True, scoring=&#x27;r2&#x27;, verbose=3)</pre></div></div></div><div class=\"sk-parallel\"><div class=\"sk-parallel-item\"><div class=\"sk-item\"><div class=\"sk-label-container\"><div class=\"sk-label sk-toggleable\"><input class=\"sk-toggleable__control sk-hidden--visually\" id=\"sk-estimator-id-6\" type=\"checkbox\" ><label for=\"sk-estimator-id-6\" class=\"sk-toggleable__label sk-toggleable__label-arrow\">estimator: RandomForestRegressor</label><div class=\"sk-toggleable__content\"><pre>RandomForestRegressor(random_state=0)</pre></div></div></div><div class=\"sk-serial\"><div class=\"sk-item\"><div class=\"sk-estimator sk-toggleable\"><input class=\"sk-toggleable__control sk-hidden--visually\" id=\"sk-estimator-id-7\" type=\"checkbox\" ><label for=\"sk-estimator-id-7\" class=\"sk-toggleable__label sk-toggleable__label-arrow\">RandomForestRegressor</label><div class=\"sk-toggleable__content\"><pre>RandomForestRegressor(random_state=0)</pre></div></div></div></div></div></div></div></div></div></div>"
      ],
      "text/plain": [
       "GridSearchCV(cv=KFold(n_splits=5, random_state=0, shuffle=True),\n",
       "             estimator=RandomForestRegressor(random_state=0), n_jobs=-1,\n",
       "             param_grid={'max_depth': [None, 3, 4, 5],\n",
       "                         'max_features': [None, 'sqrt', 'log2'],\n",
       "                         'n_estimators': [50, 100, 200]},\n",
       "             return_train_score=True, scoring='r2', verbose=3)"
      ]
     },
     "execution_count": 27,
     "metadata": {},
     "output_type": "execute_result"
    }
   ],
   "source": [
    "%%time\n",
    "search_random_forest.fit(X_train_preprocessed, y_train)"
   ]
  },
  {
   "cell_type": "code",
   "execution_count": 47,
   "id": "2d0df61303827e86",
   "metadata": {
    "ExecuteTime": {
     "end_time": "2024-01-05T15:15:13.981179600Z",
     "start_time": "2024-01-05T15:15:13.818810400Z"
    },
    "collapsed": false
   },
   "outputs": [],
   "source": [
    "## uncomment if you want to save you model\n",
    "# dump(search_random_forest, \"../models/search_random_forest_knn_abalone.joblib\")\n",
    "## uncomment if you want load a saved model\n",
    "search_random_forest = load(\"../models/search_random_forest_abalone.joblib\")"
   ]
  },
  {
   "cell_type": "code",
   "execution_count": 48,
   "id": "b5bd145a7f32d4b0",
   "metadata": {
    "ExecuteTime": {
     "end_time": "2024-01-05T15:15:14.104253400Z",
     "start_time": "2024-01-05T15:15:14.006249100Z"
    },
    "collapsed": false
   },
   "outputs": [],
   "source": [
    "pd.DataFrame(search_random_forest.cv_results_);"
   ]
  },
  {
   "cell_type": "markdown",
   "id": "fafea721042b84cd",
   "metadata": {
    "collapsed": false
   },
   "source": [
    "## Analiza\n",
    "\n",
    "Na tym tym posiadam już dostrojone, finalne modele. Teraz zostaną one porównane wg następujących metryk:\n",
    "\n",
    "- MAE\n",
    "- MSE\n",
    "- MAPE\n",
    "- RMSE\n",
    "- R2"
   ]
  },
  {
   "cell_type": "code",
   "execution_count": 49,
   "id": "83d3ab126fb05665",
   "metadata": {
    "ExecuteTime": {
     "end_time": "2024-01-05T16:37:38.280444100Z",
     "start_time": "2024-01-05T16:37:38.170217Z"
    },
    "collapsed": false
   },
   "outputs": [],
   "source": [
    "final_models = [(\"linear_regression\", linreg), (\"knn\", search_knn.best_estimator_), (\"random_forest\", search_random_forest.best_estimator_)]"
   ]
  },
  {
   "cell_type": "code",
   "execution_count": 50,
   "id": "622200a05c0b6e49",
   "metadata": {
    "ExecuteTime": {
     "end_time": "2024-01-05T16:39:29.993205600Z",
     "start_time": "2024-01-05T16:37:38.792095500Z"
    },
    "collapsed": false
   },
   "outputs": [],
   "source": [
    "rows = []\n",
    "\n",
    "for model_name, model in final_models:\n",
    "    params = search_random_forest.best_estimator_.get_params()\n",
    "    \n",
    "    y_pred = model.predict(encoder.transform(X_test))\n",
    "    \n",
    "    mae = mean_absolute_error(y_test, y_pred)\n",
    "    mse = mean_squared_error(y_test, y_pred)\n",
    "    mape = mean_absolute_percentage_error(y_test, y_pred)\n",
    "    rmse = np.sqrt(mse)\n",
    "    r2 = r2_score(y_test, y_pred)\n",
    "    \n",
    "    metrics = {\"mae\": mae, \"mse\": mse, \"mape\": mape, \"rmse\": rmse, \"r2\": r2}\n",
    "    rows.append(metrics)\n",
    "\n",
    "    if log_mlflow:\n",
    "        with mlflow.start_run(run_name=model_name) as run:\n",
    "            mlflow.log_params(params)\n",
    "        \n",
    "            mlflow.log_metrics(metrics)\n",
    "            \n",
    "            model_info = mlflow.sklearn.log_model(\n",
    "                sk_model=model,\n",
    "                artifact_path=\"abalone\",\n",
    "                input_example=X_test,\n",
    "            )"
   ]
  },
  {
   "cell_type": "code",
   "execution_count": 51,
   "id": "e8cec9be8e1b68ed",
   "metadata": {
    "collapsed": false
   },
   "outputs": [],
   "source": [
    "results = pd.DataFrame(rows, index=[tpl[0] for tpl in final_models])"
   ]
  },
  {
   "cell_type": "code",
   "execution_count": 52,
   "id": "eb75102f",
   "metadata": {},
   "outputs": [
    {
     "data": {
      "text/html": [
       "<style type=\"text/css\">\n",
       "</style>\n",
       "<table id=\"T_826f5\">\n",
       "  <thead>\n",
       "    <tr>\n",
       "      <th class=\"blank level0\" >&nbsp;</th>\n",
       "      <th id=\"T_826f5_level0_col0\" class=\"col_heading level0 col0\" >mae</th>\n",
       "      <th id=\"T_826f5_level0_col1\" class=\"col_heading level0 col1\" >mse</th>\n",
       "      <th id=\"T_826f5_level0_col2\" class=\"col_heading level0 col2\" >mape</th>\n",
       "      <th id=\"T_826f5_level0_col3\" class=\"col_heading level0 col3\" >rmse</th>\n",
       "      <th id=\"T_826f5_level0_col4\" class=\"col_heading level0 col4\" >r2</th>\n",
       "    </tr>\n",
       "  </thead>\n",
       "  <tbody>\n",
       "    <tr>\n",
       "      <th id=\"T_826f5_level0_row0\" class=\"row_heading level0 row0\" >linear_regression</th>\n",
       "      <td id=\"T_826f5_row0_col0\" class=\"data row0 col0\" >1.55</td>\n",
       "      <td id=\"T_826f5_row0_col1\" class=\"data row0 col1\" >4.91</td>\n",
       "      <td id=\"T_826f5_row0_col2\" class=\"data row0 col2\" >0.16</td>\n",
       "      <td id=\"T_826f5_row0_col3\" class=\"data row0 col3\" >2.22</td>\n",
       "      <td id=\"T_826f5_row0_col4\" class=\"data row0 col4\" >0.55</td>\n",
       "    </tr>\n",
       "    <tr>\n",
       "      <th id=\"T_826f5_level0_row1\" class=\"row_heading level0 row1\" >knn</th>\n",
       "      <td id=\"T_826f5_row1_col0\" class=\"data row1 col0\" >1.47</td>\n",
       "      <td id=\"T_826f5_row1_col1\" class=\"data row1 col1\" >4.67</td>\n",
       "      <td id=\"T_826f5_row1_col2\" class=\"data row1 col2\" >0.14</td>\n",
       "      <td id=\"T_826f5_row1_col3\" class=\"data row1 col3\" >2.16</td>\n",
       "      <td id=\"T_826f5_row1_col4\" class=\"data row1 col4\" >0.57</td>\n",
       "    </tr>\n",
       "    <tr>\n",
       "      <th id=\"T_826f5_level0_row2\" class=\"row_heading level0 row2\" >random_forest</th>\n",
       "      <td id=\"T_826f5_row2_col0\" class=\"data row2 col0\" >1.52</td>\n",
       "      <td id=\"T_826f5_row2_col1\" class=\"data row2 col1\" >4.59</td>\n",
       "      <td id=\"T_826f5_row2_col2\" class=\"data row2 col2\" >0.15</td>\n",
       "      <td id=\"T_826f5_row2_col3\" class=\"data row2 col3\" >2.14</td>\n",
       "      <td id=\"T_826f5_row2_col4\" class=\"data row2 col4\" >0.58</td>\n",
       "    </tr>\n",
       "  </tbody>\n",
       "</table>\n"
      ],
      "text/plain": [
       "<pandas.io.formats.style.Styler at 0x2a4018d4820>"
      ]
     },
     "execution_count": 52,
     "metadata": {},
     "output_type": "execute_result"
    }
   ],
   "source": [
    "results.style.format(precision=2, thousands=\",\")"
   ]
  },
  {
   "cell_type": "code",
   "execution_count": 55,
   "id": "02678d0d",
   "metadata": {},
   "outputs": [
    {
     "data": {
      "image/png": "[encoded data removed]",
      "text/plain": [
       "<Figure size 1000x500 with 5 Axes>"
      ]
     },
     "metadata": {},
     "output_type": "display_data"
    }
   ],
   "source": [
    "fig, axes = plt.subplots(1, 5, figsize=(10, 5))\n",
    "colors = [\"darkblue\", \"gold\", \"green\"]\n",
    "\n",
    "metrics = results.columns\n",
    "for i, metric in enumerate(metrics):\n",
    "    axes[i].bar(results.index, results[metric], color=colors)\n",
    "    axes[i].set_title(metric)\n",
    "    axes[i].xaxis.set_ticks([0, 1, 2], results.index, rotation=90)\n",
    "\n",
    "fig.suptitle(\"Results from Abalone dataset\")\n",
    "plt.tight_layout()\n",
    "plt.show()\n"
   ]
  },
  {
   "cell_type": "code",
   "execution_count": null,
   "id": "c177d57b",
   "metadata": {},
   "outputs": [],
   "source": []
  }
 ],
 "metadata": {
  "kernelspec": {
   "display_name": "regression-methods-comparison",
   "language": "python",
   "name": "python3"
  },
  "language_info": {
   "codemirror_mode": {
    "name": "ipython",
    "version": 3
   },
   "file_extension": ".py",
   "mimetype": "text/x-python",
   "name": "python",
   "nbconvert_exporter": "python",
   "pygments_lexer": "ipython3",
   "version": "3.10.13"
  }
 },
 "nbformat": 4,
 "nbformat_minor": 5
}
