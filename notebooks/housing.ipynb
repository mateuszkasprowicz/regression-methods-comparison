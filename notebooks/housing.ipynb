{
 "cells": [
  {
   "cell_type": "markdown",
   "source": [
    "# Porównanie 3 metod regresji na podstawie 3 różnych zbiorów danych\n",
    "\n",
    "W niniejszej pracy wykorzystuję metody:\n",
    "- K najbliższych sąsiądów (KNN)\n",
    "- Regresji liniowej\n",
    "- Lasu losowego\n",
    "\n",
    "Używam następujących zbiorów danych:\n",
    "- [Melbourne Housing](https://www.kaggle.com/datasets/dansbecker/melbourne-housing-snapshot) \n",
    "    - zmienna objaśniana: cena domu\n",
    "- [Wine Quality](https://www.kaggle.com/datasets/rajyellow46/wine-quality)\n",
    "    - zmienna objaśniana: jakość wina\n",
    "-  [Abalon](https://www.kaggle.com/datasets/rodolfomendes/abalone-dataset)\n",
    "    - zmienna objaśniana: wiek skamieliny"
   ],
   "metadata": {
    "collapsed": false
   },
   "id": "8e6a5c08fdf59c41"
  },
  {
   "cell_type": "markdown",
   "source": [
    "## Załadowanie potrzebnych bibliotek"
   ],
   "metadata": {
    "collapsed": false
   },
   "id": "cdbcf20ba0c64295"
  },
  {
   "cell_type": "code",
   "execution_count": 39,
   "outputs": [],
   "source": [
    "import random\n",
    "import os\n",
    "from joblib import dump, load\n",
    "\n",
    "import pandas as pd\n",
    "from ydata_profiling import ProfileReport\n",
    "import numpy as np\n",
    "\n",
    "import matplotlib as mpl\n",
    "import matplotlib.pyplot as plt\n",
    "import seaborn as sns\n",
    "import plotly.express as px\n",
    "\n",
    "import sklearn\n",
    "from sklearn.compose import ColumnTransformer\n",
    "from sklearn.impute import SimpleImputer\n",
    "from sklearn.preprocessing import TargetEncoder, StandardScaler, OneHotEncoder\n",
    "from sklearn.pipeline import make_pipeline\n",
    "\n",
    "from sklearn.linear_model import LinearRegression\n",
    "from sklearn.neighbors import KNeighborsRegressor\n",
    "from sklearn.ensemble import RandomForestRegressor\n",
    "\n",
    "from sklearn.model_selection import train_test_split, GridSearchCV, KFold\n",
    "from sklearn.metrics import r2_score\n"
   ],
   "metadata": {
    "collapsed": false,
    "ExecuteTime": {
     "end_time": "2024-01-05T13:49:08.468090200Z",
     "start_time": "2024-01-05T13:49:08.441053300Z"
    }
   },
   "id": "392b077ab414804e"
  },
  {
   "cell_type": "markdown",
   "source": [
    "## Stałe"
   ],
   "metadata": {
    "collapsed": false
   },
   "id": "19d5f5b943907b25"
  },
  {
   "cell_type": "code",
   "execution_count": 2,
   "outputs": [],
   "source": [
    "random_state = 0\n",
    "\n",
    "np.random.seed(random_state)\n",
    "os.environ[\"PYTHONHASHSEED\"] = str(random_state)\n",
    "random.seed(random_state)"
   ],
   "metadata": {
    "collapsed": false,
    "ExecuteTime": {
     "end_time": "2024-01-05T12:54:55.399433200Z",
     "start_time": "2024-01-05T12:54:55.383887800Z"
    }
   },
   "id": "9f303b328fe998e4"
  },
  {
   "cell_type": "code",
   "execution_count": 3,
   "outputs": [],
   "source": [
    "sklearn.set_config(transform_output=\"pandas\")"
   ],
   "metadata": {
    "collapsed": false,
    "ExecuteTime": {
     "end_time": "2024-01-05T12:54:55.446303500Z",
     "start_time": "2024-01-05T12:54:55.399433200Z"
    }
   },
   "id": "b7737e9d547de906"
  },
  {
   "cell_type": "markdown",
   "source": [
    "## Wczytanie danych"
   ],
   "metadata": {
    "collapsed": false
   },
   "id": "4a253bc1def973e1"
  },
  {
   "cell_type": "code",
   "execution_count": 4,
   "outputs": [],
   "source": [
    "housing = pd.read_csv(\"../data/melb_data.csv\")"
   ],
   "metadata": {
    "collapsed": false,
    "ExecuteTime": {
     "end_time": "2024-01-05T12:54:55.524429200Z",
     "start_time": "2024-01-05T12:54:55.415051400Z"
    }
   },
   "id": "9f7ba64f0485ffb3"
  },
  {
   "cell_type": "markdown",
   "source": [
    "### Krótka analiza eksploracyjna danych"
   ],
   "metadata": {
    "collapsed": false
   },
   "id": "857fc4209438d23a"
  },
  {
   "cell_type": "code",
   "execution_count": 6,
   "outputs": [],
   "source": [
    "# ProfileReport(dataset, title=f\"Profiling Report for Housing dataset\").to_file(f\"../data/housing_EDA.html\")"
   ],
   "metadata": {
    "collapsed": false,
    "ExecuteTime": {
     "end_time": "2024-01-05T12:54:55.578945500Z",
     "start_time": "2024-01-05T12:54:55.547691100Z"
    }
   },
   "id": "38cc88d27ad49609"
  },
  {
   "cell_type": "markdown",
   "source": [
    "## Preprocessing"
   ],
   "metadata": {
    "collapsed": false
   },
   "id": "9fc1beabba9f9ed8"
  },
  {
   "cell_type": "code",
   "execution_count": 7,
   "outputs": [
    {
     "data": {
      "text/plain": "               Suburb          Address  Rooms Type      Price Method  \\\n8505     Williamstown    44 Electra St      4    h  2165000.0     SP   \n5523           Seddon      80 Gamon St      2    h   815000.0      S   \n12852  Sunshine North      6 Melton Av      3    h   610000.0     SP   \n4818          Prahran       16 Park Rd      3    t  1245000.0     PI   \n12812     Pascoe Vale  13 Yorkshire St      3    h  1160000.0      S   \n\n        SellerG        Date  Distance  Postcode  ...  Bathroom  Car  Landsize  \\\n8505       Greg   6/05/2017       8.0    3016.0  ...       2.0  2.0     450.0   \n5523   Chisholm  30/07/2016       6.6    3011.0  ...       1.0  0.0     172.0   \n12852   Sweeney  16/09/2017      10.5    3020.0  ...       1.0  1.0     581.0   \n4818   Marshall   6/08/2016       4.5    3181.0  ...       2.0  1.0     128.0   \n12812    Nelson  16/09/2017       8.5    3044.0  ...       2.0  2.0     480.0   \n\n       BuildingArea  YearBuilt  CouncilArea Lattitude  Longtitude  \\\n8505          190.0     1910.0  Hobsons Bay -37.86100   144.89850   \n5523           81.0     1900.0  Maribyrnong -37.81000   144.88960   \n12852           NaN        NaN          NaN -37.76740   144.82421   \n4818          134.0     2000.0  Stonnington -37.85260   145.00710   \n12812           NaN        NaN          NaN -37.72523   144.94567   \n\n                  Regionname Propertycount  \n8505    Western Metropolitan        6380.0  \n5523    Western Metropolitan        2417.0  \n12852   Western Metropolitan        4217.0  \n4818   Southern Metropolitan        7717.0  \n12812  Northern Metropolitan        7485.0  \n\n[5 rows x 21 columns]",
      "text/html": "<div>\n<style scoped>\n    .dataframe tbody tr th:only-of-type {\n        vertical-align: middle;\n    }\n\n    .dataframe tbody tr th {\n        vertical-align: top;\n    }\n\n    .dataframe thead th {\n        text-align: right;\n    }\n</style>\n<table border=\"1\" class=\"dataframe\">\n  <thead>\n    <tr style=\"text-align: right;\">\n      <th></th>\n      <th>Suburb</th>\n      <th>Address</th>\n      <th>Rooms</th>\n      <th>Type</th>\n      <th>Price</th>\n      <th>Method</th>\n      <th>SellerG</th>\n      <th>Date</th>\n      <th>Distance</th>\n      <th>Postcode</th>\n      <th>...</th>\n      <th>Bathroom</th>\n      <th>Car</th>\n      <th>Landsize</th>\n      <th>BuildingArea</th>\n      <th>YearBuilt</th>\n      <th>CouncilArea</th>\n      <th>Lattitude</th>\n      <th>Longtitude</th>\n      <th>Regionname</th>\n      <th>Propertycount</th>\n    </tr>\n  </thead>\n  <tbody>\n    <tr>\n      <th>8505</th>\n      <td>Williamstown</td>\n      <td>44 Electra St</td>\n      <td>4</td>\n      <td>h</td>\n      <td>2165000.0</td>\n      <td>SP</td>\n      <td>Greg</td>\n      <td>6/05/2017</td>\n      <td>8.0</td>\n      <td>3016.0</td>\n      <td>...</td>\n      <td>2.0</td>\n      <td>2.0</td>\n      <td>450.0</td>\n      <td>190.0</td>\n      <td>1910.0</td>\n      <td>Hobsons Bay</td>\n      <td>-37.86100</td>\n      <td>144.89850</td>\n      <td>Western Metropolitan</td>\n      <td>6380.0</td>\n    </tr>\n    <tr>\n      <th>5523</th>\n      <td>Seddon</td>\n      <td>80 Gamon St</td>\n      <td>2</td>\n      <td>h</td>\n      <td>815000.0</td>\n      <td>S</td>\n      <td>Chisholm</td>\n      <td>30/07/2016</td>\n      <td>6.6</td>\n      <td>3011.0</td>\n      <td>...</td>\n      <td>1.0</td>\n      <td>0.0</td>\n      <td>172.0</td>\n      <td>81.0</td>\n      <td>1900.0</td>\n      <td>Maribyrnong</td>\n      <td>-37.81000</td>\n      <td>144.88960</td>\n      <td>Western Metropolitan</td>\n      <td>2417.0</td>\n    </tr>\n    <tr>\n      <th>12852</th>\n      <td>Sunshine North</td>\n      <td>6 Melton Av</td>\n      <td>3</td>\n      <td>h</td>\n      <td>610000.0</td>\n      <td>SP</td>\n      <td>Sweeney</td>\n      <td>16/09/2017</td>\n      <td>10.5</td>\n      <td>3020.0</td>\n      <td>...</td>\n      <td>1.0</td>\n      <td>1.0</td>\n      <td>581.0</td>\n      <td>NaN</td>\n      <td>NaN</td>\n      <td>NaN</td>\n      <td>-37.76740</td>\n      <td>144.82421</td>\n      <td>Western Metropolitan</td>\n      <td>4217.0</td>\n    </tr>\n    <tr>\n      <th>4818</th>\n      <td>Prahran</td>\n      <td>16 Park Rd</td>\n      <td>3</td>\n      <td>t</td>\n      <td>1245000.0</td>\n      <td>PI</td>\n      <td>Marshall</td>\n      <td>6/08/2016</td>\n      <td>4.5</td>\n      <td>3181.0</td>\n      <td>...</td>\n      <td>2.0</td>\n      <td>1.0</td>\n      <td>128.0</td>\n      <td>134.0</td>\n      <td>2000.0</td>\n      <td>Stonnington</td>\n      <td>-37.85260</td>\n      <td>145.00710</td>\n      <td>Southern Metropolitan</td>\n      <td>7717.0</td>\n    </tr>\n    <tr>\n      <th>12812</th>\n      <td>Pascoe Vale</td>\n      <td>13 Yorkshire St</td>\n      <td>3</td>\n      <td>h</td>\n      <td>1160000.0</td>\n      <td>S</td>\n      <td>Nelson</td>\n      <td>16/09/2017</td>\n      <td>8.5</td>\n      <td>3044.0</td>\n      <td>...</td>\n      <td>2.0</td>\n      <td>2.0</td>\n      <td>480.0</td>\n      <td>NaN</td>\n      <td>NaN</td>\n      <td>NaN</td>\n      <td>-37.72523</td>\n      <td>144.94567</td>\n      <td>Northern Metropolitan</td>\n      <td>7485.0</td>\n    </tr>\n  </tbody>\n</table>\n<p>5 rows × 21 columns</p>\n</div>"
     },
     "execution_count": 7,
     "metadata": {},
     "output_type": "execute_result"
    }
   ],
   "source": [
    "housing.sample(5)"
   ],
   "metadata": {
    "collapsed": false,
    "ExecuteTime": {
     "end_time": "2024-01-05T12:54:55.657068100Z",
     "start_time": "2024-01-05T12:54:55.563330900Z"
    }
   },
   "id": "8a6d41e0e451198"
  },
  {
   "cell_type": "code",
   "execution_count": 61,
   "outputs": [
    {
     "data": {
      "text/plain": "BuildingArea    6450\nYearBuilt       5375\nCouncilArea     1369\nCar               62\nSuburb             0\ndtype: int64"
     },
     "execution_count": 61,
     "metadata": {},
     "output_type": "execute_result"
    }
   ],
   "source": [
    "housing.isna().sum().sort_values(ascending=False).head(5)"
   ],
   "metadata": {
    "collapsed": false,
    "ExecuteTime": {
     "end_time": "2024-01-05T14:09:23.166332800Z",
     "start_time": "2024-01-05T14:09:23.072577500Z"
    }
   },
   "id": "e33bedfaedffc7a5"
  },
  {
   "cell_type": "code",
   "execution_count": 8,
   "outputs": [],
   "source": [
    "X = housing.drop(columns=\"Price\")\n",
    "y = housing[\"Price\"]"
   ],
   "metadata": {
    "collapsed": false,
    "ExecuteTime": {
     "end_time": "2024-01-05T12:54:55.657068100Z",
     "start_time": "2024-01-05T12:54:55.625815900Z"
    }
   },
   "id": "82a617c827b7c360"
  },
  {
   "cell_type": "code",
   "execution_count": 9,
   "outputs": [],
   "source": [
    "X_train, X_test, y_train, y_test = train_test_split(X, y, test_size=0.1, shuffle=True, random_state=random_state)"
   ],
   "metadata": {
    "collapsed": false,
    "ExecuteTime": {
     "end_time": "2024-01-05T12:54:55.739289600Z",
     "start_time": "2024-01-05T12:54:55.641439800Z"
    }
   },
   "id": "952ffd28c5c82338"
  },
  {
   "cell_type": "code",
   "execution_count": 10,
   "outputs": [],
   "source": [
    "imputer = ColumnTransformer([(\"mode_imputer\", SimpleImputer(strategy=\"most_frequent\"), [\"YearBuilt\", \"CouncilArea\", \"Car\"]),\n",
    "                                (\"mean_imputer\", SimpleImputer(strategy=\"mean\"), [\"BuildingArea\"]),\n",
    "                                ],\n",
    "                               remainder=\"passthrough\",\n",
    "                               n_jobs=-1,\n",
    "                               verbose=True,\n",
    "                               verbose_feature_names_out=False,\n",
    "                               )"
   ],
   "metadata": {
    "collapsed": false,
    "ExecuteTime": {
     "end_time": "2024-01-05T12:54:55.801787500Z",
     "start_time": "2024-01-05T12:54:55.687594300Z"
    }
   },
   "id": "4db142394b0454df"
  },
  {
   "cell_type": "code",
   "execution_count": 11,
   "outputs": [],
   "source": [
    "encoder= ColumnTransformer([(\"target_encoder\", TargetEncoder(categories=\"auto\", target_type=\"continuous\", random_state=random_state), [\"SellerG\", \"Postcode\", \"Regionname\", \"CouncilArea\", \"Postcode\", \"Suburb\"]),\n",
    "                                (\"one_hot_encoder\", OneHotEncoder(sparse_output=False), [\"Type\", \"Method\"]),\n",
    "                                     (\"drop\", \"drop\", [\"Address\", \"Lattitude\", \"Longtitude\", \"Date\"])\n",
    "                                ],\n",
    "                               remainder=\"passthrough\",\n",
    "                               n_jobs=-1,\n",
    "                               verbose=True,\n",
    "                               verbose_feature_names_out=False,\n",
    "                               )"
   ],
   "metadata": {
    "collapsed": false,
    "ExecuteTime": {
     "end_time": "2024-01-05T12:54:55.860610400Z",
     "start_time": "2024-01-05T12:54:55.708033800Z"
    }
   },
   "id": "73b91bdabf581a65"
  },
  {
   "cell_type": "code",
   "execution_count": 12,
   "outputs": [
    {
     "data": {
      "text/plain": "Pipeline(steps=[('columntransformer-1',\n                 ColumnTransformer(n_jobs=-1, remainder='passthrough',\n                                   transformers=[('mode_imputer',\n                                                  SimpleImputer(strategy='most_frequent'),\n                                                  ['YearBuilt', 'CouncilArea',\n                                                   'Car']),\n                                                 ('mean_imputer',\n                                                  SimpleImputer(),\n                                                  ['BuildingArea'])],\n                                   verbose=True,\n                                   verbose_feature_names_out=False)),\n                ('columntransformer-2',\n                 ColumnTransformer(n_jobs=-1, remai...\n                                   transformers=[('target_encoder',\n                                                  TargetEncoder(random_state=0,\n                                                                target_type='continuous'),\n                                                  ['SellerG', 'Postcode',\n                                                   'Regionname', 'CouncilArea',\n                                                   'Postcode', 'Suburb']),\n                                                 ('one_hot_encoder',\n                                                  OneHotEncoder(sparse_output=False),\n                                                  ['Type', 'Method']),\n                                                 ('drop', 'drop',\n                                                  ['Address', 'Lattitude',\n                                                   'Longtitude', 'Date'])],\n                                   verbose=True,\n                                   verbose_feature_names_out=False))],\n         verbose=True)",
      "text/html": "<style>#sk-container-id-1 {color: black;}#sk-container-id-1 pre{padding: 0;}#sk-container-id-1 div.sk-toggleable {background-color: white;}#sk-container-id-1 label.sk-toggleable__label {cursor: pointer;display: block;width: 100%;margin-bottom: 0;padding: 0.3em;box-sizing: border-box;text-align: center;}#sk-container-id-1 label.sk-toggleable__label-arrow:before {content: \"▸\";float: left;margin-right: 0.25em;color: #696969;}#sk-container-id-1 label.sk-toggleable__label-arrow:hover:before {color: black;}#sk-container-id-1 div.sk-estimator:hover label.sk-toggleable__label-arrow:before {color: black;}#sk-container-id-1 div.sk-toggleable__content {max-height: 0;max-width: 0;overflow: hidden;text-align: left;background-color: #f0f8ff;}#sk-container-id-1 div.sk-toggleable__content pre {margin: 0.2em;color: black;border-radius: 0.25em;background-color: #f0f8ff;}#sk-container-id-1 input.sk-toggleable__control:checked~div.sk-toggleable__content {max-height: 200px;max-width: 100%;overflow: auto;}#sk-container-id-1 input.sk-toggleable__control:checked~label.sk-toggleable__label-arrow:before {content: \"▾\";}#sk-container-id-1 div.sk-estimator input.sk-toggleable__control:checked~label.sk-toggleable__label {background-color: #d4ebff;}#sk-container-id-1 div.sk-label input.sk-toggleable__control:checked~label.sk-toggleable__label {background-color: #d4ebff;}#sk-container-id-1 input.sk-hidden--visually {border: 0;clip: rect(1px 1px 1px 1px);clip: rect(1px, 1px, 1px, 1px);height: 1px;margin: -1px;overflow: hidden;padding: 0;position: absolute;width: 1px;}#sk-container-id-1 div.sk-estimator {font-family: monospace;background-color: #f0f8ff;border: 1px dotted black;border-radius: 0.25em;box-sizing: border-box;margin-bottom: 0.5em;}#sk-container-id-1 div.sk-estimator:hover {background-color: #d4ebff;}#sk-container-id-1 div.sk-parallel-item::after {content: \"\";width: 100%;border-bottom: 1px solid gray;flex-grow: 1;}#sk-container-id-1 div.sk-label:hover label.sk-toggleable__label {background-color: #d4ebff;}#sk-container-id-1 div.sk-serial::before {content: \"\";position: absolute;border-left: 1px solid gray;box-sizing: border-box;top: 0;bottom: 0;left: 50%;z-index: 0;}#sk-container-id-1 div.sk-serial {display: flex;flex-direction: column;align-items: center;background-color: white;padding-right: 0.2em;padding-left: 0.2em;position: relative;}#sk-container-id-1 div.sk-item {position: relative;z-index: 1;}#sk-container-id-1 div.sk-parallel {display: flex;align-items: stretch;justify-content: center;background-color: white;position: relative;}#sk-container-id-1 div.sk-item::before, #sk-container-id-1 div.sk-parallel-item::before {content: \"\";position: absolute;border-left: 1px solid gray;box-sizing: border-box;top: 0;bottom: 0;left: 50%;z-index: -1;}#sk-container-id-1 div.sk-parallel-item {display: flex;flex-direction: column;z-index: 1;position: relative;background-color: white;}#sk-container-id-1 div.sk-parallel-item:first-child::after {align-self: flex-end;width: 50%;}#sk-container-id-1 div.sk-parallel-item:last-child::after {align-self: flex-start;width: 50%;}#sk-container-id-1 div.sk-parallel-item:only-child::after {width: 0;}#sk-container-id-1 div.sk-dashed-wrapped {border: 1px dashed gray;margin: 0 0.4em 0.5em 0.4em;box-sizing: border-box;padding-bottom: 0.4em;background-color: white;}#sk-container-id-1 div.sk-label label {font-family: monospace;font-weight: bold;display: inline-block;line-height: 1.2em;}#sk-container-id-1 div.sk-label-container {text-align: center;}#sk-container-id-1 div.sk-container {/* jupyter's `normalize.less` sets `[hidden] { display: none; }` but bootstrap.min.css set `[hidden] { display: none !important; }` so we also need the `!important` here to be able to override the default hidden behavior on the sphinx rendered scikit-learn.org. See: https://github.com/scikit-learn/scikit-learn/issues/21755 */display: inline-block !important;position: relative;}#sk-container-id-1 div.sk-text-repr-fallback {display: none;}</style><div id=\"sk-container-id-1\" class=\"sk-top-container\"><div class=\"sk-text-repr-fallback\"><pre>Pipeline(steps=[(&#x27;columntransformer-1&#x27;,\n                 ColumnTransformer(n_jobs=-1, remainder=&#x27;passthrough&#x27;,\n                                   transformers=[(&#x27;mode_imputer&#x27;,\n                                                  SimpleImputer(strategy=&#x27;most_frequent&#x27;),\n                                                  [&#x27;YearBuilt&#x27;, &#x27;CouncilArea&#x27;,\n                                                   &#x27;Car&#x27;]),\n                                                 (&#x27;mean_imputer&#x27;,\n                                                  SimpleImputer(),\n                                                  [&#x27;BuildingArea&#x27;])],\n                                   verbose=True,\n                                   verbose_feature_names_out=False)),\n                (&#x27;columntransformer-2&#x27;,\n                 ColumnTransformer(n_jobs=-1, remai...\n                                   transformers=[(&#x27;target_encoder&#x27;,\n                                                  TargetEncoder(random_state=0,\n                                                                target_type=&#x27;continuous&#x27;),\n                                                  [&#x27;SellerG&#x27;, &#x27;Postcode&#x27;,\n                                                   &#x27;Regionname&#x27;, &#x27;CouncilArea&#x27;,\n                                                   &#x27;Postcode&#x27;, &#x27;Suburb&#x27;]),\n                                                 (&#x27;one_hot_encoder&#x27;,\n                                                  OneHotEncoder(sparse_output=False),\n                                                  [&#x27;Type&#x27;, &#x27;Method&#x27;]),\n                                                 (&#x27;drop&#x27;, &#x27;drop&#x27;,\n                                                  [&#x27;Address&#x27;, &#x27;Lattitude&#x27;,\n                                                   &#x27;Longtitude&#x27;, &#x27;Date&#x27;])],\n                                   verbose=True,\n                                   verbose_feature_names_out=False))],\n         verbose=True)</pre><b>In a Jupyter environment, please rerun this cell to show the HTML representation or trust the notebook. <br />On GitHub, the HTML representation is unable to render, please try loading this page with nbviewer.org.</b></div><div class=\"sk-container\" hidden><div class=\"sk-item sk-dashed-wrapped\"><div class=\"sk-label-container\"><div class=\"sk-label sk-toggleable\"><input class=\"sk-toggleable__control sk-hidden--visually\" id=\"sk-estimator-id-1\" type=\"checkbox\" ><label for=\"sk-estimator-id-1\" class=\"sk-toggleable__label sk-toggleable__label-arrow\">Pipeline</label><div class=\"sk-toggleable__content\"><pre>Pipeline(steps=[(&#x27;columntransformer-1&#x27;,\n                 ColumnTransformer(n_jobs=-1, remainder=&#x27;passthrough&#x27;,\n                                   transformers=[(&#x27;mode_imputer&#x27;,\n                                                  SimpleImputer(strategy=&#x27;most_frequent&#x27;),\n                                                  [&#x27;YearBuilt&#x27;, &#x27;CouncilArea&#x27;,\n                                                   &#x27;Car&#x27;]),\n                                                 (&#x27;mean_imputer&#x27;,\n                                                  SimpleImputer(),\n                                                  [&#x27;BuildingArea&#x27;])],\n                                   verbose=True,\n                                   verbose_feature_names_out=False)),\n                (&#x27;columntransformer-2&#x27;,\n                 ColumnTransformer(n_jobs=-1, remai...\n                                   transformers=[(&#x27;target_encoder&#x27;,\n                                                  TargetEncoder(random_state=0,\n                                                                target_type=&#x27;continuous&#x27;),\n                                                  [&#x27;SellerG&#x27;, &#x27;Postcode&#x27;,\n                                                   &#x27;Regionname&#x27;, &#x27;CouncilArea&#x27;,\n                                                   &#x27;Postcode&#x27;, &#x27;Suburb&#x27;]),\n                                                 (&#x27;one_hot_encoder&#x27;,\n                                                  OneHotEncoder(sparse_output=False),\n                                                  [&#x27;Type&#x27;, &#x27;Method&#x27;]),\n                                                 (&#x27;drop&#x27;, &#x27;drop&#x27;,\n                                                  [&#x27;Address&#x27;, &#x27;Lattitude&#x27;,\n                                                   &#x27;Longtitude&#x27;, &#x27;Date&#x27;])],\n                                   verbose=True,\n                                   verbose_feature_names_out=False))],\n         verbose=True)</pre></div></div></div><div class=\"sk-serial\"><div class=\"sk-item sk-dashed-wrapped\"><div class=\"sk-label-container\"><div class=\"sk-label sk-toggleable\"><input class=\"sk-toggleable__control sk-hidden--visually\" id=\"sk-estimator-id-2\" type=\"checkbox\" ><label for=\"sk-estimator-id-2\" class=\"sk-toggleable__label sk-toggleable__label-arrow\">columntransformer-1: ColumnTransformer</label><div class=\"sk-toggleable__content\"><pre>ColumnTransformer(n_jobs=-1, remainder=&#x27;passthrough&#x27;,\n                  transformers=[(&#x27;mode_imputer&#x27;,\n                                 SimpleImputer(strategy=&#x27;most_frequent&#x27;),\n                                 [&#x27;YearBuilt&#x27;, &#x27;CouncilArea&#x27;, &#x27;Car&#x27;]),\n                                (&#x27;mean_imputer&#x27;, SimpleImputer(),\n                                 [&#x27;BuildingArea&#x27;])],\n                  verbose=True, verbose_feature_names_out=False)</pre></div></div></div><div class=\"sk-parallel\"><div class=\"sk-parallel-item\"><div class=\"sk-item\"><div class=\"sk-label-container\"><div class=\"sk-label sk-toggleable\"><input class=\"sk-toggleable__control sk-hidden--visually\" id=\"sk-estimator-id-3\" type=\"checkbox\" ><label for=\"sk-estimator-id-3\" class=\"sk-toggleable__label sk-toggleable__label-arrow\">mode_imputer</label><div class=\"sk-toggleable__content\"><pre>[&#x27;YearBuilt&#x27;, &#x27;CouncilArea&#x27;, &#x27;Car&#x27;]</pre></div></div></div><div class=\"sk-serial\"><div class=\"sk-item\"><div class=\"sk-estimator sk-toggleable\"><input class=\"sk-toggleable__control sk-hidden--visually\" id=\"sk-estimator-id-4\" type=\"checkbox\" ><label for=\"sk-estimator-id-4\" class=\"sk-toggleable__label sk-toggleable__label-arrow\">SimpleImputer</label><div class=\"sk-toggleable__content\"><pre>SimpleImputer(strategy=&#x27;most_frequent&#x27;)</pre></div></div></div></div></div></div><div class=\"sk-parallel-item\"><div class=\"sk-item\"><div class=\"sk-label-container\"><div class=\"sk-label sk-toggleable\"><input class=\"sk-toggleable__control sk-hidden--visually\" id=\"sk-estimator-id-5\" type=\"checkbox\" ><label for=\"sk-estimator-id-5\" class=\"sk-toggleable__label sk-toggleable__label-arrow\">mean_imputer</label><div class=\"sk-toggleable__content\"><pre>[&#x27;BuildingArea&#x27;]</pre></div></div></div><div class=\"sk-serial\"><div class=\"sk-item\"><div class=\"sk-estimator sk-toggleable\"><input class=\"sk-toggleable__control sk-hidden--visually\" id=\"sk-estimator-id-6\" type=\"checkbox\" ><label for=\"sk-estimator-id-6\" class=\"sk-toggleable__label sk-toggleable__label-arrow\">SimpleImputer</label><div class=\"sk-toggleable__content\"><pre>SimpleImputer()</pre></div></div></div></div></div></div><div class=\"sk-parallel-item\"><div class=\"sk-item\"><div class=\"sk-label-container\"><div class=\"sk-label sk-toggleable\"><input class=\"sk-toggleable__control sk-hidden--visually\" id=\"sk-estimator-id-7\" type=\"checkbox\" ><label for=\"sk-estimator-id-7\" class=\"sk-toggleable__label sk-toggleable__label-arrow\">remainder</label><div class=\"sk-toggleable__content\"><pre></pre></div></div></div><div class=\"sk-serial\"><div class=\"sk-item\"><div class=\"sk-estimator sk-toggleable\"><input class=\"sk-toggleable__control sk-hidden--visually\" id=\"sk-estimator-id-8\" type=\"checkbox\" ><label for=\"sk-estimator-id-8\" class=\"sk-toggleable__label sk-toggleable__label-arrow\">passthrough</label><div class=\"sk-toggleable__content\"><pre>passthrough</pre></div></div></div></div></div></div></div></div><div class=\"sk-item sk-dashed-wrapped\"><div class=\"sk-label-container\"><div class=\"sk-label sk-toggleable\"><input class=\"sk-toggleable__control sk-hidden--visually\" id=\"sk-estimator-id-9\" type=\"checkbox\" ><label for=\"sk-estimator-id-9\" class=\"sk-toggleable__label sk-toggleable__label-arrow\">columntransformer-2: ColumnTransformer</label><div class=\"sk-toggleable__content\"><pre>ColumnTransformer(n_jobs=-1, remainder=&#x27;passthrough&#x27;,\n                  transformers=[(&#x27;target_encoder&#x27;,\n                                 TargetEncoder(random_state=0,\n                                               target_type=&#x27;continuous&#x27;),\n                                 [&#x27;SellerG&#x27;, &#x27;Postcode&#x27;, &#x27;Regionname&#x27;,\n                                  &#x27;CouncilArea&#x27;, &#x27;Postcode&#x27;, &#x27;Suburb&#x27;]),\n                                (&#x27;one_hot_encoder&#x27;,\n                                 OneHotEncoder(sparse_output=False),\n                                 [&#x27;Type&#x27;, &#x27;Method&#x27;]),\n                                (&#x27;drop&#x27;, &#x27;drop&#x27;,\n                                 [&#x27;Address&#x27;, &#x27;Lattitude&#x27;, &#x27;Longtitude&#x27;,\n                                  &#x27;Date&#x27;])],\n                  verbose=True, verbose_feature_names_out=False)</pre></div></div></div><div class=\"sk-parallel\"><div class=\"sk-parallel-item\"><div class=\"sk-item\"><div class=\"sk-label-container\"><div class=\"sk-label sk-toggleable\"><input class=\"sk-toggleable__control sk-hidden--visually\" id=\"sk-estimator-id-10\" type=\"checkbox\" ><label for=\"sk-estimator-id-10\" class=\"sk-toggleable__label sk-toggleable__label-arrow\">target_encoder</label><div class=\"sk-toggleable__content\"><pre>[&#x27;SellerG&#x27;, &#x27;Postcode&#x27;, &#x27;Regionname&#x27;, &#x27;CouncilArea&#x27;, &#x27;Postcode&#x27;, &#x27;Suburb&#x27;]</pre></div></div></div><div class=\"sk-serial\"><div class=\"sk-item\"><div class=\"sk-estimator sk-toggleable\"><input class=\"sk-toggleable__control sk-hidden--visually\" id=\"sk-estimator-id-11\" type=\"checkbox\" ><label for=\"sk-estimator-id-11\" class=\"sk-toggleable__label sk-toggleable__label-arrow\">TargetEncoder</label><div class=\"sk-toggleable__content\"><pre>TargetEncoder(random_state=0, target_type=&#x27;continuous&#x27;)</pre></div></div></div></div></div></div><div class=\"sk-parallel-item\"><div class=\"sk-item\"><div class=\"sk-label-container\"><div class=\"sk-label sk-toggleable\"><input class=\"sk-toggleable__control sk-hidden--visually\" id=\"sk-estimator-id-12\" type=\"checkbox\" ><label for=\"sk-estimator-id-12\" class=\"sk-toggleable__label sk-toggleable__label-arrow\">one_hot_encoder</label><div class=\"sk-toggleable__content\"><pre>[&#x27;Type&#x27;, &#x27;Method&#x27;]</pre></div></div></div><div class=\"sk-serial\"><div class=\"sk-item\"><div class=\"sk-estimator sk-toggleable\"><input class=\"sk-toggleable__control sk-hidden--visually\" id=\"sk-estimator-id-13\" type=\"checkbox\" ><label for=\"sk-estimator-id-13\" class=\"sk-toggleable__label sk-toggleable__label-arrow\">OneHotEncoder</label><div class=\"sk-toggleable__content\"><pre>OneHotEncoder(sparse_output=False)</pre></div></div></div></div></div></div><div class=\"sk-parallel-item\"><div class=\"sk-item\"><div class=\"sk-label-container\"><div class=\"sk-label sk-toggleable\"><input class=\"sk-toggleable__control sk-hidden--visually\" id=\"sk-estimator-id-14\" type=\"checkbox\" ><label for=\"sk-estimator-id-14\" class=\"sk-toggleable__label sk-toggleable__label-arrow\">drop</label><div class=\"sk-toggleable__content\"><pre>[&#x27;Address&#x27;, &#x27;Lattitude&#x27;, &#x27;Longtitude&#x27;, &#x27;Date&#x27;]</pre></div></div></div><div class=\"sk-serial\"><div class=\"sk-item\"><div class=\"sk-estimator sk-toggleable\"><input class=\"sk-toggleable__control sk-hidden--visually\" id=\"sk-estimator-id-15\" type=\"checkbox\" ><label for=\"sk-estimator-id-15\" class=\"sk-toggleable__label sk-toggleable__label-arrow\">drop</label><div class=\"sk-toggleable__content\"><pre>drop</pre></div></div></div></div></div></div><div class=\"sk-parallel-item\"><div class=\"sk-item\"><div class=\"sk-label-container\"><div class=\"sk-label sk-toggleable\"><input class=\"sk-toggleable__control sk-hidden--visually\" id=\"sk-estimator-id-16\" type=\"checkbox\" ><label for=\"sk-estimator-id-16\" class=\"sk-toggleable__label sk-toggleable__label-arrow\">remainder</label><div class=\"sk-toggleable__content\"><pre></pre></div></div></div><div class=\"sk-serial\"><div class=\"sk-item\"><div class=\"sk-estimator sk-toggleable\"><input class=\"sk-toggleable__control sk-hidden--visually\" id=\"sk-estimator-id-17\" type=\"checkbox\" ><label for=\"sk-estimator-id-17\" class=\"sk-toggleable__label sk-toggleable__label-arrow\">passthrough</label><div class=\"sk-toggleable__content\"><pre>passthrough</pre></div></div></div></div></div></div></div></div></div></div></div></div>"
     },
     "execution_count": 12,
     "metadata": {},
     "output_type": "execute_result"
    }
   ],
   "source": [
    "preprocessing_pipe = make_pipeline(imputer, encoder, verbose=True)\n",
    "preprocessing_pipe"
   ],
   "metadata": {
    "collapsed": false,
    "ExecuteTime": {
     "end_time": "2024-01-05T12:54:56.115641400Z",
     "start_time": "2024-01-05T12:54:55.723678500Z"
    }
   },
   "id": "51fd7376308ec67c"
  },
  {
   "cell_type": "code",
   "execution_count": 13,
   "outputs": [
    {
     "name": "stdout",
     "output_type": "stream",
     "text": [
      "[Pipeline]  (step 1 of 2) Processing columntransformer-1, total=   4.9s\n",
      "[Pipeline]  (step 2 of 2) Processing columntransformer-2, total=   3.1s\n"
     ]
    }
   ],
   "source": [
    "X_train_preprocessed = preprocessing_pipe.fit_transform(X_train, y_train)"
   ],
   "metadata": {
    "collapsed": false,
    "ExecuteTime": {
     "end_time": "2024-01-05T12:55:03.905516900Z",
     "start_time": "2024-01-05T12:54:55.801787500Z"
    }
   },
   "id": "cba20051ecf59fab"
  },
  {
   "cell_type": "markdown",
   "source": [
    "# Modelowanie"
   ],
   "metadata": {
    "collapsed": false
   },
   "id": "1ea7313d61d65591"
  },
  {
   "cell_type": "code",
   "execution_count": 22,
   "outputs": [],
   "source": [
    "knn_params = {\"n_neighbors\": [5, 25, 50],\n",
    "                \"weights\": [\"uniform\", \"distance\"],\n",
    "                \"leaf_size\": [20, 30, 50],\n",
    "                \"p\": [1, 2],\n",
    "                }\n",
    "\n",
    "random_forest_params = {\"n_estimators\": [50, 100, 200],\n",
    "                          # \"criterion\": [\"squared_error\", \"absolute_error\"],\n",
    "                          \"max_depth\": [None, 3, 4, 5],\n",
    "                          \"max_features\": [None, \"sqrt\", \"log2\"],\n",
    "                          }"
   ],
   "metadata": {
    "collapsed": false,
    "ExecuteTime": {
     "end_time": "2024-01-05T13:03:59.083079700Z",
     "start_time": "2024-01-05T13:03:59.036194Z"
    }
   },
   "id": "82bb73aa8ce0121a"
  },
  {
   "cell_type": "markdown",
   "source": [
    "Przy wyczerpującym przeszukiwania siatki parametrów w celu znalezienia najlepszej kombinacji parametrów użyjemy walidacji krzyżowej .\n",
    "\n",
    "[<img src=\"../img/grid_search_cross_validation.png\" alt=\"drawing\" width=\"400\"/>](\"../img/grid_search_cross_validation.png\")\n",
    "źródło: https://scikit-learn.org/stable/modules/cross_validation.html"
   ],
   "metadata": {
    "collapsed": false
   },
   "id": "14196c44e829d96d"
  },
  {
   "cell_type": "code",
   "execution_count": 31,
   "outputs": [],
   "source": [
    "folds = KFold(n_splits=5, shuffle=True, random_state=random_state)"
   ],
   "metadata": {
    "collapsed": false,
    "ExecuteTime": {
     "end_time": "2024-01-05T13:22:51.317562Z",
     "start_time": "2024-01-05T13:22:51.286311600Z"
    }
   },
   "id": "25c1dd6f9a985648"
  },
  {
   "cell_type": "markdown",
   "source": [
    "## Housing"
   ],
   "metadata": {
    "collapsed": false
   },
   "id": "7b955aace77295eb"
  },
  {
   "cell_type": "markdown",
   "source": [
    "### Regresja liniowa"
   ],
   "metadata": {
    "collapsed": false
   },
   "id": "d51c40d312d5a339"
  },
  {
   "cell_type": "code",
   "execution_count": 23,
   "outputs": [],
   "source": [
    "linreg = LinearRegression(n_jobs=-1)"
   ],
   "metadata": {
    "collapsed": false,
    "ExecuteTime": {
     "start_time": "2024-01-05T13:03:59.743592Z"
    }
   },
   "id": "c6a04b8a6e4c9097"
  },
  {
   "cell_type": "code",
   "execution_count": 36,
   "outputs": [
    {
     "data": {
      "text/plain": "LinearRegression(n_jobs=-1)",
      "text/html": "<style>#sk-container-id-7 {color: black;}#sk-container-id-7 pre{padding: 0;}#sk-container-id-7 div.sk-toggleable {background-color: white;}#sk-container-id-7 label.sk-toggleable__label {cursor: pointer;display: block;width: 100%;margin-bottom: 0;padding: 0.3em;box-sizing: border-box;text-align: center;}#sk-container-id-7 label.sk-toggleable__label-arrow:before {content: \"▸\";float: left;margin-right: 0.25em;color: #696969;}#sk-container-id-7 label.sk-toggleable__label-arrow:hover:before {color: black;}#sk-container-id-7 div.sk-estimator:hover label.sk-toggleable__label-arrow:before {color: black;}#sk-container-id-7 div.sk-toggleable__content {max-height: 0;max-width: 0;overflow: hidden;text-align: left;background-color: #f0f8ff;}#sk-container-id-7 div.sk-toggleable__content pre {margin: 0.2em;color: black;border-radius: 0.25em;background-color: #f0f8ff;}#sk-container-id-7 input.sk-toggleable__control:checked~div.sk-toggleable__content {max-height: 200px;max-width: 100%;overflow: auto;}#sk-container-id-7 input.sk-toggleable__control:checked~label.sk-toggleable__label-arrow:before {content: \"▾\";}#sk-container-id-7 div.sk-estimator input.sk-toggleable__control:checked~label.sk-toggleable__label {background-color: #d4ebff;}#sk-container-id-7 div.sk-label input.sk-toggleable__control:checked~label.sk-toggleable__label {background-color: #d4ebff;}#sk-container-id-7 input.sk-hidden--visually {border: 0;clip: rect(1px 1px 1px 1px);clip: rect(1px, 1px, 1px, 1px);height: 1px;margin: -1px;overflow: hidden;padding: 0;position: absolute;width: 1px;}#sk-container-id-7 div.sk-estimator {font-family: monospace;background-color: #f0f8ff;border: 1px dotted black;border-radius: 0.25em;box-sizing: border-box;margin-bottom: 0.5em;}#sk-container-id-7 div.sk-estimator:hover {background-color: #d4ebff;}#sk-container-id-7 div.sk-parallel-item::after {content: \"\";width: 100%;border-bottom: 1px solid gray;flex-grow: 1;}#sk-container-id-7 div.sk-label:hover label.sk-toggleable__label {background-color: #d4ebff;}#sk-container-id-7 div.sk-serial::before {content: \"\";position: absolute;border-left: 1px solid gray;box-sizing: border-box;top: 0;bottom: 0;left: 50%;z-index: 0;}#sk-container-id-7 div.sk-serial {display: flex;flex-direction: column;align-items: center;background-color: white;padding-right: 0.2em;padding-left: 0.2em;position: relative;}#sk-container-id-7 div.sk-item {position: relative;z-index: 1;}#sk-container-id-7 div.sk-parallel {display: flex;align-items: stretch;justify-content: center;background-color: white;position: relative;}#sk-container-id-7 div.sk-item::before, #sk-container-id-7 div.sk-parallel-item::before {content: \"\";position: absolute;border-left: 1px solid gray;box-sizing: border-box;top: 0;bottom: 0;left: 50%;z-index: -1;}#sk-container-id-7 div.sk-parallel-item {display: flex;flex-direction: column;z-index: 1;position: relative;background-color: white;}#sk-container-id-7 div.sk-parallel-item:first-child::after {align-self: flex-end;width: 50%;}#sk-container-id-7 div.sk-parallel-item:last-child::after {align-self: flex-start;width: 50%;}#sk-container-id-7 div.sk-parallel-item:only-child::after {width: 0;}#sk-container-id-7 div.sk-dashed-wrapped {border: 1px dashed gray;margin: 0 0.4em 0.5em 0.4em;box-sizing: border-box;padding-bottom: 0.4em;background-color: white;}#sk-container-id-7 div.sk-label label {font-family: monospace;font-weight: bold;display: inline-block;line-height: 1.2em;}#sk-container-id-7 div.sk-label-container {text-align: center;}#sk-container-id-7 div.sk-container {/* jupyter's `normalize.less` sets `[hidden] { display: none; }` but bootstrap.min.css set `[hidden] { display: none !important; }` so we also need the `!important` here to be able to override the default hidden behavior on the sphinx rendered scikit-learn.org. See: https://github.com/scikit-learn/scikit-learn/issues/21755 */display: inline-block !important;position: relative;}#sk-container-id-7 div.sk-text-repr-fallback {display: none;}</style><div id=\"sk-container-id-7\" class=\"sk-top-container\"><div class=\"sk-text-repr-fallback\"><pre>LinearRegression(n_jobs=-1)</pre><b>In a Jupyter environment, please rerun this cell to show the HTML representation or trust the notebook. <br />On GitHub, the HTML representation is unable to render, please try loading this page with nbviewer.org.</b></div><div class=\"sk-container\" hidden><div class=\"sk-item\"><div class=\"sk-estimator sk-toggleable\"><input class=\"sk-toggleable__control sk-hidden--visually\" id=\"sk-estimator-id-29\" type=\"checkbox\" checked><label for=\"sk-estimator-id-29\" class=\"sk-toggleable__label sk-toggleable__label-arrow\">LinearRegression</label><div class=\"sk-toggleable__content\"><pre>LinearRegression(n_jobs=-1)</pre></div></div></div></div></div>"
     },
     "execution_count": 36,
     "metadata": {},
     "output_type": "execute_result"
    }
   ],
   "source": [
    "linreg.fit(X_train_preprocessed, y_train)"
   ],
   "metadata": {
    "collapsed": false,
    "ExecuteTime": {
     "end_time": "2024-01-05T13:45:59.251027300Z",
     "start_time": "2024-01-05T13:45:59.172993700Z"
    }
   },
   "id": "1f7be9dfd1487fbe"
  },
  {
   "cell_type": "code",
   "execution_count": 49,
   "outputs": [
    {
     "data": {
      "text/plain": "0.6558481241982778"
     },
     "execution_count": 49,
     "metadata": {},
     "output_type": "execute_result"
    }
   ],
   "source": [
    "linreg.score(X_train_preprocessed, y_train)"
   ],
   "metadata": {
    "collapsed": false,
    "ExecuteTime": {
     "end_time": "2024-01-05T13:53:27.235805100Z",
     "start_time": "2024-01-05T13:53:27.173398800Z"
    }
   },
   "id": "c706d3705a556b19"
  },
  {
   "cell_type": "markdown",
   "source": [
    "### K najbliższych sąsiadów"
   ],
   "metadata": {
    "collapsed": false
   },
   "id": "3dc348791f18e1c0"
  },
  {
   "cell_type": "code",
   "execution_count": 41,
   "outputs": [],
   "source": [
    "search_knn = GridSearchCV(estimator=KNeighborsRegressor(n_jobs=-1),\n",
    "                           param_grid=knn_params,\n",
    "                           scoring=\"r2\",\n",
    "                           n_jobs=-1,\n",
    "                           refit=True,\n",
    "                           cv=folds,\n",
    "                           return_train_score=True,\n",
    "                           verbose=3,\n",
    "                           )"
   ],
   "metadata": {
    "collapsed": false,
    "ExecuteTime": {
     "end_time": "2024-01-05T13:49:17.363088500Z",
     "start_time": "2024-01-05T13:49:17.331681700Z"
    }
   },
   "id": "a08bc4986ddf4466"
  },
  {
   "cell_type": "code",
   "execution_count": 42,
   "outputs": [
    {
     "name": "stdout",
     "output_type": "stream",
     "text": [
      "Fitting 5 folds for each of 36 candidates, totalling 180 fits\n",
      "CPU times: total: 3.34 s\n",
      "Wall time: 2min 26s\n"
     ]
    },
    {
     "data": {
      "text/plain": "GridSearchCV(cv=KFold(n_splits=5, random_state=0, shuffle=True),\n             estimator=KNeighborsRegressor(n_jobs=-1), n_jobs=-1,\n             param_grid={'leaf_size': [20, 30, 50], 'n_neighbors': [5, 25, 50],\n                         'p': [1, 2], 'weights': ['uniform', 'distance']},\n             return_train_score=True, scoring='r2', verbose=3)",
      "text/html": "<style>#sk-container-id-8 {color: black;}#sk-container-id-8 pre{padding: 0;}#sk-container-id-8 div.sk-toggleable {background-color: white;}#sk-container-id-8 label.sk-toggleable__label {cursor: pointer;display: block;width: 100%;margin-bottom: 0;padding: 0.3em;box-sizing: border-box;text-align: center;}#sk-container-id-8 label.sk-toggleable__label-arrow:before {content: \"▸\";float: left;margin-right: 0.25em;color: #696969;}#sk-container-id-8 label.sk-toggleable__label-arrow:hover:before {color: black;}#sk-container-id-8 div.sk-estimator:hover label.sk-toggleable__label-arrow:before {color: black;}#sk-container-id-8 div.sk-toggleable__content {max-height: 0;max-width: 0;overflow: hidden;text-align: left;background-color: #f0f8ff;}#sk-container-id-8 div.sk-toggleable__content pre {margin: 0.2em;color: black;border-radius: 0.25em;background-color: #f0f8ff;}#sk-container-id-8 input.sk-toggleable__control:checked~div.sk-toggleable__content {max-height: 200px;max-width: 100%;overflow: auto;}#sk-container-id-8 input.sk-toggleable__control:checked~label.sk-toggleable__label-arrow:before {content: \"▾\";}#sk-container-id-8 div.sk-estimator input.sk-toggleable__control:checked~label.sk-toggleable__label {background-color: #d4ebff;}#sk-container-id-8 div.sk-label input.sk-toggleable__control:checked~label.sk-toggleable__label {background-color: #d4ebff;}#sk-container-id-8 input.sk-hidden--visually {border: 0;clip: rect(1px 1px 1px 1px);clip: rect(1px, 1px, 1px, 1px);height: 1px;margin: -1px;overflow: hidden;padding: 0;position: absolute;width: 1px;}#sk-container-id-8 div.sk-estimator {font-family: monospace;background-color: #f0f8ff;border: 1px dotted black;border-radius: 0.25em;box-sizing: border-box;margin-bottom: 0.5em;}#sk-container-id-8 div.sk-estimator:hover {background-color: #d4ebff;}#sk-container-id-8 div.sk-parallel-item::after {content: \"\";width: 100%;border-bottom: 1px solid gray;flex-grow: 1;}#sk-container-id-8 div.sk-label:hover label.sk-toggleable__label {background-color: #d4ebff;}#sk-container-id-8 div.sk-serial::before {content: \"\";position: absolute;border-left: 1px solid gray;box-sizing: border-box;top: 0;bottom: 0;left: 50%;z-index: 0;}#sk-container-id-8 div.sk-serial {display: flex;flex-direction: column;align-items: center;background-color: white;padding-right: 0.2em;padding-left: 0.2em;position: relative;}#sk-container-id-8 div.sk-item {position: relative;z-index: 1;}#sk-container-id-8 div.sk-parallel {display: flex;align-items: stretch;justify-content: center;background-color: white;position: relative;}#sk-container-id-8 div.sk-item::before, #sk-container-id-8 div.sk-parallel-item::before {content: \"\";position: absolute;border-left: 1px solid gray;box-sizing: border-box;top: 0;bottom: 0;left: 50%;z-index: -1;}#sk-container-id-8 div.sk-parallel-item {display: flex;flex-direction: column;z-index: 1;position: relative;background-color: white;}#sk-container-id-8 div.sk-parallel-item:first-child::after {align-self: flex-end;width: 50%;}#sk-container-id-8 div.sk-parallel-item:last-child::after {align-self: flex-start;width: 50%;}#sk-container-id-8 div.sk-parallel-item:only-child::after {width: 0;}#sk-container-id-8 div.sk-dashed-wrapped {border: 1px dashed gray;margin: 0 0.4em 0.5em 0.4em;box-sizing: border-box;padding-bottom: 0.4em;background-color: white;}#sk-container-id-8 div.sk-label label {font-family: monospace;font-weight: bold;display: inline-block;line-height: 1.2em;}#sk-container-id-8 div.sk-label-container {text-align: center;}#sk-container-id-8 div.sk-container {/* jupyter's `normalize.less` sets `[hidden] { display: none; }` but bootstrap.min.css set `[hidden] { display: none !important; }` so we also need the `!important` here to be able to override the default hidden behavior on the sphinx rendered scikit-learn.org. See: https://github.com/scikit-learn/scikit-learn/issues/21755 */display: inline-block !important;position: relative;}#sk-container-id-8 div.sk-text-repr-fallback {display: none;}</style><div id=\"sk-container-id-8\" class=\"sk-top-container\"><div class=\"sk-text-repr-fallback\"><pre>GridSearchCV(cv=KFold(n_splits=5, random_state=0, shuffle=True),\n             estimator=KNeighborsRegressor(n_jobs=-1), n_jobs=-1,\n             param_grid={&#x27;leaf_size&#x27;: [20, 30, 50], &#x27;n_neighbors&#x27;: [5, 25, 50],\n                         &#x27;p&#x27;: [1, 2], &#x27;weights&#x27;: [&#x27;uniform&#x27;, &#x27;distance&#x27;]},\n             return_train_score=True, scoring=&#x27;r2&#x27;, verbose=3)</pre><b>In a Jupyter environment, please rerun this cell to show the HTML representation or trust the notebook. <br />On GitHub, the HTML representation is unable to render, please try loading this page with nbviewer.org.</b></div><div class=\"sk-container\" hidden><div class=\"sk-item sk-dashed-wrapped\"><div class=\"sk-label-container\"><div class=\"sk-label sk-toggleable\"><input class=\"sk-toggleable__control sk-hidden--visually\" id=\"sk-estimator-id-30\" type=\"checkbox\" ><label for=\"sk-estimator-id-30\" class=\"sk-toggleable__label sk-toggleable__label-arrow\">GridSearchCV</label><div class=\"sk-toggleable__content\"><pre>GridSearchCV(cv=KFold(n_splits=5, random_state=0, shuffle=True),\n             estimator=KNeighborsRegressor(n_jobs=-1), n_jobs=-1,\n             param_grid={&#x27;leaf_size&#x27;: [20, 30, 50], &#x27;n_neighbors&#x27;: [5, 25, 50],\n                         &#x27;p&#x27;: [1, 2], &#x27;weights&#x27;: [&#x27;uniform&#x27;, &#x27;distance&#x27;]},\n             return_train_score=True, scoring=&#x27;r2&#x27;, verbose=3)</pre></div></div></div><div class=\"sk-parallel\"><div class=\"sk-parallel-item\"><div class=\"sk-item\"><div class=\"sk-label-container\"><div class=\"sk-label sk-toggleable\"><input class=\"sk-toggleable__control sk-hidden--visually\" id=\"sk-estimator-id-31\" type=\"checkbox\" ><label for=\"sk-estimator-id-31\" class=\"sk-toggleable__label sk-toggleable__label-arrow\">estimator: KNeighborsRegressor</label><div class=\"sk-toggleable__content\"><pre>KNeighborsRegressor(n_jobs=-1)</pre></div></div></div><div class=\"sk-serial\"><div class=\"sk-item\"><div class=\"sk-estimator sk-toggleable\"><input class=\"sk-toggleable__control sk-hidden--visually\" id=\"sk-estimator-id-32\" type=\"checkbox\" ><label for=\"sk-estimator-id-32\" class=\"sk-toggleable__label sk-toggleable__label-arrow\">KNeighborsRegressor</label><div class=\"sk-toggleable__content\"><pre>KNeighborsRegressor(n_jobs=-1)</pre></div></div></div></div></div></div></div></div></div></div>"
     },
     "execution_count": 42,
     "metadata": {},
     "output_type": "execute_result"
    }
   ],
   "source": [
    "%%time\n",
    "search_knn.fit(X_train_preprocessed, y_train)"
   ],
   "metadata": {
    "collapsed": false,
    "ExecuteTime": {
     "end_time": "2024-01-05T13:51:44.284985Z",
     "start_time": "2024-01-05T13:49:17.911712700Z"
    }
   },
   "id": "3f8d7c50789497ae"
  },
  {
   "cell_type": "code",
   "execution_count": 27,
   "outputs": [
    {
     "data": {
      "text/plain": "['../models/clf_knn_housing.joblib']"
     },
     "execution_count": 27,
     "metadata": {},
     "output_type": "execute_result"
    }
   ],
   "source": [
    "dump(search_knn, \"../models/search_knn_housing.joblib\")"
   ],
   "metadata": {
    "collapsed": false
   },
   "id": "578d6beec9027904"
  },
  {
   "cell_type": "code",
   "execution_count": 14,
   "outputs": [],
   "source": [
    "search_knn = load(\"../models/search_knn_housing.joblib\")"
   ],
   "metadata": {
    "collapsed": false
   },
   "id": "56d62ce7a68116a"
  },
  {
   "cell_type": "code",
   "execution_count": 28,
   "outputs": [
    {
     "data": {
      "text/plain": "    mean_fit_time  std_fit_time  mean_score_time  std_score_time  \\\n0        0.085004      0.009719         2.374345        0.016169   \n1        0.070268      0.021408         2.240716        0.225363   \n2        0.058005      0.008415         0.558656        0.040746   \n3        0.064276      0.010501         0.421243        0.022991   \n4        0.053596      0.008265         1.909158        0.021970   \n5        0.061882      0.010882         1.967555        0.186186   \n6        0.057075      0.008463         0.487257        0.024399   \n7        0.071238      0.016277         0.613006        0.200227   \n8        0.090839      0.033658         2.298931        0.112321   \n9        0.060838      0.010430         2.063907        0.083332   \n10       0.059374      0.018221         0.512499        0.022966   \n11       0.056249      0.012499         0.593750        0.063276   \n12       0.078126      0.019763         2.084373        0.135714   \n13       0.056250      0.007653         1.888311        0.089653   \n14       0.059376      0.006249         0.417570        0.045292   \n15       0.053123      0.007652         0.434957        0.011906   \n16       0.059374      0.011693         1.868749        0.066732   \n17       0.053130      0.007650         2.020893        0.247752   \n18       0.070354      0.018557         0.562504        0.078437   \n19       0.059374      0.011692         0.487323        0.033116   \n20       0.075533      0.011160         2.061153        0.121574   \n21       0.059376      0.006250         1.990980        0.091851   \n22       0.053125      0.007657         0.552292        0.083726   \n23       0.065622      0.011696         0.631251        0.127169   \n24       0.053125      0.007655         1.953124        0.060111   \n25       0.053849      0.008616         1.914950        0.181492   \n26       0.062499      0.009880         0.431495        0.055354   \n27       0.059374      0.011692         0.403347        0.018642   \n28       0.053127      0.007654         1.872871        0.078606   \n29       0.051449      0.005766         1.882395        0.056015   \n30       0.054975      0.007012         0.441156        0.032860   \n31       0.059910      0.003936         0.508212        0.029585   \n32       0.063912      0.002824         2.180122        0.066204   \n33       0.046876      0.000001         2.029115        0.168617   \n34       0.059375      0.011693         0.509374        0.040263   \n35       0.056251      0.007656         0.524999        0.023387   \n\n   param_leaf_size param_n_neighbors param_p param_weights  \\\n0               20                 5       1       uniform   \n1               20                 5       1      distance   \n2               20                 5       2       uniform   \n3               20                 5       2      distance   \n4               20                25       1       uniform   \n5               20                25       1      distance   \n6               20                25       2       uniform   \n7               20                25       2      distance   \n8               20                50       1       uniform   \n9               20                50       1      distance   \n10              20                50       2       uniform   \n11              20                50       2      distance   \n12              30                 5       1       uniform   \n13              30                 5       1      distance   \n14              30                 5       2       uniform   \n15              30                 5       2      distance   \n16              30                25       1       uniform   \n17              30                25       1      distance   \n18              30                25       2       uniform   \n19              30                25       2      distance   \n20              30                50       1       uniform   \n21              30                50       1      distance   \n22              30                50       2       uniform   \n23              30                50       2      distance   \n24              50                 5       1       uniform   \n25              50                 5       1      distance   \n26              50                 5       2       uniform   \n27              50                 5       2      distance   \n28              50                25       1       uniform   \n29              50                25       1      distance   \n30              50                25       2       uniform   \n31              50                25       2      distance   \n32              50                50       1       uniform   \n33              50                50       1      distance   \n34              50                50       2       uniform   \n35              50                50       2      distance   \n\n                                               params  split0_test_score  ...  \\\n0   {'leaf_size': 20, 'n_neighbors': 5, 'p': 1, 'w...           0.289085  ...   \n1   {'leaf_size': 20, 'n_neighbors': 5, 'p': 1, 'w...           0.236984  ...   \n2   {'leaf_size': 20, 'n_neighbors': 5, 'p': 2, 'w...           0.315949  ...   \n3   {'leaf_size': 20, 'n_neighbors': 5, 'p': 2, 'w...           0.239526  ...   \n4   {'leaf_size': 20, 'n_neighbors': 25, 'p': 1, '...           0.298234  ...   \n5   {'leaf_size': 20, 'n_neighbors': 25, 'p': 1, '...           0.266508  ...   \n6   {'leaf_size': 20, 'n_neighbors': 25, 'p': 2, '...           0.304057  ...   \n7   {'leaf_size': 20, 'n_neighbors': 25, 'p': 2, '...           0.277561  ...   \n8   {'leaf_size': 20, 'n_neighbors': 50, 'p': 1, '...           0.308106  ...   \n9   {'leaf_size': 20, 'n_neighbors': 50, 'p': 1, '...           0.281267  ...   \n10  {'leaf_size': 20, 'n_neighbors': 50, 'p': 2, '...           0.300582  ...   \n11  {'leaf_size': 20, 'n_neighbors': 50, 'p': 2, '...           0.289257  ...   \n12  {'leaf_size': 30, 'n_neighbors': 5, 'p': 1, 'w...           0.289085  ...   \n13  {'leaf_size': 30, 'n_neighbors': 5, 'p': 1, 'w...           0.236984  ...   \n14  {'leaf_size': 30, 'n_neighbors': 5, 'p': 2, 'w...           0.315949  ...   \n15  {'leaf_size': 30, 'n_neighbors': 5, 'p': 2, 'w...           0.239526  ...   \n16  {'leaf_size': 30, 'n_neighbors': 25, 'p': 1, '...           0.298234  ...   \n17  {'leaf_size': 30, 'n_neighbors': 25, 'p': 1, '...           0.266508  ...   \n18  {'leaf_size': 30, 'n_neighbors': 25, 'p': 2, '...           0.304057  ...   \n19  {'leaf_size': 30, 'n_neighbors': 25, 'p': 2, '...           0.277561  ...   \n20  {'leaf_size': 30, 'n_neighbors': 50, 'p': 1, '...           0.308106  ...   \n21  {'leaf_size': 30, 'n_neighbors': 50, 'p': 1, '...           0.281267  ...   \n22  {'leaf_size': 30, 'n_neighbors': 50, 'p': 2, '...           0.300582  ...   \n23  {'leaf_size': 30, 'n_neighbors': 50, 'p': 2, '...           0.289257  ...   \n24  {'leaf_size': 50, 'n_neighbors': 5, 'p': 1, 'w...           0.289085  ...   \n25  {'leaf_size': 50, 'n_neighbors': 5, 'p': 1, 'w...           0.236984  ...   \n26  {'leaf_size': 50, 'n_neighbors': 5, 'p': 2, 'w...           0.315949  ...   \n27  {'leaf_size': 50, 'n_neighbors': 5, 'p': 2, 'w...           0.239526  ...   \n28  {'leaf_size': 50, 'n_neighbors': 25, 'p': 1, '...           0.298234  ...   \n29  {'leaf_size': 50, 'n_neighbors': 25, 'p': 1, '...           0.266508  ...   \n30  {'leaf_size': 50, 'n_neighbors': 25, 'p': 2, '...           0.304057  ...   \n31  {'leaf_size': 50, 'n_neighbors': 25, 'p': 2, '...           0.277561  ...   \n32  {'leaf_size': 50, 'n_neighbors': 50, 'p': 1, '...           0.308106  ...   \n33  {'leaf_size': 50, 'n_neighbors': 50, 'p': 1, '...           0.281267  ...   \n34  {'leaf_size': 50, 'n_neighbors': 50, 'p': 2, '...           0.300582  ...   \n35  {'leaf_size': 50, 'n_neighbors': 50, 'p': 2, '...           0.289257  ...   \n\n    mean_test_score  std_test_score  rank_test_score  split0_train_score  \\\n0          0.321312        0.021226               13            0.561394   \n1          0.259464        0.017753               31            0.999966   \n2          0.318338        0.011637               16            0.555272   \n3          0.256448        0.013556               34            0.999965   \n4          0.345487        0.030330                4            0.409644   \n5          0.295994        0.016046               28            0.999966   \n6          0.341642        0.025621                7            0.404395   \n7          0.300997        0.012957               25            0.999965   \n8          0.346737        0.028913                1            0.383975   \n9          0.308720        0.015583               22            0.999966   \n10         0.341286        0.029566               10            0.380038   \n11         0.315344        0.015397               19            0.999965   \n12         0.321312        0.021226               13            0.561394   \n13         0.259464        0.017753               31            0.999966   \n14         0.318338        0.011637               16            0.555272   \n15         0.256448        0.013556               34            0.999965   \n16         0.345487        0.030330                4            0.409644   \n17         0.295994        0.016046               28            0.999966   \n18         0.341642        0.025621                7            0.404395   \n19         0.300997        0.012957               25            0.999965   \n20         0.346737        0.028913                1            0.383975   \n21         0.308720        0.015583               22            0.999966   \n22         0.341286        0.029566               10            0.380038   \n23         0.315344        0.015397               19            0.999965   \n24         0.321312        0.021226               13            0.561394   \n25         0.259464        0.017753               31            0.999966   \n26         0.318338        0.011637               16            0.555272   \n27         0.256448        0.013556               34            0.999965   \n28         0.345487        0.030330                4            0.409644   \n29         0.295994        0.016046               28            0.999966   \n30         0.341642        0.025621                7            0.404395   \n31         0.300997        0.012957               25            0.999965   \n32         0.346737        0.028913                1            0.383975   \n33         0.308720        0.015583               22            0.999966   \n34         0.341286        0.029566               10            0.380038   \n35         0.315344        0.015397               19            0.999965   \n\n    split1_train_score  split2_train_score  split3_train_score  \\\n0             0.555383            0.562088            0.558338   \n1             0.999980            0.999980            0.999982   \n2             0.553946            0.552493            0.557935   \n3             0.999979            0.999979            0.999981   \n4             0.397608            0.396759            0.403235   \n5             0.999980            0.999980            0.999982   \n6             0.392287            0.393044            0.399769   \n7             0.999979            0.999979            0.999981   \n8             0.372636            0.370841            0.381838   \n9             0.999980            0.999980            0.999982   \n10            0.366505            0.364425            0.375917   \n11            0.999979            0.999979            0.999981   \n12            0.555383            0.562088            0.558338   \n13            0.999980            0.999980            0.999982   \n14            0.553946            0.552493            0.557935   \n15            0.999979            0.999979            0.999981   \n16            0.397608            0.396759            0.403235   \n17            0.999980            0.999980            0.999982   \n18            0.392287            0.393044            0.399769   \n19            0.999979            0.999979            0.999981   \n20            0.372636            0.370841            0.381838   \n21            0.999980            0.999980            0.999982   \n22            0.366505            0.364425            0.375917   \n23            0.999979            0.999979            0.999981   \n24            0.555383            0.562088            0.558338   \n25            0.999980            0.999980            0.999982   \n26            0.553946            0.552493            0.557935   \n27            0.999979            0.999979            0.999981   \n28            0.397608            0.396759            0.403235   \n29            0.999980            0.999980            0.999982   \n30            0.392287            0.393044            0.399769   \n31            0.999979            0.999979            0.999981   \n32            0.372636            0.370841            0.381838   \n33            0.999980            0.999980            0.999982   \n34            0.366505            0.364425            0.375917   \n35            0.999979            0.999979            0.999981   \n\n    split4_train_score  mean_train_score  std_train_score  \n0             0.552351          0.557911         0.003662  \n1             0.999977          0.999977         0.000006  \n2             0.548357          0.553601         0.003176  \n3             0.999976          0.999976         0.000006  \n4             0.392207          0.399891         0.006006  \n5             0.999977          0.999977         0.000006  \n6             0.386366          0.395172         0.006270  \n7             0.999976          0.999976         0.000006  \n8             0.364872          0.374832         0.007108  \n9             0.999977          0.999977         0.000006  \n10            0.358927          0.369163         0.007722  \n11            0.999976          0.999976         0.000006  \n12            0.552351          0.557911         0.003662  \n13            0.999977          0.999977         0.000006  \n14            0.548357          0.553601         0.003176  \n15            0.999976          0.999976         0.000006  \n16            0.392207          0.399891         0.006006  \n17            0.999977          0.999977         0.000006  \n18            0.386366          0.395172         0.006270  \n19            0.999976          0.999976         0.000006  \n20            0.364872          0.374832         0.007108  \n21            0.999977          0.999977         0.000006  \n22            0.358927          0.369163         0.007722  \n23            0.999976          0.999976         0.000006  \n24            0.552351          0.557911         0.003662  \n25            0.999977          0.999977         0.000006  \n26            0.548357          0.553601         0.003176  \n27            0.999976          0.999976         0.000006  \n28            0.392207          0.399891         0.006006  \n29            0.999977          0.999977         0.000006  \n30            0.386366          0.395172         0.006270  \n31            0.999976          0.999976         0.000006  \n32            0.364872          0.374832         0.007108  \n33            0.999977          0.999977         0.000006  \n34            0.358927          0.369163         0.007722  \n35            0.999976          0.999976         0.000006  \n\n[36 rows x 24 columns]",
      "text/html": "<div>\n<style scoped>\n    .dataframe tbody tr th:only-of-type {\n        vertical-align: middle;\n    }\n\n    .dataframe tbody tr th {\n        vertical-align: top;\n    }\n\n    .dataframe thead th {\n        text-align: right;\n    }\n</style>\n<table border=\"1\" class=\"dataframe\">\n  <thead>\n    <tr style=\"text-align: right;\">\n      <th></th>\n      <th>mean_fit_time</th>\n      <th>std_fit_time</th>\n      <th>mean_score_time</th>\n      <th>std_score_time</th>\n      <th>param_leaf_size</th>\n      <th>param_n_neighbors</th>\n      <th>param_p</th>\n      <th>param_weights</th>\n      <th>params</th>\n      <th>split0_test_score</th>\n      <th>...</th>\n      <th>mean_test_score</th>\n      <th>std_test_score</th>\n      <th>rank_test_score</th>\n      <th>split0_train_score</th>\n      <th>split1_train_score</th>\n      <th>split2_train_score</th>\n      <th>split3_train_score</th>\n      <th>split4_train_score</th>\n      <th>mean_train_score</th>\n      <th>std_train_score</th>\n    </tr>\n  </thead>\n  <tbody>\n    <tr>\n      <th>0</th>\n      <td>0.085004</td>\n      <td>0.009719</td>\n      <td>2.374345</td>\n      <td>0.016169</td>\n      <td>20</td>\n      <td>5</td>\n      <td>1</td>\n      <td>uniform</td>\n      <td>{'leaf_size': 20, 'n_neighbors': 5, 'p': 1, 'w...</td>\n      <td>0.289085</td>\n      <td>...</td>\n      <td>0.321312</td>\n      <td>0.021226</td>\n      <td>13</td>\n      <td>0.561394</td>\n      <td>0.555383</td>\n      <td>0.562088</td>\n      <td>0.558338</td>\n      <td>0.552351</td>\n      <td>0.557911</td>\n      <td>0.003662</td>\n    </tr>\n    <tr>\n      <th>1</th>\n      <td>0.070268</td>\n      <td>0.021408</td>\n      <td>2.240716</td>\n      <td>0.225363</td>\n      <td>20</td>\n      <td>5</td>\n      <td>1</td>\n      <td>distance</td>\n      <td>{'leaf_size': 20, 'n_neighbors': 5, 'p': 1, 'w...</td>\n      <td>0.236984</td>\n      <td>...</td>\n      <td>0.259464</td>\n      <td>0.017753</td>\n      <td>31</td>\n      <td>0.999966</td>\n      <td>0.999980</td>\n      <td>0.999980</td>\n      <td>0.999982</td>\n      <td>0.999977</td>\n      <td>0.999977</td>\n      <td>0.000006</td>\n    </tr>\n    <tr>\n      <th>2</th>\n      <td>0.058005</td>\n      <td>0.008415</td>\n      <td>0.558656</td>\n      <td>0.040746</td>\n      <td>20</td>\n      <td>5</td>\n      <td>2</td>\n      <td>uniform</td>\n      <td>{'leaf_size': 20, 'n_neighbors': 5, 'p': 2, 'w...</td>\n      <td>0.315949</td>\n      <td>...</td>\n      <td>0.318338</td>\n      <td>0.011637</td>\n      <td>16</td>\n      <td>0.555272</td>\n      <td>0.553946</td>\n      <td>0.552493</td>\n      <td>0.557935</td>\n      <td>0.548357</td>\n      <td>0.553601</td>\n      <td>0.003176</td>\n    </tr>\n    <tr>\n      <th>3</th>\n      <td>0.064276</td>\n      <td>0.010501</td>\n      <td>0.421243</td>\n      <td>0.022991</td>\n      <td>20</td>\n      <td>5</td>\n      <td>2</td>\n      <td>distance</td>\n      <td>{'leaf_size': 20, 'n_neighbors': 5, 'p': 2, 'w...</td>\n      <td>0.239526</td>\n      <td>...</td>\n      <td>0.256448</td>\n      <td>0.013556</td>\n      <td>34</td>\n      <td>0.999965</td>\n      <td>0.999979</td>\n      <td>0.999979</td>\n      <td>0.999981</td>\n      <td>0.999976</td>\n      <td>0.999976</td>\n      <td>0.000006</td>\n    </tr>\n    <tr>\n      <th>4</th>\n      <td>0.053596</td>\n      <td>0.008265</td>\n      <td>1.909158</td>\n      <td>0.021970</td>\n      <td>20</td>\n      <td>25</td>\n      <td>1</td>\n      <td>uniform</td>\n      <td>{'leaf_size': 20, 'n_neighbors': 25, 'p': 1, '...</td>\n      <td>0.298234</td>\n      <td>...</td>\n      <td>0.345487</td>\n      <td>0.030330</td>\n      <td>4</td>\n      <td>0.409644</td>\n      <td>0.397608</td>\n      <td>0.396759</td>\n      <td>0.403235</td>\n      <td>0.392207</td>\n      <td>0.399891</td>\n      <td>0.006006</td>\n    </tr>\n    <tr>\n      <th>5</th>\n      <td>0.061882</td>\n      <td>0.010882</td>\n      <td>1.967555</td>\n      <td>0.186186</td>\n      <td>20</td>\n      <td>25</td>\n      <td>1</td>\n      <td>distance</td>\n      <td>{'leaf_size': 20, 'n_neighbors': 25, 'p': 1, '...</td>\n      <td>0.266508</td>\n      <td>...</td>\n      <td>0.295994</td>\n      <td>0.016046</td>\n      <td>28</td>\n      <td>0.999966</td>\n      <td>0.999980</td>\n      <td>0.999980</td>\n      <td>0.999982</td>\n      <td>0.999977</td>\n      <td>0.999977</td>\n      <td>0.000006</td>\n    </tr>\n    <tr>\n      <th>6</th>\n      <td>0.057075</td>\n      <td>0.008463</td>\n      <td>0.487257</td>\n      <td>0.024399</td>\n      <td>20</td>\n      <td>25</td>\n      <td>2</td>\n      <td>uniform</td>\n      <td>{'leaf_size': 20, 'n_neighbors': 25, 'p': 2, '...</td>\n      <td>0.304057</td>\n      <td>...</td>\n      <td>0.341642</td>\n      <td>0.025621</td>\n      <td>7</td>\n      <td>0.404395</td>\n      <td>0.392287</td>\n      <td>0.393044</td>\n      <td>0.399769</td>\n      <td>0.386366</td>\n      <td>0.395172</td>\n      <td>0.006270</td>\n    </tr>\n    <tr>\n      <th>7</th>\n      <td>0.071238</td>\n      <td>0.016277</td>\n      <td>0.613006</td>\n      <td>0.200227</td>\n      <td>20</td>\n      <td>25</td>\n      <td>2</td>\n      <td>distance</td>\n      <td>{'leaf_size': 20, 'n_neighbors': 25, 'p': 2, '...</td>\n      <td>0.277561</td>\n      <td>...</td>\n      <td>0.300997</td>\n      <td>0.012957</td>\n      <td>25</td>\n      <td>0.999965</td>\n      <td>0.999979</td>\n      <td>0.999979</td>\n      <td>0.999981</td>\n      <td>0.999976</td>\n      <td>0.999976</td>\n      <td>0.000006</td>\n    </tr>\n    <tr>\n      <th>8</th>\n      <td>0.090839</td>\n      <td>0.033658</td>\n      <td>2.298931</td>\n      <td>0.112321</td>\n      <td>20</td>\n      <td>50</td>\n      <td>1</td>\n      <td>uniform</td>\n      <td>{'leaf_size': 20, 'n_neighbors': 50, 'p': 1, '...</td>\n      <td>0.308106</td>\n      <td>...</td>\n      <td>0.346737</td>\n      <td>0.028913</td>\n      <td>1</td>\n      <td>0.383975</td>\n      <td>0.372636</td>\n      <td>0.370841</td>\n      <td>0.381838</td>\n      <td>0.364872</td>\n      <td>0.374832</td>\n      <td>0.007108</td>\n    </tr>\n    <tr>\n      <th>9</th>\n      <td>0.060838</td>\n      <td>0.010430</td>\n      <td>2.063907</td>\n      <td>0.083332</td>\n      <td>20</td>\n      <td>50</td>\n      <td>1</td>\n      <td>distance</td>\n      <td>{'leaf_size': 20, 'n_neighbors': 50, 'p': 1, '...</td>\n      <td>0.281267</td>\n      <td>...</td>\n      <td>0.308720</td>\n      <td>0.015583</td>\n      <td>22</td>\n      <td>0.999966</td>\n      <td>0.999980</td>\n      <td>0.999980</td>\n      <td>0.999982</td>\n      <td>0.999977</td>\n      <td>0.999977</td>\n      <td>0.000006</td>\n    </tr>\n    <tr>\n      <th>10</th>\n      <td>0.059374</td>\n      <td>0.018221</td>\n      <td>0.512499</td>\n      <td>0.022966</td>\n      <td>20</td>\n      <td>50</td>\n      <td>2</td>\n      <td>uniform</td>\n      <td>{'leaf_size': 20, 'n_neighbors': 50, 'p': 2, '...</td>\n      <td>0.300582</td>\n      <td>...</td>\n      <td>0.341286</td>\n      <td>0.029566</td>\n      <td>10</td>\n      <td>0.380038</td>\n      <td>0.366505</td>\n      <td>0.364425</td>\n      <td>0.375917</td>\n      <td>0.358927</td>\n      <td>0.369163</td>\n      <td>0.007722</td>\n    </tr>\n    <tr>\n      <th>11</th>\n      <td>0.056249</td>\n      <td>0.012499</td>\n      <td>0.593750</td>\n      <td>0.063276</td>\n      <td>20</td>\n      <td>50</td>\n      <td>2</td>\n      <td>distance</td>\n      <td>{'leaf_size': 20, 'n_neighbors': 50, 'p': 2, '...</td>\n      <td>0.289257</td>\n      <td>...</td>\n      <td>0.315344</td>\n      <td>0.015397</td>\n      <td>19</td>\n      <td>0.999965</td>\n      <td>0.999979</td>\n      <td>0.999979</td>\n      <td>0.999981</td>\n      <td>0.999976</td>\n      <td>0.999976</td>\n      <td>0.000006</td>\n    </tr>\n    <tr>\n      <th>12</th>\n      <td>0.078126</td>\n      <td>0.019763</td>\n      <td>2.084373</td>\n      <td>0.135714</td>\n      <td>30</td>\n      <td>5</td>\n      <td>1</td>\n      <td>uniform</td>\n      <td>{'leaf_size': 30, 'n_neighbors': 5, 'p': 1, 'w...</td>\n      <td>0.289085</td>\n      <td>...</td>\n      <td>0.321312</td>\n      <td>0.021226</td>\n      <td>13</td>\n      <td>0.561394</td>\n      <td>0.555383</td>\n      <td>0.562088</td>\n      <td>0.558338</td>\n      <td>0.552351</td>\n      <td>0.557911</td>\n      <td>0.003662</td>\n    </tr>\n    <tr>\n      <th>13</th>\n      <td>0.056250</td>\n      <td>0.007653</td>\n      <td>1.888311</td>\n      <td>0.089653</td>\n      <td>30</td>\n      <td>5</td>\n      <td>1</td>\n      <td>distance</td>\n      <td>{'leaf_size': 30, 'n_neighbors': 5, 'p': 1, 'w...</td>\n      <td>0.236984</td>\n      <td>...</td>\n      <td>0.259464</td>\n      <td>0.017753</td>\n      <td>31</td>\n      <td>0.999966</td>\n      <td>0.999980</td>\n      <td>0.999980</td>\n      <td>0.999982</td>\n      <td>0.999977</td>\n      <td>0.999977</td>\n      <td>0.000006</td>\n    </tr>\n    <tr>\n      <th>14</th>\n      <td>0.059376</td>\n      <td>0.006249</td>\n      <td>0.417570</td>\n      <td>0.045292</td>\n      <td>30</td>\n      <td>5</td>\n      <td>2</td>\n      <td>uniform</td>\n      <td>{'leaf_size': 30, 'n_neighbors': 5, 'p': 2, 'w...</td>\n      <td>0.315949</td>\n      <td>...</td>\n      <td>0.318338</td>\n      <td>0.011637</td>\n      <td>16</td>\n      <td>0.555272</td>\n      <td>0.553946</td>\n      <td>0.552493</td>\n      <td>0.557935</td>\n      <td>0.548357</td>\n      <td>0.553601</td>\n      <td>0.003176</td>\n    </tr>\n    <tr>\n      <th>15</th>\n      <td>0.053123</td>\n      <td>0.007652</td>\n      <td>0.434957</td>\n      <td>0.011906</td>\n      <td>30</td>\n      <td>5</td>\n      <td>2</td>\n      <td>distance</td>\n      <td>{'leaf_size': 30, 'n_neighbors': 5, 'p': 2, 'w...</td>\n      <td>0.239526</td>\n      <td>...</td>\n      <td>0.256448</td>\n      <td>0.013556</td>\n      <td>34</td>\n      <td>0.999965</td>\n      <td>0.999979</td>\n      <td>0.999979</td>\n      <td>0.999981</td>\n      <td>0.999976</td>\n      <td>0.999976</td>\n      <td>0.000006</td>\n    </tr>\n    <tr>\n      <th>16</th>\n      <td>0.059374</td>\n      <td>0.011693</td>\n      <td>1.868749</td>\n      <td>0.066732</td>\n      <td>30</td>\n      <td>25</td>\n      <td>1</td>\n      <td>uniform</td>\n      <td>{'leaf_size': 30, 'n_neighbors': 25, 'p': 1, '...</td>\n      <td>0.298234</td>\n      <td>...</td>\n      <td>0.345487</td>\n      <td>0.030330</td>\n      <td>4</td>\n      <td>0.409644</td>\n      <td>0.397608</td>\n      <td>0.396759</td>\n      <td>0.403235</td>\n      <td>0.392207</td>\n      <td>0.399891</td>\n      <td>0.006006</td>\n    </tr>\n    <tr>\n      <th>17</th>\n      <td>0.053130</td>\n      <td>0.007650</td>\n      <td>2.020893</td>\n      <td>0.247752</td>\n      <td>30</td>\n      <td>25</td>\n      <td>1</td>\n      <td>distance</td>\n      <td>{'leaf_size': 30, 'n_neighbors': 25, 'p': 1, '...</td>\n      <td>0.266508</td>\n      <td>...</td>\n      <td>0.295994</td>\n      <td>0.016046</td>\n      <td>28</td>\n      <td>0.999966</td>\n      <td>0.999980</td>\n      <td>0.999980</td>\n      <td>0.999982</td>\n      <td>0.999977</td>\n      <td>0.999977</td>\n      <td>0.000006</td>\n    </tr>\n    <tr>\n      <th>18</th>\n      <td>0.070354</td>\n      <td>0.018557</td>\n      <td>0.562504</td>\n      <td>0.078437</td>\n      <td>30</td>\n      <td>25</td>\n      <td>2</td>\n      <td>uniform</td>\n      <td>{'leaf_size': 30, 'n_neighbors': 25, 'p': 2, '...</td>\n      <td>0.304057</td>\n      <td>...</td>\n      <td>0.341642</td>\n      <td>0.025621</td>\n      <td>7</td>\n      <td>0.404395</td>\n      <td>0.392287</td>\n      <td>0.393044</td>\n      <td>0.399769</td>\n      <td>0.386366</td>\n      <td>0.395172</td>\n      <td>0.006270</td>\n    </tr>\n    <tr>\n      <th>19</th>\n      <td>0.059374</td>\n      <td>0.011692</td>\n      <td>0.487323</td>\n      <td>0.033116</td>\n      <td>30</td>\n      <td>25</td>\n      <td>2</td>\n      <td>distance</td>\n      <td>{'leaf_size': 30, 'n_neighbors': 25, 'p': 2, '...</td>\n      <td>0.277561</td>\n      <td>...</td>\n      <td>0.300997</td>\n      <td>0.012957</td>\n      <td>25</td>\n      <td>0.999965</td>\n      <td>0.999979</td>\n      <td>0.999979</td>\n      <td>0.999981</td>\n      <td>0.999976</td>\n      <td>0.999976</td>\n      <td>0.000006</td>\n    </tr>\n    <tr>\n      <th>20</th>\n      <td>0.075533</td>\n      <td>0.011160</td>\n      <td>2.061153</td>\n      <td>0.121574</td>\n      <td>30</td>\n      <td>50</td>\n      <td>1</td>\n      <td>uniform</td>\n      <td>{'leaf_size': 30, 'n_neighbors': 50, 'p': 1, '...</td>\n      <td>0.308106</td>\n      <td>...</td>\n      <td>0.346737</td>\n      <td>0.028913</td>\n      <td>1</td>\n      <td>0.383975</td>\n      <td>0.372636</td>\n      <td>0.370841</td>\n      <td>0.381838</td>\n      <td>0.364872</td>\n      <td>0.374832</td>\n      <td>0.007108</td>\n    </tr>\n    <tr>\n      <th>21</th>\n      <td>0.059376</td>\n      <td>0.006250</td>\n      <td>1.990980</td>\n      <td>0.091851</td>\n      <td>30</td>\n      <td>50</td>\n      <td>1</td>\n      <td>distance</td>\n      <td>{'leaf_size': 30, 'n_neighbors': 50, 'p': 1, '...</td>\n      <td>0.281267</td>\n      <td>...</td>\n      <td>0.308720</td>\n      <td>0.015583</td>\n      <td>22</td>\n      <td>0.999966</td>\n      <td>0.999980</td>\n      <td>0.999980</td>\n      <td>0.999982</td>\n      <td>0.999977</td>\n      <td>0.999977</td>\n      <td>0.000006</td>\n    </tr>\n    <tr>\n      <th>22</th>\n      <td>0.053125</td>\n      <td>0.007657</td>\n      <td>0.552292</td>\n      <td>0.083726</td>\n      <td>30</td>\n      <td>50</td>\n      <td>2</td>\n      <td>uniform</td>\n      <td>{'leaf_size': 30, 'n_neighbors': 50, 'p': 2, '...</td>\n      <td>0.300582</td>\n      <td>...</td>\n      <td>0.341286</td>\n      <td>0.029566</td>\n      <td>10</td>\n      <td>0.380038</td>\n      <td>0.366505</td>\n      <td>0.364425</td>\n      <td>0.375917</td>\n      <td>0.358927</td>\n      <td>0.369163</td>\n      <td>0.007722</td>\n    </tr>\n    <tr>\n      <th>23</th>\n      <td>0.065622</td>\n      <td>0.011696</td>\n      <td>0.631251</td>\n      <td>0.127169</td>\n      <td>30</td>\n      <td>50</td>\n      <td>2</td>\n      <td>distance</td>\n      <td>{'leaf_size': 30, 'n_neighbors': 50, 'p': 2, '...</td>\n      <td>0.289257</td>\n      <td>...</td>\n      <td>0.315344</td>\n      <td>0.015397</td>\n      <td>19</td>\n      <td>0.999965</td>\n      <td>0.999979</td>\n      <td>0.999979</td>\n      <td>0.999981</td>\n      <td>0.999976</td>\n      <td>0.999976</td>\n      <td>0.000006</td>\n    </tr>\n    <tr>\n      <th>24</th>\n      <td>0.053125</td>\n      <td>0.007655</td>\n      <td>1.953124</td>\n      <td>0.060111</td>\n      <td>50</td>\n      <td>5</td>\n      <td>1</td>\n      <td>uniform</td>\n      <td>{'leaf_size': 50, 'n_neighbors': 5, 'p': 1, 'w...</td>\n      <td>0.289085</td>\n      <td>...</td>\n      <td>0.321312</td>\n      <td>0.021226</td>\n      <td>13</td>\n      <td>0.561394</td>\n      <td>0.555383</td>\n      <td>0.562088</td>\n      <td>0.558338</td>\n      <td>0.552351</td>\n      <td>0.557911</td>\n      <td>0.003662</td>\n    </tr>\n    <tr>\n      <th>25</th>\n      <td>0.053849</td>\n      <td>0.008616</td>\n      <td>1.914950</td>\n      <td>0.181492</td>\n      <td>50</td>\n      <td>5</td>\n      <td>1</td>\n      <td>distance</td>\n      <td>{'leaf_size': 50, 'n_neighbors': 5, 'p': 1, 'w...</td>\n      <td>0.236984</td>\n      <td>...</td>\n      <td>0.259464</td>\n      <td>0.017753</td>\n      <td>31</td>\n      <td>0.999966</td>\n      <td>0.999980</td>\n      <td>0.999980</td>\n      <td>0.999982</td>\n      <td>0.999977</td>\n      <td>0.999977</td>\n      <td>0.000006</td>\n    </tr>\n    <tr>\n      <th>26</th>\n      <td>0.062499</td>\n      <td>0.009880</td>\n      <td>0.431495</td>\n      <td>0.055354</td>\n      <td>50</td>\n      <td>5</td>\n      <td>2</td>\n      <td>uniform</td>\n      <td>{'leaf_size': 50, 'n_neighbors': 5, 'p': 2, 'w...</td>\n      <td>0.315949</td>\n      <td>...</td>\n      <td>0.318338</td>\n      <td>0.011637</td>\n      <td>16</td>\n      <td>0.555272</td>\n      <td>0.553946</td>\n      <td>0.552493</td>\n      <td>0.557935</td>\n      <td>0.548357</td>\n      <td>0.553601</td>\n      <td>0.003176</td>\n    </tr>\n    <tr>\n      <th>27</th>\n      <td>0.059374</td>\n      <td>0.011692</td>\n      <td>0.403347</td>\n      <td>0.018642</td>\n      <td>50</td>\n      <td>5</td>\n      <td>2</td>\n      <td>distance</td>\n      <td>{'leaf_size': 50, 'n_neighbors': 5, 'p': 2, 'w...</td>\n      <td>0.239526</td>\n      <td>...</td>\n      <td>0.256448</td>\n      <td>0.013556</td>\n      <td>34</td>\n      <td>0.999965</td>\n      <td>0.999979</td>\n      <td>0.999979</td>\n      <td>0.999981</td>\n      <td>0.999976</td>\n      <td>0.999976</td>\n      <td>0.000006</td>\n    </tr>\n    <tr>\n      <th>28</th>\n      <td>0.053127</td>\n      <td>0.007654</td>\n      <td>1.872871</td>\n      <td>0.078606</td>\n      <td>50</td>\n      <td>25</td>\n      <td>1</td>\n      <td>uniform</td>\n      <td>{'leaf_size': 50, 'n_neighbors': 25, 'p': 1, '...</td>\n      <td>0.298234</td>\n      <td>...</td>\n      <td>0.345487</td>\n      <td>0.030330</td>\n      <td>4</td>\n      <td>0.409644</td>\n      <td>0.397608</td>\n      <td>0.396759</td>\n      <td>0.403235</td>\n      <td>0.392207</td>\n      <td>0.399891</td>\n      <td>0.006006</td>\n    </tr>\n    <tr>\n      <th>29</th>\n      <td>0.051449</td>\n      <td>0.005766</td>\n      <td>1.882395</td>\n      <td>0.056015</td>\n      <td>50</td>\n      <td>25</td>\n      <td>1</td>\n      <td>distance</td>\n      <td>{'leaf_size': 50, 'n_neighbors': 25, 'p': 1, '...</td>\n      <td>0.266508</td>\n      <td>...</td>\n      <td>0.295994</td>\n      <td>0.016046</td>\n      <td>28</td>\n      <td>0.999966</td>\n      <td>0.999980</td>\n      <td>0.999980</td>\n      <td>0.999982</td>\n      <td>0.999977</td>\n      <td>0.999977</td>\n      <td>0.000006</td>\n    </tr>\n    <tr>\n      <th>30</th>\n      <td>0.054975</td>\n      <td>0.007012</td>\n      <td>0.441156</td>\n      <td>0.032860</td>\n      <td>50</td>\n      <td>25</td>\n      <td>2</td>\n      <td>uniform</td>\n      <td>{'leaf_size': 50, 'n_neighbors': 25, 'p': 2, '...</td>\n      <td>0.304057</td>\n      <td>...</td>\n      <td>0.341642</td>\n      <td>0.025621</td>\n      <td>7</td>\n      <td>0.404395</td>\n      <td>0.392287</td>\n      <td>0.393044</td>\n      <td>0.399769</td>\n      <td>0.386366</td>\n      <td>0.395172</td>\n      <td>0.006270</td>\n    </tr>\n    <tr>\n      <th>31</th>\n      <td>0.059910</td>\n      <td>0.003936</td>\n      <td>0.508212</td>\n      <td>0.029585</td>\n      <td>50</td>\n      <td>25</td>\n      <td>2</td>\n      <td>distance</td>\n      <td>{'leaf_size': 50, 'n_neighbors': 25, 'p': 2, '...</td>\n      <td>0.277561</td>\n      <td>...</td>\n      <td>0.300997</td>\n      <td>0.012957</td>\n      <td>25</td>\n      <td>0.999965</td>\n      <td>0.999979</td>\n      <td>0.999979</td>\n      <td>0.999981</td>\n      <td>0.999976</td>\n      <td>0.999976</td>\n      <td>0.000006</td>\n    </tr>\n    <tr>\n      <th>32</th>\n      <td>0.063912</td>\n      <td>0.002824</td>\n      <td>2.180122</td>\n      <td>0.066204</td>\n      <td>50</td>\n      <td>50</td>\n      <td>1</td>\n      <td>uniform</td>\n      <td>{'leaf_size': 50, 'n_neighbors': 50, 'p': 1, '...</td>\n      <td>0.308106</td>\n      <td>...</td>\n      <td>0.346737</td>\n      <td>0.028913</td>\n      <td>1</td>\n      <td>0.383975</td>\n      <td>0.372636</td>\n      <td>0.370841</td>\n      <td>0.381838</td>\n      <td>0.364872</td>\n      <td>0.374832</td>\n      <td>0.007108</td>\n    </tr>\n    <tr>\n      <th>33</th>\n      <td>0.046876</td>\n      <td>0.000001</td>\n      <td>2.029115</td>\n      <td>0.168617</td>\n      <td>50</td>\n      <td>50</td>\n      <td>1</td>\n      <td>distance</td>\n      <td>{'leaf_size': 50, 'n_neighbors': 50, 'p': 1, '...</td>\n      <td>0.281267</td>\n      <td>...</td>\n      <td>0.308720</td>\n      <td>0.015583</td>\n      <td>22</td>\n      <td>0.999966</td>\n      <td>0.999980</td>\n      <td>0.999980</td>\n      <td>0.999982</td>\n      <td>0.999977</td>\n      <td>0.999977</td>\n      <td>0.000006</td>\n    </tr>\n    <tr>\n      <th>34</th>\n      <td>0.059375</td>\n      <td>0.011693</td>\n      <td>0.509374</td>\n      <td>0.040263</td>\n      <td>50</td>\n      <td>50</td>\n      <td>2</td>\n      <td>uniform</td>\n      <td>{'leaf_size': 50, 'n_neighbors': 50, 'p': 2, '...</td>\n      <td>0.300582</td>\n      <td>...</td>\n      <td>0.341286</td>\n      <td>0.029566</td>\n      <td>10</td>\n      <td>0.380038</td>\n      <td>0.366505</td>\n      <td>0.364425</td>\n      <td>0.375917</td>\n      <td>0.358927</td>\n      <td>0.369163</td>\n      <td>0.007722</td>\n    </tr>\n    <tr>\n      <th>35</th>\n      <td>0.056251</td>\n      <td>0.007656</td>\n      <td>0.524999</td>\n      <td>0.023387</td>\n      <td>50</td>\n      <td>50</td>\n      <td>2</td>\n      <td>distance</td>\n      <td>{'leaf_size': 50, 'n_neighbors': 50, 'p': 2, '...</td>\n      <td>0.289257</td>\n      <td>...</td>\n      <td>0.315344</td>\n      <td>0.015397</td>\n      <td>19</td>\n      <td>0.999965</td>\n      <td>0.999979</td>\n      <td>0.999979</td>\n      <td>0.999981</td>\n      <td>0.999976</td>\n      <td>0.999976</td>\n      <td>0.000006</td>\n    </tr>\n  </tbody>\n</table>\n<p>36 rows × 24 columns</p>\n</div>"
     },
     "execution_count": 28,
     "metadata": {},
     "output_type": "execute_result"
    }
   ],
   "source": [
    "pd.DataFrame(search_knn.cv_results_)"
   ],
   "metadata": {
    "collapsed": false
   },
   "id": "23e97750d349e086"
  },
  {
   "cell_type": "markdown",
   "source": [
    "### Las losowy"
   ],
   "metadata": {
    "collapsed": false
   },
   "id": "ca9e3e1568b00d3c"
  },
  {
   "cell_type": "code",
   "execution_count": 20,
   "outputs": [],
   "source": [
    "search_random_forest = GridSearchCV(estimator=RandomForestRegressor(random_state=random_state),\n",
    "                                           param_grid=random_forest_params,\n",
    "                                           scoring=\"r2\",\n",
    "                                           n_jobs=-1,\n",
    "                                           refit=True,\n",
    "                                           cv=folds,\n",
    "                                           return_train_score=True,\n",
    "                                         verbose=3,\n",
    "                                        )"
   ],
   "metadata": {
    "collapsed": false
   },
   "id": "bd3bbed65ea60a22"
  },
  {
   "cell_type": "code",
   "execution_count": 21,
   "outputs": [
    {
     "name": "stdout",
     "output_type": "stream",
     "text": [
      "Fitting 5 folds for each of 36 candidates, totalling 180 fits\n",
      "CPU times: total: 49.3 s\n",
      "Wall time: 4min 26s\n"
     ]
    },
    {
     "data": {
      "text/plain": "GridSearchCV(cv=5, estimator=RandomForestRegressor(random_state=0), n_jobs=-1,\n             param_grid={'max_depth': [None, 3, 4, 5],\n                         'max_features': [None, 'sqrt', 'log2'],\n                         'n_estimators': [50, 100, 200]},\n             return_train_score=True, scoring='r2', verbose=3)",
      "text/html": "<style>#sk-container-id-3 {color: black;}#sk-container-id-3 pre{padding: 0;}#sk-container-id-3 div.sk-toggleable {background-color: white;}#sk-container-id-3 label.sk-toggleable__label {cursor: pointer;display: block;width: 100%;margin-bottom: 0;padding: 0.3em;box-sizing: border-box;text-align: center;}#sk-container-id-3 label.sk-toggleable__label-arrow:before {content: \"▸\";float: left;margin-right: 0.25em;color: #696969;}#sk-container-id-3 label.sk-toggleable__label-arrow:hover:before {color: black;}#sk-container-id-3 div.sk-estimator:hover label.sk-toggleable__label-arrow:before {color: black;}#sk-container-id-3 div.sk-toggleable__content {max-height: 0;max-width: 0;overflow: hidden;text-align: left;background-color: #f0f8ff;}#sk-container-id-3 div.sk-toggleable__content pre {margin: 0.2em;color: black;border-radius: 0.25em;background-color: #f0f8ff;}#sk-container-id-3 input.sk-toggleable__control:checked~div.sk-toggleable__content {max-height: 200px;max-width: 100%;overflow: auto;}#sk-container-id-3 input.sk-toggleable__control:checked~label.sk-toggleable__label-arrow:before {content: \"▾\";}#sk-container-id-3 div.sk-estimator input.sk-toggleable__control:checked~label.sk-toggleable__label {background-color: #d4ebff;}#sk-container-id-3 div.sk-label input.sk-toggleable__control:checked~label.sk-toggleable__label {background-color: #d4ebff;}#sk-container-id-3 input.sk-hidden--visually {border: 0;clip: rect(1px 1px 1px 1px);clip: rect(1px, 1px, 1px, 1px);height: 1px;margin: -1px;overflow: hidden;padding: 0;position: absolute;width: 1px;}#sk-container-id-3 div.sk-estimator {font-family: monospace;background-color: #f0f8ff;border: 1px dotted black;border-radius: 0.25em;box-sizing: border-box;margin-bottom: 0.5em;}#sk-container-id-3 div.sk-estimator:hover {background-color: #d4ebff;}#sk-container-id-3 div.sk-parallel-item::after {content: \"\";width: 100%;border-bottom: 1px solid gray;flex-grow: 1;}#sk-container-id-3 div.sk-label:hover label.sk-toggleable__label {background-color: #d4ebff;}#sk-container-id-3 div.sk-serial::before {content: \"\";position: absolute;border-left: 1px solid gray;box-sizing: border-box;top: 0;bottom: 0;left: 50%;z-index: 0;}#sk-container-id-3 div.sk-serial {display: flex;flex-direction: column;align-items: center;background-color: white;padding-right: 0.2em;padding-left: 0.2em;position: relative;}#sk-container-id-3 div.sk-item {position: relative;z-index: 1;}#sk-container-id-3 div.sk-parallel {display: flex;align-items: stretch;justify-content: center;background-color: white;position: relative;}#sk-container-id-3 div.sk-item::before, #sk-container-id-3 div.sk-parallel-item::before {content: \"\";position: absolute;border-left: 1px solid gray;box-sizing: border-box;top: 0;bottom: 0;left: 50%;z-index: -1;}#sk-container-id-3 div.sk-parallel-item {display: flex;flex-direction: column;z-index: 1;position: relative;background-color: white;}#sk-container-id-3 div.sk-parallel-item:first-child::after {align-self: flex-end;width: 50%;}#sk-container-id-3 div.sk-parallel-item:last-child::after {align-self: flex-start;width: 50%;}#sk-container-id-3 div.sk-parallel-item:only-child::after {width: 0;}#sk-container-id-3 div.sk-dashed-wrapped {border: 1px dashed gray;margin: 0 0.4em 0.5em 0.4em;box-sizing: border-box;padding-bottom: 0.4em;background-color: white;}#sk-container-id-3 div.sk-label label {font-family: monospace;font-weight: bold;display: inline-block;line-height: 1.2em;}#sk-container-id-3 div.sk-label-container {text-align: center;}#sk-container-id-3 div.sk-container {/* jupyter's `normalize.less` sets `[hidden] { display: none; }` but bootstrap.min.css set `[hidden] { display: none !important; }` so we also need the `!important` here to be able to override the default hidden behavior on the sphinx rendered scikit-learn.org. See: https://github.com/scikit-learn/scikit-learn/issues/21755 */display: inline-block !important;position: relative;}#sk-container-id-3 div.sk-text-repr-fallback {display: none;}</style><div id=\"sk-container-id-3\" class=\"sk-top-container\"><div class=\"sk-text-repr-fallback\"><pre>GridSearchCV(cv=5, estimator=RandomForestRegressor(random_state=0), n_jobs=-1,\n             param_grid={&#x27;max_depth&#x27;: [None, 3, 4, 5],\n                         &#x27;max_features&#x27;: [None, &#x27;sqrt&#x27;, &#x27;log2&#x27;],\n                         &#x27;n_estimators&#x27;: [50, 100, 200]},\n             return_train_score=True, scoring=&#x27;r2&#x27;, verbose=3)</pre><b>In a Jupyter environment, please rerun this cell to show the HTML representation or trust the notebook. <br />On GitHub, the HTML representation is unable to render, please try loading this page with nbviewer.org.</b></div><div class=\"sk-container\" hidden><div class=\"sk-item sk-dashed-wrapped\"><div class=\"sk-label-container\"><div class=\"sk-label sk-toggleable\"><input class=\"sk-toggleable__control sk-hidden--visually\" id=\"sk-estimator-id-21\" type=\"checkbox\" ><label for=\"sk-estimator-id-21\" class=\"sk-toggleable__label sk-toggleable__label-arrow\">GridSearchCV</label><div class=\"sk-toggleable__content\"><pre>GridSearchCV(cv=5, estimator=RandomForestRegressor(random_state=0), n_jobs=-1,\n             param_grid={&#x27;max_depth&#x27;: [None, 3, 4, 5],\n                         &#x27;max_features&#x27;: [None, &#x27;sqrt&#x27;, &#x27;log2&#x27;],\n                         &#x27;n_estimators&#x27;: [50, 100, 200]},\n             return_train_score=True, scoring=&#x27;r2&#x27;, verbose=3)</pre></div></div></div><div class=\"sk-parallel\"><div class=\"sk-parallel-item\"><div class=\"sk-item\"><div class=\"sk-label-container\"><div class=\"sk-label sk-toggleable\"><input class=\"sk-toggleable__control sk-hidden--visually\" id=\"sk-estimator-id-22\" type=\"checkbox\" ><label for=\"sk-estimator-id-22\" class=\"sk-toggleable__label sk-toggleable__label-arrow\">estimator: RandomForestRegressor</label><div class=\"sk-toggleable__content\"><pre>RandomForestRegressor(random_state=0)</pre></div></div></div><div class=\"sk-serial\"><div class=\"sk-item\"><div class=\"sk-estimator sk-toggleable\"><input class=\"sk-toggleable__control sk-hidden--visually\" id=\"sk-estimator-id-23\" type=\"checkbox\" ><label for=\"sk-estimator-id-23\" class=\"sk-toggleable__label sk-toggleable__label-arrow\">RandomForestRegressor</label><div class=\"sk-toggleable__content\"><pre>RandomForestRegressor(random_state=0)</pre></div></div></div></div></div></div></div></div></div></div>"
     },
     "execution_count": 21,
     "metadata": {},
     "output_type": "execute_result"
    }
   ],
   "source": [
    "%%time\n",
    "search_random_forest.fit(X_train_preprocessed, y_train)"
   ],
   "metadata": {
    "collapsed": false
   },
   "id": "393b76e7eb6cfbba"
  },
  {
   "cell_type": "code",
   "execution_count": 25,
   "outputs": [
    {
     "data": {
      "text/plain": "['../models/clf_random_forest_housing.joblib']"
     },
     "execution_count": 25,
     "metadata": {},
     "output_type": "execute_result"
    }
   ],
   "source": [
    "# dump(search_random_forest, \"../models/search_random_forest.joblib\")"
   ],
   "metadata": {
    "collapsed": false
   },
   "id": "2d0df61303827e86"
  },
  {
   "cell_type": "code",
   "execution_count": 15,
   "outputs": [],
   "source": [
    "search_random_forest = load(\"../models/search_random_forest.joblib\")"
   ],
   "metadata": {
    "collapsed": false
   },
   "id": "57a04f7bd1ef8fe7"
  },
  {
   "cell_type": "code",
   "execution_count": 19,
   "outputs": [
    {
     "data": {
      "text/plain": "    mean_fit_time  std_fit_time  mean_score_time  std_score_time  \\\n0       16.458324      1.244014         0.082600    1.730455e-02   \n1       42.975403      4.175259         0.140961    1.528947e-02   \n2       99.753294      1.020142         0.290685    3.227211e-02   \n3        5.700808      0.113172         0.080409    1.577303e-02   \n4       11.245025      0.121422         0.143661    8.211669e-03   \n5       24.050381      0.532603         0.264900    9.987629e-03   \n6        6.049705      0.143496         0.085884    5.523919e-03   \n7       11.571395      0.157325         0.134375    7.654013e-03   \n8       22.422577      0.182216         0.281250    1.711650e-02   \n9        2.120406      0.144851         0.031251    4.264961e-07   \n10       4.088053      0.040264         0.043401    1.020731e-03   \n11       8.133077      0.221252         0.084377    1.250026e-02   \n12       0.574999      0.011693         0.037500    7.654441e-03   \n13       1.131250      0.027244         0.046875    9.881665e-03   \n14       2.231249      0.025000         0.084375    7.653818e-03   \n15       0.562499      0.009883         0.028125    6.249762e-03   \n16       1.106250      0.011692         0.043749    6.250095e-03   \n17       2.215625      0.031868         0.081249    6.250692e-03   \n18       2.861660      0.032278         0.034809    7.285375e-03   \n19       6.154136      0.442901         0.067801    2.170150e-02   \n20      13.310424      1.091820         0.112501    3.029785e-02   \n21       1.139378      0.280006         0.050339    1.707678e-02   \n22       1.720556      0.202229         0.056250    1.250048e-02   \n23       3.227862      0.255438         0.106250    1.531011e-02   \n24       0.932630      0.064270         0.046875    9.882872e-03   \n25       1.758353      0.128653         0.062836    2.663797e-03   \n26       2.978337      0.087052         0.096875    1.169276e-02   \n27       4.014968      0.092677         0.031251    7.008046e-07   \n28       7.505809      0.043105         0.053126    7.653449e-03   \n29      15.127349      0.217868         0.096875    6.250119e-03   \n30       0.912541      0.025325         0.031251    6.641573e-07   \n31       1.765625      0.013976         0.053124    7.656018e-03   \n32       3.506204      0.063878         0.093794    8.945834e-05   \n33       0.901495      0.009286         0.034375    6.250191e-03   \n34       1.799999      0.022963         0.059376    6.250883e-03   \n35       4.023898      0.191863         0.124596    2.449226e-02   \n\n   param_max_depth param_max_features param_n_estimators  \\\n0             None               None                 50   \n1             None               None                100   \n2             None               None                200   \n3             None               sqrt                 50   \n4             None               sqrt                100   \n5             None               sqrt                200   \n6             None               log2                 50   \n7             None               log2                100   \n8             None               log2                200   \n9                3               None                 50   \n10               3               None                100   \n11               3               None                200   \n12               3               sqrt                 50   \n13               3               sqrt                100   \n14               3               sqrt                200   \n15               3               log2                 50   \n16               3               log2                100   \n17               3               log2                200   \n18               4               None                 50   \n19               4               None                100   \n20               4               None                200   \n21               4               sqrt                 50   \n22               4               sqrt                100   \n23               4               sqrt                200   \n24               4               log2                 50   \n25               4               log2                100   \n26               4               log2                200   \n27               5               None                 50   \n28               5               None                100   \n29               5               None                200   \n30               5               sqrt                 50   \n31               5               sqrt                100   \n32               5               sqrt                200   \n33               5               log2                 50   \n34               5               log2                100   \n35               5               log2                200   \n\n                                               params  split0_test_score  \\\n0   {'max_depth': None, 'max_features': None, 'n_e...           0.752454   \n1   {'max_depth': None, 'max_features': None, 'n_e...           0.753360   \n2   {'max_depth': None, 'max_features': None, 'n_e...           0.754286   \n3   {'max_depth': None, 'max_features': 'sqrt', 'n...           0.749087   \n4   {'max_depth': None, 'max_features': 'sqrt', 'n...           0.751377   \n5   {'max_depth': None, 'max_features': 'sqrt', 'n...           0.750490   \n6   {'max_depth': None, 'max_features': 'log2', 'n...           0.749087   \n7   {'max_depth': None, 'max_features': 'log2', 'n...           0.751377   \n8   {'max_depth': None, 'max_features': 'log2', 'n...           0.750490   \n9   {'max_depth': 3, 'max_features': None, 'n_esti...           0.542148   \n10  {'max_depth': 3, 'max_features': None, 'n_esti...           0.544149   \n11  {'max_depth': 3, 'max_features': None, 'n_esti...           0.543988   \n12  {'max_depth': 3, 'max_features': 'sqrt', 'n_es...           0.552822   \n13  {'max_depth': 3, 'max_features': 'sqrt', 'n_es...           0.559855   \n14  {'max_depth': 3, 'max_features': 'sqrt', 'n_es...           0.562815   \n15  {'max_depth': 3, 'max_features': 'log2', 'n_es...           0.552822   \n16  {'max_depth': 3, 'max_features': 'log2', 'n_es...           0.559855   \n17  {'max_depth': 3, 'max_features': 'log2', 'n_es...           0.562815   \n18  {'max_depth': 4, 'max_features': None, 'n_esti...           0.591684   \n19  {'max_depth': 4, 'max_features': None, 'n_esti...           0.594241   \n20  {'max_depth': 4, 'max_features': None, 'n_esti...           0.595652   \n21  {'max_depth': 4, 'max_features': 'sqrt', 'n_es...           0.616746   \n22  {'max_depth': 4, 'max_features': 'sqrt', 'n_es...           0.619241   \n23  {'max_depth': 4, 'max_features': 'sqrt', 'n_es...           0.619212   \n24  {'max_depth': 4, 'max_features': 'log2', 'n_es...           0.616746   \n25  {'max_depth': 4, 'max_features': 'log2', 'n_es...           0.619241   \n26  {'max_depth': 4, 'max_features': 'log2', 'n_es...           0.619212   \n27  {'max_depth': 5, 'max_features': None, 'n_esti...           0.637660   \n28  {'max_depth': 5, 'max_features': None, 'n_esti...           0.640899   \n29  {'max_depth': 5, 'max_features': None, 'n_esti...           0.642414   \n30  {'max_depth': 5, 'max_features': 'sqrt', 'n_es...           0.646926   \n31  {'max_depth': 5, 'max_features': 'sqrt', 'n_es...           0.650802   \n32  {'max_depth': 5, 'max_features': 'sqrt', 'n_es...           0.651202   \n33  {'max_depth': 5, 'max_features': 'log2', 'n_es...           0.646926   \n34  {'max_depth': 5, 'max_features': 'log2', 'n_es...           0.650802   \n35  {'max_depth': 5, 'max_features': 'log2', 'n_es...           0.651202   \n\n    split1_test_score  ...  mean_test_score  std_test_score  rank_test_score  \\\n0            0.787597  ...         0.787057        0.025964                7   \n1            0.791288  ...         0.789594        0.026321                2   \n2            0.787049  ...         0.789707        0.026127                1   \n3            0.797681  ...         0.786796        0.025488                8   \n4            0.799468  ...         0.788256        0.024313                3   \n5            0.798738  ...         0.788155        0.024813                5   \n6            0.797681  ...         0.786796        0.025488                8   \n7            0.799468  ...         0.788256        0.024313                3   \n8            0.798738  ...         0.788155        0.024813                5   \n9            0.583038  ...         0.574204        0.025723               36   \n10           0.584650  ...         0.576047        0.025738               34   \n11           0.584114  ...         0.575819        0.025597               35   \n12           0.598780  ...         0.585829        0.027701               32   \n13           0.603078  ...         0.591726        0.026868               30   \n14           0.607653  ...         0.594429        0.026877               28   \n15           0.598780  ...         0.585829        0.027701               32   \n16           0.603078  ...         0.591726        0.026868               30   \n17           0.607653  ...         0.594429        0.026877               28   \n18           0.639528  ...         0.629218        0.028373               27   \n19           0.643909  ...         0.631286        0.027561               26   \n20           0.643739  ...         0.631644        0.027395               25   \n21           0.660939  ...         0.651180        0.027981               23   \n22           0.663415  ...         0.651792        0.026589               19   \n23           0.663837  ...         0.651291        0.026876               21   \n24           0.660939  ...         0.651180        0.027981               23   \n25           0.663415  ...         0.651792        0.026589               19   \n26           0.663837  ...         0.651291        0.026876               21   \n27           0.683373  ...         0.674357        0.028758               18   \n28           0.685340  ...         0.676123        0.027727               17   \n29           0.685384  ...         0.676139        0.027387               16   \n30           0.691113  ...         0.682936        0.028050               14   \n31           0.695261  ...         0.685256        0.028041               10   \n32           0.694558  ...         0.685211        0.027764               12   \n33           0.691113  ...         0.682936        0.028050               14   \n34           0.695261  ...         0.685256        0.028041               10   \n35           0.694558  ...         0.685211        0.027764               12   \n\n    split0_train_score  split1_train_score  split2_train_score  \\\n0             0.971344            0.970206            0.969059   \n1             0.972822            0.971256            0.969773   \n2             0.973392            0.971996            0.970633   \n3             0.970633            0.969018            0.968340   \n4             0.972216            0.970264            0.969218   \n5             0.972699            0.971374            0.970069   \n6             0.970633            0.969018            0.968340   \n7             0.972216            0.970264            0.969218   \n8             0.972699            0.971374            0.970069   \n9             0.588992            0.570127            0.581009   \n10            0.588937            0.573280            0.582102   \n11            0.588259            0.572710            0.582839   \n12            0.598605            0.587049            0.587750   \n13            0.604366            0.591167            0.592541   \n14            0.607566            0.595537            0.596177   \n15            0.598605            0.587049            0.587750   \n16            0.604366            0.591167            0.592541   \n17            0.607566            0.595537            0.596177   \n18            0.657056            0.636741            0.647377   \n19            0.657822            0.640404            0.647184   \n20            0.658576            0.640521            0.647419   \n21            0.669046            0.659228            0.657446   \n22            0.671013            0.658790            0.657254   \n23            0.671453            0.659055            0.657179   \n24            0.669046            0.659228            0.657446   \n25            0.671013            0.658790            0.657254   \n26            0.671453            0.659055            0.657179   \n27            0.717901            0.701640            0.706692   \n28            0.719357            0.704069            0.706490   \n29            0.720090            0.703692            0.706303   \n30            0.713014            0.695571            0.699243   \n31            0.713671            0.699567            0.700274   \n32            0.715595            0.700600            0.700390   \n33            0.713014            0.695571            0.699243   \n34            0.713671            0.699567            0.700274   \n35            0.715595            0.700600            0.700390   \n\n    split3_train_score  split4_train_score  mean_train_score  std_train_score  \n0             0.968754            0.968599          0.969593         0.001041  \n1             0.969962            0.969923          0.970747         0.001167  \n2             0.971019            0.970892          0.971587         0.001014  \n3             0.968775            0.967570          0.968867         0.001011  \n4             0.969791            0.969107          0.970119         0.001128  \n5             0.970719            0.970362          0.971045         0.000935  \n6             0.968775            0.967570          0.968867         0.001011  \n7             0.969791            0.969107          0.970119         0.001128  \n8             0.970719            0.970362          0.971045         0.000935  \n9             0.591562            0.581516          0.582641         0.007489  \n10            0.593270            0.583418          0.584202         0.006767  \n11            0.593110            0.583357          0.584055         0.006787  \n12            0.597297            0.584188          0.590978         0.005832  \n13            0.604219            0.591142          0.596687         0.006231  \n14            0.607326            0.594046          0.600130         0.006014  \n15            0.597297            0.584188          0.590978         0.005832  \n16            0.604219            0.591142          0.596687         0.006231  \n17            0.607326            0.594046          0.600130         0.006014  \n18            0.656625            0.646326          0.648825         0.007523  \n19            0.657226            0.647654          0.650058         0.006616  \n20            0.656755            0.647724          0.650199         0.006643  \n21            0.667204            0.655322          0.661649         0.005461  \n22            0.667304            0.657034          0.662279         0.005770  \n23            0.666183            0.656140          0.662002         0.005884  \n24            0.667204            0.655322          0.661649         0.005461  \n25            0.667304            0.657034          0.662279         0.005770  \n26            0.666183            0.656140          0.662002         0.005884  \n27            0.715320            0.707175          0.709745         0.005987  \n28            0.716831            0.707839          0.710917         0.006036  \n29            0.716953            0.708311          0.711070         0.006336  \n30            0.706139            0.698237          0.702441         0.006334  \n31            0.707937            0.698918          0.704073         0.005803  \n32            0.707394            0.699804          0.704757         0.006088  \n33            0.706139            0.698237          0.702441         0.006334  \n34            0.707937            0.698918          0.704073         0.005803  \n35            0.707394            0.699804          0.704757         0.006088  \n\n[36 rows x 23 columns]",
      "text/html": "<div>\n<style scoped>\n    .dataframe tbody tr th:only-of-type {\n        vertical-align: middle;\n    }\n\n    .dataframe tbody tr th {\n        vertical-align: top;\n    }\n\n    .dataframe thead th {\n        text-align: right;\n    }\n</style>\n<table border=\"1\" class=\"dataframe\">\n  <thead>\n    <tr style=\"text-align: right;\">\n      <th></th>\n      <th>mean_fit_time</th>\n      <th>std_fit_time</th>\n      <th>mean_score_time</th>\n      <th>std_score_time</th>\n      <th>param_max_depth</th>\n      <th>param_max_features</th>\n      <th>param_n_estimators</th>\n      <th>params</th>\n      <th>split0_test_score</th>\n      <th>split1_test_score</th>\n      <th>...</th>\n      <th>mean_test_score</th>\n      <th>std_test_score</th>\n      <th>rank_test_score</th>\n      <th>split0_train_score</th>\n      <th>split1_train_score</th>\n      <th>split2_train_score</th>\n      <th>split3_train_score</th>\n      <th>split4_train_score</th>\n      <th>mean_train_score</th>\n      <th>std_train_score</th>\n    </tr>\n  </thead>\n  <tbody>\n    <tr>\n      <th>0</th>\n      <td>16.458324</td>\n      <td>1.244014</td>\n      <td>0.082600</td>\n      <td>1.730455e-02</td>\n      <td>None</td>\n      <td>None</td>\n      <td>50</td>\n      <td>{'max_depth': None, 'max_features': None, 'n_e...</td>\n      <td>0.752454</td>\n      <td>0.787597</td>\n      <td>...</td>\n      <td>0.787057</td>\n      <td>0.025964</td>\n      <td>7</td>\n      <td>0.971344</td>\n      <td>0.970206</td>\n      <td>0.969059</td>\n      <td>0.968754</td>\n      <td>0.968599</td>\n      <td>0.969593</td>\n      <td>0.001041</td>\n    </tr>\n    <tr>\n      <th>1</th>\n      <td>42.975403</td>\n      <td>4.175259</td>\n      <td>0.140961</td>\n      <td>1.528947e-02</td>\n      <td>None</td>\n      <td>None</td>\n      <td>100</td>\n      <td>{'max_depth': None, 'max_features': None, 'n_e...</td>\n      <td>0.753360</td>\n      <td>0.791288</td>\n      <td>...</td>\n      <td>0.789594</td>\n      <td>0.026321</td>\n      <td>2</td>\n      <td>0.972822</td>\n      <td>0.971256</td>\n      <td>0.969773</td>\n      <td>0.969962</td>\n      <td>0.969923</td>\n      <td>0.970747</td>\n      <td>0.001167</td>\n    </tr>\n    <tr>\n      <th>2</th>\n      <td>99.753294</td>\n      <td>1.020142</td>\n      <td>0.290685</td>\n      <td>3.227211e-02</td>\n      <td>None</td>\n      <td>None</td>\n      <td>200</td>\n      <td>{'max_depth': None, 'max_features': None, 'n_e...</td>\n      <td>0.754286</td>\n      <td>0.787049</td>\n      <td>...</td>\n      <td>0.789707</td>\n      <td>0.026127</td>\n      <td>1</td>\n      <td>0.973392</td>\n      <td>0.971996</td>\n      <td>0.970633</td>\n      <td>0.971019</td>\n      <td>0.970892</td>\n      <td>0.971587</td>\n      <td>0.001014</td>\n    </tr>\n    <tr>\n      <th>3</th>\n      <td>5.700808</td>\n      <td>0.113172</td>\n      <td>0.080409</td>\n      <td>1.577303e-02</td>\n      <td>None</td>\n      <td>sqrt</td>\n      <td>50</td>\n      <td>{'max_depth': None, 'max_features': 'sqrt', 'n...</td>\n      <td>0.749087</td>\n      <td>0.797681</td>\n      <td>...</td>\n      <td>0.786796</td>\n      <td>0.025488</td>\n      <td>8</td>\n      <td>0.970633</td>\n      <td>0.969018</td>\n      <td>0.968340</td>\n      <td>0.968775</td>\n      <td>0.967570</td>\n      <td>0.968867</td>\n      <td>0.001011</td>\n    </tr>\n    <tr>\n      <th>4</th>\n      <td>11.245025</td>\n      <td>0.121422</td>\n      <td>0.143661</td>\n      <td>8.211669e-03</td>\n      <td>None</td>\n      <td>sqrt</td>\n      <td>100</td>\n      <td>{'max_depth': None, 'max_features': 'sqrt', 'n...</td>\n      <td>0.751377</td>\n      <td>0.799468</td>\n      <td>...</td>\n      <td>0.788256</td>\n      <td>0.024313</td>\n      <td>3</td>\n      <td>0.972216</td>\n      <td>0.970264</td>\n      <td>0.969218</td>\n      <td>0.969791</td>\n      <td>0.969107</td>\n      <td>0.970119</td>\n      <td>0.001128</td>\n    </tr>\n    <tr>\n      <th>5</th>\n      <td>24.050381</td>\n      <td>0.532603</td>\n      <td>0.264900</td>\n      <td>9.987629e-03</td>\n      <td>None</td>\n      <td>sqrt</td>\n      <td>200</td>\n      <td>{'max_depth': None, 'max_features': 'sqrt', 'n...</td>\n      <td>0.750490</td>\n      <td>0.798738</td>\n      <td>...</td>\n      <td>0.788155</td>\n      <td>0.024813</td>\n      <td>5</td>\n      <td>0.972699</td>\n      <td>0.971374</td>\n      <td>0.970069</td>\n      <td>0.970719</td>\n      <td>0.970362</td>\n      <td>0.971045</td>\n      <td>0.000935</td>\n    </tr>\n    <tr>\n      <th>6</th>\n      <td>6.049705</td>\n      <td>0.143496</td>\n      <td>0.085884</td>\n      <td>5.523919e-03</td>\n      <td>None</td>\n      <td>log2</td>\n      <td>50</td>\n      <td>{'max_depth': None, 'max_features': 'log2', 'n...</td>\n      <td>0.749087</td>\n      <td>0.797681</td>\n      <td>...</td>\n      <td>0.786796</td>\n      <td>0.025488</td>\n      <td>8</td>\n      <td>0.970633</td>\n      <td>0.969018</td>\n      <td>0.968340</td>\n      <td>0.968775</td>\n      <td>0.967570</td>\n      <td>0.968867</td>\n      <td>0.001011</td>\n    </tr>\n    <tr>\n      <th>7</th>\n      <td>11.571395</td>\n      <td>0.157325</td>\n      <td>0.134375</td>\n      <td>7.654013e-03</td>\n      <td>None</td>\n      <td>log2</td>\n      <td>100</td>\n      <td>{'max_depth': None, 'max_features': 'log2', 'n...</td>\n      <td>0.751377</td>\n      <td>0.799468</td>\n      <td>...</td>\n      <td>0.788256</td>\n      <td>0.024313</td>\n      <td>3</td>\n      <td>0.972216</td>\n      <td>0.970264</td>\n      <td>0.969218</td>\n      <td>0.969791</td>\n      <td>0.969107</td>\n      <td>0.970119</td>\n      <td>0.001128</td>\n    </tr>\n    <tr>\n      <th>8</th>\n      <td>22.422577</td>\n      <td>0.182216</td>\n      <td>0.281250</td>\n      <td>1.711650e-02</td>\n      <td>None</td>\n      <td>log2</td>\n      <td>200</td>\n      <td>{'max_depth': None, 'max_features': 'log2', 'n...</td>\n      <td>0.750490</td>\n      <td>0.798738</td>\n      <td>...</td>\n      <td>0.788155</td>\n      <td>0.024813</td>\n      <td>5</td>\n      <td>0.972699</td>\n      <td>0.971374</td>\n      <td>0.970069</td>\n      <td>0.970719</td>\n      <td>0.970362</td>\n      <td>0.971045</td>\n      <td>0.000935</td>\n    </tr>\n    <tr>\n      <th>9</th>\n      <td>2.120406</td>\n      <td>0.144851</td>\n      <td>0.031251</td>\n      <td>4.264961e-07</td>\n      <td>3</td>\n      <td>None</td>\n      <td>50</td>\n      <td>{'max_depth': 3, 'max_features': None, 'n_esti...</td>\n      <td>0.542148</td>\n      <td>0.583038</td>\n      <td>...</td>\n      <td>0.574204</td>\n      <td>0.025723</td>\n      <td>36</td>\n      <td>0.588992</td>\n      <td>0.570127</td>\n      <td>0.581009</td>\n      <td>0.591562</td>\n      <td>0.581516</td>\n      <td>0.582641</td>\n      <td>0.007489</td>\n    </tr>\n    <tr>\n      <th>10</th>\n      <td>4.088053</td>\n      <td>0.040264</td>\n      <td>0.043401</td>\n      <td>1.020731e-03</td>\n      <td>3</td>\n      <td>None</td>\n      <td>100</td>\n      <td>{'max_depth': 3, 'max_features': None, 'n_esti...</td>\n      <td>0.544149</td>\n      <td>0.584650</td>\n      <td>...</td>\n      <td>0.576047</td>\n      <td>0.025738</td>\n      <td>34</td>\n      <td>0.588937</td>\n      <td>0.573280</td>\n      <td>0.582102</td>\n      <td>0.593270</td>\n      <td>0.583418</td>\n      <td>0.584202</td>\n      <td>0.006767</td>\n    </tr>\n    <tr>\n      <th>11</th>\n      <td>8.133077</td>\n      <td>0.221252</td>\n      <td>0.084377</td>\n      <td>1.250026e-02</td>\n      <td>3</td>\n      <td>None</td>\n      <td>200</td>\n      <td>{'max_depth': 3, 'max_features': None, 'n_esti...</td>\n      <td>0.543988</td>\n      <td>0.584114</td>\n      <td>...</td>\n      <td>0.575819</td>\n      <td>0.025597</td>\n      <td>35</td>\n      <td>0.588259</td>\n      <td>0.572710</td>\n      <td>0.582839</td>\n      <td>0.593110</td>\n      <td>0.583357</td>\n      <td>0.584055</td>\n      <td>0.006787</td>\n    </tr>\n    <tr>\n      <th>12</th>\n      <td>0.574999</td>\n      <td>0.011693</td>\n      <td>0.037500</td>\n      <td>7.654441e-03</td>\n      <td>3</td>\n      <td>sqrt</td>\n      <td>50</td>\n      <td>{'max_depth': 3, 'max_features': 'sqrt', 'n_es...</td>\n      <td>0.552822</td>\n      <td>0.598780</td>\n      <td>...</td>\n      <td>0.585829</td>\n      <td>0.027701</td>\n      <td>32</td>\n      <td>0.598605</td>\n      <td>0.587049</td>\n      <td>0.587750</td>\n      <td>0.597297</td>\n      <td>0.584188</td>\n      <td>0.590978</td>\n      <td>0.005832</td>\n    </tr>\n    <tr>\n      <th>13</th>\n      <td>1.131250</td>\n      <td>0.027244</td>\n      <td>0.046875</td>\n      <td>9.881665e-03</td>\n      <td>3</td>\n      <td>sqrt</td>\n      <td>100</td>\n      <td>{'max_depth': 3, 'max_features': 'sqrt', 'n_es...</td>\n      <td>0.559855</td>\n      <td>0.603078</td>\n      <td>...</td>\n      <td>0.591726</td>\n      <td>0.026868</td>\n      <td>30</td>\n      <td>0.604366</td>\n      <td>0.591167</td>\n      <td>0.592541</td>\n      <td>0.604219</td>\n      <td>0.591142</td>\n      <td>0.596687</td>\n      <td>0.006231</td>\n    </tr>\n    <tr>\n      <th>14</th>\n      <td>2.231249</td>\n      <td>0.025000</td>\n      <td>0.084375</td>\n      <td>7.653818e-03</td>\n      <td>3</td>\n      <td>sqrt</td>\n      <td>200</td>\n      <td>{'max_depth': 3, 'max_features': 'sqrt', 'n_es...</td>\n      <td>0.562815</td>\n      <td>0.607653</td>\n      <td>...</td>\n      <td>0.594429</td>\n      <td>0.026877</td>\n      <td>28</td>\n      <td>0.607566</td>\n      <td>0.595537</td>\n      <td>0.596177</td>\n      <td>0.607326</td>\n      <td>0.594046</td>\n      <td>0.600130</td>\n      <td>0.006014</td>\n    </tr>\n    <tr>\n      <th>15</th>\n      <td>0.562499</td>\n      <td>0.009883</td>\n      <td>0.028125</td>\n      <td>6.249762e-03</td>\n      <td>3</td>\n      <td>log2</td>\n      <td>50</td>\n      <td>{'max_depth': 3, 'max_features': 'log2', 'n_es...</td>\n      <td>0.552822</td>\n      <td>0.598780</td>\n      <td>...</td>\n      <td>0.585829</td>\n      <td>0.027701</td>\n      <td>32</td>\n      <td>0.598605</td>\n      <td>0.587049</td>\n      <td>0.587750</td>\n      <td>0.597297</td>\n      <td>0.584188</td>\n      <td>0.590978</td>\n      <td>0.005832</td>\n    </tr>\n    <tr>\n      <th>16</th>\n      <td>1.106250</td>\n      <td>0.011692</td>\n      <td>0.043749</td>\n      <td>6.250095e-03</td>\n      <td>3</td>\n      <td>log2</td>\n      <td>100</td>\n      <td>{'max_depth': 3, 'max_features': 'log2', 'n_es...</td>\n      <td>0.559855</td>\n      <td>0.603078</td>\n      <td>...</td>\n      <td>0.591726</td>\n      <td>0.026868</td>\n      <td>30</td>\n      <td>0.604366</td>\n      <td>0.591167</td>\n      <td>0.592541</td>\n      <td>0.604219</td>\n      <td>0.591142</td>\n      <td>0.596687</td>\n      <td>0.006231</td>\n    </tr>\n    <tr>\n      <th>17</th>\n      <td>2.215625</td>\n      <td>0.031868</td>\n      <td>0.081249</td>\n      <td>6.250692e-03</td>\n      <td>3</td>\n      <td>log2</td>\n      <td>200</td>\n      <td>{'max_depth': 3, 'max_features': 'log2', 'n_es...</td>\n      <td>0.562815</td>\n      <td>0.607653</td>\n      <td>...</td>\n      <td>0.594429</td>\n      <td>0.026877</td>\n      <td>28</td>\n      <td>0.607566</td>\n      <td>0.595537</td>\n      <td>0.596177</td>\n      <td>0.607326</td>\n      <td>0.594046</td>\n      <td>0.600130</td>\n      <td>0.006014</td>\n    </tr>\n    <tr>\n      <th>18</th>\n      <td>2.861660</td>\n      <td>0.032278</td>\n      <td>0.034809</td>\n      <td>7.285375e-03</td>\n      <td>4</td>\n      <td>None</td>\n      <td>50</td>\n      <td>{'max_depth': 4, 'max_features': None, 'n_esti...</td>\n      <td>0.591684</td>\n      <td>0.639528</td>\n      <td>...</td>\n      <td>0.629218</td>\n      <td>0.028373</td>\n      <td>27</td>\n      <td>0.657056</td>\n      <td>0.636741</td>\n      <td>0.647377</td>\n      <td>0.656625</td>\n      <td>0.646326</td>\n      <td>0.648825</td>\n      <td>0.007523</td>\n    </tr>\n    <tr>\n      <th>19</th>\n      <td>6.154136</td>\n      <td>0.442901</td>\n      <td>0.067801</td>\n      <td>2.170150e-02</td>\n      <td>4</td>\n      <td>None</td>\n      <td>100</td>\n      <td>{'max_depth': 4, 'max_features': None, 'n_esti...</td>\n      <td>0.594241</td>\n      <td>0.643909</td>\n      <td>...</td>\n      <td>0.631286</td>\n      <td>0.027561</td>\n      <td>26</td>\n      <td>0.657822</td>\n      <td>0.640404</td>\n      <td>0.647184</td>\n      <td>0.657226</td>\n      <td>0.647654</td>\n      <td>0.650058</td>\n      <td>0.006616</td>\n    </tr>\n    <tr>\n      <th>20</th>\n      <td>13.310424</td>\n      <td>1.091820</td>\n      <td>0.112501</td>\n      <td>3.029785e-02</td>\n      <td>4</td>\n      <td>None</td>\n      <td>200</td>\n      <td>{'max_depth': 4, 'max_features': None, 'n_esti...</td>\n      <td>0.595652</td>\n      <td>0.643739</td>\n      <td>...</td>\n      <td>0.631644</td>\n      <td>0.027395</td>\n      <td>25</td>\n      <td>0.658576</td>\n      <td>0.640521</td>\n      <td>0.647419</td>\n      <td>0.656755</td>\n      <td>0.647724</td>\n      <td>0.650199</td>\n      <td>0.006643</td>\n    </tr>\n    <tr>\n      <th>21</th>\n      <td>1.139378</td>\n      <td>0.280006</td>\n      <td>0.050339</td>\n      <td>1.707678e-02</td>\n      <td>4</td>\n      <td>sqrt</td>\n      <td>50</td>\n      <td>{'max_depth': 4, 'max_features': 'sqrt', 'n_es...</td>\n      <td>0.616746</td>\n      <td>0.660939</td>\n      <td>...</td>\n      <td>0.651180</td>\n      <td>0.027981</td>\n      <td>23</td>\n      <td>0.669046</td>\n      <td>0.659228</td>\n      <td>0.657446</td>\n      <td>0.667204</td>\n      <td>0.655322</td>\n      <td>0.661649</td>\n      <td>0.005461</td>\n    </tr>\n    <tr>\n      <th>22</th>\n      <td>1.720556</td>\n      <td>0.202229</td>\n      <td>0.056250</td>\n      <td>1.250048e-02</td>\n      <td>4</td>\n      <td>sqrt</td>\n      <td>100</td>\n      <td>{'max_depth': 4, 'max_features': 'sqrt', 'n_es...</td>\n      <td>0.619241</td>\n      <td>0.663415</td>\n      <td>...</td>\n      <td>0.651792</td>\n      <td>0.026589</td>\n      <td>19</td>\n      <td>0.671013</td>\n      <td>0.658790</td>\n      <td>0.657254</td>\n      <td>0.667304</td>\n      <td>0.657034</td>\n      <td>0.662279</td>\n      <td>0.005770</td>\n    </tr>\n    <tr>\n      <th>23</th>\n      <td>3.227862</td>\n      <td>0.255438</td>\n      <td>0.106250</td>\n      <td>1.531011e-02</td>\n      <td>4</td>\n      <td>sqrt</td>\n      <td>200</td>\n      <td>{'max_depth': 4, 'max_features': 'sqrt', 'n_es...</td>\n      <td>0.619212</td>\n      <td>0.663837</td>\n      <td>...</td>\n      <td>0.651291</td>\n      <td>0.026876</td>\n      <td>21</td>\n      <td>0.671453</td>\n      <td>0.659055</td>\n      <td>0.657179</td>\n      <td>0.666183</td>\n      <td>0.656140</td>\n      <td>0.662002</td>\n      <td>0.005884</td>\n    </tr>\n    <tr>\n      <th>24</th>\n      <td>0.932630</td>\n      <td>0.064270</td>\n      <td>0.046875</td>\n      <td>9.882872e-03</td>\n      <td>4</td>\n      <td>log2</td>\n      <td>50</td>\n      <td>{'max_depth': 4, 'max_features': 'log2', 'n_es...</td>\n      <td>0.616746</td>\n      <td>0.660939</td>\n      <td>...</td>\n      <td>0.651180</td>\n      <td>0.027981</td>\n      <td>23</td>\n      <td>0.669046</td>\n      <td>0.659228</td>\n      <td>0.657446</td>\n      <td>0.667204</td>\n      <td>0.655322</td>\n      <td>0.661649</td>\n      <td>0.005461</td>\n    </tr>\n    <tr>\n      <th>25</th>\n      <td>1.758353</td>\n      <td>0.128653</td>\n      <td>0.062836</td>\n      <td>2.663797e-03</td>\n      <td>4</td>\n      <td>log2</td>\n      <td>100</td>\n      <td>{'max_depth': 4, 'max_features': 'log2', 'n_es...</td>\n      <td>0.619241</td>\n      <td>0.663415</td>\n      <td>...</td>\n      <td>0.651792</td>\n      <td>0.026589</td>\n      <td>19</td>\n      <td>0.671013</td>\n      <td>0.658790</td>\n      <td>0.657254</td>\n      <td>0.667304</td>\n      <td>0.657034</td>\n      <td>0.662279</td>\n      <td>0.005770</td>\n    </tr>\n    <tr>\n      <th>26</th>\n      <td>2.978337</td>\n      <td>0.087052</td>\n      <td>0.096875</td>\n      <td>1.169276e-02</td>\n      <td>4</td>\n      <td>log2</td>\n      <td>200</td>\n      <td>{'max_depth': 4, 'max_features': 'log2', 'n_es...</td>\n      <td>0.619212</td>\n      <td>0.663837</td>\n      <td>...</td>\n      <td>0.651291</td>\n      <td>0.026876</td>\n      <td>21</td>\n      <td>0.671453</td>\n      <td>0.659055</td>\n      <td>0.657179</td>\n      <td>0.666183</td>\n      <td>0.656140</td>\n      <td>0.662002</td>\n      <td>0.005884</td>\n    </tr>\n    <tr>\n      <th>27</th>\n      <td>4.014968</td>\n      <td>0.092677</td>\n      <td>0.031251</td>\n      <td>7.008046e-07</td>\n      <td>5</td>\n      <td>None</td>\n      <td>50</td>\n      <td>{'max_depth': 5, 'max_features': None, 'n_esti...</td>\n      <td>0.637660</td>\n      <td>0.683373</td>\n      <td>...</td>\n      <td>0.674357</td>\n      <td>0.028758</td>\n      <td>18</td>\n      <td>0.717901</td>\n      <td>0.701640</td>\n      <td>0.706692</td>\n      <td>0.715320</td>\n      <td>0.707175</td>\n      <td>0.709745</td>\n      <td>0.005987</td>\n    </tr>\n    <tr>\n      <th>28</th>\n      <td>7.505809</td>\n      <td>0.043105</td>\n      <td>0.053126</td>\n      <td>7.653449e-03</td>\n      <td>5</td>\n      <td>None</td>\n      <td>100</td>\n      <td>{'max_depth': 5, 'max_features': None, 'n_esti...</td>\n      <td>0.640899</td>\n      <td>0.685340</td>\n      <td>...</td>\n      <td>0.676123</td>\n      <td>0.027727</td>\n      <td>17</td>\n      <td>0.719357</td>\n      <td>0.704069</td>\n      <td>0.706490</td>\n      <td>0.716831</td>\n      <td>0.707839</td>\n      <td>0.710917</td>\n      <td>0.006036</td>\n    </tr>\n    <tr>\n      <th>29</th>\n      <td>15.127349</td>\n      <td>0.217868</td>\n      <td>0.096875</td>\n      <td>6.250119e-03</td>\n      <td>5</td>\n      <td>None</td>\n      <td>200</td>\n      <td>{'max_depth': 5, 'max_features': None, 'n_esti...</td>\n      <td>0.642414</td>\n      <td>0.685384</td>\n      <td>...</td>\n      <td>0.676139</td>\n      <td>0.027387</td>\n      <td>16</td>\n      <td>0.720090</td>\n      <td>0.703692</td>\n      <td>0.706303</td>\n      <td>0.716953</td>\n      <td>0.708311</td>\n      <td>0.711070</td>\n      <td>0.006336</td>\n    </tr>\n    <tr>\n      <th>30</th>\n      <td>0.912541</td>\n      <td>0.025325</td>\n      <td>0.031251</td>\n      <td>6.641573e-07</td>\n      <td>5</td>\n      <td>sqrt</td>\n      <td>50</td>\n      <td>{'max_depth': 5, 'max_features': 'sqrt', 'n_es...</td>\n      <td>0.646926</td>\n      <td>0.691113</td>\n      <td>...</td>\n      <td>0.682936</td>\n      <td>0.028050</td>\n      <td>14</td>\n      <td>0.713014</td>\n      <td>0.695571</td>\n      <td>0.699243</td>\n      <td>0.706139</td>\n      <td>0.698237</td>\n      <td>0.702441</td>\n      <td>0.006334</td>\n    </tr>\n    <tr>\n      <th>31</th>\n      <td>1.765625</td>\n      <td>0.013976</td>\n      <td>0.053124</td>\n      <td>7.656018e-03</td>\n      <td>5</td>\n      <td>sqrt</td>\n      <td>100</td>\n      <td>{'max_depth': 5, 'max_features': 'sqrt', 'n_es...</td>\n      <td>0.650802</td>\n      <td>0.695261</td>\n      <td>...</td>\n      <td>0.685256</td>\n      <td>0.028041</td>\n      <td>10</td>\n      <td>0.713671</td>\n      <td>0.699567</td>\n      <td>0.700274</td>\n      <td>0.707937</td>\n      <td>0.698918</td>\n      <td>0.704073</td>\n      <td>0.005803</td>\n    </tr>\n    <tr>\n      <th>32</th>\n      <td>3.506204</td>\n      <td>0.063878</td>\n      <td>0.093794</td>\n      <td>8.945834e-05</td>\n      <td>5</td>\n      <td>sqrt</td>\n      <td>200</td>\n      <td>{'max_depth': 5, 'max_features': 'sqrt', 'n_es...</td>\n      <td>0.651202</td>\n      <td>0.694558</td>\n      <td>...</td>\n      <td>0.685211</td>\n      <td>0.027764</td>\n      <td>12</td>\n      <td>0.715595</td>\n      <td>0.700600</td>\n      <td>0.700390</td>\n      <td>0.707394</td>\n      <td>0.699804</td>\n      <td>0.704757</td>\n      <td>0.006088</td>\n    </tr>\n    <tr>\n      <th>33</th>\n      <td>0.901495</td>\n      <td>0.009286</td>\n      <td>0.034375</td>\n      <td>6.250191e-03</td>\n      <td>5</td>\n      <td>log2</td>\n      <td>50</td>\n      <td>{'max_depth': 5, 'max_features': 'log2', 'n_es...</td>\n      <td>0.646926</td>\n      <td>0.691113</td>\n      <td>...</td>\n      <td>0.682936</td>\n      <td>0.028050</td>\n      <td>14</td>\n      <td>0.713014</td>\n      <td>0.695571</td>\n      <td>0.699243</td>\n      <td>0.706139</td>\n      <td>0.698237</td>\n      <td>0.702441</td>\n      <td>0.006334</td>\n    </tr>\n    <tr>\n      <th>34</th>\n      <td>1.799999</td>\n      <td>0.022963</td>\n      <td>0.059376</td>\n      <td>6.250883e-03</td>\n      <td>5</td>\n      <td>log2</td>\n      <td>100</td>\n      <td>{'max_depth': 5, 'max_features': 'log2', 'n_es...</td>\n      <td>0.650802</td>\n      <td>0.695261</td>\n      <td>...</td>\n      <td>0.685256</td>\n      <td>0.028041</td>\n      <td>10</td>\n      <td>0.713671</td>\n      <td>0.699567</td>\n      <td>0.700274</td>\n      <td>0.707937</td>\n      <td>0.698918</td>\n      <td>0.704073</td>\n      <td>0.005803</td>\n    </tr>\n    <tr>\n      <th>35</th>\n      <td>4.023898</td>\n      <td>0.191863</td>\n      <td>0.124596</td>\n      <td>2.449226e-02</td>\n      <td>5</td>\n      <td>log2</td>\n      <td>200</td>\n      <td>{'max_depth': 5, 'max_features': 'log2', 'n_es...</td>\n      <td>0.651202</td>\n      <td>0.694558</td>\n      <td>...</td>\n      <td>0.685211</td>\n      <td>0.027764</td>\n      <td>12</td>\n      <td>0.715595</td>\n      <td>0.700600</td>\n      <td>0.700390</td>\n      <td>0.707394</td>\n      <td>0.699804</td>\n      <td>0.704757</td>\n      <td>0.006088</td>\n    </tr>\n  </tbody>\n</table>\n<p>36 rows × 23 columns</p>\n</div>"
     },
     "execution_count": 19,
     "metadata": {},
     "output_type": "execute_result"
    }
   ],
   "source": [
    "pd.DataFrame(search_random_forest.cv_results_)"
   ],
   "metadata": {
    "collapsed": false
   },
   "id": "b5bd145a7f32d4b0"
  },
  {
   "cell_type": "markdown",
   "source": [
    "## Analiza\n",
    "\n",
    "Na tym tym posiadam już dostrojone, finalne modele. Teraz zostaną one porównane wg następujących metryk:\n",
    "\n",
    "- MAE\n",
    "- MAPE\n",
    "- R2"
   ],
   "metadata": {
    "collapsed": false
   },
   "id": "470cbd9665679eec"
  },
  {
   "cell_type": "code",
   "execution_count": 4,
   "outputs": [],
   "source": [
    "# TODO: wybrać finalne metryki"
   ],
   "metadata": {
    "collapsed": false,
    "ExecuteTime": {
     "end_time": "2023-12-24T11:10:31.580884100Z",
     "start_time": "2023-12-24T11:10:31.580884100Z"
    }
   },
   "id": "5e36da8ecc33e8ef"
  },
  {
   "cell_type": "code",
   "execution_count": null,
   "outputs": [],
   "source": [],
   "metadata": {
    "collapsed": false
   },
   "id": "c332aa77179d60cf"
  }
 ],
 "metadata": {
  "kernelspec": {
   "name": "conda-env-regression-methods-comparison-py",
   "language": "python",
   "display_name": "Python [conda env:regression-methods-comparison]"
  },
  "language_info": {
   "codemirror_mode": {
    "name": "ipython",
    "version": 2
   },
   "file_extension": ".py",
   "mimetype": "text/x-python",
   "name": "python",
   "nbconvert_exporter": "python",
   "pygments_lexer": "ipython2",
   "version": "2.7.6"
  }
 },
 "nbformat": 4,
 "nbformat_minor": 5
}
