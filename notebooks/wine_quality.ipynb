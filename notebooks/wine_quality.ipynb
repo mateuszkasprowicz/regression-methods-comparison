{
 "cells": [
  {
   "cell_type": "markdown",
   "source": [
    "# Porównanie 3 metod regresji na podstawie 3 różnych zbiorów danych: Jakość wina\n",
    "\n",
    "W niniejszej pracy wykorzystuję metody:\n",
    "- K najbliższych sąsiądów (KNN)\n",
    "- Regresji liniowej\n",
    "- Lasu losowego\n",
    "\n",
    "Używam następujących zbiorów danych:\n",
    "- [Wine Quality](https://www.kaggle.com/datasets/rajyellow46/wine-quality)\n",
    "    - zmienna objaśniana: jakość wina"
   ],
   "metadata": {
    "collapsed": false
   },
   "id": "8e6a5c08fdf59c41"
  },
  {
   "cell_type": "markdown",
   "source": [
    "## Załadowanie potrzebnych bibliotek"
   ],
   "metadata": {
    "collapsed": false
   },
   "id": "cdbcf20ba0c64295"
  },
  {
   "cell_type": "code",
   "execution_count": 64,
   "outputs": [],
   "source": [
    "import random\n",
    "import os\n",
    "from joblib import dump, load\n",
    "\n",
    "import pandas as pd\n",
    "from ydata_profiling import ProfileReport\n",
    "import numpy as np\n",
    "\n",
    "import matplotlib as mpl\n",
    "import matplotlib.pyplot as plt\n",
    "import seaborn as sns\n",
    "import plotly.express as px\n",
    "\n",
    "import sklearn\n",
    "from sklearn.compose import make_column_transformer, make_column_selector\n",
    "from sklearn.impute import SimpleImputer\n",
    "from sklearn.preprocessing import TargetEncoder, StandardScaler, OneHotEncoder\n",
    "from sklearn.pipeline import make_pipeline\n",
    "\n",
    "from sklearn.linear_model import LinearRegression\n",
    "from sklearn.neighbors import KNeighborsRegressor\n",
    "from sklearn.ensemble import RandomForestRegressor\n",
    "\n",
    "from sklearn.model_selection import train_test_split, GridSearchCV, KFold\n",
    "from sklearn.metrics import r2_score, mean_absolute_error, mean_absolute_percentage_error, mean_squared_error\n",
    "\n",
    "import mlflow"
   ],
   "metadata": {
    "collapsed": false,
    "ExecuteTime": {
     "end_time": "2024-01-05T16:35:52.262489600Z",
     "start_time": "2024-01-05T16:35:33.853829700Z"
    }
   },
   "id": "392b077ab414804e"
  },
  {
   "cell_type": "markdown",
   "source": [
    "## Stałe"
   ],
   "metadata": {
    "collapsed": false
   },
   "id": "19d5f5b943907b25"
  },
  {
   "cell_type": "code",
   "execution_count": 3,
   "outputs": [],
   "source": [
    "random_state = 0\n",
    "\n",
    "np.random.seed(random_state)\n",
    "os.environ[\"PYTHONHASHSEED\"] = str(random_state)\n",
    "random.seed(random_state)"
   ],
   "metadata": {
    "collapsed": false,
    "ExecuteTime": {
     "end_time": "2024-01-05T14:28:18.622522800Z",
     "start_time": "2024-01-05T14:28:18.607026800Z"
    }
   },
   "id": "9f303b328fe998e4"
  },
  {
   "cell_type": "code",
   "execution_count": 4,
   "outputs": [],
   "source": [
    "sklearn.set_config(transform_output=\"pandas\")"
   ],
   "metadata": {
    "collapsed": false,
    "ExecuteTime": {
     "end_time": "2024-01-05T14:28:18.638147800Z",
     "start_time": "2024-01-05T14:28:18.622522800Z"
    }
   },
   "id": "b7737e9d547de906"
  },
  {
   "cell_type": "markdown",
   "source": [
    "## Wczytanie danych"
   ],
   "metadata": {
    "collapsed": false
   },
   "id": "4a253bc1def973e1"
  },
  {
   "cell_type": "code",
   "execution_count": 5,
   "outputs": [],
   "source": [
    "wine_quality = pd.read_csv(\"../data/winequalityN.csv\")"
   ],
   "metadata": {
    "collapsed": false,
    "ExecuteTime": {
     "end_time": "2024-01-05T14:28:19.351667700Z",
     "start_time": "2024-01-05T14:28:19.289163900Z"
    }
   },
   "id": "9f7ba64f0485ffb3"
  },
  {
   "cell_type": "markdown",
   "source": [
    "### Krótka analiza eksploracyjna danych"
   ],
   "metadata": {
    "collapsed": false
   },
   "id": "857fc4209438d23a"
  },
  {
   "cell_type": "code",
   "execution_count": 6,
   "outputs": [],
   "source": [
    "# ProfileReport(dataset, title=f\"Profiling Report for Wine quality dataset\").to_file(f\"../data/wine_quality_EDA.html\")"
   ],
   "metadata": {
    "collapsed": false,
    "ExecuteTime": {
     "end_time": "2024-01-05T14:28:22.042852400Z",
     "start_time": "2024-01-05T14:28:22.042852400Z"
    }
   },
   "id": "38cc88d27ad49609"
  },
  {
   "cell_type": "markdown",
   "source": [
    "## Preprocessing"
   ],
   "metadata": {
    "collapsed": false
   },
   "id": "9fc1beabba9f9ed8"
  },
  {
   "cell_type": "code",
   "execution_count": 17,
   "outputs": [
    {
     "name": "stdout",
     "output_type": "stream",
     "text": [
      "<class 'pandas.core.frame.DataFrame'>\n",
      "RangeIndex: 6497 entries, 0 to 6496\n",
      "Data columns (total 13 columns):\n",
      " #   Column                Non-Null Count  Dtype  \n",
      "---  ------                --------------  -----  \n",
      " 0   type                  6497 non-null   object \n",
      " 1   fixed acidity         6487 non-null   float64\n",
      " 2   volatile acidity      6489 non-null   float64\n",
      " 3   citric acid           6494 non-null   float64\n",
      " 4   residual sugar        6495 non-null   float64\n",
      " 5   chlorides             6495 non-null   float64\n",
      " 6   free sulfur dioxide   6497 non-null   float64\n",
      " 7   total sulfur dioxide  6497 non-null   float64\n",
      " 8   density               6497 non-null   float64\n",
      " 9   pH                    6488 non-null   float64\n",
      " 10  sulphates             6493 non-null   float64\n",
      " 11  alcohol               6497 non-null   float64\n",
      " 12  quality               6497 non-null   int64  \n",
      "dtypes: float64(11), int64(1), object(1)\n",
      "memory usage: 660.0+ KB\n"
     ]
    }
   ],
   "source": [
    "wine_quality.info()"
   ],
   "metadata": {
    "collapsed": false,
    "ExecuteTime": {
     "end_time": "2024-01-05T14:36:01.155216900Z",
     "start_time": "2024-01-05T14:36:01.108190500Z"
    }
   },
   "id": "a767c70ecd99f96d"
  },
  {
   "cell_type": "code",
   "execution_count": 7,
   "outputs": [
    {
     "data": {
      "text/plain": "       type  fixed acidity  volatile acidity  citric acid  residual sugar  \\\n5316    red           11.9              0.38         0.51             2.0   \n5210    red            9.0              0.46         0.31             2.8   \n3518  white            7.5              0.20         0.41             1.2   \n1622  white            6.5              0.44         0.49             7.7   \n2443  white            6.6              0.32         0.33             2.5   \n\n      chlorides  free sulfur dioxide  total sulfur dioxide  density    pH  \\\n5316      0.121                  7.0                  20.0  0.99960  3.24   \n5210      0.093                 19.0                  98.0  0.99815  3.32   \n3518      0.050                 26.0                 131.0  0.99133  3.19   \n1622      0.045                 16.0                 169.0  0.99570  3.11   \n2443      0.052                 40.0                 219.5  0.99316  3.15   \n\n      sulphates  alcohol  quality  \n5316       0.76     10.4        6  \n5210       0.63      9.5        6  \n3518       0.52     11.1        5  \n1622       0.37      8.7        6  \n2443       0.60     10.0        5  ",
      "text/html": "<div>\n<style scoped>\n    .dataframe tbody tr th:only-of-type {\n        vertical-align: middle;\n    }\n\n    .dataframe tbody tr th {\n        vertical-align: top;\n    }\n\n    .dataframe thead th {\n        text-align: right;\n    }\n</style>\n<table border=\"1\" class=\"dataframe\">\n  <thead>\n    <tr style=\"text-align: right;\">\n      <th></th>\n      <th>type</th>\n      <th>fixed acidity</th>\n      <th>volatile acidity</th>\n      <th>citric acid</th>\n      <th>residual sugar</th>\n      <th>chlorides</th>\n      <th>free sulfur dioxide</th>\n      <th>total sulfur dioxide</th>\n      <th>density</th>\n      <th>pH</th>\n      <th>sulphates</th>\n      <th>alcohol</th>\n      <th>quality</th>\n    </tr>\n  </thead>\n  <tbody>\n    <tr>\n      <th>5316</th>\n      <td>red</td>\n      <td>11.9</td>\n      <td>0.38</td>\n      <td>0.51</td>\n      <td>2.0</td>\n      <td>0.121</td>\n      <td>7.0</td>\n      <td>20.0</td>\n      <td>0.99960</td>\n      <td>3.24</td>\n      <td>0.76</td>\n      <td>10.4</td>\n      <td>6</td>\n    </tr>\n    <tr>\n      <th>5210</th>\n      <td>red</td>\n      <td>9.0</td>\n      <td>0.46</td>\n      <td>0.31</td>\n      <td>2.8</td>\n      <td>0.093</td>\n      <td>19.0</td>\n      <td>98.0</td>\n      <td>0.99815</td>\n      <td>3.32</td>\n      <td>0.63</td>\n      <td>9.5</td>\n      <td>6</td>\n    </tr>\n    <tr>\n      <th>3518</th>\n      <td>white</td>\n      <td>7.5</td>\n      <td>0.20</td>\n      <td>0.41</td>\n      <td>1.2</td>\n      <td>0.050</td>\n      <td>26.0</td>\n      <td>131.0</td>\n      <td>0.99133</td>\n      <td>3.19</td>\n      <td>0.52</td>\n      <td>11.1</td>\n      <td>5</td>\n    </tr>\n    <tr>\n      <th>1622</th>\n      <td>white</td>\n      <td>6.5</td>\n      <td>0.44</td>\n      <td>0.49</td>\n      <td>7.7</td>\n      <td>0.045</td>\n      <td>16.0</td>\n      <td>169.0</td>\n      <td>0.99570</td>\n      <td>3.11</td>\n      <td>0.37</td>\n      <td>8.7</td>\n      <td>6</td>\n    </tr>\n    <tr>\n      <th>2443</th>\n      <td>white</td>\n      <td>6.6</td>\n      <td>0.32</td>\n      <td>0.33</td>\n      <td>2.5</td>\n      <td>0.052</td>\n      <td>40.0</td>\n      <td>219.5</td>\n      <td>0.99316</td>\n      <td>3.15</td>\n      <td>0.60</td>\n      <td>10.0</td>\n      <td>5</td>\n    </tr>\n  </tbody>\n</table>\n</div>"
     },
     "execution_count": 7,
     "metadata": {},
     "output_type": "execute_result"
    }
   ],
   "source": [
    "wine_quality.sample(5)"
   ],
   "metadata": {
    "collapsed": false,
    "ExecuteTime": {
     "end_time": "2024-01-05T14:28:24.974565Z",
     "start_time": "2024-01-05T14:28:24.958855500Z"
    }
   },
   "id": "be877cfc2657bdf5"
  },
  {
   "cell_type": "code",
   "execution_count": 9,
   "outputs": [
    {
     "data": {
      "text/plain": "fixed acidity           10\npH                       9\nvolatile acidity         8\nsulphates                4\ncitric acid              3\nresidual sugar           2\nchlorides                2\ntype                     0\nfree sulfur dioxide      0\ntotal sulfur dioxide     0\ndensity                  0\nalcohol                  0\nquality                  0\ndtype: int64"
     },
     "execution_count": 9,
     "metadata": {},
     "output_type": "execute_result"
    }
   ],
   "source": [
    "wine_quality.isna().sum().sort_values(ascending=False)"
   ],
   "metadata": {
    "collapsed": false,
    "ExecuteTime": {
     "end_time": "2024-01-05T14:28:41.854817500Z",
     "start_time": "2024-01-05T14:28:41.760967400Z"
    }
   },
   "id": "eba2aba5ddc3d0b1"
  },
  {
   "cell_type": "code",
   "execution_count": 23,
   "outputs": [],
   "source": [
    "X = wine_quality.drop(columns=[\"quality\"])\n",
    "y = wine_quality[\"quality\"]"
   ],
   "metadata": {
    "collapsed": false,
    "ExecuteTime": {
     "end_time": "2024-01-05T14:47:14.052360300Z",
     "start_time": "2024-01-05T14:47:14.036735400Z"
    }
   },
   "id": "da88e1ca329c6c4b"
  },
  {
   "cell_type": "code",
   "execution_count": 24,
   "outputs": [],
   "source": [
    "X_train, X_test, y_train, y_test = train_test_split(X, y, test_size=0.1, shuffle=True, random_state=random_state)"
   ],
   "metadata": {
    "collapsed": false,
    "ExecuteTime": {
     "end_time": "2024-01-05T14:47:15.442332200Z",
     "start_time": "2024-01-05T14:47:15.426707500Z"
    }
   },
   "id": "a899fa9600f82735"
  },
  {
   "cell_type": "code",
   "execution_count": 28,
   "outputs": [
    {
     "data": {
      "text/plain": "Index(['type', 'fixed acidity', 'volatile acidity', 'citric acid',\n       'residual sugar', 'chlorides', 'free sulfur dioxide',\n       'total sulfur dioxide', 'density', 'pH', 'sulphates', 'alcohol'],\n      dtype='object')"
     },
     "execution_count": 28,
     "metadata": {},
     "output_type": "execute_result"
    }
   ],
   "source": [
    "X_train.columns"
   ],
   "metadata": {
    "collapsed": false,
    "ExecuteTime": {
     "end_time": "2024-01-05T14:47:39.696915900Z",
     "start_time": "2024-01-05T14:47:39.665753700Z"
    }
   },
   "id": "a817069d222f076f"
  },
  {
   "cell_type": "code",
   "execution_count": 36,
   "outputs": [],
   "source": [
    "imputer = make_column_transformer((SimpleImputer(strategy=\"median\"), make_column_selector(dtype_include=np.number)),\n",
    "                                  remainder=SimpleImputer(strategy=\"most_frequent\"), \n",
    "                                  n_jobs=-1, \n",
    "                                  verbose=True, \n",
    "                                  verbose_feature_names_out=False,\n",
    "                                  )"
   ],
   "metadata": {
    "collapsed": false,
    "ExecuteTime": {
     "end_time": "2024-01-05T14:55:21.556015100Z",
     "start_time": "2024-01-05T14:55:21.540380600Z"
    }
   },
   "id": "74088b715004378e"
  },
  {
   "cell_type": "code",
   "execution_count": 41,
   "outputs": [],
   "source": [
    "encoder = make_column_transformer((OneHotEncoder(sparse_output=False), [\"type\"]), \n",
    "                                  remainder=\"passthrough\",\n",
    "                                  n_jobs=-1, \n",
    "                                  verbose=True, \n",
    "                                  verbose_feature_names_out=False,\n",
    "                                  )\n"
   ],
   "metadata": {
    "collapsed": false,
    "ExecuteTime": {
     "end_time": "2024-01-05T14:56:46.124528500Z",
     "start_time": "2024-01-05T14:56:46.108828700Z"
    }
   },
   "id": "de55bdf94a330d5a"
  },
  {
   "cell_type": "code",
   "execution_count": 42,
   "outputs": [
    {
     "data": {
      "text/plain": "Pipeline(steps=[('columntransformer-1',\n                 ColumnTransformer(n_jobs=-1,\n                                   remainder=SimpleImputer(strategy='most_frequent'),\n                                   transformers=[('simpleimputer',\n                                                  SimpleImputer(strategy='median'),\n                                                  <sklearn.compose._column_transformer.make_column_selector object at 0x0000021C6A306170>)],\n                                   verbose=True,\n                                   verbose_feature_names_out=False)),\n                ('columntransformer-2',\n                 ColumnTransformer(n_jobs=-1, remainder='passthrough',\n                                   transformers=[('onehotencoder',\n                                                  OneHotEncoder(sparse_output=False),\n                                                  ['type'])],\n                                   verbose=True,\n                                   verbose_feature_names_out=False))],\n         verbose=True)",
      "text/html": "<style>#sk-container-id-9 {color: black;}#sk-container-id-9 pre{padding: 0;}#sk-container-id-9 div.sk-toggleable {background-color: white;}#sk-container-id-9 label.sk-toggleable__label {cursor: pointer;display: block;width: 100%;margin-bottom: 0;padding: 0.3em;box-sizing: border-box;text-align: center;}#sk-container-id-9 label.sk-toggleable__label-arrow:before {content: \"▸\";float: left;margin-right: 0.25em;color: #696969;}#sk-container-id-9 label.sk-toggleable__label-arrow:hover:before {color: black;}#sk-container-id-9 div.sk-estimator:hover label.sk-toggleable__label-arrow:before {color: black;}#sk-container-id-9 div.sk-toggleable__content {max-height: 0;max-width: 0;overflow: hidden;text-align: left;background-color: #f0f8ff;}#sk-container-id-9 div.sk-toggleable__content pre {margin: 0.2em;color: black;border-radius: 0.25em;background-color: #f0f8ff;}#sk-container-id-9 input.sk-toggleable__control:checked~div.sk-toggleable__content {max-height: 200px;max-width: 100%;overflow: auto;}#sk-container-id-9 input.sk-toggleable__control:checked~label.sk-toggleable__label-arrow:before {content: \"▾\";}#sk-container-id-9 div.sk-estimator input.sk-toggleable__control:checked~label.sk-toggleable__label {background-color: #d4ebff;}#sk-container-id-9 div.sk-label input.sk-toggleable__control:checked~label.sk-toggleable__label {background-color: #d4ebff;}#sk-container-id-9 input.sk-hidden--visually {border: 0;clip: rect(1px 1px 1px 1px);clip: rect(1px, 1px, 1px, 1px);height: 1px;margin: -1px;overflow: hidden;padding: 0;position: absolute;width: 1px;}#sk-container-id-9 div.sk-estimator {font-family: monospace;background-color: #f0f8ff;border: 1px dotted black;border-radius: 0.25em;box-sizing: border-box;margin-bottom: 0.5em;}#sk-container-id-9 div.sk-estimator:hover {background-color: #d4ebff;}#sk-container-id-9 div.sk-parallel-item::after {content: \"\";width: 100%;border-bottom: 1px solid gray;flex-grow: 1;}#sk-container-id-9 div.sk-label:hover label.sk-toggleable__label {background-color: #d4ebff;}#sk-container-id-9 div.sk-serial::before {content: \"\";position: absolute;border-left: 1px solid gray;box-sizing: border-box;top: 0;bottom: 0;left: 50%;z-index: 0;}#sk-container-id-9 div.sk-serial {display: flex;flex-direction: column;align-items: center;background-color: white;padding-right: 0.2em;padding-left: 0.2em;position: relative;}#sk-container-id-9 div.sk-item {position: relative;z-index: 1;}#sk-container-id-9 div.sk-parallel {display: flex;align-items: stretch;justify-content: center;background-color: white;position: relative;}#sk-container-id-9 div.sk-item::before, #sk-container-id-9 div.sk-parallel-item::before {content: \"\";position: absolute;border-left: 1px solid gray;box-sizing: border-box;top: 0;bottom: 0;left: 50%;z-index: -1;}#sk-container-id-9 div.sk-parallel-item {display: flex;flex-direction: column;z-index: 1;position: relative;background-color: white;}#sk-container-id-9 div.sk-parallel-item:first-child::after {align-self: flex-end;width: 50%;}#sk-container-id-9 div.sk-parallel-item:last-child::after {align-self: flex-start;width: 50%;}#sk-container-id-9 div.sk-parallel-item:only-child::after {width: 0;}#sk-container-id-9 div.sk-dashed-wrapped {border: 1px dashed gray;margin: 0 0.4em 0.5em 0.4em;box-sizing: border-box;padding-bottom: 0.4em;background-color: white;}#sk-container-id-9 div.sk-label label {font-family: monospace;font-weight: bold;display: inline-block;line-height: 1.2em;}#sk-container-id-9 div.sk-label-container {text-align: center;}#sk-container-id-9 div.sk-container {/* jupyter's `normalize.less` sets `[hidden] { display: none; }` but bootstrap.min.css set `[hidden] { display: none !important; }` so we also need the `!important` here to be able to override the default hidden behavior on the sphinx rendered scikit-learn.org. See: https://github.com/scikit-learn/scikit-learn/issues/21755 */display: inline-block !important;position: relative;}#sk-container-id-9 div.sk-text-repr-fallback {display: none;}</style><div id=\"sk-container-id-9\" class=\"sk-top-container\"><div class=\"sk-text-repr-fallback\"><pre>Pipeline(steps=[(&#x27;columntransformer-1&#x27;,\n                 ColumnTransformer(n_jobs=-1,\n                                   remainder=SimpleImputer(strategy=&#x27;most_frequent&#x27;),\n                                   transformers=[(&#x27;simpleimputer&#x27;,\n                                                  SimpleImputer(strategy=&#x27;median&#x27;),\n                                                  &lt;sklearn.compose._column_transformer.make_column_selector object at 0x0000021C6A306170&gt;)],\n                                   verbose=True,\n                                   verbose_feature_names_out=False)),\n                (&#x27;columntransformer-2&#x27;,\n                 ColumnTransformer(n_jobs=-1, remainder=&#x27;passthrough&#x27;,\n                                   transformers=[(&#x27;onehotencoder&#x27;,\n                                                  OneHotEncoder(sparse_output=False),\n                                                  [&#x27;type&#x27;])],\n                                   verbose=True,\n                                   verbose_feature_names_out=False))],\n         verbose=True)</pre><b>In a Jupyter environment, please rerun this cell to show the HTML representation or trust the notebook. <br />On GitHub, the HTML representation is unable to render, please try loading this page with nbviewer.org.</b></div><div class=\"sk-container\" hidden><div class=\"sk-item sk-dashed-wrapped\"><div class=\"sk-label-container\"><div class=\"sk-label sk-toggleable\"><input class=\"sk-toggleable__control sk-hidden--visually\" id=\"sk-estimator-id-75\" type=\"checkbox\" ><label for=\"sk-estimator-id-75\" class=\"sk-toggleable__label sk-toggleable__label-arrow\">Pipeline</label><div class=\"sk-toggleable__content\"><pre>Pipeline(steps=[(&#x27;columntransformer-1&#x27;,\n                 ColumnTransformer(n_jobs=-1,\n                                   remainder=SimpleImputer(strategy=&#x27;most_frequent&#x27;),\n                                   transformers=[(&#x27;simpleimputer&#x27;,\n                                                  SimpleImputer(strategy=&#x27;median&#x27;),\n                                                  &lt;sklearn.compose._column_transformer.make_column_selector object at 0x0000021C6A306170&gt;)],\n                                   verbose=True,\n                                   verbose_feature_names_out=False)),\n                (&#x27;columntransformer-2&#x27;,\n                 ColumnTransformer(n_jobs=-1, remainder=&#x27;passthrough&#x27;,\n                                   transformers=[(&#x27;onehotencoder&#x27;,\n                                                  OneHotEncoder(sparse_output=False),\n                                                  [&#x27;type&#x27;])],\n                                   verbose=True,\n                                   verbose_feature_names_out=False))],\n         verbose=True)</pre></div></div></div><div class=\"sk-serial\"><div class=\"sk-item sk-dashed-wrapped\"><div class=\"sk-label-container\"><div class=\"sk-label sk-toggleable\"><input class=\"sk-toggleable__control sk-hidden--visually\" id=\"sk-estimator-id-76\" type=\"checkbox\" ><label for=\"sk-estimator-id-76\" class=\"sk-toggleable__label sk-toggleable__label-arrow\">columntransformer-1: ColumnTransformer</label><div class=\"sk-toggleable__content\"><pre>ColumnTransformer(n_jobs=-1, remainder=SimpleImputer(strategy=&#x27;most_frequent&#x27;),\n                  transformers=[(&#x27;simpleimputer&#x27;,\n                                 SimpleImputer(strategy=&#x27;median&#x27;),\n                                 &lt;sklearn.compose._column_transformer.make_column_selector object at 0x0000021C6A306170&gt;)],\n                  verbose=True, verbose_feature_names_out=False)</pre></div></div></div><div class=\"sk-parallel\"><div class=\"sk-parallel-item\"><div class=\"sk-item\"><div class=\"sk-label-container\"><div class=\"sk-label sk-toggleable\"><input class=\"sk-toggleable__control sk-hidden--visually\" id=\"sk-estimator-id-77\" type=\"checkbox\" ><label for=\"sk-estimator-id-77\" class=\"sk-toggleable__label sk-toggleable__label-arrow\">simpleimputer</label><div class=\"sk-toggleable__content\"><pre>&lt;sklearn.compose._column_transformer.make_column_selector object at 0x0000021C6A306170&gt;</pre></div></div></div><div class=\"sk-serial\"><div class=\"sk-item\"><div class=\"sk-estimator sk-toggleable\"><input class=\"sk-toggleable__control sk-hidden--visually\" id=\"sk-estimator-id-78\" type=\"checkbox\" ><label for=\"sk-estimator-id-78\" class=\"sk-toggleable__label sk-toggleable__label-arrow\">SimpleImputer</label><div class=\"sk-toggleable__content\"><pre>SimpleImputer(strategy=&#x27;median&#x27;)</pre></div></div></div></div></div></div><div class=\"sk-parallel-item\"><div class=\"sk-item\"><div class=\"sk-label-container\"><div class=\"sk-label sk-toggleable\"><input class=\"sk-toggleable__control sk-hidden--visually\" id=\"sk-estimator-id-79\" type=\"checkbox\" ><label for=\"sk-estimator-id-79\" class=\"sk-toggleable__label sk-toggleable__label-arrow\">remainder</label><div class=\"sk-toggleable__content\"><pre>[&#x27;type&#x27;]</pre></div></div></div><div class=\"sk-serial\"><div class=\"sk-item\"><div class=\"sk-estimator sk-toggleable\"><input class=\"sk-toggleable__control sk-hidden--visually\" id=\"sk-estimator-id-80\" type=\"checkbox\" ><label for=\"sk-estimator-id-80\" class=\"sk-toggleable__label sk-toggleable__label-arrow\">SimpleImputer</label><div class=\"sk-toggleable__content\"><pre>SimpleImputer(strategy=&#x27;most_frequent&#x27;)</pre></div></div></div></div></div></div></div></div><div class=\"sk-item sk-dashed-wrapped\"><div class=\"sk-label-container\"><div class=\"sk-label sk-toggleable\"><input class=\"sk-toggleable__control sk-hidden--visually\" id=\"sk-estimator-id-81\" type=\"checkbox\" ><label for=\"sk-estimator-id-81\" class=\"sk-toggleable__label sk-toggleable__label-arrow\">columntransformer-2: ColumnTransformer</label><div class=\"sk-toggleable__content\"><pre>ColumnTransformer(n_jobs=-1, remainder=&#x27;passthrough&#x27;,\n                  transformers=[(&#x27;onehotencoder&#x27;,\n                                 OneHotEncoder(sparse_output=False),\n                                 [&#x27;type&#x27;])],\n                  verbose=True, verbose_feature_names_out=False)</pre></div></div></div><div class=\"sk-parallel\"><div class=\"sk-parallel-item\"><div class=\"sk-item\"><div class=\"sk-label-container\"><div class=\"sk-label sk-toggleable\"><input class=\"sk-toggleable__control sk-hidden--visually\" id=\"sk-estimator-id-82\" type=\"checkbox\" ><label for=\"sk-estimator-id-82\" class=\"sk-toggleable__label sk-toggleable__label-arrow\">onehotencoder</label><div class=\"sk-toggleable__content\"><pre>[&#x27;type&#x27;]</pre></div></div></div><div class=\"sk-serial\"><div class=\"sk-item\"><div class=\"sk-estimator sk-toggleable\"><input class=\"sk-toggleable__control sk-hidden--visually\" id=\"sk-estimator-id-83\" type=\"checkbox\" ><label for=\"sk-estimator-id-83\" class=\"sk-toggleable__label sk-toggleable__label-arrow\">OneHotEncoder</label><div class=\"sk-toggleable__content\"><pre>OneHotEncoder(sparse_output=False)</pre></div></div></div></div></div></div><div class=\"sk-parallel-item\"><div class=\"sk-item\"><div class=\"sk-label-container\"><div class=\"sk-label sk-toggleable\"><input class=\"sk-toggleable__control sk-hidden--visually\" id=\"sk-estimator-id-84\" type=\"checkbox\" ><label for=\"sk-estimator-id-84\" class=\"sk-toggleable__label sk-toggleable__label-arrow\">remainder</label><div class=\"sk-toggleable__content\"><pre></pre></div></div></div><div class=\"sk-serial\"><div class=\"sk-item\"><div class=\"sk-estimator sk-toggleable\"><input class=\"sk-toggleable__control sk-hidden--visually\" id=\"sk-estimator-id-85\" type=\"checkbox\" ><label for=\"sk-estimator-id-85\" class=\"sk-toggleable__label sk-toggleable__label-arrow\">passthrough</label><div class=\"sk-toggleable__content\"><pre>passthrough</pre></div></div></div></div></div></div></div></div></div></div></div></div>"
     },
     "execution_count": 42,
     "metadata": {},
     "output_type": "execute_result"
    }
   ],
   "source": [
    "preprocessing_pipe = make_pipeline(imputer, encoder, verbose=True)\n",
    "preprocessing_pipe"
   ],
   "metadata": {
    "collapsed": false,
    "ExecuteTime": {
     "end_time": "2024-01-05T14:56:46.464705700Z",
     "start_time": "2024-01-05T14:56:46.437824100Z"
    }
   },
   "id": "d5a0d08142d3edb6"
  },
  {
   "cell_type": "code",
   "execution_count": 43,
   "outputs": [
    {
     "name": "stdout",
     "output_type": "stream",
     "text": [
      "[Pipeline]  (step 1 of 2) Processing columntransformer-1, total=   2.0s\n",
      "[Pipeline]  (step 2 of 2) Processing columntransformer-2, total=   0.9s\n"
     ]
    }
   ],
   "source": [
    "X_train_preprocessed = preprocessing_pipe.fit_transform(X_train)"
   ],
   "metadata": {
    "collapsed": false,
    "ExecuteTime": {
     "end_time": "2024-01-05T14:56:50.119862200Z",
     "start_time": "2024-01-05T14:56:47.149147900Z"
    }
   },
   "id": "f3aca8a86f03059d"
  },
  {
   "cell_type": "markdown",
   "source": [
    "# Modelowanie"
   ],
   "metadata": {
    "collapsed": false
   },
   "id": "1ea7313d61d65591"
  },
  {
   "cell_type": "code",
   "execution_count": 48,
   "outputs": [],
   "source": [
    "knn_params = {\"n_neighbors\": [5, 25, 50],\n",
    "                \"weights\": [\"uniform\", \"distance\"],\n",
    "                \"leaf_size\": [20, 30, 50],\n",
    "                \"p\": [1, 2],\n",
    "                }\n",
    "\n",
    "random_forest_params = {\"n_estimators\": [50, 100, 200],\n",
    "                          # \"criterion\": [\"squared_error\", \"absolute_error\"],\n",
    "                          \"max_depth\": [None, 3, 4, 5],\n",
    "                          \"max_features\": [None, \"sqrt\", \"log2\"],\n",
    "                          }"
   ],
   "metadata": {
    "collapsed": false,
    "ExecuteTime": {
     "end_time": "2024-01-05T14:59:32.783688900Z",
     "start_time": "2024-01-05T14:59:32.752496700Z"
    }
   },
   "id": "82bb73aa8ce0121a"
  },
  {
   "cell_type": "markdown",
   "source": [
    "Przy wyczerpującym przeszukiwania siatki parametrów w celu znalezienia najlepszej kombinacji parametrów użyjemy walidacji krzyżowej.\n",
    "\n",
    "[<img src=\"../img/grid_search_cross_validation.png\" alt=\"drawing\" width=\"400\"/>](\"../img/grid_search_cross_validation.png\")\n",
    "źródło: https://scikit-learn.org/stable/modules/cross_validation.html"
   ],
   "metadata": {
    "collapsed": false
   },
   "id": "14196c44e829d96d"
  },
  {
   "cell_type": "code",
   "execution_count": 49,
   "outputs": [],
   "source": [
    "folds = KFold(n_splits=5, shuffle=True, random_state=random_state)"
   ],
   "metadata": {
    "collapsed": false,
    "ExecuteTime": {
     "end_time": "2024-01-05T14:59:33.767751100Z",
     "start_time": "2024-01-05T14:59:33.752117100Z"
    }
   },
   "id": "25c1dd6f9a985648"
  },
  {
   "cell_type": "markdown",
   "source": [
    "## Regresja liniowa"
   ],
   "metadata": {
    "collapsed": false
   },
   "id": "d51c40d312d5a339"
  },
  {
   "cell_type": "code",
   "execution_count": 50,
   "outputs": [],
   "source": [
    "linreg = LinearRegression(n_jobs=-1)"
   ],
   "metadata": {
    "collapsed": false,
    "ExecuteTime": {
     "end_time": "2024-01-05T14:59:36.594760700Z",
     "start_time": "2024-01-05T14:59:36.579108300Z"
    }
   },
   "id": "c6a04b8a6e4c9097"
  },
  {
   "cell_type": "code",
   "execution_count": 51,
   "outputs": [
    {
     "data": {
      "text/plain": "LinearRegression(n_jobs=-1)",
      "text/html": "<style>#sk-container-id-10 {color: black;}#sk-container-id-10 pre{padding: 0;}#sk-container-id-10 div.sk-toggleable {background-color: white;}#sk-container-id-10 label.sk-toggleable__label {cursor: pointer;display: block;width: 100%;margin-bottom: 0;padding: 0.3em;box-sizing: border-box;text-align: center;}#sk-container-id-10 label.sk-toggleable__label-arrow:before {content: \"▸\";float: left;margin-right: 0.25em;color: #696969;}#sk-container-id-10 label.sk-toggleable__label-arrow:hover:before {color: black;}#sk-container-id-10 div.sk-estimator:hover label.sk-toggleable__label-arrow:before {color: black;}#sk-container-id-10 div.sk-toggleable__content {max-height: 0;max-width: 0;overflow: hidden;text-align: left;background-color: #f0f8ff;}#sk-container-id-10 div.sk-toggleable__content pre {margin: 0.2em;color: black;border-radius: 0.25em;background-color: #f0f8ff;}#sk-container-id-10 input.sk-toggleable__control:checked~div.sk-toggleable__content {max-height: 200px;max-width: 100%;overflow: auto;}#sk-container-id-10 input.sk-toggleable__control:checked~label.sk-toggleable__label-arrow:before {content: \"▾\";}#sk-container-id-10 div.sk-estimator input.sk-toggleable__control:checked~label.sk-toggleable__label {background-color: #d4ebff;}#sk-container-id-10 div.sk-label input.sk-toggleable__control:checked~label.sk-toggleable__label {background-color: #d4ebff;}#sk-container-id-10 input.sk-hidden--visually {border: 0;clip: rect(1px 1px 1px 1px);clip: rect(1px, 1px, 1px, 1px);height: 1px;margin: -1px;overflow: hidden;padding: 0;position: absolute;width: 1px;}#sk-container-id-10 div.sk-estimator {font-family: monospace;background-color: #f0f8ff;border: 1px dotted black;border-radius: 0.25em;box-sizing: border-box;margin-bottom: 0.5em;}#sk-container-id-10 div.sk-estimator:hover {background-color: #d4ebff;}#sk-container-id-10 div.sk-parallel-item::after {content: \"\";width: 100%;border-bottom: 1px solid gray;flex-grow: 1;}#sk-container-id-10 div.sk-label:hover label.sk-toggleable__label {background-color: #d4ebff;}#sk-container-id-10 div.sk-serial::before {content: \"\";position: absolute;border-left: 1px solid gray;box-sizing: border-box;top: 0;bottom: 0;left: 50%;z-index: 0;}#sk-container-id-10 div.sk-serial {display: flex;flex-direction: column;align-items: center;background-color: white;padding-right: 0.2em;padding-left: 0.2em;position: relative;}#sk-container-id-10 div.sk-item {position: relative;z-index: 1;}#sk-container-id-10 div.sk-parallel {display: flex;align-items: stretch;justify-content: center;background-color: white;position: relative;}#sk-container-id-10 div.sk-item::before, #sk-container-id-10 div.sk-parallel-item::before {content: \"\";position: absolute;border-left: 1px solid gray;box-sizing: border-box;top: 0;bottom: 0;left: 50%;z-index: -1;}#sk-container-id-10 div.sk-parallel-item {display: flex;flex-direction: column;z-index: 1;position: relative;background-color: white;}#sk-container-id-10 div.sk-parallel-item:first-child::after {align-self: flex-end;width: 50%;}#sk-container-id-10 div.sk-parallel-item:last-child::after {align-self: flex-start;width: 50%;}#sk-container-id-10 div.sk-parallel-item:only-child::after {width: 0;}#sk-container-id-10 div.sk-dashed-wrapped {border: 1px dashed gray;margin: 0 0.4em 0.5em 0.4em;box-sizing: border-box;padding-bottom: 0.4em;background-color: white;}#sk-container-id-10 div.sk-label label {font-family: monospace;font-weight: bold;display: inline-block;line-height: 1.2em;}#sk-container-id-10 div.sk-label-container {text-align: center;}#sk-container-id-10 div.sk-container {/* jupyter's `normalize.less` sets `[hidden] { display: none; }` but bootstrap.min.css set `[hidden] { display: none !important; }` so we also need the `!important` here to be able to override the default hidden behavior on the sphinx rendered scikit-learn.org. See: https://github.com/scikit-learn/scikit-learn/issues/21755 */display: inline-block !important;position: relative;}#sk-container-id-10 div.sk-text-repr-fallback {display: none;}</style><div id=\"sk-container-id-10\" class=\"sk-top-container\"><div class=\"sk-text-repr-fallback\"><pre>LinearRegression(n_jobs=-1)</pre><b>In a Jupyter environment, please rerun this cell to show the HTML representation or trust the notebook. <br />On GitHub, the HTML representation is unable to render, please try loading this page with nbviewer.org.</b></div><div class=\"sk-container\" hidden><div class=\"sk-item\"><div class=\"sk-estimator sk-toggleable\"><input class=\"sk-toggleable__control sk-hidden--visually\" id=\"sk-estimator-id-86\" type=\"checkbox\" checked><label for=\"sk-estimator-id-86\" class=\"sk-toggleable__label sk-toggleable__label-arrow\">LinearRegression</label><div class=\"sk-toggleable__content\"><pre>LinearRegression(n_jobs=-1)</pre></div></div></div></div></div>"
     },
     "execution_count": 51,
     "metadata": {},
     "output_type": "execute_result"
    }
   ],
   "source": [
    "linreg.fit(X_train_preprocessed, y_train)"
   ],
   "metadata": {
    "collapsed": false,
    "ExecuteTime": {
     "end_time": "2024-01-05T14:59:37.749073300Z",
     "start_time": "2024-01-05T14:59:37.703734200Z"
    }
   },
   "id": "1f7be9dfd1487fbe"
  },
  {
   "cell_type": "code",
   "execution_count": 52,
   "outputs": [
    {
     "data": {
      "text/plain": "0.2904916695297072"
     },
     "execution_count": 52,
     "metadata": {},
     "output_type": "execute_result"
    }
   ],
   "source": [
    "linreg.score(X_train_preprocessed, y_train)"
   ],
   "metadata": {
    "collapsed": false,
    "ExecuteTime": {
     "end_time": "2024-01-05T14:59:39.785726Z",
     "start_time": "2024-01-05T14:59:39.770118300Z"
    }
   },
   "id": "c706d3705a556b19"
  },
  {
   "cell_type": "markdown",
   "source": [
    "### K najbliższych sąsiadów"
   ],
   "metadata": {
    "collapsed": false
   },
   "id": "3dc348791f18e1c0"
  },
  {
   "cell_type": "code",
   "execution_count": 53,
   "outputs": [],
   "source": [
    "search_knn = GridSearchCV(estimator=KNeighborsRegressor(n_jobs=-1),\n",
    "                   param_grid=knn_params,\n",
    "                   scoring=\"r2\",\n",
    "                   n_jobs=-1,\n",
    "                   refit=True,\n",
    "                   cv=folds,\n",
    "                   return_train_score=True,\n",
    "                   verbose=3,\n",
    "                   )"
   ],
   "metadata": {
    "collapsed": false,
    "ExecuteTime": {
     "end_time": "2024-01-05T14:59:48.107329200Z",
     "start_time": "2024-01-05T14:59:48.091630500Z"
    }
   },
   "id": "a08bc4986ddf4466"
  },
  {
   "cell_type": "code",
   "execution_count": 54,
   "outputs": [
    {
     "name": "stdout",
     "output_type": "stream",
     "text": [
      "Fitting 5 folds for each of 36 candidates, totalling 180 fits\n",
      "CPU times: total: 391 ms\n",
      "Wall time: 6.92 s\n"
     ]
    },
    {
     "data": {
      "text/plain": "GridSearchCV(cv=KFold(n_splits=5, random_state=0, shuffle=True),\n             estimator=KNeighborsRegressor(n_jobs=-1), n_jobs=-1,\n             param_grid={'leaf_size': [20, 30, 50], 'n_neighbors': [5, 25, 50],\n                         'p': [1, 2], 'weights': ['uniform', 'distance']},\n             return_train_score=True, scoring='r2', verbose=3)",
      "text/html": "<style>#sk-container-id-11 {color: black;}#sk-container-id-11 pre{padding: 0;}#sk-container-id-11 div.sk-toggleable {background-color: white;}#sk-container-id-11 label.sk-toggleable__label {cursor: pointer;display: block;width: 100%;margin-bottom: 0;padding: 0.3em;box-sizing: border-box;text-align: center;}#sk-container-id-11 label.sk-toggleable__label-arrow:before {content: \"▸\";float: left;margin-right: 0.25em;color: #696969;}#sk-container-id-11 label.sk-toggleable__label-arrow:hover:before {color: black;}#sk-container-id-11 div.sk-estimator:hover label.sk-toggleable__label-arrow:before {color: black;}#sk-container-id-11 div.sk-toggleable__content {max-height: 0;max-width: 0;overflow: hidden;text-align: left;background-color: #f0f8ff;}#sk-container-id-11 div.sk-toggleable__content pre {margin: 0.2em;color: black;border-radius: 0.25em;background-color: #f0f8ff;}#sk-container-id-11 input.sk-toggleable__control:checked~div.sk-toggleable__content {max-height: 200px;max-width: 100%;overflow: auto;}#sk-container-id-11 input.sk-toggleable__control:checked~label.sk-toggleable__label-arrow:before {content: \"▾\";}#sk-container-id-11 div.sk-estimator input.sk-toggleable__control:checked~label.sk-toggleable__label {background-color: #d4ebff;}#sk-container-id-11 div.sk-label input.sk-toggleable__control:checked~label.sk-toggleable__label {background-color: #d4ebff;}#sk-container-id-11 input.sk-hidden--visually {border: 0;clip: rect(1px 1px 1px 1px);clip: rect(1px, 1px, 1px, 1px);height: 1px;margin: -1px;overflow: hidden;padding: 0;position: absolute;width: 1px;}#sk-container-id-11 div.sk-estimator {font-family: monospace;background-color: #f0f8ff;border: 1px dotted black;border-radius: 0.25em;box-sizing: border-box;margin-bottom: 0.5em;}#sk-container-id-11 div.sk-estimator:hover {background-color: #d4ebff;}#sk-container-id-11 div.sk-parallel-item::after {content: \"\";width: 100%;border-bottom: 1px solid gray;flex-grow: 1;}#sk-container-id-11 div.sk-label:hover label.sk-toggleable__label {background-color: #d4ebff;}#sk-container-id-11 div.sk-serial::before {content: \"\";position: absolute;border-left: 1px solid gray;box-sizing: border-box;top: 0;bottom: 0;left: 50%;z-index: 0;}#sk-container-id-11 div.sk-serial {display: flex;flex-direction: column;align-items: center;background-color: white;padding-right: 0.2em;padding-left: 0.2em;position: relative;}#sk-container-id-11 div.sk-item {position: relative;z-index: 1;}#sk-container-id-11 div.sk-parallel {display: flex;align-items: stretch;justify-content: center;background-color: white;position: relative;}#sk-container-id-11 div.sk-item::before, #sk-container-id-11 div.sk-parallel-item::before {content: \"\";position: absolute;border-left: 1px solid gray;box-sizing: border-box;top: 0;bottom: 0;left: 50%;z-index: -1;}#sk-container-id-11 div.sk-parallel-item {display: flex;flex-direction: column;z-index: 1;position: relative;background-color: white;}#sk-container-id-11 div.sk-parallel-item:first-child::after {align-self: flex-end;width: 50%;}#sk-container-id-11 div.sk-parallel-item:last-child::after {align-self: flex-start;width: 50%;}#sk-container-id-11 div.sk-parallel-item:only-child::after {width: 0;}#sk-container-id-11 div.sk-dashed-wrapped {border: 1px dashed gray;margin: 0 0.4em 0.5em 0.4em;box-sizing: border-box;padding-bottom: 0.4em;background-color: white;}#sk-container-id-11 div.sk-label label {font-family: monospace;font-weight: bold;display: inline-block;line-height: 1.2em;}#sk-container-id-11 div.sk-label-container {text-align: center;}#sk-container-id-11 div.sk-container {/* jupyter's `normalize.less` sets `[hidden] { display: none; }` but bootstrap.min.css set `[hidden] { display: none !important; }` so we also need the `!important` here to be able to override the default hidden behavior on the sphinx rendered scikit-learn.org. See: https://github.com/scikit-learn/scikit-learn/issues/21755 */display: inline-block !important;position: relative;}#sk-container-id-11 div.sk-text-repr-fallback {display: none;}</style><div id=\"sk-container-id-11\" class=\"sk-top-container\"><div class=\"sk-text-repr-fallback\"><pre>GridSearchCV(cv=KFold(n_splits=5, random_state=0, shuffle=True),\n             estimator=KNeighborsRegressor(n_jobs=-1), n_jobs=-1,\n             param_grid={&#x27;leaf_size&#x27;: [20, 30, 50], &#x27;n_neighbors&#x27;: [5, 25, 50],\n                         &#x27;p&#x27;: [1, 2], &#x27;weights&#x27;: [&#x27;uniform&#x27;, &#x27;distance&#x27;]},\n             return_train_score=True, scoring=&#x27;r2&#x27;, verbose=3)</pre><b>In a Jupyter environment, please rerun this cell to show the HTML representation or trust the notebook. <br />On GitHub, the HTML representation is unable to render, please try loading this page with nbviewer.org.</b></div><div class=\"sk-container\" hidden><div class=\"sk-item sk-dashed-wrapped\"><div class=\"sk-label-container\"><div class=\"sk-label sk-toggleable\"><input class=\"sk-toggleable__control sk-hidden--visually\" id=\"sk-estimator-id-87\" type=\"checkbox\" ><label for=\"sk-estimator-id-87\" class=\"sk-toggleable__label sk-toggleable__label-arrow\">GridSearchCV</label><div class=\"sk-toggleable__content\"><pre>GridSearchCV(cv=KFold(n_splits=5, random_state=0, shuffle=True),\n             estimator=KNeighborsRegressor(n_jobs=-1), n_jobs=-1,\n             param_grid={&#x27;leaf_size&#x27;: [20, 30, 50], &#x27;n_neighbors&#x27;: [5, 25, 50],\n                         &#x27;p&#x27;: [1, 2], &#x27;weights&#x27;: [&#x27;uniform&#x27;, &#x27;distance&#x27;]},\n             return_train_score=True, scoring=&#x27;r2&#x27;, verbose=3)</pre></div></div></div><div class=\"sk-parallel\"><div class=\"sk-parallel-item\"><div class=\"sk-item\"><div class=\"sk-label-container\"><div class=\"sk-label sk-toggleable\"><input class=\"sk-toggleable__control sk-hidden--visually\" id=\"sk-estimator-id-88\" type=\"checkbox\" ><label for=\"sk-estimator-id-88\" class=\"sk-toggleable__label sk-toggleable__label-arrow\">estimator: KNeighborsRegressor</label><div class=\"sk-toggleable__content\"><pre>KNeighborsRegressor(n_jobs=-1)</pre></div></div></div><div class=\"sk-serial\"><div class=\"sk-item\"><div class=\"sk-estimator sk-toggleable\"><input class=\"sk-toggleable__control sk-hidden--visually\" id=\"sk-estimator-id-89\" type=\"checkbox\" ><label for=\"sk-estimator-id-89\" class=\"sk-toggleable__label sk-toggleable__label-arrow\">KNeighborsRegressor</label><div class=\"sk-toggleable__content\"><pre>KNeighborsRegressor(n_jobs=-1)</pre></div></div></div></div></div></div></div></div></div></div>"
     },
     "execution_count": 54,
     "metadata": {},
     "output_type": "execute_result"
    }
   ],
   "source": [
    "%%time\n",
    "search_knn.fit(X_train_preprocessed, y_train)"
   ],
   "metadata": {
    "collapsed": false,
    "ExecuteTime": {
     "end_time": "2024-01-05T14:59:57.257289900Z",
     "start_time": "2024-01-05T14:59:50.336222Z"
    }
   },
   "id": "3f8d7c50789497ae"
  },
  {
   "cell_type": "code",
   "execution_count": 55,
   "outputs": [
    {
     "data": {
      "text/plain": "['../models/search_knn_wine_quality.joblib']"
     },
     "execution_count": 55,
     "metadata": {},
     "output_type": "execute_result"
    }
   ],
   "source": [
    "dump(search_knn, \"../models/search_knn_wine_quality.joblib\")"
   ],
   "metadata": {
    "collapsed": false,
    "ExecuteTime": {
     "end_time": "2024-01-05T15:00:01.291269300Z",
     "start_time": "2024-01-05T15:00:01.244296500Z"
    }
   },
   "id": "578d6beec9027904"
  },
  {
   "cell_type": "code",
   "execution_count": 56,
   "outputs": [],
   "source": [
    "# search_knn = load(\"../models/search_knn_wine_quality.joblib\")"
   ],
   "metadata": {
    "collapsed": false,
    "ExecuteTime": {
     "end_time": "2024-01-05T15:00:02.258996500Z",
     "start_time": "2024-01-05T15:00:02.227586500Z"
    }
   },
   "id": "56d62ce7a68116a"
  },
  {
   "cell_type": "code",
   "execution_count": 57,
   "outputs": [
    {
     "data": {
      "text/plain": "    mean_fit_time  std_fit_time  mean_score_time  std_score_time  \\\n0        0.069826  2.453807e-02         0.064205        0.019834   \n1        0.018075  5.110243e-03         0.040412        0.015336   \n2        0.018751  6.249953e-03         0.037528        0.007631   \n3        0.027569  1.717708e-02         0.062868        0.022207   \n4        0.024419  6.515661e-03         0.060786        0.033393   \n5        0.025600  1.433368e-02         0.095000        0.026929   \n6        0.022800  2.785637e-03         0.067399        0.030355   \n7        0.021599  1.356185e-03         0.044001        0.011899   \n8        0.025523  1.055130e-02         0.059810        0.012055   \n9        0.020300  5.751312e-03         0.064811        0.020937   \n10       0.015624  9.725608e-07         0.065625        0.020729   \n11       0.025000  1.250019e-02         0.040625        0.007654   \n12       0.033446  1.651182e-02         0.051198        0.017120   \n13       0.021875  7.654461e-03         0.046875        0.009881   \n14       0.025001  1.249902e-02         0.037500        0.015934   \n15       0.025001  7.654150e-03         0.024998        0.012499   \n16       0.025000  1.250019e-02         0.059374        0.020729   \n17       0.025000  7.657732e-03         0.059374        0.018220   \n18       0.015624  2.433272e-06         0.055700        0.018131   \n19       0.021876  7.653468e-03         0.053125        0.036443   \n20       0.018750  6.249666e-03         0.053125        0.007654   \n21       0.034375  3.029721e-02         0.081250        0.018222   \n22       0.018750  6.250095e-03         0.084374        0.021194   \n23       0.021874  7.653760e-03         0.081250        0.020729   \n24       0.021875  7.654773e-03         0.065624        0.011692   \n25       0.015625  8.476443e-07         0.084374        0.007654   \n26       0.043751  3.336477e-02         0.087345        0.043451   \n27       0.021876  7.653916e-03         0.079802        0.052329   \n28       0.029676  2.097284e-02         0.125783        0.063070   \n29       0.027996  1.797504e-02         0.108220        0.044850   \n30       0.018751  6.255843e-03         0.109035        0.017434   \n31       0.022092  7.925268e-03         0.099109        0.031268   \n32       0.021876  7.654344e-03         0.096874        0.031868   \n33       0.015625  6.910027e-07         0.168750        0.022964   \n34       0.021875  7.656038e-03         0.118750        0.018751   \n35       0.018750  6.250215e-03         0.118749        0.015934   \n\n   param_leaf_size param_n_neighbors param_p param_weights  \\\n0               20                 5       1       uniform   \n1               20                 5       1      distance   \n2               20                 5       2       uniform   \n3               20                 5       2      distance   \n4               20                25       1       uniform   \n5               20                25       1      distance   \n6               20                25       2       uniform   \n7               20                25       2      distance   \n8               20                50       1       uniform   \n9               20                50       1      distance   \n10              20                50       2       uniform   \n11              20                50       2      distance   \n12              30                 5       1       uniform   \n13              30                 5       1      distance   \n14              30                 5       2       uniform   \n15              30                 5       2      distance   \n16              30                25       1       uniform   \n17              30                25       1      distance   \n18              30                25       2       uniform   \n19              30                25       2      distance   \n20              30                50       1       uniform   \n21              30                50       1      distance   \n22              30                50       2       uniform   \n23              30                50       2      distance   \n24              50                 5       1       uniform   \n25              50                 5       1      distance   \n26              50                 5       2       uniform   \n27              50                 5       2      distance   \n28              50                25       1       uniform   \n29              50                25       1      distance   \n30              50                25       2       uniform   \n31              50                25       2      distance   \n32              50                50       1       uniform   \n33              50                50       1      distance   \n34              50                50       2       uniform   \n35              50                50       2      distance   \n\n                                               params  split0_test_score  ...  \\\n0   {'leaf_size': 20, 'n_neighbors': 5, 'p': 1, 'w...           0.157494  ...   \n1   {'leaf_size': 20, 'n_neighbors': 5, 'p': 1, 'w...           0.316415  ...   \n2   {'leaf_size': 20, 'n_neighbors': 5, 'p': 2, 'w...           0.150895  ...   \n3   {'leaf_size': 20, 'n_neighbors': 5, 'p': 2, 'w...           0.300573  ...   \n4   {'leaf_size': 20, 'n_neighbors': 25, 'p': 1, '...           0.192349  ...   \n5   {'leaf_size': 20, 'n_neighbors': 25, 'p': 1, '...           0.399636  ...   \n6   {'leaf_size': 20, 'n_neighbors': 25, 'p': 2, '...           0.146110  ...   \n7   {'leaf_size': 20, 'n_neighbors': 25, 'p': 2, '...           0.362631  ...   \n8   {'leaf_size': 20, 'n_neighbors': 50, 'p': 1, '...           0.164075  ...   \n9   {'leaf_size': 20, 'n_neighbors': 50, 'p': 1, '...           0.390163  ...   \n10  {'leaf_size': 20, 'n_neighbors': 50, 'p': 2, '...           0.118615  ...   \n11  {'leaf_size': 20, 'n_neighbors': 50, 'p': 2, '...           0.354823  ...   \n12  {'leaf_size': 30, 'n_neighbors': 5, 'p': 1, 'w...           0.157494  ...   \n13  {'leaf_size': 30, 'n_neighbors': 5, 'p': 1, 'w...           0.316415  ...   \n14  {'leaf_size': 30, 'n_neighbors': 5, 'p': 2, 'w...           0.150895  ...   \n15  {'leaf_size': 30, 'n_neighbors': 5, 'p': 2, 'w...           0.300573  ...   \n16  {'leaf_size': 30, 'n_neighbors': 25, 'p': 1, '...           0.192349  ...   \n17  {'leaf_size': 30, 'n_neighbors': 25, 'p': 1, '...           0.399636  ...   \n18  {'leaf_size': 30, 'n_neighbors': 25, 'p': 2, '...           0.146110  ...   \n19  {'leaf_size': 30, 'n_neighbors': 25, 'p': 2, '...           0.362631  ...   \n20  {'leaf_size': 30, 'n_neighbors': 50, 'p': 1, '...           0.164075  ...   \n21  {'leaf_size': 30, 'n_neighbors': 50, 'p': 1, '...           0.390163  ...   \n22  {'leaf_size': 30, 'n_neighbors': 50, 'p': 2, '...           0.118615  ...   \n23  {'leaf_size': 30, 'n_neighbors': 50, 'p': 2, '...           0.354823  ...   \n24  {'leaf_size': 50, 'n_neighbors': 5, 'p': 1, 'w...           0.157494  ...   \n25  {'leaf_size': 50, 'n_neighbors': 5, 'p': 1, 'w...           0.316415  ...   \n26  {'leaf_size': 50, 'n_neighbors': 5, 'p': 2, 'w...           0.150895  ...   \n27  {'leaf_size': 50, 'n_neighbors': 5, 'p': 2, 'w...           0.300573  ...   \n28  {'leaf_size': 50, 'n_neighbors': 25, 'p': 1, '...           0.192349  ...   \n29  {'leaf_size': 50, 'n_neighbors': 25, 'p': 1, '...           0.399636  ...   \n30  {'leaf_size': 50, 'n_neighbors': 25, 'p': 2, '...           0.146110  ...   \n31  {'leaf_size': 50, 'n_neighbors': 25, 'p': 2, '...           0.362631  ...   \n32  {'leaf_size': 50, 'n_neighbors': 50, 'p': 1, '...           0.164075  ...   \n33  {'leaf_size': 50, 'n_neighbors': 50, 'p': 1, '...           0.390163  ...   \n34  {'leaf_size': 50, 'n_neighbors': 50, 'p': 2, '...           0.118615  ...   \n35  {'leaf_size': 50, 'n_neighbors': 50, 'p': 2, '...           0.354823  ...   \n\n    mean_test_score  std_test_score  rank_test_score  split0_train_score  \\\n0          0.173435        0.039268               25            0.467343   \n1          0.311955        0.046971               13            1.000000   \n2          0.148702        0.039298               31            0.453536   \n3          0.283966        0.049275               16            1.000000   \n4          0.199672        0.024210               20            0.260991   \n5          0.386723        0.032604                1            1.000000   \n6          0.153568        0.027148               28            0.222947   \n7          0.351221        0.032887                7            1.000000   \n8          0.177409        0.022266               22            0.213283   \n9          0.380160        0.029079                4            1.000000   \n10         0.130324        0.025506               34            0.171643   \n11         0.344604        0.028074               10            1.000000   \n12         0.173435        0.039268               25            0.467343   \n13         0.311955        0.046971               13            1.000000   \n14         0.148702        0.039298               31            0.453536   \n15         0.283966        0.049275               16            1.000000   \n16         0.199672        0.024210               20            0.260991   \n17         0.386723        0.032604                1            1.000000   \n18         0.153568        0.027148               28            0.222947   \n19         0.351221        0.032887                7            1.000000   \n20         0.177409        0.022266               22            0.213283   \n21         0.380160        0.029079                4            1.000000   \n22         0.130324        0.025506               34            0.171643   \n23         0.344604        0.028074               10            1.000000   \n24         0.173435        0.039268               25            0.467343   \n25         0.311955        0.046971               13            1.000000   \n26         0.148702        0.039298               31            0.453536   \n27         0.283966        0.049275               16            1.000000   \n28         0.199695        0.024240               19            0.260991   \n29         0.386723        0.032604                1            1.000000   \n30         0.153568        0.027148               28            0.222947   \n31         0.351221        0.032887                7            1.000000   \n32         0.177409        0.022266               22            0.213288   \n33         0.380160        0.029079                4            1.000000   \n34         0.130324        0.025506               34            0.171643   \n35         0.344604        0.028074               10            1.000000   \n\n    split1_train_score  split2_train_score  split3_train_score  \\\n0             0.459091            0.468477            0.477930   \n1             1.000000            1.000000            1.000000   \n2             0.448299            0.463586            0.460139   \n3             1.000000            1.000000            1.000000   \n4             0.266195            0.264547            0.276809   \n5             1.000000            1.000000            1.000000   \n6             0.215949            0.223595            0.232647   \n7             1.000000            1.000000            1.000000   \n8             0.211099            0.208508            0.218238   \n9             1.000000            1.000000            1.000000   \n10            0.170022            0.165513            0.175929   \n11            1.000000            1.000000            1.000000   \n12            0.459091            0.468477            0.477930   \n13            1.000000            1.000000            1.000000   \n14            0.448299            0.463586            0.460139   \n15            1.000000            1.000000            1.000000   \n16            0.266195            0.264547            0.276809   \n17            1.000000            1.000000            1.000000   \n18            0.215949            0.223595            0.232647   \n19            1.000000            1.000000            1.000000   \n20            0.211099            0.208508            0.218238   \n21            1.000000            1.000000            1.000000   \n22            0.170022            0.165513            0.175929   \n23            1.000000            1.000000            1.000000   \n24            0.459091            0.468477            0.477930   \n25            1.000000            1.000000            1.000000   \n26            0.448299            0.463586            0.460139   \n27            1.000000            1.000000            1.000000   \n28            0.266195            0.264547            0.276809   \n29            1.000000            1.000000            1.000000   \n30            0.215949            0.223595            0.232647   \n31            1.000000            1.000000            1.000000   \n32            0.211099            0.208508            0.218238   \n33            1.000000            1.000000            1.000000   \n34            0.170022            0.165513            0.175929   \n35            1.000000            1.000000            1.000000   \n\n    split4_train_score  mean_train_score  std_train_score  \n0             0.455403          0.465649         0.007870  \n1             1.000000          1.000000         0.000000  \n2             0.437239          0.452560         0.009304  \n3             1.000000          1.000000         0.000000  \n4             0.252267          0.264162         0.007947  \n5             1.000000          1.000000         0.000000  \n6             0.212123          0.221452         0.007063  \n7             1.000000          1.000000         0.000000  \n8             0.205006          0.211227         0.004461  \n9             1.000000          1.000000         0.000000  \n10            0.160534          0.168728         0.005282  \n11            1.000000          1.000000         0.000000  \n12            0.455403          0.465649         0.007870  \n13            1.000000          1.000000         0.000000  \n14            0.437239          0.452560         0.009304  \n15            1.000000          1.000000         0.000000  \n16            0.252267          0.264162         0.007947  \n17            1.000000          1.000000         0.000000  \n18            0.212123          0.221452         0.007063  \n19            1.000000          1.000000         0.000000  \n20            0.205006          0.211227         0.004461  \n21            1.000000          1.000000         0.000000  \n22            0.160534          0.168728         0.005282  \n23            1.000000          1.000000         0.000000  \n24            0.455403          0.465649         0.007870  \n25            1.000000          1.000000         0.000000  \n26            0.437239          0.452560         0.009304  \n27            1.000000          1.000000         0.000000  \n28            0.252273          0.264163         0.007945  \n29            1.000000          1.000000         0.000000  \n30            0.212123          0.221452         0.007063  \n31            1.000000          1.000000         0.000000  \n32            0.205006          0.211228         0.004461  \n33            1.000000          1.000000         0.000000  \n34            0.160534          0.168728         0.005282  \n35            1.000000          1.000000         0.000000  \n\n[36 rows x 24 columns]",
      "text/html": "<div>\n<style scoped>\n    .dataframe tbody tr th:only-of-type {\n        vertical-align: middle;\n    }\n\n    .dataframe tbody tr th {\n        vertical-align: top;\n    }\n\n    .dataframe thead th {\n        text-align: right;\n    }\n</style>\n<table border=\"1\" class=\"dataframe\">\n  <thead>\n    <tr style=\"text-align: right;\">\n      <th></th>\n      <th>mean_fit_time</th>\n      <th>std_fit_time</th>\n      <th>mean_score_time</th>\n      <th>std_score_time</th>\n      <th>param_leaf_size</th>\n      <th>param_n_neighbors</th>\n      <th>param_p</th>\n      <th>param_weights</th>\n      <th>params</th>\n      <th>split0_test_score</th>\n      <th>...</th>\n      <th>mean_test_score</th>\n      <th>std_test_score</th>\n      <th>rank_test_score</th>\n      <th>split0_train_score</th>\n      <th>split1_train_score</th>\n      <th>split2_train_score</th>\n      <th>split3_train_score</th>\n      <th>split4_train_score</th>\n      <th>mean_train_score</th>\n      <th>std_train_score</th>\n    </tr>\n  </thead>\n  <tbody>\n    <tr>\n      <th>0</th>\n      <td>0.069826</td>\n      <td>2.453807e-02</td>\n      <td>0.064205</td>\n      <td>0.019834</td>\n      <td>20</td>\n      <td>5</td>\n      <td>1</td>\n      <td>uniform</td>\n      <td>{'leaf_size': 20, 'n_neighbors': 5, 'p': 1, 'w...</td>\n      <td>0.157494</td>\n      <td>...</td>\n      <td>0.173435</td>\n      <td>0.039268</td>\n      <td>25</td>\n      <td>0.467343</td>\n      <td>0.459091</td>\n      <td>0.468477</td>\n      <td>0.477930</td>\n      <td>0.455403</td>\n      <td>0.465649</td>\n      <td>0.007870</td>\n    </tr>\n    <tr>\n      <th>1</th>\n      <td>0.018075</td>\n      <td>5.110243e-03</td>\n      <td>0.040412</td>\n      <td>0.015336</td>\n      <td>20</td>\n      <td>5</td>\n      <td>1</td>\n      <td>distance</td>\n      <td>{'leaf_size': 20, 'n_neighbors': 5, 'p': 1, 'w...</td>\n      <td>0.316415</td>\n      <td>...</td>\n      <td>0.311955</td>\n      <td>0.046971</td>\n      <td>13</td>\n      <td>1.000000</td>\n      <td>1.000000</td>\n      <td>1.000000</td>\n      <td>1.000000</td>\n      <td>1.000000</td>\n      <td>1.000000</td>\n      <td>0.000000</td>\n    </tr>\n    <tr>\n      <th>2</th>\n      <td>0.018751</td>\n      <td>6.249953e-03</td>\n      <td>0.037528</td>\n      <td>0.007631</td>\n      <td>20</td>\n      <td>5</td>\n      <td>2</td>\n      <td>uniform</td>\n      <td>{'leaf_size': 20, 'n_neighbors': 5, 'p': 2, 'w...</td>\n      <td>0.150895</td>\n      <td>...</td>\n      <td>0.148702</td>\n      <td>0.039298</td>\n      <td>31</td>\n      <td>0.453536</td>\n      <td>0.448299</td>\n      <td>0.463586</td>\n      <td>0.460139</td>\n      <td>0.437239</td>\n      <td>0.452560</td>\n      <td>0.009304</td>\n    </tr>\n    <tr>\n      <th>3</th>\n      <td>0.027569</td>\n      <td>1.717708e-02</td>\n      <td>0.062868</td>\n      <td>0.022207</td>\n      <td>20</td>\n      <td>5</td>\n      <td>2</td>\n      <td>distance</td>\n      <td>{'leaf_size': 20, 'n_neighbors': 5, 'p': 2, 'w...</td>\n      <td>0.300573</td>\n      <td>...</td>\n      <td>0.283966</td>\n      <td>0.049275</td>\n      <td>16</td>\n      <td>1.000000</td>\n      <td>1.000000</td>\n      <td>1.000000</td>\n      <td>1.000000</td>\n      <td>1.000000</td>\n      <td>1.000000</td>\n      <td>0.000000</td>\n    </tr>\n    <tr>\n      <th>4</th>\n      <td>0.024419</td>\n      <td>6.515661e-03</td>\n      <td>0.060786</td>\n      <td>0.033393</td>\n      <td>20</td>\n      <td>25</td>\n      <td>1</td>\n      <td>uniform</td>\n      <td>{'leaf_size': 20, 'n_neighbors': 25, 'p': 1, '...</td>\n      <td>0.192349</td>\n      <td>...</td>\n      <td>0.199672</td>\n      <td>0.024210</td>\n      <td>20</td>\n      <td>0.260991</td>\n      <td>0.266195</td>\n      <td>0.264547</td>\n      <td>0.276809</td>\n      <td>0.252267</td>\n      <td>0.264162</td>\n      <td>0.007947</td>\n    </tr>\n    <tr>\n      <th>5</th>\n      <td>0.025600</td>\n      <td>1.433368e-02</td>\n      <td>0.095000</td>\n      <td>0.026929</td>\n      <td>20</td>\n      <td>25</td>\n      <td>1</td>\n      <td>distance</td>\n      <td>{'leaf_size': 20, 'n_neighbors': 25, 'p': 1, '...</td>\n      <td>0.399636</td>\n      <td>...</td>\n      <td>0.386723</td>\n      <td>0.032604</td>\n      <td>1</td>\n      <td>1.000000</td>\n      <td>1.000000</td>\n      <td>1.000000</td>\n      <td>1.000000</td>\n      <td>1.000000</td>\n      <td>1.000000</td>\n      <td>0.000000</td>\n    </tr>\n    <tr>\n      <th>6</th>\n      <td>0.022800</td>\n      <td>2.785637e-03</td>\n      <td>0.067399</td>\n      <td>0.030355</td>\n      <td>20</td>\n      <td>25</td>\n      <td>2</td>\n      <td>uniform</td>\n      <td>{'leaf_size': 20, 'n_neighbors': 25, 'p': 2, '...</td>\n      <td>0.146110</td>\n      <td>...</td>\n      <td>0.153568</td>\n      <td>0.027148</td>\n      <td>28</td>\n      <td>0.222947</td>\n      <td>0.215949</td>\n      <td>0.223595</td>\n      <td>0.232647</td>\n      <td>0.212123</td>\n      <td>0.221452</td>\n      <td>0.007063</td>\n    </tr>\n    <tr>\n      <th>7</th>\n      <td>0.021599</td>\n      <td>1.356185e-03</td>\n      <td>0.044001</td>\n      <td>0.011899</td>\n      <td>20</td>\n      <td>25</td>\n      <td>2</td>\n      <td>distance</td>\n      <td>{'leaf_size': 20, 'n_neighbors': 25, 'p': 2, '...</td>\n      <td>0.362631</td>\n      <td>...</td>\n      <td>0.351221</td>\n      <td>0.032887</td>\n      <td>7</td>\n      <td>1.000000</td>\n      <td>1.000000</td>\n      <td>1.000000</td>\n      <td>1.000000</td>\n      <td>1.000000</td>\n      <td>1.000000</td>\n      <td>0.000000</td>\n    </tr>\n    <tr>\n      <th>8</th>\n      <td>0.025523</td>\n      <td>1.055130e-02</td>\n      <td>0.059810</td>\n      <td>0.012055</td>\n      <td>20</td>\n      <td>50</td>\n      <td>1</td>\n      <td>uniform</td>\n      <td>{'leaf_size': 20, 'n_neighbors': 50, 'p': 1, '...</td>\n      <td>0.164075</td>\n      <td>...</td>\n      <td>0.177409</td>\n      <td>0.022266</td>\n      <td>22</td>\n      <td>0.213283</td>\n      <td>0.211099</td>\n      <td>0.208508</td>\n      <td>0.218238</td>\n      <td>0.205006</td>\n      <td>0.211227</td>\n      <td>0.004461</td>\n    </tr>\n    <tr>\n      <th>9</th>\n      <td>0.020300</td>\n      <td>5.751312e-03</td>\n      <td>0.064811</td>\n      <td>0.020937</td>\n      <td>20</td>\n      <td>50</td>\n      <td>1</td>\n      <td>distance</td>\n      <td>{'leaf_size': 20, 'n_neighbors': 50, 'p': 1, '...</td>\n      <td>0.390163</td>\n      <td>...</td>\n      <td>0.380160</td>\n      <td>0.029079</td>\n      <td>4</td>\n      <td>1.000000</td>\n      <td>1.000000</td>\n      <td>1.000000</td>\n      <td>1.000000</td>\n      <td>1.000000</td>\n      <td>1.000000</td>\n      <td>0.000000</td>\n    </tr>\n    <tr>\n      <th>10</th>\n      <td>0.015624</td>\n      <td>9.725608e-07</td>\n      <td>0.065625</td>\n      <td>0.020729</td>\n      <td>20</td>\n      <td>50</td>\n      <td>2</td>\n      <td>uniform</td>\n      <td>{'leaf_size': 20, 'n_neighbors': 50, 'p': 2, '...</td>\n      <td>0.118615</td>\n      <td>...</td>\n      <td>0.130324</td>\n      <td>0.025506</td>\n      <td>34</td>\n      <td>0.171643</td>\n      <td>0.170022</td>\n      <td>0.165513</td>\n      <td>0.175929</td>\n      <td>0.160534</td>\n      <td>0.168728</td>\n      <td>0.005282</td>\n    </tr>\n    <tr>\n      <th>11</th>\n      <td>0.025000</td>\n      <td>1.250019e-02</td>\n      <td>0.040625</td>\n      <td>0.007654</td>\n      <td>20</td>\n      <td>50</td>\n      <td>2</td>\n      <td>distance</td>\n      <td>{'leaf_size': 20, 'n_neighbors': 50, 'p': 2, '...</td>\n      <td>0.354823</td>\n      <td>...</td>\n      <td>0.344604</td>\n      <td>0.028074</td>\n      <td>10</td>\n      <td>1.000000</td>\n      <td>1.000000</td>\n      <td>1.000000</td>\n      <td>1.000000</td>\n      <td>1.000000</td>\n      <td>1.000000</td>\n      <td>0.000000</td>\n    </tr>\n    <tr>\n      <th>12</th>\n      <td>0.033446</td>\n      <td>1.651182e-02</td>\n      <td>0.051198</td>\n      <td>0.017120</td>\n      <td>30</td>\n      <td>5</td>\n      <td>1</td>\n      <td>uniform</td>\n      <td>{'leaf_size': 30, 'n_neighbors': 5, 'p': 1, 'w...</td>\n      <td>0.157494</td>\n      <td>...</td>\n      <td>0.173435</td>\n      <td>0.039268</td>\n      <td>25</td>\n      <td>0.467343</td>\n      <td>0.459091</td>\n      <td>0.468477</td>\n      <td>0.477930</td>\n      <td>0.455403</td>\n      <td>0.465649</td>\n      <td>0.007870</td>\n    </tr>\n    <tr>\n      <th>13</th>\n      <td>0.021875</td>\n      <td>7.654461e-03</td>\n      <td>0.046875</td>\n      <td>0.009881</td>\n      <td>30</td>\n      <td>5</td>\n      <td>1</td>\n      <td>distance</td>\n      <td>{'leaf_size': 30, 'n_neighbors': 5, 'p': 1, 'w...</td>\n      <td>0.316415</td>\n      <td>...</td>\n      <td>0.311955</td>\n      <td>0.046971</td>\n      <td>13</td>\n      <td>1.000000</td>\n      <td>1.000000</td>\n      <td>1.000000</td>\n      <td>1.000000</td>\n      <td>1.000000</td>\n      <td>1.000000</td>\n      <td>0.000000</td>\n    </tr>\n    <tr>\n      <th>14</th>\n      <td>0.025001</td>\n      <td>1.249902e-02</td>\n      <td>0.037500</td>\n      <td>0.015934</td>\n      <td>30</td>\n      <td>5</td>\n      <td>2</td>\n      <td>uniform</td>\n      <td>{'leaf_size': 30, 'n_neighbors': 5, 'p': 2, 'w...</td>\n      <td>0.150895</td>\n      <td>...</td>\n      <td>0.148702</td>\n      <td>0.039298</td>\n      <td>31</td>\n      <td>0.453536</td>\n      <td>0.448299</td>\n      <td>0.463586</td>\n      <td>0.460139</td>\n      <td>0.437239</td>\n      <td>0.452560</td>\n      <td>0.009304</td>\n    </tr>\n    <tr>\n      <th>15</th>\n      <td>0.025001</td>\n      <td>7.654150e-03</td>\n      <td>0.024998</td>\n      <td>0.012499</td>\n      <td>30</td>\n      <td>5</td>\n      <td>2</td>\n      <td>distance</td>\n      <td>{'leaf_size': 30, 'n_neighbors': 5, 'p': 2, 'w...</td>\n      <td>0.300573</td>\n      <td>...</td>\n      <td>0.283966</td>\n      <td>0.049275</td>\n      <td>16</td>\n      <td>1.000000</td>\n      <td>1.000000</td>\n      <td>1.000000</td>\n      <td>1.000000</td>\n      <td>1.000000</td>\n      <td>1.000000</td>\n      <td>0.000000</td>\n    </tr>\n    <tr>\n      <th>16</th>\n      <td>0.025000</td>\n      <td>1.250019e-02</td>\n      <td>0.059374</td>\n      <td>0.020729</td>\n      <td>30</td>\n      <td>25</td>\n      <td>1</td>\n      <td>uniform</td>\n      <td>{'leaf_size': 30, 'n_neighbors': 25, 'p': 1, '...</td>\n      <td>0.192349</td>\n      <td>...</td>\n      <td>0.199672</td>\n      <td>0.024210</td>\n      <td>20</td>\n      <td>0.260991</td>\n      <td>0.266195</td>\n      <td>0.264547</td>\n      <td>0.276809</td>\n      <td>0.252267</td>\n      <td>0.264162</td>\n      <td>0.007947</td>\n    </tr>\n    <tr>\n      <th>17</th>\n      <td>0.025000</td>\n      <td>7.657732e-03</td>\n      <td>0.059374</td>\n      <td>0.018220</td>\n      <td>30</td>\n      <td>25</td>\n      <td>1</td>\n      <td>distance</td>\n      <td>{'leaf_size': 30, 'n_neighbors': 25, 'p': 1, '...</td>\n      <td>0.399636</td>\n      <td>...</td>\n      <td>0.386723</td>\n      <td>0.032604</td>\n      <td>1</td>\n      <td>1.000000</td>\n      <td>1.000000</td>\n      <td>1.000000</td>\n      <td>1.000000</td>\n      <td>1.000000</td>\n      <td>1.000000</td>\n      <td>0.000000</td>\n    </tr>\n    <tr>\n      <th>18</th>\n      <td>0.015624</td>\n      <td>2.433272e-06</td>\n      <td>0.055700</td>\n      <td>0.018131</td>\n      <td>30</td>\n      <td>25</td>\n      <td>2</td>\n      <td>uniform</td>\n      <td>{'leaf_size': 30, 'n_neighbors': 25, 'p': 2, '...</td>\n      <td>0.146110</td>\n      <td>...</td>\n      <td>0.153568</td>\n      <td>0.027148</td>\n      <td>28</td>\n      <td>0.222947</td>\n      <td>0.215949</td>\n      <td>0.223595</td>\n      <td>0.232647</td>\n      <td>0.212123</td>\n      <td>0.221452</td>\n      <td>0.007063</td>\n    </tr>\n    <tr>\n      <th>19</th>\n      <td>0.021876</td>\n      <td>7.653468e-03</td>\n      <td>0.053125</td>\n      <td>0.036443</td>\n      <td>30</td>\n      <td>25</td>\n      <td>2</td>\n      <td>distance</td>\n      <td>{'leaf_size': 30, 'n_neighbors': 25, 'p': 2, '...</td>\n      <td>0.362631</td>\n      <td>...</td>\n      <td>0.351221</td>\n      <td>0.032887</td>\n      <td>7</td>\n      <td>1.000000</td>\n      <td>1.000000</td>\n      <td>1.000000</td>\n      <td>1.000000</td>\n      <td>1.000000</td>\n      <td>1.000000</td>\n      <td>0.000000</td>\n    </tr>\n    <tr>\n      <th>20</th>\n      <td>0.018750</td>\n      <td>6.249666e-03</td>\n      <td>0.053125</td>\n      <td>0.007654</td>\n      <td>30</td>\n      <td>50</td>\n      <td>1</td>\n      <td>uniform</td>\n      <td>{'leaf_size': 30, 'n_neighbors': 50, 'p': 1, '...</td>\n      <td>0.164075</td>\n      <td>...</td>\n      <td>0.177409</td>\n      <td>0.022266</td>\n      <td>22</td>\n      <td>0.213283</td>\n      <td>0.211099</td>\n      <td>0.208508</td>\n      <td>0.218238</td>\n      <td>0.205006</td>\n      <td>0.211227</td>\n      <td>0.004461</td>\n    </tr>\n    <tr>\n      <th>21</th>\n      <td>0.034375</td>\n      <td>3.029721e-02</td>\n      <td>0.081250</td>\n      <td>0.018222</td>\n      <td>30</td>\n      <td>50</td>\n      <td>1</td>\n      <td>distance</td>\n      <td>{'leaf_size': 30, 'n_neighbors': 50, 'p': 1, '...</td>\n      <td>0.390163</td>\n      <td>...</td>\n      <td>0.380160</td>\n      <td>0.029079</td>\n      <td>4</td>\n      <td>1.000000</td>\n      <td>1.000000</td>\n      <td>1.000000</td>\n      <td>1.000000</td>\n      <td>1.000000</td>\n      <td>1.000000</td>\n      <td>0.000000</td>\n    </tr>\n    <tr>\n      <th>22</th>\n      <td>0.018750</td>\n      <td>6.250095e-03</td>\n      <td>0.084374</td>\n      <td>0.021194</td>\n      <td>30</td>\n      <td>50</td>\n      <td>2</td>\n      <td>uniform</td>\n      <td>{'leaf_size': 30, 'n_neighbors': 50, 'p': 2, '...</td>\n      <td>0.118615</td>\n      <td>...</td>\n      <td>0.130324</td>\n      <td>0.025506</td>\n      <td>34</td>\n      <td>0.171643</td>\n      <td>0.170022</td>\n      <td>0.165513</td>\n      <td>0.175929</td>\n      <td>0.160534</td>\n      <td>0.168728</td>\n      <td>0.005282</td>\n    </tr>\n    <tr>\n      <th>23</th>\n      <td>0.021874</td>\n      <td>7.653760e-03</td>\n      <td>0.081250</td>\n      <td>0.020729</td>\n      <td>30</td>\n      <td>50</td>\n      <td>2</td>\n      <td>distance</td>\n      <td>{'leaf_size': 30, 'n_neighbors': 50, 'p': 2, '...</td>\n      <td>0.354823</td>\n      <td>...</td>\n      <td>0.344604</td>\n      <td>0.028074</td>\n      <td>10</td>\n      <td>1.000000</td>\n      <td>1.000000</td>\n      <td>1.000000</td>\n      <td>1.000000</td>\n      <td>1.000000</td>\n      <td>1.000000</td>\n      <td>0.000000</td>\n    </tr>\n    <tr>\n      <th>24</th>\n      <td>0.021875</td>\n      <td>7.654773e-03</td>\n      <td>0.065624</td>\n      <td>0.011692</td>\n      <td>50</td>\n      <td>5</td>\n      <td>1</td>\n      <td>uniform</td>\n      <td>{'leaf_size': 50, 'n_neighbors': 5, 'p': 1, 'w...</td>\n      <td>0.157494</td>\n      <td>...</td>\n      <td>0.173435</td>\n      <td>0.039268</td>\n      <td>25</td>\n      <td>0.467343</td>\n      <td>0.459091</td>\n      <td>0.468477</td>\n      <td>0.477930</td>\n      <td>0.455403</td>\n      <td>0.465649</td>\n      <td>0.007870</td>\n    </tr>\n    <tr>\n      <th>25</th>\n      <td>0.015625</td>\n      <td>8.476443e-07</td>\n      <td>0.084374</td>\n      <td>0.007654</td>\n      <td>50</td>\n      <td>5</td>\n      <td>1</td>\n      <td>distance</td>\n      <td>{'leaf_size': 50, 'n_neighbors': 5, 'p': 1, 'w...</td>\n      <td>0.316415</td>\n      <td>...</td>\n      <td>0.311955</td>\n      <td>0.046971</td>\n      <td>13</td>\n      <td>1.000000</td>\n      <td>1.000000</td>\n      <td>1.000000</td>\n      <td>1.000000</td>\n      <td>1.000000</td>\n      <td>1.000000</td>\n      <td>0.000000</td>\n    </tr>\n    <tr>\n      <th>26</th>\n      <td>0.043751</td>\n      <td>3.336477e-02</td>\n      <td>0.087345</td>\n      <td>0.043451</td>\n      <td>50</td>\n      <td>5</td>\n      <td>2</td>\n      <td>uniform</td>\n      <td>{'leaf_size': 50, 'n_neighbors': 5, 'p': 2, 'w...</td>\n      <td>0.150895</td>\n      <td>...</td>\n      <td>0.148702</td>\n      <td>0.039298</td>\n      <td>31</td>\n      <td>0.453536</td>\n      <td>0.448299</td>\n      <td>0.463586</td>\n      <td>0.460139</td>\n      <td>0.437239</td>\n      <td>0.452560</td>\n      <td>0.009304</td>\n    </tr>\n    <tr>\n      <th>27</th>\n      <td>0.021876</td>\n      <td>7.653916e-03</td>\n      <td>0.079802</td>\n      <td>0.052329</td>\n      <td>50</td>\n      <td>5</td>\n      <td>2</td>\n      <td>distance</td>\n      <td>{'leaf_size': 50, 'n_neighbors': 5, 'p': 2, 'w...</td>\n      <td>0.300573</td>\n      <td>...</td>\n      <td>0.283966</td>\n      <td>0.049275</td>\n      <td>16</td>\n      <td>1.000000</td>\n      <td>1.000000</td>\n      <td>1.000000</td>\n      <td>1.000000</td>\n      <td>1.000000</td>\n      <td>1.000000</td>\n      <td>0.000000</td>\n    </tr>\n    <tr>\n      <th>28</th>\n      <td>0.029676</td>\n      <td>2.097284e-02</td>\n      <td>0.125783</td>\n      <td>0.063070</td>\n      <td>50</td>\n      <td>25</td>\n      <td>1</td>\n      <td>uniform</td>\n      <td>{'leaf_size': 50, 'n_neighbors': 25, 'p': 1, '...</td>\n      <td>0.192349</td>\n      <td>...</td>\n      <td>0.199695</td>\n      <td>0.024240</td>\n      <td>19</td>\n      <td>0.260991</td>\n      <td>0.266195</td>\n      <td>0.264547</td>\n      <td>0.276809</td>\n      <td>0.252273</td>\n      <td>0.264163</td>\n      <td>0.007945</td>\n    </tr>\n    <tr>\n      <th>29</th>\n      <td>0.027996</td>\n      <td>1.797504e-02</td>\n      <td>0.108220</td>\n      <td>0.044850</td>\n      <td>50</td>\n      <td>25</td>\n      <td>1</td>\n      <td>distance</td>\n      <td>{'leaf_size': 50, 'n_neighbors': 25, 'p': 1, '...</td>\n      <td>0.399636</td>\n      <td>...</td>\n      <td>0.386723</td>\n      <td>0.032604</td>\n      <td>1</td>\n      <td>1.000000</td>\n      <td>1.000000</td>\n      <td>1.000000</td>\n      <td>1.000000</td>\n      <td>1.000000</td>\n      <td>1.000000</td>\n      <td>0.000000</td>\n    </tr>\n    <tr>\n      <th>30</th>\n      <td>0.018751</td>\n      <td>6.255843e-03</td>\n      <td>0.109035</td>\n      <td>0.017434</td>\n      <td>50</td>\n      <td>25</td>\n      <td>2</td>\n      <td>uniform</td>\n      <td>{'leaf_size': 50, 'n_neighbors': 25, 'p': 2, '...</td>\n      <td>0.146110</td>\n      <td>...</td>\n      <td>0.153568</td>\n      <td>0.027148</td>\n      <td>28</td>\n      <td>0.222947</td>\n      <td>0.215949</td>\n      <td>0.223595</td>\n      <td>0.232647</td>\n      <td>0.212123</td>\n      <td>0.221452</td>\n      <td>0.007063</td>\n    </tr>\n    <tr>\n      <th>31</th>\n      <td>0.022092</td>\n      <td>7.925268e-03</td>\n      <td>0.099109</td>\n      <td>0.031268</td>\n      <td>50</td>\n      <td>25</td>\n      <td>2</td>\n      <td>distance</td>\n      <td>{'leaf_size': 50, 'n_neighbors': 25, 'p': 2, '...</td>\n      <td>0.362631</td>\n      <td>...</td>\n      <td>0.351221</td>\n      <td>0.032887</td>\n      <td>7</td>\n      <td>1.000000</td>\n      <td>1.000000</td>\n      <td>1.000000</td>\n      <td>1.000000</td>\n      <td>1.000000</td>\n      <td>1.000000</td>\n      <td>0.000000</td>\n    </tr>\n    <tr>\n      <th>32</th>\n      <td>0.021876</td>\n      <td>7.654344e-03</td>\n      <td>0.096874</td>\n      <td>0.031868</td>\n      <td>50</td>\n      <td>50</td>\n      <td>1</td>\n      <td>uniform</td>\n      <td>{'leaf_size': 50, 'n_neighbors': 50, 'p': 1, '...</td>\n      <td>0.164075</td>\n      <td>...</td>\n      <td>0.177409</td>\n      <td>0.022266</td>\n      <td>22</td>\n      <td>0.213288</td>\n      <td>0.211099</td>\n      <td>0.208508</td>\n      <td>0.218238</td>\n      <td>0.205006</td>\n      <td>0.211228</td>\n      <td>0.004461</td>\n    </tr>\n    <tr>\n      <th>33</th>\n      <td>0.015625</td>\n      <td>6.910027e-07</td>\n      <td>0.168750</td>\n      <td>0.022964</td>\n      <td>50</td>\n      <td>50</td>\n      <td>1</td>\n      <td>distance</td>\n      <td>{'leaf_size': 50, 'n_neighbors': 50, 'p': 1, '...</td>\n      <td>0.390163</td>\n      <td>...</td>\n      <td>0.380160</td>\n      <td>0.029079</td>\n      <td>4</td>\n      <td>1.000000</td>\n      <td>1.000000</td>\n      <td>1.000000</td>\n      <td>1.000000</td>\n      <td>1.000000</td>\n      <td>1.000000</td>\n      <td>0.000000</td>\n    </tr>\n    <tr>\n      <th>34</th>\n      <td>0.021875</td>\n      <td>7.656038e-03</td>\n      <td>0.118750</td>\n      <td>0.018751</td>\n      <td>50</td>\n      <td>50</td>\n      <td>2</td>\n      <td>uniform</td>\n      <td>{'leaf_size': 50, 'n_neighbors': 50, 'p': 2, '...</td>\n      <td>0.118615</td>\n      <td>...</td>\n      <td>0.130324</td>\n      <td>0.025506</td>\n      <td>34</td>\n      <td>0.171643</td>\n      <td>0.170022</td>\n      <td>0.165513</td>\n      <td>0.175929</td>\n      <td>0.160534</td>\n      <td>0.168728</td>\n      <td>0.005282</td>\n    </tr>\n    <tr>\n      <th>35</th>\n      <td>0.018750</td>\n      <td>6.250215e-03</td>\n      <td>0.118749</td>\n      <td>0.015934</td>\n      <td>50</td>\n      <td>50</td>\n      <td>2</td>\n      <td>distance</td>\n      <td>{'leaf_size': 50, 'n_neighbors': 50, 'p': 2, '...</td>\n      <td>0.354823</td>\n      <td>...</td>\n      <td>0.344604</td>\n      <td>0.028074</td>\n      <td>10</td>\n      <td>1.000000</td>\n      <td>1.000000</td>\n      <td>1.000000</td>\n      <td>1.000000</td>\n      <td>1.000000</td>\n      <td>1.000000</td>\n      <td>0.000000</td>\n    </tr>\n  </tbody>\n</table>\n<p>36 rows × 24 columns</p>\n</div>"
     },
     "execution_count": 57,
     "metadata": {},
     "output_type": "execute_result"
    }
   ],
   "source": [
    "pd.DataFrame(search_knn.cv_results_)"
   ],
   "metadata": {
    "collapsed": false,
    "ExecuteTime": {
     "end_time": "2024-01-05T15:00:03.237530400Z",
     "start_time": "2024-01-05T15:00:03.190664400Z"
    }
   },
   "id": "23e97750d349e086"
  },
  {
   "cell_type": "markdown",
   "source": [
    "### Las losowy"
   ],
   "metadata": {
    "collapsed": false
   },
   "id": "ca9e3e1568b00d3c"
  },
  {
   "cell_type": "code",
   "execution_count": 58,
   "outputs": [],
   "source": [
    "search_random_forest = GridSearchCV(estimator=RandomForestRegressor(random_state=random_state),\n",
    "                                           param_grid=random_forest_params,\n",
    "                                           scoring=\"r2\",\n",
    "                                           n_jobs=-1,\n",
    "                                           refit=True,\n",
    "                                           cv=folds,\n",
    "                                           return_train_score=True,\n",
    "                                         verbose=3,\n",
    "                                        )"
   ],
   "metadata": {
    "collapsed": false,
    "ExecuteTime": {
     "end_time": "2024-01-05T15:00:09.084412200Z",
     "start_time": "2024-01-05T15:00:09.068804Z"
    }
   },
   "id": "bd3bbed65ea60a22"
  },
  {
   "cell_type": "code",
   "execution_count": 59,
   "outputs": [
    {
     "name": "stdout",
     "output_type": "stream",
     "text": [
      "Fitting 5 folds for each of 36 candidates, totalling 180 fits\n",
      "CPU times: total: 5.53 s\n",
      "Wall time: 1min 48s\n"
     ]
    },
    {
     "data": {
      "text/plain": "GridSearchCV(cv=KFold(n_splits=5, random_state=0, shuffle=True),\n             estimator=RandomForestRegressor(random_state=0), n_jobs=-1,\n             param_grid={'max_depth': [None, 3, 4, 5],\n                         'max_features': [None, 'sqrt', 'log2'],\n                         'n_estimators': [50, 100, 200]},\n             return_train_score=True, scoring='r2', verbose=3)",
      "text/html": "<style>#sk-container-id-12 {color: black;}#sk-container-id-12 pre{padding: 0;}#sk-container-id-12 div.sk-toggleable {background-color: white;}#sk-container-id-12 label.sk-toggleable__label {cursor: pointer;display: block;width: 100%;margin-bottom: 0;padding: 0.3em;box-sizing: border-box;text-align: center;}#sk-container-id-12 label.sk-toggleable__label-arrow:before {content: \"▸\";float: left;margin-right: 0.25em;color: #696969;}#sk-container-id-12 label.sk-toggleable__label-arrow:hover:before {color: black;}#sk-container-id-12 div.sk-estimator:hover label.sk-toggleable__label-arrow:before {color: black;}#sk-container-id-12 div.sk-toggleable__content {max-height: 0;max-width: 0;overflow: hidden;text-align: left;background-color: #f0f8ff;}#sk-container-id-12 div.sk-toggleable__content pre {margin: 0.2em;color: black;border-radius: 0.25em;background-color: #f0f8ff;}#sk-container-id-12 input.sk-toggleable__control:checked~div.sk-toggleable__content {max-height: 200px;max-width: 100%;overflow: auto;}#sk-container-id-12 input.sk-toggleable__control:checked~label.sk-toggleable__label-arrow:before {content: \"▾\";}#sk-container-id-12 div.sk-estimator input.sk-toggleable__control:checked~label.sk-toggleable__label {background-color: #d4ebff;}#sk-container-id-12 div.sk-label input.sk-toggleable__control:checked~label.sk-toggleable__label {background-color: #d4ebff;}#sk-container-id-12 input.sk-hidden--visually {border: 0;clip: rect(1px 1px 1px 1px);clip: rect(1px, 1px, 1px, 1px);height: 1px;margin: -1px;overflow: hidden;padding: 0;position: absolute;width: 1px;}#sk-container-id-12 div.sk-estimator {font-family: monospace;background-color: #f0f8ff;border: 1px dotted black;border-radius: 0.25em;box-sizing: border-box;margin-bottom: 0.5em;}#sk-container-id-12 div.sk-estimator:hover {background-color: #d4ebff;}#sk-container-id-12 div.sk-parallel-item::after {content: \"\";width: 100%;border-bottom: 1px solid gray;flex-grow: 1;}#sk-container-id-12 div.sk-label:hover label.sk-toggleable__label {background-color: #d4ebff;}#sk-container-id-12 div.sk-serial::before {content: \"\";position: absolute;border-left: 1px solid gray;box-sizing: border-box;top: 0;bottom: 0;left: 50%;z-index: 0;}#sk-container-id-12 div.sk-serial {display: flex;flex-direction: column;align-items: center;background-color: white;padding-right: 0.2em;padding-left: 0.2em;position: relative;}#sk-container-id-12 div.sk-item {position: relative;z-index: 1;}#sk-container-id-12 div.sk-parallel {display: flex;align-items: stretch;justify-content: center;background-color: white;position: relative;}#sk-container-id-12 div.sk-item::before, #sk-container-id-12 div.sk-parallel-item::before {content: \"\";position: absolute;border-left: 1px solid gray;box-sizing: border-box;top: 0;bottom: 0;left: 50%;z-index: -1;}#sk-container-id-12 div.sk-parallel-item {display: flex;flex-direction: column;z-index: 1;position: relative;background-color: white;}#sk-container-id-12 div.sk-parallel-item:first-child::after {align-self: flex-end;width: 50%;}#sk-container-id-12 div.sk-parallel-item:last-child::after {align-self: flex-start;width: 50%;}#sk-container-id-12 div.sk-parallel-item:only-child::after {width: 0;}#sk-container-id-12 div.sk-dashed-wrapped {border: 1px dashed gray;margin: 0 0.4em 0.5em 0.4em;box-sizing: border-box;padding-bottom: 0.4em;background-color: white;}#sk-container-id-12 div.sk-label label {font-family: monospace;font-weight: bold;display: inline-block;line-height: 1.2em;}#sk-container-id-12 div.sk-label-container {text-align: center;}#sk-container-id-12 div.sk-container {/* jupyter's `normalize.less` sets `[hidden] { display: none; }` but bootstrap.min.css set `[hidden] { display: none !important; }` so we also need the `!important` here to be able to override the default hidden behavior on the sphinx rendered scikit-learn.org. See: https://github.com/scikit-learn/scikit-learn/issues/21755 */display: inline-block !important;position: relative;}#sk-container-id-12 div.sk-text-repr-fallback {display: none;}</style><div id=\"sk-container-id-12\" class=\"sk-top-container\"><div class=\"sk-text-repr-fallback\"><pre>GridSearchCV(cv=KFold(n_splits=5, random_state=0, shuffle=True),\n             estimator=RandomForestRegressor(random_state=0), n_jobs=-1,\n             param_grid={&#x27;max_depth&#x27;: [None, 3, 4, 5],\n                         &#x27;max_features&#x27;: [None, &#x27;sqrt&#x27;, &#x27;log2&#x27;],\n                         &#x27;n_estimators&#x27;: [50, 100, 200]},\n             return_train_score=True, scoring=&#x27;r2&#x27;, verbose=3)</pre><b>In a Jupyter environment, please rerun this cell to show the HTML representation or trust the notebook. <br />On GitHub, the HTML representation is unable to render, please try loading this page with nbviewer.org.</b></div><div class=\"sk-container\" hidden><div class=\"sk-item sk-dashed-wrapped\"><div class=\"sk-label-container\"><div class=\"sk-label sk-toggleable\"><input class=\"sk-toggleable__control sk-hidden--visually\" id=\"sk-estimator-id-90\" type=\"checkbox\" ><label for=\"sk-estimator-id-90\" class=\"sk-toggleable__label sk-toggleable__label-arrow\">GridSearchCV</label><div class=\"sk-toggleable__content\"><pre>GridSearchCV(cv=KFold(n_splits=5, random_state=0, shuffle=True),\n             estimator=RandomForestRegressor(random_state=0), n_jobs=-1,\n             param_grid={&#x27;max_depth&#x27;: [None, 3, 4, 5],\n                         &#x27;max_features&#x27;: [None, &#x27;sqrt&#x27;, &#x27;log2&#x27;],\n                         &#x27;n_estimators&#x27;: [50, 100, 200]},\n             return_train_score=True, scoring=&#x27;r2&#x27;, verbose=3)</pre></div></div></div><div class=\"sk-parallel\"><div class=\"sk-parallel-item\"><div class=\"sk-item\"><div class=\"sk-label-container\"><div class=\"sk-label sk-toggleable\"><input class=\"sk-toggleable__control sk-hidden--visually\" id=\"sk-estimator-id-91\" type=\"checkbox\" ><label for=\"sk-estimator-id-91\" class=\"sk-toggleable__label sk-toggleable__label-arrow\">estimator: RandomForestRegressor</label><div class=\"sk-toggleable__content\"><pre>RandomForestRegressor(random_state=0)</pre></div></div></div><div class=\"sk-serial\"><div class=\"sk-item\"><div class=\"sk-estimator sk-toggleable\"><input class=\"sk-toggleable__control sk-hidden--visually\" id=\"sk-estimator-id-92\" type=\"checkbox\" ><label for=\"sk-estimator-id-92\" class=\"sk-toggleable__label sk-toggleable__label-arrow\">RandomForestRegressor</label><div class=\"sk-toggleable__content\"><pre>RandomForestRegressor(random_state=0)</pre></div></div></div></div></div></div></div></div></div></div>"
     },
     "execution_count": 59,
     "metadata": {},
     "output_type": "execute_result"
    }
   ],
   "source": [
    "%%time\n",
    "search_random_forest.fit(X_train_preprocessed, y_train)"
   ],
   "metadata": {
    "collapsed": false,
    "ExecuteTime": {
     "end_time": "2024-01-05T15:01:58.285452100Z",
     "start_time": "2024-01-05T15:00:09.900883100Z"
    }
   },
   "id": "393b76e7eb6cfbba"
  },
  {
   "cell_type": "code",
   "execution_count": 60,
   "outputs": [
    {
     "data": {
      "text/plain": "['../models/search_random_forest_wine_quality.joblib']"
     },
     "execution_count": 60,
     "metadata": {},
     "output_type": "execute_result"
    }
   ],
   "source": [
    "dump(search_random_forest, \"../models/search_random_forest_wine_quality.joblib\")"
   ],
   "metadata": {
    "collapsed": false,
    "ExecuteTime": {
     "end_time": "2024-01-05T15:01:58.396483500Z",
     "start_time": "2024-01-05T15:01:58.269895900Z"
    }
   },
   "id": "2d0df61303827e86"
  },
  {
   "cell_type": "code",
   "execution_count": 15,
   "outputs": [],
   "source": [
    "# search_random_forest = load(\"../models/search_random_forest_wine_quality.joblib\")"
   ],
   "metadata": {
    "collapsed": false
   },
   "id": "57a04f7bd1ef8fe7"
  },
  {
   "cell_type": "code",
   "execution_count": 61,
   "outputs": [
    {
     "data": {
      "text/plain": "    mean_fit_time  std_fit_time  mean_score_time  std_score_time  \\\n0        7.846170      0.315238         0.162332        0.149425   \n1       18.919651      0.397345         0.076003        0.011773   \n2       36.901868      0.700976         0.142211        0.010378   \n3        2.673916      0.063558         0.040626        0.007655   \n4        5.410361      0.099975         0.071876        0.007656   \n5       11.155184      0.332765         0.161254        0.042424   \n6        3.023378      0.301075         0.050613        0.010907   \n7        5.357520      0.151877         0.078126        0.009882   \n8       10.417827      0.064719         0.140625        0.000002   \n9        1.115772      0.021260         0.018750        0.006250   \n10       2.295050      0.035583         0.037776        0.008405   \n11       4.616632      0.037032         0.075755        0.006786   \n12       0.469538      0.032406         0.021875        0.007655   \n13       0.855933      0.036069         0.039591        0.007067   \n14       1.789286      0.025001         0.071875        0.007655   \n15       0.446272      0.035995         0.023848        0.007028   \n16       0.903127      0.025000         0.040625        0.007655   \n17       1.808924      0.058464         0.065626        0.006253   \n18       1.591605      0.054513         0.018750        0.006251   \n19       3.061959      0.022098         0.043752        0.006250   \n20       6.259051      0.100716         0.078126        0.009882   \n21       0.524999      0.007655         0.025000        0.007655   \n22       1.081249      0.036174         0.037501        0.007655   \n23       2.153125      0.050775         0.078127        0.009883   \n24       0.549998      0.031873         0.021875        0.007655   \n25       1.074999      0.036176         0.040625        0.007656   \n26       2.131611      0.021038         0.073199        0.004165   \n27       2.066364      0.015133         0.022775        0.005064   \n28       4.100205      0.041042         0.050003        0.006249   \n29       8.413076      0.094951         0.071875        0.007656   \n30       0.703125      0.081489         0.028125        0.018221   \n31       1.300001      0.030297         0.040625        0.007655   \n32       2.556253      0.028979         0.071873        0.007654   \n33       0.646877      0.028980         0.025000        0.007655   \n34       1.281251      0.027950         0.053125        0.007653   \n35       2.134375      0.052846         0.049998        0.011694   \n\n   param_max_depth param_max_features param_n_estimators  \\\n0             None               None                 50   \n1             None               None                100   \n2             None               None                200   \n3             None               sqrt                 50   \n4             None               sqrt                100   \n5             None               sqrt                200   \n6             None               log2                 50   \n7             None               log2                100   \n8             None               log2                200   \n9                3               None                 50   \n10               3               None                100   \n11               3               None                200   \n12               3               sqrt                 50   \n13               3               sqrt                100   \n14               3               sqrt                200   \n15               3               log2                 50   \n16               3               log2                100   \n17               3               log2                200   \n18               4               None                 50   \n19               4               None                100   \n20               4               None                200   \n21               4               sqrt                 50   \n22               4               sqrt                100   \n23               4               sqrt                200   \n24               4               log2                 50   \n25               4               log2                100   \n26               4               log2                200   \n27               5               None                 50   \n28               5               None                100   \n29               5               None                200   \n30               5               sqrt                 50   \n31               5               sqrt                100   \n32               5               sqrt                200   \n33               5               log2                 50   \n34               5               log2                100   \n35               5               log2                200   \n\n                                               params  split0_test_score  \\\n0   {'max_depth': None, 'max_features': None, 'n_e...           0.524629   \n1   {'max_depth': None, 'max_features': None, 'n_e...           0.524074   \n2   {'max_depth': None, 'max_features': None, 'n_e...           0.526658   \n3   {'max_depth': None, 'max_features': 'sqrt', 'n...           0.521738   \n4   {'max_depth': None, 'max_features': 'sqrt', 'n...           0.528939   \n5   {'max_depth': None, 'max_features': 'sqrt', 'n...           0.529189   \n6   {'max_depth': None, 'max_features': 'log2', 'n...           0.521738   \n7   {'max_depth': None, 'max_features': 'log2', 'n...           0.528939   \n8   {'max_depth': None, 'max_features': 'log2', 'n...           0.529189   \n9   {'max_depth': 3, 'max_features': None, 'n_esti...           0.277751   \n10  {'max_depth': 3, 'max_features': None, 'n_esti...           0.277559   \n11  {'max_depth': 3, 'max_features': None, 'n_esti...           0.278689   \n12  {'max_depth': 3, 'max_features': 'sqrt', 'n_es...           0.234166   \n13  {'max_depth': 3, 'max_features': 'sqrt', 'n_es...           0.234456   \n14  {'max_depth': 3, 'max_features': 'sqrt', 'n_es...           0.237776   \n15  {'max_depth': 3, 'max_features': 'log2', 'n_es...           0.234166   \n16  {'max_depth': 3, 'max_features': 'log2', 'n_es...           0.234456   \n17  {'max_depth': 3, 'max_features': 'log2', 'n_es...           0.237776   \n18  {'max_depth': 4, 'max_features': None, 'n_esti...           0.310702   \n19  {'max_depth': 4, 'max_features': None, 'n_esti...           0.311517   \n20  {'max_depth': 4, 'max_features': None, 'n_esti...           0.312620   \n21  {'max_depth': 4, 'max_features': 'sqrt', 'n_es...           0.270499   \n22  {'max_depth': 4, 'max_features': 'sqrt', 'n_es...           0.271918   \n23  {'max_depth': 4, 'max_features': 'sqrt', 'n_es...           0.274767   \n24  {'max_depth': 4, 'max_features': 'log2', 'n_es...           0.270499   \n25  {'max_depth': 4, 'max_features': 'log2', 'n_es...           0.271918   \n26  {'max_depth': 4, 'max_features': 'log2', 'n_es...           0.274767   \n27  {'max_depth': 5, 'max_features': None, 'n_esti...           0.339273   \n28  {'max_depth': 5, 'max_features': None, 'n_esti...           0.340104   \n29  {'max_depth': 5, 'max_features': None, 'n_esti...           0.341444   \n30  {'max_depth': 5, 'max_features': 'sqrt', 'n_es...           0.305920   \n31  {'max_depth': 5, 'max_features': 'sqrt', 'n_es...           0.309127   \n32  {'max_depth': 5, 'max_features': 'sqrt', 'n_es...           0.312208   \n33  {'max_depth': 5, 'max_features': 'log2', 'n_es...           0.305920   \n34  {'max_depth': 5, 'max_features': 'log2', 'n_es...           0.309127   \n35  {'max_depth': 5, 'max_features': 'log2', 'n_es...           0.312208   \n\n    split1_test_score  ...  mean_test_score  std_test_score  rank_test_score  \\\n0            0.519787  ...         0.494867        0.029056                9   \n1            0.527712  ...         0.499923        0.027076                8   \n2            0.530983  ...         0.504185        0.026009                7   \n3            0.541500  ...         0.513726        0.019023                5   \n4            0.546610  ...         0.516975        0.021228                3   \n5            0.548528  ...         0.519451        0.019682                1   \n6            0.541500  ...         0.513726        0.019023                5   \n7            0.546610  ...         0.516975        0.021228                3   \n8            0.548528  ...         0.519451        0.019682                1   \n9            0.282300  ...         0.277797        0.010569               30   \n10           0.283627  ...         0.278143        0.010253               28   \n11           0.283016  ...         0.277903        0.011186               29   \n12           0.241114  ...         0.242394        0.006717               33   \n13           0.242043  ...         0.241920        0.006351               35   \n14           0.243041  ...         0.244228        0.005608               31   \n15           0.241114  ...         0.242394        0.006717               33   \n16           0.242043  ...         0.241920        0.006351               35   \n17           0.243041  ...         0.244228        0.005608               31   \n18           0.314130  ...         0.308766        0.009647               21   \n19           0.313863  ...         0.309059        0.009736               20   \n20           0.314467  ...         0.309208        0.011002               19   \n21           0.284237  ...         0.281953        0.006369               24   \n22           0.284308  ...         0.281386        0.005764               26   \n23           0.284677  ...         0.283422        0.005594               22   \n24           0.284237  ...         0.281953        0.006369               24   \n25           0.284308  ...         0.281386        0.005764               26   \n26           0.284677  ...         0.283422        0.005594               22   \n27           0.344305  ...         0.337053        0.010128               12   \n28           0.344300  ...         0.337682        0.010973               11   \n29           0.344751  ...         0.337831        0.011649               10   \n30           0.322646  ...         0.314401        0.007479               15   \n31           0.319862  ...         0.313385        0.004888               17   \n32           0.318610  ...         0.315398        0.003817               13   \n33           0.322646  ...         0.314401        0.007479               15   \n34           0.319862  ...         0.313385        0.004888               17   \n35           0.318610  ...         0.315398        0.003817               13   \n\n    split0_train_score  split1_train_score  split2_train_score  \\\n0             0.924482            0.926193            0.926265   \n1             0.928390            0.928173            0.930022   \n2             0.930577            0.930457            0.932339   \n3             0.926927            0.926355            0.928265   \n4             0.930092            0.929365            0.932074   \n5             0.932615            0.931809            0.934238   \n6             0.926927            0.926355            0.928265   \n7             0.930092            0.929365            0.932074   \n8             0.932615            0.931809            0.934238   \n9             0.298730            0.295226            0.295886   \n10            0.299678            0.295598            0.297253   \n11            0.300500            0.295730            0.297466   \n12            0.259962            0.257658            0.256716   \n13            0.259947            0.258353            0.256249   \n14            0.262839            0.260933            0.258806   \n15            0.259962            0.257658            0.256716   \n16            0.259947            0.258353            0.256249   \n17            0.262839            0.260933            0.258806   \n18            0.349054            0.348255            0.349028   \n19            0.349201            0.348301            0.351318   \n20            0.349927            0.348922            0.351058   \n21            0.309016            0.309455            0.311576   \n22            0.310198            0.310761            0.310904   \n23            0.314564            0.313061            0.313904   \n24            0.309016            0.309455            0.311576   \n25            0.310198            0.310761            0.310904   \n26            0.314564            0.313061            0.313904   \n27            0.402319            0.403283            0.405946   \n28            0.402177            0.403960            0.408613   \n29            0.403460            0.404274            0.407991   \n30            0.362654            0.358750            0.365891   \n31            0.364762            0.359336            0.363264   \n32            0.366164            0.360877            0.365164   \n33            0.362654            0.358750            0.365891   \n34            0.364762            0.359336            0.363264   \n35            0.366164            0.360877            0.365164   \n\n    split3_train_score  split4_train_score  mean_train_score  std_train_score  \n0             0.929021            0.925797          0.926352         0.001481  \n1             0.931254            0.928646          0.929297         0.001172  \n2             0.932426            0.931537          0.931467         0.000836  \n3             0.930248            0.926515          0.927662         0.001457  \n4             0.932768            0.930741          0.931008         0.001253  \n5             0.933806            0.933702          0.933234         0.000891  \n6             0.930248            0.926515          0.927662         0.001457  \n7             0.932768            0.930741          0.931008         0.001253  \n8             0.933806            0.933702          0.933234         0.000891  \n9             0.300949            0.290942          0.296346         0.003392  \n10            0.301224            0.291212          0.296993         0.003480  \n11            0.299664            0.291579          0.296988         0.003180  \n12            0.259976            0.256696          0.258202         0.001484  \n13            0.260578            0.255286          0.258083         0.002048  \n14            0.263615            0.258147          0.260868         0.002149  \n15            0.259976            0.256696          0.258202         0.001484  \n16            0.260578            0.255286          0.258083         0.002048  \n17            0.263615            0.258147          0.260868         0.002149  \n18            0.353484            0.341591          0.348282         0.003821  \n19            0.354343            0.341683          0.348969         0.004195  \n20            0.353437            0.341995          0.349068         0.003843  \n21            0.310413            0.305630          0.309218         0.001998  \n22            0.311425            0.306245          0.309907         0.001872  \n23            0.314276            0.309869          0.313135         0.001709  \n24            0.310413            0.305630          0.309218         0.001998  \n25            0.311425            0.306245          0.309907         0.001872  \n26            0.314276            0.309869          0.313135         0.001709  \n27            0.409733            0.397347          0.403726         0.004096  \n28            0.410337            0.397061          0.404430         0.004732  \n29            0.410322            0.397614          0.404732         0.004344  \n30            0.364398            0.359096          0.362158         0.002835  \n31            0.366594            0.358573          0.362506         0.003095  \n32            0.368571            0.360749          0.364305         0.003059  \n33            0.364398            0.359096          0.362158         0.002835  \n34            0.366594            0.358573          0.362506         0.003095  \n35            0.368571            0.360749          0.364305         0.003059  \n\n[36 rows x 23 columns]",
      "text/html": "<div>\n<style scoped>\n    .dataframe tbody tr th:only-of-type {\n        vertical-align: middle;\n    }\n\n    .dataframe tbody tr th {\n        vertical-align: top;\n    }\n\n    .dataframe thead th {\n        text-align: right;\n    }\n</style>\n<table border=\"1\" class=\"dataframe\">\n  <thead>\n    <tr style=\"text-align: right;\">\n      <th></th>\n      <th>mean_fit_time</th>\n      <th>std_fit_time</th>\n      <th>mean_score_time</th>\n      <th>std_score_time</th>\n      <th>param_max_depth</th>\n      <th>param_max_features</th>\n      <th>param_n_estimators</th>\n      <th>params</th>\n      <th>split0_test_score</th>\n      <th>split1_test_score</th>\n      <th>...</th>\n      <th>mean_test_score</th>\n      <th>std_test_score</th>\n      <th>rank_test_score</th>\n      <th>split0_train_score</th>\n      <th>split1_train_score</th>\n      <th>split2_train_score</th>\n      <th>split3_train_score</th>\n      <th>split4_train_score</th>\n      <th>mean_train_score</th>\n      <th>std_train_score</th>\n    </tr>\n  </thead>\n  <tbody>\n    <tr>\n      <th>0</th>\n      <td>7.846170</td>\n      <td>0.315238</td>\n      <td>0.162332</td>\n      <td>0.149425</td>\n      <td>None</td>\n      <td>None</td>\n      <td>50</td>\n      <td>{'max_depth': None, 'max_features': None, 'n_e...</td>\n      <td>0.524629</td>\n      <td>0.519787</td>\n      <td>...</td>\n      <td>0.494867</td>\n      <td>0.029056</td>\n      <td>9</td>\n      <td>0.924482</td>\n      <td>0.926193</td>\n      <td>0.926265</td>\n      <td>0.929021</td>\n      <td>0.925797</td>\n      <td>0.926352</td>\n      <td>0.001481</td>\n    </tr>\n    <tr>\n      <th>1</th>\n      <td>18.919651</td>\n      <td>0.397345</td>\n      <td>0.076003</td>\n      <td>0.011773</td>\n      <td>None</td>\n      <td>None</td>\n      <td>100</td>\n      <td>{'max_depth': None, 'max_features': None, 'n_e...</td>\n      <td>0.524074</td>\n      <td>0.527712</td>\n      <td>...</td>\n      <td>0.499923</td>\n      <td>0.027076</td>\n      <td>8</td>\n      <td>0.928390</td>\n      <td>0.928173</td>\n      <td>0.930022</td>\n      <td>0.931254</td>\n      <td>0.928646</td>\n      <td>0.929297</td>\n      <td>0.001172</td>\n    </tr>\n    <tr>\n      <th>2</th>\n      <td>36.901868</td>\n      <td>0.700976</td>\n      <td>0.142211</td>\n      <td>0.010378</td>\n      <td>None</td>\n      <td>None</td>\n      <td>200</td>\n      <td>{'max_depth': None, 'max_features': None, 'n_e...</td>\n      <td>0.526658</td>\n      <td>0.530983</td>\n      <td>...</td>\n      <td>0.504185</td>\n      <td>0.026009</td>\n      <td>7</td>\n      <td>0.930577</td>\n      <td>0.930457</td>\n      <td>0.932339</td>\n      <td>0.932426</td>\n      <td>0.931537</td>\n      <td>0.931467</td>\n      <td>0.000836</td>\n    </tr>\n    <tr>\n      <th>3</th>\n      <td>2.673916</td>\n      <td>0.063558</td>\n      <td>0.040626</td>\n      <td>0.007655</td>\n      <td>None</td>\n      <td>sqrt</td>\n      <td>50</td>\n      <td>{'max_depth': None, 'max_features': 'sqrt', 'n...</td>\n      <td>0.521738</td>\n      <td>0.541500</td>\n      <td>...</td>\n      <td>0.513726</td>\n      <td>0.019023</td>\n      <td>5</td>\n      <td>0.926927</td>\n      <td>0.926355</td>\n      <td>0.928265</td>\n      <td>0.930248</td>\n      <td>0.926515</td>\n      <td>0.927662</td>\n      <td>0.001457</td>\n    </tr>\n    <tr>\n      <th>4</th>\n      <td>5.410361</td>\n      <td>0.099975</td>\n      <td>0.071876</td>\n      <td>0.007656</td>\n      <td>None</td>\n      <td>sqrt</td>\n      <td>100</td>\n      <td>{'max_depth': None, 'max_features': 'sqrt', 'n...</td>\n      <td>0.528939</td>\n      <td>0.546610</td>\n      <td>...</td>\n      <td>0.516975</td>\n      <td>0.021228</td>\n      <td>3</td>\n      <td>0.930092</td>\n      <td>0.929365</td>\n      <td>0.932074</td>\n      <td>0.932768</td>\n      <td>0.930741</td>\n      <td>0.931008</td>\n      <td>0.001253</td>\n    </tr>\n    <tr>\n      <th>5</th>\n      <td>11.155184</td>\n      <td>0.332765</td>\n      <td>0.161254</td>\n      <td>0.042424</td>\n      <td>None</td>\n      <td>sqrt</td>\n      <td>200</td>\n      <td>{'max_depth': None, 'max_features': 'sqrt', 'n...</td>\n      <td>0.529189</td>\n      <td>0.548528</td>\n      <td>...</td>\n      <td>0.519451</td>\n      <td>0.019682</td>\n      <td>1</td>\n      <td>0.932615</td>\n      <td>0.931809</td>\n      <td>0.934238</td>\n      <td>0.933806</td>\n      <td>0.933702</td>\n      <td>0.933234</td>\n      <td>0.000891</td>\n    </tr>\n    <tr>\n      <th>6</th>\n      <td>3.023378</td>\n      <td>0.301075</td>\n      <td>0.050613</td>\n      <td>0.010907</td>\n      <td>None</td>\n      <td>log2</td>\n      <td>50</td>\n      <td>{'max_depth': None, 'max_features': 'log2', 'n...</td>\n      <td>0.521738</td>\n      <td>0.541500</td>\n      <td>...</td>\n      <td>0.513726</td>\n      <td>0.019023</td>\n      <td>5</td>\n      <td>0.926927</td>\n      <td>0.926355</td>\n      <td>0.928265</td>\n      <td>0.930248</td>\n      <td>0.926515</td>\n      <td>0.927662</td>\n      <td>0.001457</td>\n    </tr>\n    <tr>\n      <th>7</th>\n      <td>5.357520</td>\n      <td>0.151877</td>\n      <td>0.078126</td>\n      <td>0.009882</td>\n      <td>None</td>\n      <td>log2</td>\n      <td>100</td>\n      <td>{'max_depth': None, 'max_features': 'log2', 'n...</td>\n      <td>0.528939</td>\n      <td>0.546610</td>\n      <td>...</td>\n      <td>0.516975</td>\n      <td>0.021228</td>\n      <td>3</td>\n      <td>0.930092</td>\n      <td>0.929365</td>\n      <td>0.932074</td>\n      <td>0.932768</td>\n      <td>0.930741</td>\n      <td>0.931008</td>\n      <td>0.001253</td>\n    </tr>\n    <tr>\n      <th>8</th>\n      <td>10.417827</td>\n      <td>0.064719</td>\n      <td>0.140625</td>\n      <td>0.000002</td>\n      <td>None</td>\n      <td>log2</td>\n      <td>200</td>\n      <td>{'max_depth': None, 'max_features': 'log2', 'n...</td>\n      <td>0.529189</td>\n      <td>0.548528</td>\n      <td>...</td>\n      <td>0.519451</td>\n      <td>0.019682</td>\n      <td>1</td>\n      <td>0.932615</td>\n      <td>0.931809</td>\n      <td>0.934238</td>\n      <td>0.933806</td>\n      <td>0.933702</td>\n      <td>0.933234</td>\n      <td>0.000891</td>\n    </tr>\n    <tr>\n      <th>9</th>\n      <td>1.115772</td>\n      <td>0.021260</td>\n      <td>0.018750</td>\n      <td>0.006250</td>\n      <td>3</td>\n      <td>None</td>\n      <td>50</td>\n      <td>{'max_depth': 3, 'max_features': None, 'n_esti...</td>\n      <td>0.277751</td>\n      <td>0.282300</td>\n      <td>...</td>\n      <td>0.277797</td>\n      <td>0.010569</td>\n      <td>30</td>\n      <td>0.298730</td>\n      <td>0.295226</td>\n      <td>0.295886</td>\n      <td>0.300949</td>\n      <td>0.290942</td>\n      <td>0.296346</td>\n      <td>0.003392</td>\n    </tr>\n    <tr>\n      <th>10</th>\n      <td>2.295050</td>\n      <td>0.035583</td>\n      <td>0.037776</td>\n      <td>0.008405</td>\n      <td>3</td>\n      <td>None</td>\n      <td>100</td>\n      <td>{'max_depth': 3, 'max_features': None, 'n_esti...</td>\n      <td>0.277559</td>\n      <td>0.283627</td>\n      <td>...</td>\n      <td>0.278143</td>\n      <td>0.010253</td>\n      <td>28</td>\n      <td>0.299678</td>\n      <td>0.295598</td>\n      <td>0.297253</td>\n      <td>0.301224</td>\n      <td>0.291212</td>\n      <td>0.296993</td>\n      <td>0.003480</td>\n    </tr>\n    <tr>\n      <th>11</th>\n      <td>4.616632</td>\n      <td>0.037032</td>\n      <td>0.075755</td>\n      <td>0.006786</td>\n      <td>3</td>\n      <td>None</td>\n      <td>200</td>\n      <td>{'max_depth': 3, 'max_features': None, 'n_esti...</td>\n      <td>0.278689</td>\n      <td>0.283016</td>\n      <td>...</td>\n      <td>0.277903</td>\n      <td>0.011186</td>\n      <td>29</td>\n      <td>0.300500</td>\n      <td>0.295730</td>\n      <td>0.297466</td>\n      <td>0.299664</td>\n      <td>0.291579</td>\n      <td>0.296988</td>\n      <td>0.003180</td>\n    </tr>\n    <tr>\n      <th>12</th>\n      <td>0.469538</td>\n      <td>0.032406</td>\n      <td>0.021875</td>\n      <td>0.007655</td>\n      <td>3</td>\n      <td>sqrt</td>\n      <td>50</td>\n      <td>{'max_depth': 3, 'max_features': 'sqrt', 'n_es...</td>\n      <td>0.234166</td>\n      <td>0.241114</td>\n      <td>...</td>\n      <td>0.242394</td>\n      <td>0.006717</td>\n      <td>33</td>\n      <td>0.259962</td>\n      <td>0.257658</td>\n      <td>0.256716</td>\n      <td>0.259976</td>\n      <td>0.256696</td>\n      <td>0.258202</td>\n      <td>0.001484</td>\n    </tr>\n    <tr>\n      <th>13</th>\n      <td>0.855933</td>\n      <td>0.036069</td>\n      <td>0.039591</td>\n      <td>0.007067</td>\n      <td>3</td>\n      <td>sqrt</td>\n      <td>100</td>\n      <td>{'max_depth': 3, 'max_features': 'sqrt', 'n_es...</td>\n      <td>0.234456</td>\n      <td>0.242043</td>\n      <td>...</td>\n      <td>0.241920</td>\n      <td>0.006351</td>\n      <td>35</td>\n      <td>0.259947</td>\n      <td>0.258353</td>\n      <td>0.256249</td>\n      <td>0.260578</td>\n      <td>0.255286</td>\n      <td>0.258083</td>\n      <td>0.002048</td>\n    </tr>\n    <tr>\n      <th>14</th>\n      <td>1.789286</td>\n      <td>0.025001</td>\n      <td>0.071875</td>\n      <td>0.007655</td>\n      <td>3</td>\n      <td>sqrt</td>\n      <td>200</td>\n      <td>{'max_depth': 3, 'max_features': 'sqrt', 'n_es...</td>\n      <td>0.237776</td>\n      <td>0.243041</td>\n      <td>...</td>\n      <td>0.244228</td>\n      <td>0.005608</td>\n      <td>31</td>\n      <td>0.262839</td>\n      <td>0.260933</td>\n      <td>0.258806</td>\n      <td>0.263615</td>\n      <td>0.258147</td>\n      <td>0.260868</td>\n      <td>0.002149</td>\n    </tr>\n    <tr>\n      <th>15</th>\n      <td>0.446272</td>\n      <td>0.035995</td>\n      <td>0.023848</td>\n      <td>0.007028</td>\n      <td>3</td>\n      <td>log2</td>\n      <td>50</td>\n      <td>{'max_depth': 3, 'max_features': 'log2', 'n_es...</td>\n      <td>0.234166</td>\n      <td>0.241114</td>\n      <td>...</td>\n      <td>0.242394</td>\n      <td>0.006717</td>\n      <td>33</td>\n      <td>0.259962</td>\n      <td>0.257658</td>\n      <td>0.256716</td>\n      <td>0.259976</td>\n      <td>0.256696</td>\n      <td>0.258202</td>\n      <td>0.001484</td>\n    </tr>\n    <tr>\n      <th>16</th>\n      <td>0.903127</td>\n      <td>0.025000</td>\n      <td>0.040625</td>\n      <td>0.007655</td>\n      <td>3</td>\n      <td>log2</td>\n      <td>100</td>\n      <td>{'max_depth': 3, 'max_features': 'log2', 'n_es...</td>\n      <td>0.234456</td>\n      <td>0.242043</td>\n      <td>...</td>\n      <td>0.241920</td>\n      <td>0.006351</td>\n      <td>35</td>\n      <td>0.259947</td>\n      <td>0.258353</td>\n      <td>0.256249</td>\n      <td>0.260578</td>\n      <td>0.255286</td>\n      <td>0.258083</td>\n      <td>0.002048</td>\n    </tr>\n    <tr>\n      <th>17</th>\n      <td>1.808924</td>\n      <td>0.058464</td>\n      <td>0.065626</td>\n      <td>0.006253</td>\n      <td>3</td>\n      <td>log2</td>\n      <td>200</td>\n      <td>{'max_depth': 3, 'max_features': 'log2', 'n_es...</td>\n      <td>0.237776</td>\n      <td>0.243041</td>\n      <td>...</td>\n      <td>0.244228</td>\n      <td>0.005608</td>\n      <td>31</td>\n      <td>0.262839</td>\n      <td>0.260933</td>\n      <td>0.258806</td>\n      <td>0.263615</td>\n      <td>0.258147</td>\n      <td>0.260868</td>\n      <td>0.002149</td>\n    </tr>\n    <tr>\n      <th>18</th>\n      <td>1.591605</td>\n      <td>0.054513</td>\n      <td>0.018750</td>\n      <td>0.006251</td>\n      <td>4</td>\n      <td>None</td>\n      <td>50</td>\n      <td>{'max_depth': 4, 'max_features': None, 'n_esti...</td>\n      <td>0.310702</td>\n      <td>0.314130</td>\n      <td>...</td>\n      <td>0.308766</td>\n      <td>0.009647</td>\n      <td>21</td>\n      <td>0.349054</td>\n      <td>0.348255</td>\n      <td>0.349028</td>\n      <td>0.353484</td>\n      <td>0.341591</td>\n      <td>0.348282</td>\n      <td>0.003821</td>\n    </tr>\n    <tr>\n      <th>19</th>\n      <td>3.061959</td>\n      <td>0.022098</td>\n      <td>0.043752</td>\n      <td>0.006250</td>\n      <td>4</td>\n      <td>None</td>\n      <td>100</td>\n      <td>{'max_depth': 4, 'max_features': None, 'n_esti...</td>\n      <td>0.311517</td>\n      <td>0.313863</td>\n      <td>...</td>\n      <td>0.309059</td>\n      <td>0.009736</td>\n      <td>20</td>\n      <td>0.349201</td>\n      <td>0.348301</td>\n      <td>0.351318</td>\n      <td>0.354343</td>\n      <td>0.341683</td>\n      <td>0.348969</td>\n      <td>0.004195</td>\n    </tr>\n    <tr>\n      <th>20</th>\n      <td>6.259051</td>\n      <td>0.100716</td>\n      <td>0.078126</td>\n      <td>0.009882</td>\n      <td>4</td>\n      <td>None</td>\n      <td>200</td>\n      <td>{'max_depth': 4, 'max_features': None, 'n_esti...</td>\n      <td>0.312620</td>\n      <td>0.314467</td>\n      <td>...</td>\n      <td>0.309208</td>\n      <td>0.011002</td>\n      <td>19</td>\n      <td>0.349927</td>\n      <td>0.348922</td>\n      <td>0.351058</td>\n      <td>0.353437</td>\n      <td>0.341995</td>\n      <td>0.349068</td>\n      <td>0.003843</td>\n    </tr>\n    <tr>\n      <th>21</th>\n      <td>0.524999</td>\n      <td>0.007655</td>\n      <td>0.025000</td>\n      <td>0.007655</td>\n      <td>4</td>\n      <td>sqrt</td>\n      <td>50</td>\n      <td>{'max_depth': 4, 'max_features': 'sqrt', 'n_es...</td>\n      <td>0.270499</td>\n      <td>0.284237</td>\n      <td>...</td>\n      <td>0.281953</td>\n      <td>0.006369</td>\n      <td>24</td>\n      <td>0.309016</td>\n      <td>0.309455</td>\n      <td>0.311576</td>\n      <td>0.310413</td>\n      <td>0.305630</td>\n      <td>0.309218</td>\n      <td>0.001998</td>\n    </tr>\n    <tr>\n      <th>22</th>\n      <td>1.081249</td>\n      <td>0.036174</td>\n      <td>0.037501</td>\n      <td>0.007655</td>\n      <td>4</td>\n      <td>sqrt</td>\n      <td>100</td>\n      <td>{'max_depth': 4, 'max_features': 'sqrt', 'n_es...</td>\n      <td>0.271918</td>\n      <td>0.284308</td>\n      <td>...</td>\n      <td>0.281386</td>\n      <td>0.005764</td>\n      <td>26</td>\n      <td>0.310198</td>\n      <td>0.310761</td>\n      <td>0.310904</td>\n      <td>0.311425</td>\n      <td>0.306245</td>\n      <td>0.309907</td>\n      <td>0.001872</td>\n    </tr>\n    <tr>\n      <th>23</th>\n      <td>2.153125</td>\n      <td>0.050775</td>\n      <td>0.078127</td>\n      <td>0.009883</td>\n      <td>4</td>\n      <td>sqrt</td>\n      <td>200</td>\n      <td>{'max_depth': 4, 'max_features': 'sqrt', 'n_es...</td>\n      <td>0.274767</td>\n      <td>0.284677</td>\n      <td>...</td>\n      <td>0.283422</td>\n      <td>0.005594</td>\n      <td>22</td>\n      <td>0.314564</td>\n      <td>0.313061</td>\n      <td>0.313904</td>\n      <td>0.314276</td>\n      <td>0.309869</td>\n      <td>0.313135</td>\n      <td>0.001709</td>\n    </tr>\n    <tr>\n      <th>24</th>\n      <td>0.549998</td>\n      <td>0.031873</td>\n      <td>0.021875</td>\n      <td>0.007655</td>\n      <td>4</td>\n      <td>log2</td>\n      <td>50</td>\n      <td>{'max_depth': 4, 'max_features': 'log2', 'n_es...</td>\n      <td>0.270499</td>\n      <td>0.284237</td>\n      <td>...</td>\n      <td>0.281953</td>\n      <td>0.006369</td>\n      <td>24</td>\n      <td>0.309016</td>\n      <td>0.309455</td>\n      <td>0.311576</td>\n      <td>0.310413</td>\n      <td>0.305630</td>\n      <td>0.309218</td>\n      <td>0.001998</td>\n    </tr>\n    <tr>\n      <th>25</th>\n      <td>1.074999</td>\n      <td>0.036176</td>\n      <td>0.040625</td>\n      <td>0.007656</td>\n      <td>4</td>\n      <td>log2</td>\n      <td>100</td>\n      <td>{'max_depth': 4, 'max_features': 'log2', 'n_es...</td>\n      <td>0.271918</td>\n      <td>0.284308</td>\n      <td>...</td>\n      <td>0.281386</td>\n      <td>0.005764</td>\n      <td>26</td>\n      <td>0.310198</td>\n      <td>0.310761</td>\n      <td>0.310904</td>\n      <td>0.311425</td>\n      <td>0.306245</td>\n      <td>0.309907</td>\n      <td>0.001872</td>\n    </tr>\n    <tr>\n      <th>26</th>\n      <td>2.131611</td>\n      <td>0.021038</td>\n      <td>0.073199</td>\n      <td>0.004165</td>\n      <td>4</td>\n      <td>log2</td>\n      <td>200</td>\n      <td>{'max_depth': 4, 'max_features': 'log2', 'n_es...</td>\n      <td>0.274767</td>\n      <td>0.284677</td>\n      <td>...</td>\n      <td>0.283422</td>\n      <td>0.005594</td>\n      <td>22</td>\n      <td>0.314564</td>\n      <td>0.313061</td>\n      <td>0.313904</td>\n      <td>0.314276</td>\n      <td>0.309869</td>\n      <td>0.313135</td>\n      <td>0.001709</td>\n    </tr>\n    <tr>\n      <th>27</th>\n      <td>2.066364</td>\n      <td>0.015133</td>\n      <td>0.022775</td>\n      <td>0.005064</td>\n      <td>5</td>\n      <td>None</td>\n      <td>50</td>\n      <td>{'max_depth': 5, 'max_features': None, 'n_esti...</td>\n      <td>0.339273</td>\n      <td>0.344305</td>\n      <td>...</td>\n      <td>0.337053</td>\n      <td>0.010128</td>\n      <td>12</td>\n      <td>0.402319</td>\n      <td>0.403283</td>\n      <td>0.405946</td>\n      <td>0.409733</td>\n      <td>0.397347</td>\n      <td>0.403726</td>\n      <td>0.004096</td>\n    </tr>\n    <tr>\n      <th>28</th>\n      <td>4.100205</td>\n      <td>0.041042</td>\n      <td>0.050003</td>\n      <td>0.006249</td>\n      <td>5</td>\n      <td>None</td>\n      <td>100</td>\n      <td>{'max_depth': 5, 'max_features': None, 'n_esti...</td>\n      <td>0.340104</td>\n      <td>0.344300</td>\n      <td>...</td>\n      <td>0.337682</td>\n      <td>0.010973</td>\n      <td>11</td>\n      <td>0.402177</td>\n      <td>0.403960</td>\n      <td>0.408613</td>\n      <td>0.410337</td>\n      <td>0.397061</td>\n      <td>0.404430</td>\n      <td>0.004732</td>\n    </tr>\n    <tr>\n      <th>29</th>\n      <td>8.413076</td>\n      <td>0.094951</td>\n      <td>0.071875</td>\n      <td>0.007656</td>\n      <td>5</td>\n      <td>None</td>\n      <td>200</td>\n      <td>{'max_depth': 5, 'max_features': None, 'n_esti...</td>\n      <td>0.341444</td>\n      <td>0.344751</td>\n      <td>...</td>\n      <td>0.337831</td>\n      <td>0.011649</td>\n      <td>10</td>\n      <td>0.403460</td>\n      <td>0.404274</td>\n      <td>0.407991</td>\n      <td>0.410322</td>\n      <td>0.397614</td>\n      <td>0.404732</td>\n      <td>0.004344</td>\n    </tr>\n    <tr>\n      <th>30</th>\n      <td>0.703125</td>\n      <td>0.081489</td>\n      <td>0.028125</td>\n      <td>0.018221</td>\n      <td>5</td>\n      <td>sqrt</td>\n      <td>50</td>\n      <td>{'max_depth': 5, 'max_features': 'sqrt', 'n_es...</td>\n      <td>0.305920</td>\n      <td>0.322646</td>\n      <td>...</td>\n      <td>0.314401</td>\n      <td>0.007479</td>\n      <td>15</td>\n      <td>0.362654</td>\n      <td>0.358750</td>\n      <td>0.365891</td>\n      <td>0.364398</td>\n      <td>0.359096</td>\n      <td>0.362158</td>\n      <td>0.002835</td>\n    </tr>\n    <tr>\n      <th>31</th>\n      <td>1.300001</td>\n      <td>0.030297</td>\n      <td>0.040625</td>\n      <td>0.007655</td>\n      <td>5</td>\n      <td>sqrt</td>\n      <td>100</td>\n      <td>{'max_depth': 5, 'max_features': 'sqrt', 'n_es...</td>\n      <td>0.309127</td>\n      <td>0.319862</td>\n      <td>...</td>\n      <td>0.313385</td>\n      <td>0.004888</td>\n      <td>17</td>\n      <td>0.364762</td>\n      <td>0.359336</td>\n      <td>0.363264</td>\n      <td>0.366594</td>\n      <td>0.358573</td>\n      <td>0.362506</td>\n      <td>0.003095</td>\n    </tr>\n    <tr>\n      <th>32</th>\n      <td>2.556253</td>\n      <td>0.028979</td>\n      <td>0.071873</td>\n      <td>0.007654</td>\n      <td>5</td>\n      <td>sqrt</td>\n      <td>200</td>\n      <td>{'max_depth': 5, 'max_features': 'sqrt', 'n_es...</td>\n      <td>0.312208</td>\n      <td>0.318610</td>\n      <td>...</td>\n      <td>0.315398</td>\n      <td>0.003817</td>\n      <td>13</td>\n      <td>0.366164</td>\n      <td>0.360877</td>\n      <td>0.365164</td>\n      <td>0.368571</td>\n      <td>0.360749</td>\n      <td>0.364305</td>\n      <td>0.003059</td>\n    </tr>\n    <tr>\n      <th>33</th>\n      <td>0.646877</td>\n      <td>0.028980</td>\n      <td>0.025000</td>\n      <td>0.007655</td>\n      <td>5</td>\n      <td>log2</td>\n      <td>50</td>\n      <td>{'max_depth': 5, 'max_features': 'log2', 'n_es...</td>\n      <td>0.305920</td>\n      <td>0.322646</td>\n      <td>...</td>\n      <td>0.314401</td>\n      <td>0.007479</td>\n      <td>15</td>\n      <td>0.362654</td>\n      <td>0.358750</td>\n      <td>0.365891</td>\n      <td>0.364398</td>\n      <td>0.359096</td>\n      <td>0.362158</td>\n      <td>0.002835</td>\n    </tr>\n    <tr>\n      <th>34</th>\n      <td>1.281251</td>\n      <td>0.027950</td>\n      <td>0.053125</td>\n      <td>0.007653</td>\n      <td>5</td>\n      <td>log2</td>\n      <td>100</td>\n      <td>{'max_depth': 5, 'max_features': 'log2', 'n_es...</td>\n      <td>0.309127</td>\n      <td>0.319862</td>\n      <td>...</td>\n      <td>0.313385</td>\n      <td>0.004888</td>\n      <td>17</td>\n      <td>0.364762</td>\n      <td>0.359336</td>\n      <td>0.363264</td>\n      <td>0.366594</td>\n      <td>0.358573</td>\n      <td>0.362506</td>\n      <td>0.003095</td>\n    </tr>\n    <tr>\n      <th>35</th>\n      <td>2.134375</td>\n      <td>0.052846</td>\n      <td>0.049998</td>\n      <td>0.011694</td>\n      <td>5</td>\n      <td>log2</td>\n      <td>200</td>\n      <td>{'max_depth': 5, 'max_features': 'log2', 'n_es...</td>\n      <td>0.312208</td>\n      <td>0.318610</td>\n      <td>...</td>\n      <td>0.315398</td>\n      <td>0.003817</td>\n      <td>13</td>\n      <td>0.366164</td>\n      <td>0.360877</td>\n      <td>0.365164</td>\n      <td>0.368571</td>\n      <td>0.360749</td>\n      <td>0.364305</td>\n      <td>0.003059</td>\n    </tr>\n  </tbody>\n</table>\n<p>36 rows × 23 columns</p>\n</div>"
     },
     "execution_count": 61,
     "metadata": {},
     "output_type": "execute_result"
    }
   ],
   "source": [
    "pd.DataFrame(search_random_forest.cv_results_)"
   ],
   "metadata": {
    "collapsed": false,
    "ExecuteTime": {
     "end_time": "2024-01-05T15:02:51.628493200Z",
     "start_time": "2024-01-05T15:02:51.581619100Z"
    }
   },
   "id": "b5bd145a7f32d4b0"
  },
  {
   "cell_type": "markdown",
   "source": [
    "## Analiza\n",
    "\n",
    "Na tym tym posiadam już dostrojone, finalne modele. Teraz zostaną one porównane wg następujących metryk:\n",
    "\n",
    "- MAE\n",
    "- MSE\n",
    "- MAPE\n",
    "- RMSE\n",
    "- R2"
   ],
   "metadata": {
    "collapsed": false
   },
   "id": "2fa5889a8608d2f1"
  },
  {
   "cell_type": "code",
   "execution_count": 62,
   "outputs": [],
   "source": [
    "final_models = [(\"linear_regression\", linreg), (\"knn\", search_knn.best_estimator_), (\"random_forest\", search_random_forest.best_estimator_)]"
   ],
   "metadata": {
    "collapsed": false,
    "ExecuteTime": {
     "end_time": "2024-01-05T16:34:52.807775500Z",
     "start_time": "2024-01-05T16:34:52.326887300Z"
    }
   },
   "id": "76d5d9e8dd5de007"
  },
  {
   "cell_type": "code",
   "execution_count": 65,
   "outputs": [
    {
     "name": "stderr",
     "output_type": "stream",
     "text": [
      "2024/01/05 17:36:26 WARNING mlflow.models.signature: Failed to infer the model signature from the input example. Reason: ValueError('The feature names should match those that were passed during fit.\\nFeature names unseen at fit time:\\n- type\\nFeature names seen at fit time, yet now missing:\\n- type_red\\n- type_white\\n'). To see the full traceback, set the logging level to DEBUG via `logging.getLogger(\"mlflow\").setLevel(logging.DEBUG)`. To disable automatic signature inference, set `signature` to `False` in your `log_model` or `save_model` call.\n",
      "C:\\Users\\Mateusz\\miniconda3\\envs\\regression-methods-comparison\\lib\\site-packages\\_distutils_hack\\__init__.py:33: UserWarning: Setuptools is replacing distutils.\n",
      "  warnings.warn(\"Setuptools is replacing distutils.\")\n",
      "2024/01/05 17:37:33 WARNING mlflow.models.signature: Failed to infer the model signature from the input example. Reason: ValueError('The feature names should match those that were passed during fit.\\nFeature names unseen at fit time:\\n- type\\nFeature names seen at fit time, yet now missing:\\n- type_red\\n- type_white\\n'). To see the full traceback, set the logging level to DEBUG via `logging.getLogger(\"mlflow\").setLevel(logging.DEBUG)`. To disable automatic signature inference, set `signature` to `False` in your `log_model` or `save_model` call.\n",
      "2024/01/05 17:37:55 WARNING mlflow.models.signature: Failed to infer the model signature from the input example. Reason: ValueError('The feature names should match those that were passed during fit.\\nFeature names unseen at fit time:\\n- type\\nFeature names seen at fit time, yet now missing:\\n- type_red\\n- type_white\\n'). To see the full traceback, set the logging level to DEBUG via `logging.getLogger(\"mlflow\").setLevel(logging.DEBUG)`. To disable automatic signature inference, set `signature` to `False` in your `log_model` or `save_model` call.\n"
     ]
    }
   ],
   "source": [
    "mlflow.set_tracking_uri(uri=\"http://127.0.0.1:8080\")\n",
    "mlflow.set_experiment(\"Wine_quality\")\n",
    "\n",
    "for model_name, model in final_models:\n",
    "    params = search_random_forest.best_estimator_.get_params()\n",
    "    \n",
    "    y_pred = model.predict(preprocessing_pipe.transform(X_test))\n",
    "    \n",
    "    mae = mean_absolute_error(y_test, y_pred)\n",
    "    mse = mean_squared_error(y_test, y_pred)\n",
    "    mape = mean_absolute_percentage_error(y_test, y_pred)\n",
    "    rmse = np.sqrt(mse)\n",
    "    r2 = r2_score(y_test, y_pred)\n",
    "    \n",
    "    metrics = {\"mae\": mae, \"mse\": mse, \"mape\": mape, \"rmse\": rmse, \"r2\": r2}\n",
    "    \n",
    "    with mlflow.start_run(run_name=model_name) as run:\n",
    "        mlflow.log_params(params)\n",
    "    \n",
    "        mlflow.log_metrics(metrics)\n",
    "        \n",
    "        model_info = mlflow.sklearn.log_model(\n",
    "            sk_model=model,\n",
    "            artifact_path=\"wine_quality\",\n",
    "            input_example=X_test,\n",
    "        )\n"
   ],
   "metadata": {
    "collapsed": false,
    "ExecuteTime": {
     "end_time": "2024-01-05T16:38:52.539929400Z",
     "start_time": "2024-01-05T16:36:03.000699Z"
    }
   },
   "id": "c898b35b61f92025"
  },
  {
   "cell_type": "code",
   "execution_count": null,
   "outputs": [],
   "source": [],
   "metadata": {
    "collapsed": false
   },
   "id": "c332aa77179d60cf"
  }
 ],
 "metadata": {
  "kernelspec": {
   "name": "conda-env-regression-methods-comparison-py",
   "language": "python",
   "display_name": "Python [conda env:regression-methods-comparison]"
  },
  "language_info": {
   "codemirror_mode": {
    "name": "ipython",
    "version": 2
   },
   "file_extension": ".py",
   "mimetype": "text/x-python",
   "name": "python",
   "nbconvert_exporter": "python",
   "pygments_lexer": "ipython2",
   "version": "2.7.6"
  }
 },
 "nbformat": 4,
 "nbformat_minor": 5
}
