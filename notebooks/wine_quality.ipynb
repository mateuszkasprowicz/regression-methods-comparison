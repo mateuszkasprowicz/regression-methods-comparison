{
 "cells": [
  {
   "cell_type": "markdown",
   "id": "8e6a5c08fdf59c41",
   "metadata": {
    "collapsed": false
   },
   "source": [
    "# Porównanie 3 metod regresji na podstawie 3 różnych zbiorów danych: Jakość wina\n",
    "\n",
    "W niniejszej pracy wykorzystuję metody:\n",
    "- K najbliższych sąsiądów (KNN)\n",
    "- Regresji liniowej\n",
    "- Lasu losowego\n",
    "\n",
    "Używam następujących zbiorów danych:\n",
    "- [Wine Quality](https://www.kaggle.com/datasets/rajyellow46/wine-quality)\n",
    "    - zmienna objaśniana: jakość wina"
   ]
  },
  {
   "cell_type": "markdown",
   "id": "cdbcf20ba0c64295",
   "metadata": {
    "collapsed": false
   },
   "source": [
    "## Załadowanie potrzebnych bibliotek"
   ]
  },
  {
   "cell_type": "code",
   "execution_count": 37,
   "id": "392b077ab414804e",
   "metadata": {
    "ExecuteTime": {
     "end_time": "2024-01-05T16:35:52.262489600Z",
     "start_time": "2024-01-05T16:35:33.853829700Z"
    },
    "collapsed": false
   },
   "outputs": [
    {
     "name": "stdout",
     "output_type": "stream",
     "text": [
      "The dotenv extension is already loaded. To reload it, use:\n",
      "  %reload_ext dotenv\n"
     ]
    }
   ],
   "source": [
    "import random\n",
    "import os\n",
    "from joblib import dump, load\n",
    "\n",
    "import pandas as pd\n",
    "from ydata_profiling import ProfileReport\n",
    "import numpy as np\n",
    "\n",
    "import matplotlib.pyplot as plt\n",
    "\n",
    "import sklearn\n",
    "from sklearn.compose import ColumnTransformer, make_column_transformer, make_column_selector\n",
    "from sklearn.impute import SimpleImputer\n",
    "from sklearn.preprocessing import TargetEncoder, StandardScaler, OneHotEncoder\n",
    "from sklearn.pipeline import make_pipeline\n",
    "\n",
    "from sklearn.linear_model import LinearRegression\n",
    "from sklearn.neighbors import KNeighborsRegressor\n",
    "from sklearn.ensemble import RandomForestRegressor\n",
    "\n",
    "from sklearn.model_selection import train_test_split, GridSearchCV, KFold\n",
    "from sklearn.metrics import r2_score, mean_absolute_error, mean_absolute_percentage_error, mean_squared_error\n",
    "\n",
    "import mlflow\n",
    "\n",
    "%load_ext dotenv\n",
    "%dotenv ../.env"
   ]
  },
  {
   "cell_type": "markdown",
   "id": "19d5f5b943907b25",
   "metadata": {
    "collapsed": false
   },
   "source": [
    "## Stałe"
   ]
  },
  {
   "cell_type": "code",
   "execution_count": 8,
   "id": "9f303b328fe998e4",
   "metadata": {
    "ExecuteTime": {
     "end_time": "2024-01-05T14:28:18.622522800Z",
     "start_time": "2024-01-05T14:28:18.607026800Z"
    },
    "collapsed": false
   },
   "outputs": [],
   "source": [
    "random_state = 0\n",
    "\n",
    "np.random.seed(random_state)\n",
    "os.environ[\"PYTHONHASHSEED\"] = str(random_state)\n",
    "random.seed(random_state)"
   ]
  },
  {
   "cell_type": "code",
   "execution_count": 9,
   "id": "32959304",
   "metadata": {},
   "outputs": [],
   "source": [
    "# if you want to log mlflow and you have the server configured change to True\n",
    "want_to_log_mlflow = False\n",
    "\n",
    "log_mlflow = \"MLFLOW_TRACKING_URI\" in os.environ and want_to_log_mlflow\n",
    "if log_mlflow: mlflow.set_experiment(\"Wine_quality\")"
   ]
  },
  {
   "cell_type": "code",
   "execution_count": 10,
   "id": "b7737e9d547de906",
   "metadata": {
    "ExecuteTime": {
     "end_time": "2024-01-05T14:28:18.638147800Z",
     "start_time": "2024-01-05T14:28:18.622522800Z"
    },
    "collapsed": false
   },
   "outputs": [],
   "source": [
    "sklearn.set_config(transform_output=\"pandas\")"
   ]
  },
  {
   "cell_type": "code",
   "execution_count": 84,
   "id": "08bc0f6a",
   "metadata": {},
   "outputs": [],
   "source": [
    "plt.style.use(\"ggplot\")"
   ]
  },
  {
   "cell_type": "markdown",
   "id": "4a253bc1def973e1",
   "metadata": {
    "collapsed": false
   },
   "source": [
    "## Wczytanie danych"
   ]
  },
  {
   "cell_type": "code",
   "execution_count": 11,
   "id": "9f7ba64f0485ffb3",
   "metadata": {
    "ExecuteTime": {
     "end_time": "2024-01-05T14:28:19.351667700Z",
     "start_time": "2024-01-05T14:28:19.289163900Z"
    },
    "collapsed": false
   },
   "outputs": [],
   "source": [
    "wine_quality = pd.read_csv(\"../data/winequalityN.csv\")"
   ]
  },
  {
   "cell_type": "markdown",
   "id": "857fc4209438d23a",
   "metadata": {
    "collapsed": false
   },
   "source": [
    "### Krótka analiza eksploracyjna danych"
   ]
  },
  {
   "cell_type": "code",
   "execution_count": 12,
   "id": "38cc88d27ad49609",
   "metadata": {
    "ExecuteTime": {
     "end_time": "2024-01-05T14:28:22.042852400Z",
     "start_time": "2024-01-05T14:28:22.042852400Z"
    },
    "collapsed": false
   },
   "outputs": [],
   "source": [
    "## uncomment if you want to create an automated EDA report\n",
    "# ProfileReport(dataset, title=f\"Profiling Report for Wine quality dataset\").to_file(f\"../data/wine_quality_EDA.html\")"
   ]
  },
  {
   "cell_type": "markdown",
   "id": "9fc1beabba9f9ed8",
   "metadata": {
    "collapsed": false
   },
   "source": [
    "## Preprocessing"
   ]
  },
  {
   "cell_type": "code",
   "execution_count": 13,
   "id": "a767c70ecd99f96d",
   "metadata": {
    "ExecuteTime": {
     "end_time": "2024-01-05T14:36:01.155216900Z",
     "start_time": "2024-01-05T14:36:01.108190500Z"
    },
    "collapsed": false
   },
   "outputs": [
    {
     "name": "stdout",
     "output_type": "stream",
     "text": [
      "<class 'pandas.core.frame.DataFrame'>\n",
      "RangeIndex: 6497 entries, 0 to 6496\n",
      "Data columns (total 13 columns):\n",
      " #   Column                Non-Null Count  Dtype  \n",
      "---  ------                --------------  -----  \n",
      " 0   type                  6497 non-null   object \n",
      " 1   fixed acidity         6487 non-null   float64\n",
      " 2   volatile acidity      6489 non-null   float64\n",
      " 3   citric acid           6494 non-null   float64\n",
      " 4   residual sugar        6495 non-null   float64\n",
      " 5   chlorides             6495 non-null   float64\n",
      " 6   free sulfur dioxide   6497 non-null   float64\n",
      " 7   total sulfur dioxide  6497 non-null   float64\n",
      " 8   density               6497 non-null   float64\n",
      " 9   pH                    6488 non-null   float64\n",
      " 10  sulphates             6493 non-null   float64\n",
      " 11  alcohol               6497 non-null   float64\n",
      " 12  quality               6497 non-null   int64  \n",
      "dtypes: float64(11), int64(1), object(1)\n",
      "memory usage: 660.0+ KB\n"
     ]
    }
   ],
   "source": [
    "wine_quality.info()"
   ]
  },
  {
   "cell_type": "code",
   "execution_count": 14,
   "id": "be877cfc2657bdf5",
   "metadata": {
    "ExecuteTime": {
     "end_time": "2024-01-05T14:28:24.974565Z",
     "start_time": "2024-01-05T14:28:24.958855500Z"
    },
    "collapsed": false
   },
   "outputs": [
    {
     "data": {
      "text/html": [
       "<div>\n",
       "<style scoped>\n",
       "    .dataframe tbody tr th:only-of-type {\n",
       "        vertical-align: middle;\n",
       "    }\n",
       "\n",
       "    .dataframe tbody tr th {\n",
       "        vertical-align: top;\n",
       "    }\n",
       "\n",
       "    .dataframe thead th {\n",
       "        text-align: right;\n",
       "    }\n",
       "</style>\n",
       "<table border=\"1\" class=\"dataframe\">\n",
       "  <thead>\n",
       "    <tr style=\"text-align: right;\">\n",
       "      <th></th>\n",
       "      <th>type</th>\n",
       "      <th>fixed acidity</th>\n",
       "      <th>volatile acidity</th>\n",
       "      <th>citric acid</th>\n",
       "      <th>residual sugar</th>\n",
       "      <th>chlorides</th>\n",
       "      <th>free sulfur dioxide</th>\n",
       "      <th>total sulfur dioxide</th>\n",
       "      <th>density</th>\n",
       "      <th>pH</th>\n",
       "      <th>sulphates</th>\n",
       "      <th>alcohol</th>\n",
       "      <th>quality</th>\n",
       "    </tr>\n",
       "  </thead>\n",
       "  <tbody>\n",
       "    <tr>\n",
       "      <th>5316</th>\n",
       "      <td>red</td>\n",
       "      <td>11.9</td>\n",
       "      <td>0.38</td>\n",
       "      <td>0.51</td>\n",
       "      <td>2.0</td>\n",
       "      <td>0.121</td>\n",
       "      <td>7.0</td>\n",
       "      <td>20.0</td>\n",
       "      <td>0.99960</td>\n",
       "      <td>3.24</td>\n",
       "      <td>0.76</td>\n",
       "      <td>10.4</td>\n",
       "      <td>6</td>\n",
       "    </tr>\n",
       "    <tr>\n",
       "      <th>5210</th>\n",
       "      <td>red</td>\n",
       "      <td>9.0</td>\n",
       "      <td>0.46</td>\n",
       "      <td>0.31</td>\n",
       "      <td>2.8</td>\n",
       "      <td>0.093</td>\n",
       "      <td>19.0</td>\n",
       "      <td>98.0</td>\n",
       "      <td>0.99815</td>\n",
       "      <td>3.32</td>\n",
       "      <td>0.63</td>\n",
       "      <td>9.5</td>\n",
       "      <td>6</td>\n",
       "    </tr>\n",
       "    <tr>\n",
       "      <th>3518</th>\n",
       "      <td>white</td>\n",
       "      <td>7.5</td>\n",
       "      <td>0.20</td>\n",
       "      <td>0.41</td>\n",
       "      <td>1.2</td>\n",
       "      <td>0.050</td>\n",
       "      <td>26.0</td>\n",
       "      <td>131.0</td>\n",
       "      <td>0.99133</td>\n",
       "      <td>3.19</td>\n",
       "      <td>0.52</td>\n",
       "      <td>11.1</td>\n",
       "      <td>5</td>\n",
       "    </tr>\n",
       "    <tr>\n",
       "      <th>1622</th>\n",
       "      <td>white</td>\n",
       "      <td>6.5</td>\n",
       "      <td>0.44</td>\n",
       "      <td>0.49</td>\n",
       "      <td>7.7</td>\n",
       "      <td>0.045</td>\n",
       "      <td>16.0</td>\n",
       "      <td>169.0</td>\n",
       "      <td>0.99570</td>\n",
       "      <td>3.11</td>\n",
       "      <td>0.37</td>\n",
       "      <td>8.7</td>\n",
       "      <td>6</td>\n",
       "    </tr>\n",
       "    <tr>\n",
       "      <th>2443</th>\n",
       "      <td>white</td>\n",
       "      <td>6.6</td>\n",
       "      <td>0.32</td>\n",
       "      <td>0.33</td>\n",
       "      <td>2.5</td>\n",
       "      <td>0.052</td>\n",
       "      <td>40.0</td>\n",
       "      <td>219.5</td>\n",
       "      <td>0.99316</td>\n",
       "      <td>3.15</td>\n",
       "      <td>0.60</td>\n",
       "      <td>10.0</td>\n",
       "      <td>5</td>\n",
       "    </tr>\n",
       "  </tbody>\n",
       "</table>\n",
       "</div>"
      ],
      "text/plain": [
       "       type  fixed acidity  volatile acidity  citric acid  residual sugar  \\\n",
       "5316    red           11.9              0.38         0.51             2.0   \n",
       "5210    red            9.0              0.46         0.31             2.8   \n",
       "3518  white            7.5              0.20         0.41             1.2   \n",
       "1622  white            6.5              0.44         0.49             7.7   \n",
       "2443  white            6.6              0.32         0.33             2.5   \n",
       "\n",
       "      chlorides  free sulfur dioxide  total sulfur dioxide  density    pH  \\\n",
       "5316      0.121                  7.0                  20.0  0.99960  3.24   \n",
       "5210      0.093                 19.0                  98.0  0.99815  3.32   \n",
       "3518      0.050                 26.0                 131.0  0.99133  3.19   \n",
       "1622      0.045                 16.0                 169.0  0.99570  3.11   \n",
       "2443      0.052                 40.0                 219.5  0.99316  3.15   \n",
       "\n",
       "      sulphates  alcohol  quality  \n",
       "5316       0.76     10.4        6  \n",
       "5210       0.63      9.5        6  \n",
       "3518       0.52     11.1        5  \n",
       "1622       0.37      8.7        6  \n",
       "2443       0.60     10.0        5  "
      ]
     },
     "execution_count": 14,
     "metadata": {},
     "output_type": "execute_result"
    }
   ],
   "source": [
    "wine_quality.sample(5)"
   ]
  },
  {
   "cell_type": "code",
   "execution_count": 15,
   "id": "eba2aba5ddc3d0b1",
   "metadata": {
    "ExecuteTime": {
     "end_time": "2024-01-05T14:28:41.854817500Z",
     "start_time": "2024-01-05T14:28:41.760967400Z"
    },
    "collapsed": false
   },
   "outputs": [
    {
     "data": {
      "text/plain": [
       "fixed acidity           10\n",
       "pH                       9\n",
       "volatile acidity         8\n",
       "sulphates                4\n",
       "citric acid              3\n",
       "residual sugar           2\n",
       "chlorides                2\n",
       "type                     0\n",
       "free sulfur dioxide      0\n",
       "total sulfur dioxide     0\n",
       "density                  0\n",
       "alcohol                  0\n",
       "quality                  0\n",
       "dtype: int64"
      ]
     },
     "execution_count": 15,
     "metadata": {},
     "output_type": "execute_result"
    }
   ],
   "source": [
    "wine_quality.isna().sum().sort_values(ascending=False)"
   ]
  },
  {
   "cell_type": "code",
   "execution_count": 16,
   "id": "da88e1ca329c6c4b",
   "metadata": {
    "ExecuteTime": {
     "end_time": "2024-01-05T14:47:14.052360300Z",
     "start_time": "2024-01-05T14:47:14.036735400Z"
    },
    "collapsed": false
   },
   "outputs": [],
   "source": [
    "X = wine_quality.drop(columns=[\"quality\"])\n",
    "y = wine_quality[\"quality\"]"
   ]
  },
  {
   "cell_type": "code",
   "execution_count": 17,
   "id": "a899fa9600f82735",
   "metadata": {
    "ExecuteTime": {
     "end_time": "2024-01-05T14:47:15.442332200Z",
     "start_time": "2024-01-05T14:47:15.426707500Z"
    },
    "collapsed": false
   },
   "outputs": [],
   "source": [
    "X_train, X_test, y_train, y_test = train_test_split(X, y, test_size=0.1, shuffle=True, random_state=random_state)"
   ]
  },
  {
   "cell_type": "code",
   "execution_count": 18,
   "id": "a817069d222f076f",
   "metadata": {
    "ExecuteTime": {
     "end_time": "2024-01-05T14:47:39.696915900Z",
     "start_time": "2024-01-05T14:47:39.665753700Z"
    },
    "collapsed": false
   },
   "outputs": [
    {
     "data": {
      "text/plain": [
       "Index(['type', 'fixed acidity', 'volatile acidity', 'citric acid',\n",
       "       'residual sugar', 'chlorides', 'free sulfur dioxide',\n",
       "       'total sulfur dioxide', 'density', 'pH', 'sulphates', 'alcohol'],\n",
       "      dtype='object')"
      ]
     },
     "execution_count": 18,
     "metadata": {},
     "output_type": "execute_result"
    }
   ],
   "source": [
    "X_train.columns"
   ]
  },
  {
   "cell_type": "code",
   "execution_count": 19,
   "id": "74088b715004378e",
   "metadata": {
    "ExecuteTime": {
     "end_time": "2024-01-05T14:55:21.556015100Z",
     "start_time": "2024-01-05T14:55:21.540380600Z"
    },
    "collapsed": false
   },
   "outputs": [],
   "source": [
    "imputer = make_column_transformer((SimpleImputer(strategy=\"median\"), make_column_selector(dtype_include=np.number)),\n",
    "                                  remainder=SimpleImputer(strategy=\"most_frequent\"), \n",
    "                                  n_jobs=-1, \n",
    "                                  verbose=True, \n",
    "                                  verbose_feature_names_out=False,\n",
    "                                  )"
   ]
  },
  {
   "cell_type": "code",
   "execution_count": 20,
   "id": "de55bdf94a330d5a",
   "metadata": {
    "ExecuteTime": {
     "end_time": "2024-01-05T14:56:46.124528500Z",
     "start_time": "2024-01-05T14:56:46.108828700Z"
    },
    "collapsed": false
   },
   "outputs": [],
   "source": [
    "encoder = make_column_transformer((OneHotEncoder(sparse_output=False), [\"type\"]), \n",
    "                                  remainder=\"passthrough\",\n",
    "                                  n_jobs=-1, \n",
    "                                  verbose=True, \n",
    "                                  verbose_feature_names_out=False,\n",
    "                                  )\n"
   ]
  },
  {
   "cell_type": "code",
   "execution_count": 21,
   "id": "d5a0d08142d3edb6",
   "metadata": {
    "ExecuteTime": {
     "end_time": "2024-01-05T14:56:46.464705700Z",
     "start_time": "2024-01-05T14:56:46.437824100Z"
    },
    "collapsed": false
   },
   "outputs": [
    {
     "data": {
      "text/html": [
       "<style>#sk-container-id-1 {color: black;}#sk-container-id-1 pre{padding: 0;}#sk-container-id-1 div.sk-toggleable {background-color: white;}#sk-container-id-1 label.sk-toggleable__label {cursor: pointer;display: block;width: 100%;margin-bottom: 0;padding: 0.3em;box-sizing: border-box;text-align: center;}#sk-container-id-1 label.sk-toggleable__label-arrow:before {content: \"▸\";float: left;margin-right: 0.25em;color: #696969;}#sk-container-id-1 label.sk-toggleable__label-arrow:hover:before {color: black;}#sk-container-id-1 div.sk-estimator:hover label.sk-toggleable__label-arrow:before {color: black;}#sk-container-id-1 div.sk-toggleable__content {max-height: 0;max-width: 0;overflow: hidden;text-align: left;background-color: #f0f8ff;}#sk-container-id-1 div.sk-toggleable__content pre {margin: 0.2em;color: black;border-radius: 0.25em;background-color: #f0f8ff;}#sk-container-id-1 input.sk-toggleable__control:checked~div.sk-toggleable__content {max-height: 200px;max-width: 100%;overflow: auto;}#sk-container-id-1 input.sk-toggleable__control:checked~label.sk-toggleable__label-arrow:before {content: \"▾\";}#sk-container-id-1 div.sk-estimator input.sk-toggleable__control:checked~label.sk-toggleable__label {background-color: #d4ebff;}#sk-container-id-1 div.sk-label input.sk-toggleable__control:checked~label.sk-toggleable__label {background-color: #d4ebff;}#sk-container-id-1 input.sk-hidden--visually {border: 0;clip: rect(1px 1px 1px 1px);clip: rect(1px, 1px, 1px, 1px);height: 1px;margin: -1px;overflow: hidden;padding: 0;position: absolute;width: 1px;}#sk-container-id-1 div.sk-estimator {font-family: monospace;background-color: #f0f8ff;border: 1px dotted black;border-radius: 0.25em;box-sizing: border-box;margin-bottom: 0.5em;}#sk-container-id-1 div.sk-estimator:hover {background-color: #d4ebff;}#sk-container-id-1 div.sk-parallel-item::after {content: \"\";width: 100%;border-bottom: 1px solid gray;flex-grow: 1;}#sk-container-id-1 div.sk-label:hover label.sk-toggleable__label {background-color: #d4ebff;}#sk-container-id-1 div.sk-serial::before {content: \"\";position: absolute;border-left: 1px solid gray;box-sizing: border-box;top: 0;bottom: 0;left: 50%;z-index: 0;}#sk-container-id-1 div.sk-serial {display: flex;flex-direction: column;align-items: center;background-color: white;padding-right: 0.2em;padding-left: 0.2em;position: relative;}#sk-container-id-1 div.sk-item {position: relative;z-index: 1;}#sk-container-id-1 div.sk-parallel {display: flex;align-items: stretch;justify-content: center;background-color: white;position: relative;}#sk-container-id-1 div.sk-item::before, #sk-container-id-1 div.sk-parallel-item::before {content: \"\";position: absolute;border-left: 1px solid gray;box-sizing: border-box;top: 0;bottom: 0;left: 50%;z-index: -1;}#sk-container-id-1 div.sk-parallel-item {display: flex;flex-direction: column;z-index: 1;position: relative;background-color: white;}#sk-container-id-1 div.sk-parallel-item:first-child::after {align-self: flex-end;width: 50%;}#sk-container-id-1 div.sk-parallel-item:last-child::after {align-self: flex-start;width: 50%;}#sk-container-id-1 div.sk-parallel-item:only-child::after {width: 0;}#sk-container-id-1 div.sk-dashed-wrapped {border: 1px dashed gray;margin: 0 0.4em 0.5em 0.4em;box-sizing: border-box;padding-bottom: 0.4em;background-color: white;}#sk-container-id-1 div.sk-label label {font-family: monospace;font-weight: bold;display: inline-block;line-height: 1.2em;}#sk-container-id-1 div.sk-label-container {text-align: center;}#sk-container-id-1 div.sk-container {/* jupyter's `normalize.less` sets `[hidden] { display: none; }` but bootstrap.min.css set `[hidden] { display: none !important; }` so we also need the `!important` here to be able to override the default hidden behavior on the sphinx rendered scikit-learn.org. See: https://github.com/scikit-learn/scikit-learn/issues/21755 */display: inline-block !important;position: relative;}#sk-container-id-1 div.sk-text-repr-fallback {display: none;}</style><div id=\"sk-container-id-1\" class=\"sk-top-container\"><div class=\"sk-text-repr-fallback\"><pre>Pipeline(steps=[(&#x27;columntransformer-1&#x27;,\n",
       "                 ColumnTransformer(n_jobs=-1,\n",
       "                                   remainder=SimpleImputer(strategy=&#x27;most_frequent&#x27;),\n",
       "                                   transformers=[(&#x27;simpleimputer&#x27;,\n",
       "                                                  SimpleImputer(strategy=&#x27;median&#x27;),\n",
       "                                                  &lt;sklearn.compose._column_transformer.make_column_selector object at 0x0000019406C1B460&gt;)],\n",
       "                                   verbose=True,\n",
       "                                   verbose_feature_names_out=False)),\n",
       "                (&#x27;columntransformer-2&#x27;,\n",
       "                 ColumnTransformer(n_jobs=-1, remainder=&#x27;passthrough&#x27;,\n",
       "                                   transformers=[(&#x27;onehotencoder&#x27;,\n",
       "                                                  OneHotEncoder(sparse_output=False),\n",
       "                                                  [&#x27;type&#x27;])],\n",
       "                                   verbose=True,\n",
       "                                   verbose_feature_names_out=False))],\n",
       "         verbose=True)</pre><b>In a Jupyter environment, please rerun this cell to show the HTML representation or trust the notebook. <br />On GitHub, the HTML representation is unable to render, please try loading this page with nbviewer.org.</b></div><div class=\"sk-container\" hidden><div class=\"sk-item sk-dashed-wrapped\"><div class=\"sk-label-container\"><div class=\"sk-label sk-toggleable\"><input class=\"sk-toggleable__control sk-hidden--visually\" id=\"sk-estimator-id-1\" type=\"checkbox\" ><label for=\"sk-estimator-id-1\" class=\"sk-toggleable__label sk-toggleable__label-arrow\">Pipeline</label><div class=\"sk-toggleable__content\"><pre>Pipeline(steps=[(&#x27;columntransformer-1&#x27;,\n",
       "                 ColumnTransformer(n_jobs=-1,\n",
       "                                   remainder=SimpleImputer(strategy=&#x27;most_frequent&#x27;),\n",
       "                                   transformers=[(&#x27;simpleimputer&#x27;,\n",
       "                                                  SimpleImputer(strategy=&#x27;median&#x27;),\n",
       "                                                  &lt;sklearn.compose._column_transformer.make_column_selector object at 0x0000019406C1B460&gt;)],\n",
       "                                   verbose=True,\n",
       "                                   verbose_feature_names_out=False)),\n",
       "                (&#x27;columntransformer-2&#x27;,\n",
       "                 ColumnTransformer(n_jobs=-1, remainder=&#x27;passthrough&#x27;,\n",
       "                                   transformers=[(&#x27;onehotencoder&#x27;,\n",
       "                                                  OneHotEncoder(sparse_output=False),\n",
       "                                                  [&#x27;type&#x27;])],\n",
       "                                   verbose=True,\n",
       "                                   verbose_feature_names_out=False))],\n",
       "         verbose=True)</pre></div></div></div><div class=\"sk-serial\"><div class=\"sk-item sk-dashed-wrapped\"><div class=\"sk-label-container\"><div class=\"sk-label sk-toggleable\"><input class=\"sk-toggleable__control sk-hidden--visually\" id=\"sk-estimator-id-2\" type=\"checkbox\" ><label for=\"sk-estimator-id-2\" class=\"sk-toggleable__label sk-toggleable__label-arrow\">columntransformer-1: ColumnTransformer</label><div class=\"sk-toggleable__content\"><pre>ColumnTransformer(n_jobs=-1, remainder=SimpleImputer(strategy=&#x27;most_frequent&#x27;),\n",
       "                  transformers=[(&#x27;simpleimputer&#x27;,\n",
       "                                 SimpleImputer(strategy=&#x27;median&#x27;),\n",
       "                                 &lt;sklearn.compose._column_transformer.make_column_selector object at 0x0000019406C1B460&gt;)],\n",
       "                  verbose=True, verbose_feature_names_out=False)</pre></div></div></div><div class=\"sk-parallel\"><div class=\"sk-parallel-item\"><div class=\"sk-item\"><div class=\"sk-label-container\"><div class=\"sk-label sk-toggleable\"><input class=\"sk-toggleable__control sk-hidden--visually\" id=\"sk-estimator-id-3\" type=\"checkbox\" ><label for=\"sk-estimator-id-3\" class=\"sk-toggleable__label sk-toggleable__label-arrow\">simpleimputer</label><div class=\"sk-toggleable__content\"><pre>&lt;sklearn.compose._column_transformer.make_column_selector object at 0x0000019406C1B460&gt;</pre></div></div></div><div class=\"sk-serial\"><div class=\"sk-item\"><div class=\"sk-estimator sk-toggleable\"><input class=\"sk-toggleable__control sk-hidden--visually\" id=\"sk-estimator-id-4\" type=\"checkbox\" ><label for=\"sk-estimator-id-4\" class=\"sk-toggleable__label sk-toggleable__label-arrow\">SimpleImputer</label><div class=\"sk-toggleable__content\"><pre>SimpleImputer(strategy=&#x27;median&#x27;)</pre></div></div></div></div></div></div><div class=\"sk-parallel-item\"><div class=\"sk-item\"><div class=\"sk-label-container\"><div class=\"sk-label sk-toggleable\"><input class=\"sk-toggleable__control sk-hidden--visually\" id=\"sk-estimator-id-5\" type=\"checkbox\" ><label for=\"sk-estimator-id-5\" class=\"sk-toggleable__label sk-toggleable__label-arrow\">remainder</label><div class=\"sk-toggleable__content\"><pre></pre></div></div></div><div class=\"sk-serial\"><div class=\"sk-item\"><div class=\"sk-estimator sk-toggleable\"><input class=\"sk-toggleable__control sk-hidden--visually\" id=\"sk-estimator-id-6\" type=\"checkbox\" ><label for=\"sk-estimator-id-6\" class=\"sk-toggleable__label sk-toggleable__label-arrow\">SimpleImputer</label><div class=\"sk-toggleable__content\"><pre>SimpleImputer(strategy=&#x27;most_frequent&#x27;)</pre></div></div></div></div></div></div></div></div><div class=\"sk-item sk-dashed-wrapped\"><div class=\"sk-label-container\"><div class=\"sk-label sk-toggleable\"><input class=\"sk-toggleable__control sk-hidden--visually\" id=\"sk-estimator-id-7\" type=\"checkbox\" ><label for=\"sk-estimator-id-7\" class=\"sk-toggleable__label sk-toggleable__label-arrow\">columntransformer-2: ColumnTransformer</label><div class=\"sk-toggleable__content\"><pre>ColumnTransformer(n_jobs=-1, remainder=&#x27;passthrough&#x27;,\n",
       "                  transformers=[(&#x27;onehotencoder&#x27;,\n",
       "                                 OneHotEncoder(sparse_output=False),\n",
       "                                 [&#x27;type&#x27;])],\n",
       "                  verbose=True, verbose_feature_names_out=False)</pre></div></div></div><div class=\"sk-parallel\"><div class=\"sk-parallel-item\"><div class=\"sk-item\"><div class=\"sk-label-container\"><div class=\"sk-label sk-toggleable\"><input class=\"sk-toggleable__control sk-hidden--visually\" id=\"sk-estimator-id-8\" type=\"checkbox\" ><label for=\"sk-estimator-id-8\" class=\"sk-toggleable__label sk-toggleable__label-arrow\">onehotencoder</label><div class=\"sk-toggleable__content\"><pre>[&#x27;type&#x27;]</pre></div></div></div><div class=\"sk-serial\"><div class=\"sk-item\"><div class=\"sk-estimator sk-toggleable\"><input class=\"sk-toggleable__control sk-hidden--visually\" id=\"sk-estimator-id-9\" type=\"checkbox\" ><label for=\"sk-estimator-id-9\" class=\"sk-toggleable__label sk-toggleable__label-arrow\">OneHotEncoder</label><div class=\"sk-toggleable__content\"><pre>OneHotEncoder(sparse_output=False)</pre></div></div></div></div></div></div><div class=\"sk-parallel-item\"><div class=\"sk-item\"><div class=\"sk-label-container\"><div class=\"sk-label sk-toggleable\"><input class=\"sk-toggleable__control sk-hidden--visually\" id=\"sk-estimator-id-10\" type=\"checkbox\" ><label for=\"sk-estimator-id-10\" class=\"sk-toggleable__label sk-toggleable__label-arrow\">remainder</label><div class=\"sk-toggleable__content\"><pre></pre></div></div></div><div class=\"sk-serial\"><div class=\"sk-item\"><div class=\"sk-estimator sk-toggleable\"><input class=\"sk-toggleable__control sk-hidden--visually\" id=\"sk-estimator-id-11\" type=\"checkbox\" ><label for=\"sk-estimator-id-11\" class=\"sk-toggleable__label sk-toggleable__label-arrow\">passthrough</label><div class=\"sk-toggleable__content\"><pre>passthrough</pre></div></div></div></div></div></div></div></div></div></div></div></div>"
      ],
      "text/plain": [
       "Pipeline(steps=[('columntransformer-1',\n",
       "                 ColumnTransformer(n_jobs=-1,\n",
       "                                   remainder=SimpleImputer(strategy='most_frequent'),\n",
       "                                   transformers=[('simpleimputer',\n",
       "                                                  SimpleImputer(strategy='median'),\n",
       "                                                  <sklearn.compose._column_transformer.make_column_selector object at 0x0000019406C1B460>)],\n",
       "                                   verbose=True,\n",
       "                                   verbose_feature_names_out=False)),\n",
       "                ('columntransformer-2',\n",
       "                 ColumnTransformer(n_jobs=-1, remainder='passthrough',\n",
       "                                   transformers=[('onehotencoder',\n",
       "                                                  OneHotEncoder(sparse_output=False),\n",
       "                                                  ['type'])],\n",
       "                                   verbose=True,\n",
       "                                   verbose_feature_names_out=False))],\n",
       "         verbose=True)"
      ]
     },
     "execution_count": 21,
     "metadata": {},
     "output_type": "execute_result"
    }
   ],
   "source": [
    "preprocessing_pipe = make_pipeline(imputer, encoder, verbose=True)\n",
    "preprocessing_pipe"
   ]
  },
  {
   "cell_type": "code",
   "execution_count": 22,
   "id": "f3aca8a86f03059d",
   "metadata": {
    "ExecuteTime": {
     "end_time": "2024-01-05T14:56:50.119862200Z",
     "start_time": "2024-01-05T14:56:47.149147900Z"
    },
    "collapsed": false
   },
   "outputs": [
    {
     "name": "stdout",
     "output_type": "stream",
     "text": [
      "[Pipeline]  (step 1 of 2) Processing columntransformer-1, total=   2.5s\n",
      "[Pipeline]  (step 2 of 2) Processing columntransformer-2, total=   1.0s\n"
     ]
    }
   ],
   "source": [
    "X_train_preprocessed = preprocessing_pipe.fit_transform(X_train)"
   ]
  },
  {
   "cell_type": "markdown",
   "id": "1ea7313d61d65591",
   "metadata": {
    "collapsed": false
   },
   "source": [
    "# Modelowanie"
   ]
  },
  {
   "cell_type": "code",
   "execution_count": 23,
   "id": "82bb73aa8ce0121a",
   "metadata": {
    "ExecuteTime": {
     "end_time": "2024-01-05T14:59:32.783688900Z",
     "start_time": "2024-01-05T14:59:32.752496700Z"
    },
    "collapsed": false
   },
   "outputs": [],
   "source": [
    "knn_params = {\"n_neighbors\": [5, 25, 50],\n",
    "                \"weights\": [\"uniform\", \"distance\"],\n",
    "                \"leaf_size\": [20, 30, 50],\n",
    "                \"p\": [1, 2],\n",
    "                }\n",
    "\n",
    "random_forest_params = {\"n_estimators\": [50, 100, 200],\n",
    "                        \"max_depth\": [None, 3, 4, 5],\n",
    "                        \"max_features\": [None, \"sqrt\", \"log2\"],\n",
    "                        }"
   ]
  },
  {
   "cell_type": "markdown",
   "id": "14196c44e829d96d",
   "metadata": {
    "collapsed": false
   },
   "source": [
    "Przy wyczerpującym przeszukiwania siatki parametrów w celu znalezienia najlepszej kombinacji parametrów użyjemy walidacji krzyżowej.\n",
    "\n",
    "[<img src=\"../img/grid_search_cross_validation.png\" alt=\"drawing\" width=\"400\"/>](\"../img/grid_search_cross_validation.png\") \\\n",
    "źródło: https://scikit-learn.org/stable/modules/cross_validation.html"
   ]
  },
  {
   "cell_type": "code",
   "execution_count": 24,
   "id": "25c1dd6f9a985648",
   "metadata": {
    "ExecuteTime": {
     "end_time": "2024-01-05T14:59:33.767751100Z",
     "start_time": "2024-01-05T14:59:33.752117100Z"
    },
    "collapsed": false
   },
   "outputs": [],
   "source": [
    "folds = KFold(n_splits=5, shuffle=True, random_state=random_state)"
   ]
  },
  {
   "cell_type": "markdown",
   "id": "d51c40d312d5a339",
   "metadata": {
    "collapsed": false
   },
   "source": [
    "## Regresja liniowa"
   ]
  },
  {
   "cell_type": "code",
   "execution_count": 25,
   "id": "c6a04b8a6e4c9097",
   "metadata": {
    "ExecuteTime": {
     "end_time": "2024-01-05T14:59:36.594760700Z",
     "start_time": "2024-01-05T14:59:36.579108300Z"
    },
    "collapsed": false
   },
   "outputs": [],
   "source": [
    "linreg = LinearRegression(n_jobs=-1)"
   ]
  },
  {
   "cell_type": "code",
   "execution_count": 26,
   "id": "1f7be9dfd1487fbe",
   "metadata": {
    "ExecuteTime": {
     "end_time": "2024-01-05T14:59:37.749073300Z",
     "start_time": "2024-01-05T14:59:37.703734200Z"
    },
    "collapsed": false
   },
   "outputs": [
    {
     "data": {
      "text/html": [
       "<style>#sk-container-id-2 {color: black;}#sk-container-id-2 pre{padding: 0;}#sk-container-id-2 div.sk-toggleable {background-color: white;}#sk-container-id-2 label.sk-toggleable__label {cursor: pointer;display: block;width: 100%;margin-bottom: 0;padding: 0.3em;box-sizing: border-box;text-align: center;}#sk-container-id-2 label.sk-toggleable__label-arrow:before {content: \"▸\";float: left;margin-right: 0.25em;color: #696969;}#sk-container-id-2 label.sk-toggleable__label-arrow:hover:before {color: black;}#sk-container-id-2 div.sk-estimator:hover label.sk-toggleable__label-arrow:before {color: black;}#sk-container-id-2 div.sk-toggleable__content {max-height: 0;max-width: 0;overflow: hidden;text-align: left;background-color: #f0f8ff;}#sk-container-id-2 div.sk-toggleable__content pre {margin: 0.2em;color: black;border-radius: 0.25em;background-color: #f0f8ff;}#sk-container-id-2 input.sk-toggleable__control:checked~div.sk-toggleable__content {max-height: 200px;max-width: 100%;overflow: auto;}#sk-container-id-2 input.sk-toggleable__control:checked~label.sk-toggleable__label-arrow:before {content: \"▾\";}#sk-container-id-2 div.sk-estimator input.sk-toggleable__control:checked~label.sk-toggleable__label {background-color: #d4ebff;}#sk-container-id-2 div.sk-label input.sk-toggleable__control:checked~label.sk-toggleable__label {background-color: #d4ebff;}#sk-container-id-2 input.sk-hidden--visually {border: 0;clip: rect(1px 1px 1px 1px);clip: rect(1px, 1px, 1px, 1px);height: 1px;margin: -1px;overflow: hidden;padding: 0;position: absolute;width: 1px;}#sk-container-id-2 div.sk-estimator {font-family: monospace;background-color: #f0f8ff;border: 1px dotted black;border-radius: 0.25em;box-sizing: border-box;margin-bottom: 0.5em;}#sk-container-id-2 div.sk-estimator:hover {background-color: #d4ebff;}#sk-container-id-2 div.sk-parallel-item::after {content: \"\";width: 100%;border-bottom: 1px solid gray;flex-grow: 1;}#sk-container-id-2 div.sk-label:hover label.sk-toggleable__label {background-color: #d4ebff;}#sk-container-id-2 div.sk-serial::before {content: \"\";position: absolute;border-left: 1px solid gray;box-sizing: border-box;top: 0;bottom: 0;left: 50%;z-index: 0;}#sk-container-id-2 div.sk-serial {display: flex;flex-direction: column;align-items: center;background-color: white;padding-right: 0.2em;padding-left: 0.2em;position: relative;}#sk-container-id-2 div.sk-item {position: relative;z-index: 1;}#sk-container-id-2 div.sk-parallel {display: flex;align-items: stretch;justify-content: center;background-color: white;position: relative;}#sk-container-id-2 div.sk-item::before, #sk-container-id-2 div.sk-parallel-item::before {content: \"\";position: absolute;border-left: 1px solid gray;box-sizing: border-box;top: 0;bottom: 0;left: 50%;z-index: -1;}#sk-container-id-2 div.sk-parallel-item {display: flex;flex-direction: column;z-index: 1;position: relative;background-color: white;}#sk-container-id-2 div.sk-parallel-item:first-child::after {align-self: flex-end;width: 50%;}#sk-container-id-2 div.sk-parallel-item:last-child::after {align-self: flex-start;width: 50%;}#sk-container-id-2 div.sk-parallel-item:only-child::after {width: 0;}#sk-container-id-2 div.sk-dashed-wrapped {border: 1px dashed gray;margin: 0 0.4em 0.5em 0.4em;box-sizing: border-box;padding-bottom: 0.4em;background-color: white;}#sk-container-id-2 div.sk-label label {font-family: monospace;font-weight: bold;display: inline-block;line-height: 1.2em;}#sk-container-id-2 div.sk-label-container {text-align: center;}#sk-container-id-2 div.sk-container {/* jupyter's `normalize.less` sets `[hidden] { display: none; }` but bootstrap.min.css set `[hidden] { display: none !important; }` so we also need the `!important` here to be able to override the default hidden behavior on the sphinx rendered scikit-learn.org. See: https://github.com/scikit-learn/scikit-learn/issues/21755 */display: inline-block !important;position: relative;}#sk-container-id-2 div.sk-text-repr-fallback {display: none;}</style><div id=\"sk-container-id-2\" class=\"sk-top-container\"><div class=\"sk-text-repr-fallback\"><pre>LinearRegression(n_jobs=-1)</pre><b>In a Jupyter environment, please rerun this cell to show the HTML representation or trust the notebook. <br />On GitHub, the HTML representation is unable to render, please try loading this page with nbviewer.org.</b></div><div class=\"sk-container\" hidden><div class=\"sk-item\"><div class=\"sk-estimator sk-toggleable\"><input class=\"sk-toggleable__control sk-hidden--visually\" id=\"sk-estimator-id-12\" type=\"checkbox\" checked><label for=\"sk-estimator-id-12\" class=\"sk-toggleable__label sk-toggleable__label-arrow\">LinearRegression</label><div class=\"sk-toggleable__content\"><pre>LinearRegression(n_jobs=-1)</pre></div></div></div></div></div>"
      ],
      "text/plain": [
       "LinearRegression(n_jobs=-1)"
      ]
     },
     "execution_count": 26,
     "metadata": {},
     "output_type": "execute_result"
    }
   ],
   "source": [
    "linreg.fit(X_train_preprocessed, y_train)"
   ]
  },
  {
   "cell_type": "code",
   "execution_count": 27,
   "id": "c706d3705a556b19",
   "metadata": {
    "ExecuteTime": {
     "end_time": "2024-01-05T14:59:39.785726Z",
     "start_time": "2024-01-05T14:59:39.770118300Z"
    },
    "collapsed": false
   },
   "outputs": [
    {
     "data": {
      "text/plain": [
       "0.2904916695297072"
      ]
     },
     "execution_count": 27,
     "metadata": {},
     "output_type": "execute_result"
    }
   ],
   "source": [
    "linreg.score(X_train_preprocessed, y_train)"
   ]
  },
  {
   "cell_type": "markdown",
   "id": "3dc348791f18e1c0",
   "metadata": {
    "collapsed": false
   },
   "source": [
    "### K najbliższych sąsiadów"
   ]
  },
  {
   "cell_type": "code",
   "execution_count": 28,
   "id": "a08bc4986ddf4466",
   "metadata": {
    "ExecuteTime": {
     "end_time": "2024-01-05T14:59:48.107329200Z",
     "start_time": "2024-01-05T14:59:48.091630500Z"
    },
    "collapsed": false
   },
   "outputs": [],
   "source": [
    "search_knn = GridSearchCV(estimator=KNeighborsRegressor(n_jobs=-1),\n",
    "                   param_grid=knn_params,\n",
    "                   scoring=\"r2\",\n",
    "                   n_jobs=-1,\n",
    "                   refit=True,\n",
    "                   cv=folds,\n",
    "                   return_train_score=True,\n",
    "                   verbose=3,\n",
    "                   )"
   ]
  },
  {
   "cell_type": "code",
   "execution_count": 54,
   "id": "3f8d7c50789497ae",
   "metadata": {
    "ExecuteTime": {
     "end_time": "2024-01-05T14:59:57.257289900Z",
     "start_time": "2024-01-05T14:59:50.336222Z"
    },
    "collapsed": false
   },
   "outputs": [
    {
     "name": "stdout",
     "output_type": "stream",
     "text": [
      "Fitting 5 folds for each of 36 candidates, totalling 180 fits\n",
      "CPU times: total: 391 ms\n",
      "Wall time: 6.92 s\n"
     ]
    },
    {
     "data": {
      "text/html": [
       "<style>#sk-container-id-11 {color: black;}#sk-container-id-11 pre{padding: 0;}#sk-container-id-11 div.sk-toggleable {background-color: white;}#sk-container-id-11 label.sk-toggleable__label {cursor: pointer;display: block;width: 100%;margin-bottom: 0;padding: 0.3em;box-sizing: border-box;text-align: center;}#sk-container-id-11 label.sk-toggleable__label-arrow:before {content: \"▸\";float: left;margin-right: 0.25em;color: #696969;}#sk-container-id-11 label.sk-toggleable__label-arrow:hover:before {color: black;}#sk-container-id-11 div.sk-estimator:hover label.sk-toggleable__label-arrow:before {color: black;}#sk-container-id-11 div.sk-toggleable__content {max-height: 0;max-width: 0;overflow: hidden;text-align: left;background-color: #f0f8ff;}#sk-container-id-11 div.sk-toggleable__content pre {margin: 0.2em;color: black;border-radius: 0.25em;background-color: #f0f8ff;}#sk-container-id-11 input.sk-toggleable__control:checked~div.sk-toggleable__content {max-height: 200px;max-width: 100%;overflow: auto;}#sk-container-id-11 input.sk-toggleable__control:checked~label.sk-toggleable__label-arrow:before {content: \"▾\";}#sk-container-id-11 div.sk-estimator input.sk-toggleable__control:checked~label.sk-toggleable__label {background-color: #d4ebff;}#sk-container-id-11 div.sk-label input.sk-toggleable__control:checked~label.sk-toggleable__label {background-color: #d4ebff;}#sk-container-id-11 input.sk-hidden--visually {border: 0;clip: rect(1px 1px 1px 1px);clip: rect(1px, 1px, 1px, 1px);height: 1px;margin: -1px;overflow: hidden;padding: 0;position: absolute;width: 1px;}#sk-container-id-11 div.sk-estimator {font-family: monospace;background-color: #f0f8ff;border: 1px dotted black;border-radius: 0.25em;box-sizing: border-box;margin-bottom: 0.5em;}#sk-container-id-11 div.sk-estimator:hover {background-color: #d4ebff;}#sk-container-id-11 div.sk-parallel-item::after {content: \"\";width: 100%;border-bottom: 1px solid gray;flex-grow: 1;}#sk-container-id-11 div.sk-label:hover label.sk-toggleable__label {background-color: #d4ebff;}#sk-container-id-11 div.sk-serial::before {content: \"\";position: absolute;border-left: 1px solid gray;box-sizing: border-box;top: 0;bottom: 0;left: 50%;z-index: 0;}#sk-container-id-11 div.sk-serial {display: flex;flex-direction: column;align-items: center;background-color: white;padding-right: 0.2em;padding-left: 0.2em;position: relative;}#sk-container-id-11 div.sk-item {position: relative;z-index: 1;}#sk-container-id-11 div.sk-parallel {display: flex;align-items: stretch;justify-content: center;background-color: white;position: relative;}#sk-container-id-11 div.sk-item::before, #sk-container-id-11 div.sk-parallel-item::before {content: \"\";position: absolute;border-left: 1px solid gray;box-sizing: border-box;top: 0;bottom: 0;left: 50%;z-index: -1;}#sk-container-id-11 div.sk-parallel-item {display: flex;flex-direction: column;z-index: 1;position: relative;background-color: white;}#sk-container-id-11 div.sk-parallel-item:first-child::after {align-self: flex-end;width: 50%;}#sk-container-id-11 div.sk-parallel-item:last-child::after {align-self: flex-start;width: 50%;}#sk-container-id-11 div.sk-parallel-item:only-child::after {width: 0;}#sk-container-id-11 div.sk-dashed-wrapped {border: 1px dashed gray;margin: 0 0.4em 0.5em 0.4em;box-sizing: border-box;padding-bottom: 0.4em;background-color: white;}#sk-container-id-11 div.sk-label label {font-family: monospace;font-weight: bold;display: inline-block;line-height: 1.2em;}#sk-container-id-11 div.sk-label-container {text-align: center;}#sk-container-id-11 div.sk-container {/* jupyter's `normalize.less` sets `[hidden] { display: none; }` but bootstrap.min.css set `[hidden] { display: none !important; }` so we also need the `!important` here to be able to override the default hidden behavior on the sphinx rendered scikit-learn.org. See: https://github.com/scikit-learn/scikit-learn/issues/21755 */display: inline-block !important;position: relative;}#sk-container-id-11 div.sk-text-repr-fallback {display: none;}</style><div id=\"sk-container-id-11\" class=\"sk-top-container\"><div class=\"sk-text-repr-fallback\"><pre>GridSearchCV(cv=KFold(n_splits=5, random_state=0, shuffle=True),\n",
       "             estimator=KNeighborsRegressor(n_jobs=-1), n_jobs=-1,\n",
       "             param_grid={&#x27;leaf_size&#x27;: [20, 30, 50], &#x27;n_neighbors&#x27;: [5, 25, 50],\n",
       "                         &#x27;p&#x27;: [1, 2], &#x27;weights&#x27;: [&#x27;uniform&#x27;, &#x27;distance&#x27;]},\n",
       "             return_train_score=True, scoring=&#x27;r2&#x27;, verbose=3)</pre><b>In a Jupyter environment, please rerun this cell to show the HTML representation or trust the notebook. <br />On GitHub, the HTML representation is unable to render, please try loading this page with nbviewer.org.</b></div><div class=\"sk-container\" hidden><div class=\"sk-item sk-dashed-wrapped\"><div class=\"sk-label-container\"><div class=\"sk-label sk-toggleable\"><input class=\"sk-toggleable__control sk-hidden--visually\" id=\"sk-estimator-id-87\" type=\"checkbox\" ><label for=\"sk-estimator-id-87\" class=\"sk-toggleable__label sk-toggleable__label-arrow\">GridSearchCV</label><div class=\"sk-toggleable__content\"><pre>GridSearchCV(cv=KFold(n_splits=5, random_state=0, shuffle=True),\n",
       "             estimator=KNeighborsRegressor(n_jobs=-1), n_jobs=-1,\n",
       "             param_grid={&#x27;leaf_size&#x27;: [20, 30, 50], &#x27;n_neighbors&#x27;: [5, 25, 50],\n",
       "                         &#x27;p&#x27;: [1, 2], &#x27;weights&#x27;: [&#x27;uniform&#x27;, &#x27;distance&#x27;]},\n",
       "             return_train_score=True, scoring=&#x27;r2&#x27;, verbose=3)</pre></div></div></div><div class=\"sk-parallel\"><div class=\"sk-parallel-item\"><div class=\"sk-item\"><div class=\"sk-label-container\"><div class=\"sk-label sk-toggleable\"><input class=\"sk-toggleable__control sk-hidden--visually\" id=\"sk-estimator-id-88\" type=\"checkbox\" ><label for=\"sk-estimator-id-88\" class=\"sk-toggleable__label sk-toggleable__label-arrow\">estimator: KNeighborsRegressor</label><div class=\"sk-toggleable__content\"><pre>KNeighborsRegressor(n_jobs=-1)</pre></div></div></div><div class=\"sk-serial\"><div class=\"sk-item\"><div class=\"sk-estimator sk-toggleable\"><input class=\"sk-toggleable__control sk-hidden--visually\" id=\"sk-estimator-id-89\" type=\"checkbox\" ><label for=\"sk-estimator-id-89\" class=\"sk-toggleable__label sk-toggleable__label-arrow\">KNeighborsRegressor</label><div class=\"sk-toggleable__content\"><pre>KNeighborsRegressor(n_jobs=-1)</pre></div></div></div></div></div></div></div></div></div></div>"
      ],
      "text/plain": [
       "GridSearchCV(cv=KFold(n_splits=5, random_state=0, shuffle=True),\n",
       "             estimator=KNeighborsRegressor(n_jobs=-1), n_jobs=-1,\n",
       "             param_grid={'leaf_size': [20, 30, 50], 'n_neighbors': [5, 25, 50],\n",
       "                         'p': [1, 2], 'weights': ['uniform', 'distance']},\n",
       "             return_train_score=True, scoring='r2', verbose=3)"
      ]
     },
     "execution_count": 54,
     "metadata": {},
     "output_type": "execute_result"
    }
   ],
   "source": [
    "%%time\n",
    "search_knn.fit(X_train_preprocessed, y_train)"
   ]
  },
  {
   "cell_type": "code",
   "execution_count": 29,
   "id": "578d6beec9027904",
   "metadata": {
    "ExecuteTime": {
     "end_time": "2024-01-05T15:00:01.291269300Z",
     "start_time": "2024-01-05T15:00:01.244296500Z"
    },
    "collapsed": false
   },
   "outputs": [],
   "source": [
    "## uncomment if you want to save you model\n",
    "# dump(search_knn, \"../models/search_knn_wine_quality.joblib\")\n",
    "## uncomment if you want load a saved model\n",
    "search_knn = load(\"../models/search_knn_wine_quality.joblib\")"
   ]
  },
  {
   "cell_type": "code",
   "execution_count": 30,
   "id": "23e97750d349e086",
   "metadata": {
    "ExecuteTime": {
     "end_time": "2024-01-05T15:00:03.237530400Z",
     "start_time": "2024-01-05T15:00:03.190664400Z"
    },
    "collapsed": false
   },
   "outputs": [],
   "source": [
    "pd.DataFrame(search_knn.cv_results_);"
   ]
  },
  {
   "cell_type": "markdown",
   "id": "ca9e3e1568b00d3c",
   "metadata": {
    "collapsed": false
   },
   "source": [
    "### Las losowy"
   ]
  },
  {
   "cell_type": "code",
   "execution_count": 58,
   "id": "bd3bbed65ea60a22",
   "metadata": {
    "ExecuteTime": {
     "end_time": "2024-01-05T15:00:09.084412200Z",
     "start_time": "2024-01-05T15:00:09.068804Z"
    },
    "collapsed": false
   },
   "outputs": [],
   "source": [
    "search_random_forest = GridSearchCV(estimator=RandomForestRegressor(random_state=random_state),\n",
    "                                           param_grid=random_forest_params,\n",
    "                                           scoring=\"r2\",\n",
    "                                           n_jobs=-1,\n",
    "                                           refit=True,\n",
    "                                           cv=folds,\n",
    "                                           return_train_score=True,\n",
    "                                         verbose=3,\n",
    "                                        )"
   ]
  },
  {
   "cell_type": "code",
   "execution_count": 59,
   "id": "393b76e7eb6cfbba",
   "metadata": {
    "ExecuteTime": {
     "end_time": "2024-01-05T15:01:58.285452100Z",
     "start_time": "2024-01-05T15:00:09.900883100Z"
    },
    "collapsed": false
   },
   "outputs": [
    {
     "name": "stdout",
     "output_type": "stream",
     "text": [
      "Fitting 5 folds for each of 36 candidates, totalling 180 fits\n",
      "CPU times: total: 5.53 s\n",
      "Wall time: 1min 48s\n"
     ]
    },
    {
     "data": {
      "text/html": [
       "<style>#sk-container-id-12 {color: black;}#sk-container-id-12 pre{padding: 0;}#sk-container-id-12 div.sk-toggleable {background-color: white;}#sk-container-id-12 label.sk-toggleable__label {cursor: pointer;display: block;width: 100%;margin-bottom: 0;padding: 0.3em;box-sizing: border-box;text-align: center;}#sk-container-id-12 label.sk-toggleable__label-arrow:before {content: \"▸\";float: left;margin-right: 0.25em;color: #696969;}#sk-container-id-12 label.sk-toggleable__label-arrow:hover:before {color: black;}#sk-container-id-12 div.sk-estimator:hover label.sk-toggleable__label-arrow:before {color: black;}#sk-container-id-12 div.sk-toggleable__content {max-height: 0;max-width: 0;overflow: hidden;text-align: left;background-color: #f0f8ff;}#sk-container-id-12 div.sk-toggleable__content pre {margin: 0.2em;color: black;border-radius: 0.25em;background-color: #f0f8ff;}#sk-container-id-12 input.sk-toggleable__control:checked~div.sk-toggleable__content {max-height: 200px;max-width: 100%;overflow: auto;}#sk-container-id-12 input.sk-toggleable__control:checked~label.sk-toggleable__label-arrow:before {content: \"▾\";}#sk-container-id-12 div.sk-estimator input.sk-toggleable__control:checked~label.sk-toggleable__label {background-color: #d4ebff;}#sk-container-id-12 div.sk-label input.sk-toggleable__control:checked~label.sk-toggleable__label {background-color: #d4ebff;}#sk-container-id-12 input.sk-hidden--visually {border: 0;clip: rect(1px 1px 1px 1px);clip: rect(1px, 1px, 1px, 1px);height: 1px;margin: -1px;overflow: hidden;padding: 0;position: absolute;width: 1px;}#sk-container-id-12 div.sk-estimator {font-family: monospace;background-color: #f0f8ff;border: 1px dotted black;border-radius: 0.25em;box-sizing: border-box;margin-bottom: 0.5em;}#sk-container-id-12 div.sk-estimator:hover {background-color: #d4ebff;}#sk-container-id-12 div.sk-parallel-item::after {content: \"\";width: 100%;border-bottom: 1px solid gray;flex-grow: 1;}#sk-container-id-12 div.sk-label:hover label.sk-toggleable__label {background-color: #d4ebff;}#sk-container-id-12 div.sk-serial::before {content: \"\";position: absolute;border-left: 1px solid gray;box-sizing: border-box;top: 0;bottom: 0;left: 50%;z-index: 0;}#sk-container-id-12 div.sk-serial {display: flex;flex-direction: column;align-items: center;background-color: white;padding-right: 0.2em;padding-left: 0.2em;position: relative;}#sk-container-id-12 div.sk-item {position: relative;z-index: 1;}#sk-container-id-12 div.sk-parallel {display: flex;align-items: stretch;justify-content: center;background-color: white;position: relative;}#sk-container-id-12 div.sk-item::before, #sk-container-id-12 div.sk-parallel-item::before {content: \"\";position: absolute;border-left: 1px solid gray;box-sizing: border-box;top: 0;bottom: 0;left: 50%;z-index: -1;}#sk-container-id-12 div.sk-parallel-item {display: flex;flex-direction: column;z-index: 1;position: relative;background-color: white;}#sk-container-id-12 div.sk-parallel-item:first-child::after {align-self: flex-end;width: 50%;}#sk-container-id-12 div.sk-parallel-item:last-child::after {align-self: flex-start;width: 50%;}#sk-container-id-12 div.sk-parallel-item:only-child::after {width: 0;}#sk-container-id-12 div.sk-dashed-wrapped {border: 1px dashed gray;margin: 0 0.4em 0.5em 0.4em;box-sizing: border-box;padding-bottom: 0.4em;background-color: white;}#sk-container-id-12 div.sk-label label {font-family: monospace;font-weight: bold;display: inline-block;line-height: 1.2em;}#sk-container-id-12 div.sk-label-container {text-align: center;}#sk-container-id-12 div.sk-container {/* jupyter's `normalize.less` sets `[hidden] { display: none; }` but bootstrap.min.css set `[hidden] { display: none !important; }` so we also need the `!important` here to be able to override the default hidden behavior on the sphinx rendered scikit-learn.org. See: https://github.com/scikit-learn/scikit-learn/issues/21755 */display: inline-block !important;position: relative;}#sk-container-id-12 div.sk-text-repr-fallback {display: none;}</style><div id=\"sk-container-id-12\" class=\"sk-top-container\"><div class=\"sk-text-repr-fallback\"><pre>GridSearchCV(cv=KFold(n_splits=5, random_state=0, shuffle=True),\n",
       "             estimator=RandomForestRegressor(random_state=0), n_jobs=-1,\n",
       "             param_grid={&#x27;max_depth&#x27;: [None, 3, 4, 5],\n",
       "                         &#x27;max_features&#x27;: [None, &#x27;sqrt&#x27;, &#x27;log2&#x27;],\n",
       "                         &#x27;n_estimators&#x27;: [50, 100, 200]},\n",
       "             return_train_score=True, scoring=&#x27;r2&#x27;, verbose=3)</pre><b>In a Jupyter environment, please rerun this cell to show the HTML representation or trust the notebook. <br />On GitHub, the HTML representation is unable to render, please try loading this page with nbviewer.org.</b></div><div class=\"sk-container\" hidden><div class=\"sk-item sk-dashed-wrapped\"><div class=\"sk-label-container\"><div class=\"sk-label sk-toggleable\"><input class=\"sk-toggleable__control sk-hidden--visually\" id=\"sk-estimator-id-90\" type=\"checkbox\" ><label for=\"sk-estimator-id-90\" class=\"sk-toggleable__label sk-toggleable__label-arrow\">GridSearchCV</label><div class=\"sk-toggleable__content\"><pre>GridSearchCV(cv=KFold(n_splits=5, random_state=0, shuffle=True),\n",
       "             estimator=RandomForestRegressor(random_state=0), n_jobs=-1,\n",
       "             param_grid={&#x27;max_depth&#x27;: [None, 3, 4, 5],\n",
       "                         &#x27;max_features&#x27;: [None, &#x27;sqrt&#x27;, &#x27;log2&#x27;],\n",
       "                         &#x27;n_estimators&#x27;: [50, 100, 200]},\n",
       "             return_train_score=True, scoring=&#x27;r2&#x27;, verbose=3)</pre></div></div></div><div class=\"sk-parallel\"><div class=\"sk-parallel-item\"><div class=\"sk-item\"><div class=\"sk-label-container\"><div class=\"sk-label sk-toggleable\"><input class=\"sk-toggleable__control sk-hidden--visually\" id=\"sk-estimator-id-91\" type=\"checkbox\" ><label for=\"sk-estimator-id-91\" class=\"sk-toggleable__label sk-toggleable__label-arrow\">estimator: RandomForestRegressor</label><div class=\"sk-toggleable__content\"><pre>RandomForestRegressor(random_state=0)</pre></div></div></div><div class=\"sk-serial\"><div class=\"sk-item\"><div class=\"sk-estimator sk-toggleable\"><input class=\"sk-toggleable__control sk-hidden--visually\" id=\"sk-estimator-id-92\" type=\"checkbox\" ><label for=\"sk-estimator-id-92\" class=\"sk-toggleable__label sk-toggleable__label-arrow\">RandomForestRegressor</label><div class=\"sk-toggleable__content\"><pre>RandomForestRegressor(random_state=0)</pre></div></div></div></div></div></div></div></div></div></div>"
      ],
      "text/plain": [
       "GridSearchCV(cv=KFold(n_splits=5, random_state=0, shuffle=True),\n",
       "             estimator=RandomForestRegressor(random_state=0), n_jobs=-1,\n",
       "             param_grid={'max_depth': [None, 3, 4, 5],\n",
       "                         'max_features': [None, 'sqrt', 'log2'],\n",
       "                         'n_estimators': [50, 100, 200]},\n",
       "             return_train_score=True, scoring='r2', verbose=3)"
      ]
     },
     "execution_count": 59,
     "metadata": {},
     "output_type": "execute_result"
    }
   ],
   "source": [
    "%%time\n",
    "search_random_forest.fit(X_train_preprocessed, y_train)"
   ]
  },
  {
   "cell_type": "code",
   "execution_count": 31,
   "id": "2d0df61303827e86",
   "metadata": {
    "ExecuteTime": {
     "end_time": "2024-01-05T15:01:58.396483500Z",
     "start_time": "2024-01-05T15:01:58.269895900Z"
    },
    "collapsed": false
   },
   "outputs": [],
   "source": [
    "## uncomment if you want to save you model\n",
    "# dump(search_random_forest, \"../models/search_random_forest_wine_quality.joblib\")\n",
    "## uncomment if you want load a saved model\n",
    "search_random_forest = load(\"../models/search_random_forest_wine_quality.joblib\")"
   ]
  },
  {
   "cell_type": "code",
   "execution_count": 32,
   "id": "b5bd145a7f32d4b0",
   "metadata": {
    "ExecuteTime": {
     "end_time": "2024-01-05T15:02:51.628493200Z",
     "start_time": "2024-01-05T15:02:51.581619100Z"
    },
    "collapsed": false
   },
   "outputs": [],
   "source": [
    "pd.DataFrame(search_random_forest.cv_results_);"
   ]
  },
  {
   "cell_type": "markdown",
   "id": "2fa5889a8608d2f1",
   "metadata": {
    "collapsed": false
   },
   "source": [
    "## Analiza\n",
    "\n",
    "Na tym tym posiadam już dostrojone, finalne modele. Teraz zostaną one porównane wg następujących metryk:\n",
    "\n",
    "- MAE\n",
    "- MSE\n",
    "- MAPE\n",
    "- RMSE\n",
    "- R2"
   ]
  },
  {
   "cell_type": "code",
   "execution_count": 33,
   "id": "76d5d9e8dd5de007",
   "metadata": {
    "ExecuteTime": {
     "end_time": "2024-01-05T16:34:52.807775500Z",
     "start_time": "2024-01-05T16:34:52.326887300Z"
    },
    "collapsed": false
   },
   "outputs": [],
   "source": [
    "final_models = [(\"linear_regression\", linreg), (\"knn\", search_knn.best_estimator_), (\"random_forest\", search_random_forest.best_estimator_)]"
   ]
  },
  {
   "cell_type": "code",
   "execution_count": 34,
   "id": "c898b35b61f92025",
   "metadata": {
    "ExecuteTime": {
     "end_time": "2024-01-05T16:38:52.539929400Z",
     "start_time": "2024-01-05T16:36:03.000699Z"
    },
    "collapsed": false
   },
   "outputs": [],
   "source": [
    "rows = []\n",
    "\n",
    "for model_name, model in final_models:\n",
    "    params = search_random_forest.best_estimator_.get_params()\n",
    "    \n",
    "    y_pred = model.predict(preprocessing_pipe.transform(X_test))\n",
    "    \n",
    "    mae = mean_absolute_error(y_test, y_pred)\n",
    "    mse = mean_squared_error(y_test, y_pred)\n",
    "    mape = mean_absolute_percentage_error(y_test, y_pred)\n",
    "    rmse = np.sqrt(mse)\n",
    "    r2 = r2_score(y_test, y_pred)\n",
    "    \n",
    "    metrics = {\"mae\": mae, \"mse\": mse, \"mape\": mape, \"rmse\": rmse, \"r2\": r2}\n",
    "    rows.append(metrics)\n",
    "\n",
    "    if log_mlflow:\n",
    "        with mlflow.start_run(run_name=model_name) as run:\n",
    "            mlflow.log_params(params)\n",
    "        \n",
    "            mlflow.log_metrics(metrics)\n",
    "            \n",
    "            model_info = mlflow.sklearn.log_model(\n",
    "                sk_model=model,\n",
    "                artifact_path=\"wine_quality\",\n",
    "                input_example=X_test,\n",
    "            )"
   ]
  },
  {
   "cell_type": "code",
   "execution_count": 35,
   "id": "c332aa77179d60cf",
   "metadata": {
    "collapsed": false
   },
   "outputs": [],
   "source": [
    "results = pd.DataFrame(rows, index=[tpl[0] for tpl in final_models])"
   ]
  },
  {
   "cell_type": "code",
   "execution_count": 36,
   "id": "b055c5c1",
   "metadata": {},
   "outputs": [
    {
     "data": {
      "text/html": [
       "<style type=\"text/css\">\n",
       "</style>\n",
       "<table id=\"T_b730a\">\n",
       "  <thead>\n",
       "    <tr>\n",
       "      <th class=\"blank level0\" >&nbsp;</th>\n",
       "      <th id=\"T_b730a_level0_col0\" class=\"col_heading level0 col0\" >mae</th>\n",
       "      <th id=\"T_b730a_level0_col1\" class=\"col_heading level0 col1\" >mse</th>\n",
       "      <th id=\"T_b730a_level0_col2\" class=\"col_heading level0 col2\" >mape</th>\n",
       "      <th id=\"T_b730a_level0_col3\" class=\"col_heading level0 col3\" >rmse</th>\n",
       "      <th id=\"T_b730a_level0_col4\" class=\"col_heading level0 col4\" >r2</th>\n",
       "    </tr>\n",
       "  </thead>\n",
       "  <tbody>\n",
       "    <tr>\n",
       "      <th id=\"T_b730a_level0_row0\" class=\"row_heading level0 row0\" >linear_regression</th>\n",
       "      <td id=\"T_b730a_row0_col0\" class=\"data row0 col0\" >0.57</td>\n",
       "      <td id=\"T_b730a_row0_col1\" class=\"data row0 col1\" >0.52</td>\n",
       "      <td id=\"T_b730a_row0_col2\" class=\"data row0 col2\" >0.10</td>\n",
       "      <td id=\"T_b730a_row0_col3\" class=\"data row0 col3\" >0.72</td>\n",
       "      <td id=\"T_b730a_row0_col4\" class=\"data row0 col4\" >0.35</td>\n",
       "    </tr>\n",
       "    <tr>\n",
       "      <th id=\"T_b730a_level0_row1\" class=\"row_heading level0 row1\" >knn</th>\n",
       "      <td id=\"T_b730a_row1_col0\" class=\"data row1 col0\" >0.45</td>\n",
       "      <td id=\"T_b730a_row1_col1\" class=\"data row1 col1\" >0.46</td>\n",
       "      <td id=\"T_b730a_row1_col2\" class=\"data row1 col2\" >0.08</td>\n",
       "      <td id=\"T_b730a_row1_col3\" class=\"data row1 col3\" >0.68</td>\n",
       "      <td id=\"T_b730a_row1_col4\" class=\"data row1 col4\" >0.42</td>\n",
       "    </tr>\n",
       "    <tr>\n",
       "      <th id=\"T_b730a_level0_row2\" class=\"row_heading level0 row2\" >random_forest</th>\n",
       "      <td id=\"T_b730a_row2_col0\" class=\"data row2 col0\" >0.41</td>\n",
       "      <td id=\"T_b730a_row2_col1\" class=\"data row2 col1\" >0.32</td>\n",
       "      <td id=\"T_b730a_row2_col2\" class=\"data row2 col2\" >0.07</td>\n",
       "      <td id=\"T_b730a_row2_col3\" class=\"data row2 col3\" >0.57</td>\n",
       "      <td id=\"T_b730a_row2_col4\" class=\"data row2 col4\" >0.60</td>\n",
       "    </tr>\n",
       "  </tbody>\n",
       "</table>\n"
      ],
      "text/plain": [
       "<pandas.io.formats.style.Styler at 0x19411544040>"
      ]
     },
     "execution_count": 36,
     "metadata": {},
     "output_type": "execute_result"
    }
   ],
   "source": [
    "results.style.format(precision=2, thousands=\",\")"
   ]
  },
  {
   "cell_type": "code",
   "execution_count": 89,
   "id": "dc9c3a1c",
   "metadata": {},
   "outputs": [
    {
     "data": {
      "image/png": "[encoded data removed]",
      "text/plain": [
       "<Figure size 1000x500 with 5 Axes>"
      ]
     },
     "metadata": {},
     "output_type": "display_data"
    }
   ],
   "source": [
    "fig, axes = plt.subplots(1, 5, figsize=(10, 5))\n",
    "colors = [\"darkblue\", \"gold\", \"green\"]\n",
    "\n",
    "metrics = results.columns\n",
    "for i, metric in enumerate(metrics):\n",
    "    axes[i].bar(results.index, results[metric], color=colors)\n",
    "    axes[i].set_title(metric)\n",
    "    axes[i].xaxis.set_ticks([0, 1, 2], results.index, rotation=90)\n",
    "\n",
    "fig.suptitle(\"Results from Wine quality dataset\")\n",
    "plt.tight_layout()\n",
    "plt.show()\n"
   ]
  },
  {
   "cell_type": "code",
   "execution_count": null,
   "id": "6cdef489",
   "metadata": {},
   "outputs": [],
   "source": []
  }
 ],
 "metadata": {
  "kernelspec": {
   "display_name": "regression-methods-comparison",
   "language": "python",
   "name": "python3"
  },
  "language_info": {
   "codemirror_mode": {
    "name": "ipython",
    "version": 3
   },
   "file_extension": ".py",
   "mimetype": "text/x-python",
   "name": "python",
   "nbconvert_exporter": "python",
   "pygments_lexer": "ipython3",
   "version": "3.10.13"
  }
 },
 "nbformat": 4,
 "nbformat_minor": 5
}
