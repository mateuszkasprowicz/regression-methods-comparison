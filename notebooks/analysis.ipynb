{
 "cells": [
  {
   "cell_type": "markdown",
   "source": [
    "# Porównanie 3 metod regresji na podstawie 3 różnych zbiorów danych\n",
    "\n",
    "Autor:\n",
    "Data:\n",
    "\n",
    "W niniejszej pracy wykorzystuję metody:\n",
    "- K najbliższych sąsiądów (KNN)\n",
    "- Regresji liniowej\n",
    "- Lasu losowego\n",
    "\n",
    "Używam następujących zbiorów danych:\n",
    "- Melbourne Housing\n",
    "    - zmienna objaśniana: cena domu\n",
    "- Wine Quality\n",
    "    - zmienna objaśniana: jakość wina\n",
    "- Abalone\n",
    "    - zmienna objaśniana: wiek skamieliny"
   ],
   "metadata": {
    "collapsed": false
   },
   "id": "8e6a5c08fdf59c41"
  },
  {
   "cell_type": "markdown",
   "source": [
    "## Załadowanie potrzebnych bibliotek"
   ],
   "metadata": {
    "collapsed": false
   },
   "id": "cdbcf20ba0c64295"
  },
  {
   "cell_type": "code",
   "execution_count": 1,
   "outputs": [],
   "source": [
    "import random\n",
    "import os\n",
    "\n",
    "import pandas as pd\n",
    "import numpy as np\n",
    "\n",
    "import matplotlib as mpl\n",
    "import matplotlib.pyplot as plt\n",
    "import seaborn as sns\n",
    "import plotly.express as px\n",
    "\n",
    "import sklearn\n",
    "from sklearn.compose import ColumnTransformer\n",
    "from sklearn.impute import SimpleImputer\n",
    "\n",
    "from sklearn.linear_model import LinearRegression\n",
    "from sklearn.neighbors import KNeighborsRegressor\n",
    "from sklearn.ensemble import RandomForestRegressor\n",
    "\n",
    "from sklearn.model_selection import train_test_split, GridSearchCV\n"
   ],
   "metadata": {
    "collapsed": false,
    "ExecuteTime": {
     "end_time": "2023-12-24T10:44:57.118210100Z",
     "start_time": "2023-12-24T10:44:56.520165900Z"
    }
   },
   "id": "392b077ab414804e"
  },
  {
   "cell_type": "markdown",
   "source": [
    "## Stałe"
   ],
   "metadata": {
    "collapsed": false
   },
   "id": "19d5f5b943907b25"
  },
  {
   "cell_type": "code",
   "execution_count": 2,
   "outputs": [],
   "source": [
    "random_state = 0\n",
    "\n",
    "np.random.seed(random_state)\n",
    "os.environ[\"PYTHONHASHSEED\"] = str(random_state)\n",
    "random.seed(random_state)"
   ],
   "metadata": {
    "collapsed": false,
    "ExecuteTime": {
     "end_time": "2023-12-24T10:44:57.120213700Z",
     "start_time": "2023-12-24T10:44:57.115890100Z"
    }
   },
   "id": "9f303b328fe998e4"
  },
  {
   "cell_type": "markdown",
   "source": [
    "## Wczytanie danych"
   ],
   "metadata": {
    "collapsed": false
   },
   "id": "4a253bc1def973e1"
  },
  {
   "cell_type": "code",
   "execution_count": null,
   "outputs": [],
   "source": [
    "housing = pd.read_csv(\"data/melb_data.csv\")\n",
    "wine_quality = pd.read_csv(\"data/winequalityN.csv\")\n",
    "abalone = pd.read_csv(\"data/abalone.csv\")"
   ],
   "metadata": {
    "collapsed": false
   },
   "id": "9f7ba64f0485ffb3"
  },
  {
   "cell_type": "markdown",
   "source": [
    "### Krótka analiza eksploracyjna danych"
   ],
   "metadata": {
    "collapsed": false
   },
   "id": "857fc4209438d23a"
  },
  {
   "cell_type": "code",
   "execution_count": 12,
   "outputs": [],
   "source": [
    "# jakiś wykresik itp."
   ],
   "metadata": {
    "collapsed": false,
    "ExecuteTime": {
     "end_time": "2023-12-22T11:47:28.485923100Z",
     "start_time": "2023-12-22T11:47:28.483786Z"
    }
   },
   "id": "38cc88d27ad49609"
  },
  {
   "cell_type": "markdown",
   "source": [
    "## Preprocessing"
   ],
   "metadata": {
    "collapsed": false
   },
   "id": "9fc1beabba9f9ed8"
  },
  {
   "cell_type": "code",
   "execution_count": null,
   "outputs": [],
   "source": [
    "# To służy do wyboru kolumn chcesz wykonań daną transformację (np. imputacja brakujących danych)\n",
    "imputer = SimpleImputer()\n",
    "ct = ColumnTransformer()"
   ],
   "metadata": {
    "collapsed": false
   },
   "id": "4db142394b0454df"
  },
  {
   "cell_type": "markdown",
   "source": [
    "### Podział na train i test"
   ],
   "metadata": {
    "collapsed": false
   },
   "id": "ba90b2e90ed315fd"
  },
  {
   "cell_type": "code",
   "execution_count": null,
   "outputs": [],
   "source": [
    "# Jakie parametry wybrać tutaj? To trzeba wytłumaczyć jako zależne od wielkości próbki\n",
    "X_train, X_test, y_train, y_test = train_test_split()"
   ],
   "metadata": {
    "collapsed": false
   },
   "id": "f3c1da511df3d901"
  },
  {
   "cell_type": "markdown",
   "source": [
    "# Modelowanie"
   ],
   "metadata": {
    "collapsed": false
   },
   "id": "1ea7313d61d65591"
  },
  {
   "cell_type": "code",
   "execution_count": null,
   "outputs": [],
   "source": [
    "linear_regression = LinearRegression(n_jobs=-1)\n",
    "knn = KNeighborsRegressor(n_jobs=-1)\n",
    "random_forest = RandomForestRegressor(n_jobs=-1, random_state=random_state)"
   ],
   "metadata": {
    "collapsed": false
   },
   "id": "c6a04b8a6e4c9097"
  },
  {
   "cell_type": "code",
   "execution_count": 1,
   "outputs": [],
   "source": [
    "# TODO: decide if we want to check anything here\n",
    "linear_regression_params = {}\n",
    "\n",
    "knn_params = {\n",
    "    \"n_neighbors\": None,\n",
    "    \"weights\": [\"uniform\", \"distance\"],\n",
    "    \"leaf_size\": None,\n",
    "    \"p\": [1, 2],\n",
    "    # there could be other distance metrics but let's skip them\n",
    "}\n",
    "\n",
    "random_forest_params = {\n",
    "    \"n_estimator\": None,\n",
    "    \"criterion\": [\"squared_error\", \"absolute_error\"],\n",
    "    \"max_depth\": [None, 3, 4, 5],\n",
    "    \"min_samples_split\": None,\n",
    "    \"min_samples_leaf\": None,\n",
    "    \"max_features\": None,\n",
    "    \"bootstrap\": None,\n",
    "}"
   ],
   "metadata": {
    "collapsed": false,
    "ExecuteTime": {
     "end_time": "2024-01-03T22:17:48.282940300Z",
     "start_time": "2024-01-03T22:17:48.277168800Z"
    }
   },
   "id": "82bb73aa8ce0121a"
  },
  {
   "cell_type": "markdown",
   "source": [
    "Przy wyczerpującym przeszukiwania siatki parametrów w celu znalezienia najlepszej kombinacji parametrów użyjemy walidacji krzyżowej .\n",
    "\n",
    "[<img src=\"../img/grid_search_cross_validation.png\" alt=\"drawing\" width=\"400\"/>](\"../img/grid_search_cross_validation.png\")\n",
    "źródło: https://scikit-learn.org/stable/modules/cross_validation.html"
   ],
   "metadata": {
    "collapsed": false
   },
   "id": "14196c44e829d96d"
  },
  {
   "cell_type": "code",
   "execution_count": 10,
   "outputs": [],
   "source": [
    "# Możemy zrobić jeszcze poszukiwanie najlepszych hiperparametrów do modelu\n",
    "grid_search_results = GridSearchCV()"
   ],
   "metadata": {
    "collapsed": false,
    "ExecuteTime": {
     "end_time": "2023-12-22T11:41:36.080441800Z",
     "start_time": "2023-12-22T11:41:36.068118700Z"
    }
   },
   "id": "ffb8e9883d8c2da7"
  },
  {
   "cell_type": "markdown",
   "source": [
    "## Analiza\n",
    "\n",
    "Na tym tym posiadam już dostrojone, finalne modele. Teraz zostaną one porównane wg następujących metryk:\n",
    "\n",
    "- MAE\n",
    "- MAPE\n",
    "- R2"
   ],
   "metadata": {
    "collapsed": false
   },
   "id": "470cbd9665679eec"
  },
  {
   "cell_type": "code",
   "execution_count": 4,
   "outputs": [],
   "source": [
    "# TODO: wybrać finalne metryki"
   ],
   "metadata": {
    "collapsed": false,
    "ExecuteTime": {
     "end_time": "2023-12-24T11:10:31.580884100Z",
     "start_time": "2023-12-24T11:10:31.580884100Z"
    }
   },
   "id": "5e36da8ecc33e8ef"
  },
  {
   "cell_type": "code",
   "execution_count": null,
   "outputs": [],
   "source": [],
   "metadata": {
    "collapsed": false
   },
   "id": "c332aa77179d60cf"
  }
 ],
 "metadata": {
  "kernelspec": {
   "display_name": "Python 3",
   "language": "python",
   "name": "python3"
  },
  "language_info": {
   "codemirror_mode": {
    "name": "ipython",
    "version": 2
   },
   "file_extension": ".py",
   "mimetype": "text/x-python",
   "name": "python",
   "nbconvert_exporter": "python",
   "pygments_lexer": "ipython2",
   "version": "2.7.6"
  }
 },
 "nbformat": 4,
 "nbformat_minor": 5
}
