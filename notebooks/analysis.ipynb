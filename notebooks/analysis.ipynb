{
 "cells": [
  {
   "cell_type": "markdown",
   "source": [
    "# Porównanie 3 metod regresji na podstawie 3 różnych zbiorów danych\n",
    "\n",
    "W niniejszej pracy wykorzystuję metody:\n",
    "- K najbliższych sąsiądów (KNN)\n",
    "- Regresji liniowej\n",
    "- Lasu losowego\n",
    "\n",
    "Używam następujących zbiorów danych:\n",
    "- [Melbourne Housing](https://www.kaggle.com/datasets/dansbecker/melbourne-housing-snapshot) \n",
    "    - zmienna objaśniana: cena domu\n",
    "- [Wine Quality](https://www.kaggle.com/datasets/rajyellow46/wine-quality)\n",
    "    - zmienna objaśniana: jakość wina\n",
    "-  [Abalon](https://www.kaggle.com/datasets/rodolfomendes/abalone-dataset)\n",
    "    - zmienna objaśniana: wiek skamieliny"
   ],
   "metadata": {
    "collapsed": false
   },
   "id": "8e6a5c08fdf59c41"
  },
  {
   "cell_type": "markdown",
   "source": [
    "## Załadowanie potrzebnych bibliotek"
   ],
   "metadata": {
    "collapsed": false
   },
   "id": "cdbcf20ba0c64295"
  },
  {
   "cell_type": "code",
   "execution_count": 21,
   "outputs": [],
   "source": [
    "import random\n",
    "import os\n",
    "\n",
    "import pandas as pd\n",
    "from ydata_profiling import ProfileReport\n",
    "import numpy as np\n",
    "\n",
    "import matplotlib as mpl\n",
    "import matplotlib.pyplot as plt\n",
    "import seaborn as sns\n",
    "import plotly.express as px\n",
    "\n",
    "import sklearn\n",
    "from sklearn.compose import ColumnTransformer\n",
    "from sklearn.impute import SimpleImputer\n",
    "from sklearn.preprocessing import TargetEncoder, StandardScaler, OneHotEncoder\n",
    "from sklearn.pipeline import make_pipeline\n",
    "\n",
    "from sklearn.linear_model import LinearRegression\n",
    "from sklearn.neighbors import KNeighborsRegressor\n",
    "from sklearn.ensemble import RandomForestRegressor\n",
    "\n",
    "from sklearn.model_selection import train_test_split, GridSearchCV\n"
   ],
   "metadata": {
    "collapsed": false,
    "ExecuteTime": {
     "end_time": "2024-01-04T17:15:07.936576100Z",
     "start_time": "2024-01-04T17:15:07.924579700Z"
    }
   },
   "id": "392b077ab414804e"
  },
  {
   "cell_type": "markdown",
   "source": [
    "## Stałe"
   ],
   "metadata": {
    "collapsed": false
   },
   "id": "19d5f5b943907b25"
  },
  {
   "cell_type": "code",
   "execution_count": 4,
   "outputs": [],
   "source": [
    "random_state = 0\n",
    "\n",
    "np.random.seed(random_state)\n",
    "os.environ[\"PYTHONHASHSEED\"] = str(random_state)\n",
    "random.seed(random_state)"
   ],
   "metadata": {
    "collapsed": false,
    "ExecuteTime": {
     "end_time": "2024-01-04T16:32:07.695955Z",
     "start_time": "2024-01-04T16:32:07.680420500Z"
    }
   },
   "id": "9f303b328fe998e4"
  },
  {
   "cell_type": "code",
   "execution_count": 9,
   "outputs": [],
   "source": [
    "sklearn.set_config(transform_output=\"pandas\")"
   ],
   "metadata": {
    "collapsed": false,
    "ExecuteTime": {
     "end_time": "2024-01-04T16:55:40.333655200Z",
     "start_time": "2024-01-04T16:55:40.286679500Z"
    }
   },
   "id": "b7737e9d547de906"
  },
  {
   "cell_type": "markdown",
   "source": [
    "## Wczytanie danych"
   ],
   "metadata": {
    "collapsed": false
   },
   "id": "4a253bc1def973e1"
  },
  {
   "cell_type": "code",
   "execution_count": 5,
   "outputs": [],
   "source": [
    "housing = pd.read_csv(\"../data/melb_data.csv\")\n",
    "wine_quality = pd.read_csv(\"../data/winequalityN.csv\")\n",
    "abalone = pd.read_csv(\"../data/abalone.csv\")"
   ],
   "metadata": {
    "collapsed": false,
    "ExecuteTime": {
     "end_time": "2024-01-04T16:32:08.133497Z",
     "start_time": "2024-01-04T16:32:08.039821200Z"
    }
   },
   "id": "9f7ba64f0485ffb3"
  },
  {
   "cell_type": "code",
   "execution_count": 6,
   "outputs": [],
   "source": [
    "datasets = {\"housing\": housing, \n",
    "            \"wine_quality\": wine_quality, \n",
    "            \"abalone\": abalone,\n",
    "            }"
   ],
   "metadata": {
    "collapsed": false,
    "ExecuteTime": {
     "end_time": "2024-01-04T16:32:08.242964Z",
     "start_time": "2024-01-04T16:32:08.227344300Z"
    }
   },
   "id": "fe3b1f65b3ad969"
  },
  {
   "cell_type": "markdown",
   "source": [
    "### Krótka analiza eksploracyjna danych"
   ],
   "metadata": {
    "collapsed": false
   },
   "id": "857fc4209438d23a"
  },
  {
   "cell_type": "code",
   "execution_count": null,
   "outputs": [],
   "source": [
    "for name, dataset in datasets.items():\n",
    "    ProfileReport(dataset, title=f\"Profiling Report for {name.capitalize()} dataset\").to_file(f\"../data/{name}_EDA.html\")"
   ],
   "metadata": {
    "collapsed": false
   },
   "id": "38cc88d27ad49609"
  },
  {
   "cell_type": "markdown",
   "source": [
    "## Preprocessing"
   ],
   "metadata": {
    "collapsed": false
   },
   "id": "9fc1beabba9f9ed8"
  },
  {
   "cell_type": "markdown",
   "source": [
    "### Housing"
   ],
   "metadata": {
    "collapsed": false
   },
   "id": "bfa1053d0b342ca7"
  },
  {
   "cell_type": "code",
   "execution_count": 7,
   "outputs": [
    {
     "data": {
      "text/plain": "               Suburb          Address  Rooms Type      Price Method  \\\n8505     Williamstown    44 Electra St      4    h  2165000.0     SP   \n5523           Seddon      80 Gamon St      2    h   815000.0      S   \n12852  Sunshine North      6 Melton Av      3    h   610000.0     SP   \n4818          Prahran       16 Park Rd      3    t  1245000.0     PI   \n12812     Pascoe Vale  13 Yorkshire St      3    h  1160000.0      S   \n\n        SellerG        Date  Distance  Postcode  ...  Bathroom  Car  Landsize  \\\n8505       Greg   6/05/2017       8.0    3016.0  ...       2.0  2.0     450.0   \n5523   Chisholm  30/07/2016       6.6    3011.0  ...       1.0  0.0     172.0   \n12852   Sweeney  16/09/2017      10.5    3020.0  ...       1.0  1.0     581.0   \n4818   Marshall   6/08/2016       4.5    3181.0  ...       2.0  1.0     128.0   \n12812    Nelson  16/09/2017       8.5    3044.0  ...       2.0  2.0     480.0   \n\n       BuildingArea  YearBuilt  CouncilArea Lattitude  Longtitude  \\\n8505          190.0     1910.0  Hobsons Bay -37.86100   144.89850   \n5523           81.0     1900.0  Maribyrnong -37.81000   144.88960   \n12852           NaN        NaN          NaN -37.76740   144.82421   \n4818          134.0     2000.0  Stonnington -37.85260   145.00710   \n12812           NaN        NaN          NaN -37.72523   144.94567   \n\n                  Regionname Propertycount  \n8505    Western Metropolitan        6380.0  \n5523    Western Metropolitan        2417.0  \n12852   Western Metropolitan        4217.0  \n4818   Southern Metropolitan        7717.0  \n12812  Northern Metropolitan        7485.0  \n\n[5 rows x 21 columns]",
      "text/html": "<div>\n<style scoped>\n    .dataframe tbody tr th:only-of-type {\n        vertical-align: middle;\n    }\n\n    .dataframe tbody tr th {\n        vertical-align: top;\n    }\n\n    .dataframe thead th {\n        text-align: right;\n    }\n</style>\n<table border=\"1\" class=\"dataframe\">\n  <thead>\n    <tr style=\"text-align: right;\">\n      <th></th>\n      <th>Suburb</th>\n      <th>Address</th>\n      <th>Rooms</th>\n      <th>Type</th>\n      <th>Price</th>\n      <th>Method</th>\n      <th>SellerG</th>\n      <th>Date</th>\n      <th>Distance</th>\n      <th>Postcode</th>\n      <th>...</th>\n      <th>Bathroom</th>\n      <th>Car</th>\n      <th>Landsize</th>\n      <th>BuildingArea</th>\n      <th>YearBuilt</th>\n      <th>CouncilArea</th>\n      <th>Lattitude</th>\n      <th>Longtitude</th>\n      <th>Regionname</th>\n      <th>Propertycount</th>\n    </tr>\n  </thead>\n  <tbody>\n    <tr>\n      <th>8505</th>\n      <td>Williamstown</td>\n      <td>44 Electra St</td>\n      <td>4</td>\n      <td>h</td>\n      <td>2165000.0</td>\n      <td>SP</td>\n      <td>Greg</td>\n      <td>6/05/2017</td>\n      <td>8.0</td>\n      <td>3016.0</td>\n      <td>...</td>\n      <td>2.0</td>\n      <td>2.0</td>\n      <td>450.0</td>\n      <td>190.0</td>\n      <td>1910.0</td>\n      <td>Hobsons Bay</td>\n      <td>-37.86100</td>\n      <td>144.89850</td>\n      <td>Western Metropolitan</td>\n      <td>6380.0</td>\n    </tr>\n    <tr>\n      <th>5523</th>\n      <td>Seddon</td>\n      <td>80 Gamon St</td>\n      <td>2</td>\n      <td>h</td>\n      <td>815000.0</td>\n      <td>S</td>\n      <td>Chisholm</td>\n      <td>30/07/2016</td>\n      <td>6.6</td>\n      <td>3011.0</td>\n      <td>...</td>\n      <td>1.0</td>\n      <td>0.0</td>\n      <td>172.0</td>\n      <td>81.0</td>\n      <td>1900.0</td>\n      <td>Maribyrnong</td>\n      <td>-37.81000</td>\n      <td>144.88960</td>\n      <td>Western Metropolitan</td>\n      <td>2417.0</td>\n    </tr>\n    <tr>\n      <th>12852</th>\n      <td>Sunshine North</td>\n      <td>6 Melton Av</td>\n      <td>3</td>\n      <td>h</td>\n      <td>610000.0</td>\n      <td>SP</td>\n      <td>Sweeney</td>\n      <td>16/09/2017</td>\n      <td>10.5</td>\n      <td>3020.0</td>\n      <td>...</td>\n      <td>1.0</td>\n      <td>1.0</td>\n      <td>581.0</td>\n      <td>NaN</td>\n      <td>NaN</td>\n      <td>NaN</td>\n      <td>-37.76740</td>\n      <td>144.82421</td>\n      <td>Western Metropolitan</td>\n      <td>4217.0</td>\n    </tr>\n    <tr>\n      <th>4818</th>\n      <td>Prahran</td>\n      <td>16 Park Rd</td>\n      <td>3</td>\n      <td>t</td>\n      <td>1245000.0</td>\n      <td>PI</td>\n      <td>Marshall</td>\n      <td>6/08/2016</td>\n      <td>4.5</td>\n      <td>3181.0</td>\n      <td>...</td>\n      <td>2.0</td>\n      <td>1.0</td>\n      <td>128.0</td>\n      <td>134.0</td>\n      <td>2000.0</td>\n      <td>Stonnington</td>\n      <td>-37.85260</td>\n      <td>145.00710</td>\n      <td>Southern Metropolitan</td>\n      <td>7717.0</td>\n    </tr>\n    <tr>\n      <th>12812</th>\n      <td>Pascoe Vale</td>\n      <td>13 Yorkshire St</td>\n      <td>3</td>\n      <td>h</td>\n      <td>1160000.0</td>\n      <td>S</td>\n      <td>Nelson</td>\n      <td>16/09/2017</td>\n      <td>8.5</td>\n      <td>3044.0</td>\n      <td>...</td>\n      <td>2.0</td>\n      <td>2.0</td>\n      <td>480.0</td>\n      <td>NaN</td>\n      <td>NaN</td>\n      <td>NaN</td>\n      <td>-37.72523</td>\n      <td>144.94567</td>\n      <td>Northern Metropolitan</td>\n      <td>7485.0</td>\n    </tr>\n  </tbody>\n</table>\n<p>5 rows × 21 columns</p>\n</div>"
     },
     "execution_count": 7,
     "metadata": {},
     "output_type": "execute_result"
    }
   ],
   "source": [
    "housing.sample(5)"
   ],
   "metadata": {
    "collapsed": false,
    "ExecuteTime": {
     "end_time": "2024-01-04T16:32:11.556264600Z",
     "start_time": "2024-01-04T16:32:11.509390700Z"
    }
   },
   "id": "8a6d41e0e451198"
  },
  {
   "cell_type": "code",
   "execution_count": 12,
   "outputs": [],
   "source": [
    "X = housing.drop(columns=\"Price\")\n",
    "y = housing[\"Price\"]"
   ],
   "metadata": {
    "collapsed": false,
    "ExecuteTime": {
     "end_time": "2024-01-04T17:09:43.272349100Z",
     "start_time": "2024-01-04T17:09:43.256725100Z"
    }
   },
   "id": "82a617c827b7c360"
  },
  {
   "cell_type": "code",
   "execution_count": 13,
   "outputs": [],
   "source": [
    "X_train, X_test, y_train, y_test = train_test_split(X, y, test_size=0.1, shuffle=True, random_state=random_state)"
   ],
   "metadata": {
    "collapsed": false,
    "ExecuteTime": {
     "end_time": "2024-01-04T17:09:43.945718400Z",
     "start_time": "2024-01-04T17:09:43.930089800Z"
    }
   },
   "id": "952ffd28c5c82338"
  },
  {
   "cell_type": "code",
   "execution_count": 14,
   "outputs": [],
   "source": [
    "imputer_housing = ColumnTransformer([(\"mode_imputer\", SimpleImputer(strategy=\"most_frequent\"), [\"YearBuilt\", \"CouncilArea\"]),\n",
    "                                (\"mean_imputer\", SimpleImputer(strategy=\"mean\"), [\"BuildingArea\"]),\n",
    "                                ],\n",
    "                               remainder=\"passthrough\",\n",
    "                               n_jobs=-1,\n",
    "                               verbose=True,\n",
    "                               verbose_feature_names_out=False,\n",
    "                               )"
   ],
   "metadata": {
    "collapsed": false,
    "ExecuteTime": {
     "end_time": "2024-01-04T17:09:44.662249300Z",
     "start_time": "2024-01-04T17:09:44.631000700Z"
    }
   },
   "id": "4db142394b0454df"
  },
  {
   "cell_type": "code",
   "execution_count": 15,
   "outputs": [],
   "source": [
    "encoder_housing = ColumnTransformer([(\"target_encoder\", TargetEncoder(categories=\"auto\", target_type=\"continuous\", random_state=random_state), [\"SellerG\", \"Postcode\", \"Regionname\", \"CouncilArea\", \"Postcode\", \"Suburb\"]),\n",
    "                                (\"one_hot_encoder\", OneHotEncoder(sparse_output=False), [\"Type\", \"Method\"]),\n",
    "                                     (\"drop\", \"drop\", [\"Address\", \"Lattitude\", \"Longtitude\", \"Date\"])\n",
    "                                ],\n",
    "                               remainder=\"passthrough\",\n",
    "                               n_jobs=-1,\n",
    "                               verbose=True,\n",
    "                               verbose_feature_names_out=False,\n",
    "                               )"
   ],
   "metadata": {
    "collapsed": false,
    "ExecuteTime": {
     "end_time": "2024-01-04T17:09:45.382614100Z",
     "start_time": "2024-01-04T17:09:45.351244500Z"
    }
   },
   "id": "73b91bdabf581a65"
  },
  {
   "cell_type": "code",
   "execution_count": 34,
   "outputs": [],
   "source": [
    "preprocessing_housing = make_pipeline(imputer_housing, encoder_housing, verbose=True)\n",
    "preprocessing_housing"
   ],
   "metadata": {
    "collapsed": false,
    "ExecuteTime": {
     "end_time": "2024-01-04T17:20:11.641596200Z",
     "start_time": "2024-01-04T17:20:11.626506700Z"
    }
   },
   "id": "51fd7376308ec67c"
  },
  {
   "cell_type": "code",
   "execution_count": 36,
   "outputs": [
    {
     "name": "stdout",
     "output_type": "stream",
     "text": [
      "[Pipeline]  (step 1 of 2) Processing columntransformer-1, total=   2.1s\n",
      "[Pipeline]  (step 2 of 2) Processing columntransformer-2, total=   1.0s\n"
     ]
    },
    {
     "data": {
      "text/plain": "            SellerG      Postcode    Regionname   CouncilArea      Postcode  \\\n3857   1.041916e+06  1.593424e+06  1.370599e+06  1.307007e+06  1.593424e+06   \n5862   7.845643e+05  7.863326e+05  1.365564e+06  1.121814e+06  7.863326e+05   \n10164  1.019539e+06  8.805224e+05  8.998646e+05  1.018565e+06  8.805224e+05   \n8843   6.014845e+05  5.295923e+05  8.998646e+05  5.541723e+05  5.295923e+05   \n12389  8.796497e+05  6.852531e+05  8.998646e+05  1.018565e+06  6.852531e+05   \n...             ...           ...           ...           ...           ...   \n13123  1.159248e+06  1.034137e+06  8.910190e+05  1.013013e+06  1.034137e+06   \n3264   1.114186e+06  7.014500e+05  1.108870e+06  9.543597e+05  7.014500e+05   \n9845   8.847678e+05  9.192777e+05  9.026117e+05  1.025348e+06  9.192777e+05   \n10799  7.228054e+05  6.852531e+05  8.998646e+05  9.208275e+05  6.852531e+05   \n2732   1.004570e+06  7.998352e+05  8.690705e+05  8.137952e+05  7.998352e+05   \n\n       Type_h  Type_t  Type_u  Method_PI  Method_S  ...  BuildingArea  \\\n3857      1.0     0.0     0.0        0.0       1.0  ...    152.495671   \n5862      0.0     0.0     1.0        0.0       0.0  ...    105.000000   \n10164     1.0     0.0     0.0        0.0       0.0  ...    152.495671   \n8843      1.0     0.0     0.0        1.0       0.0  ...    181.000000   \n12389     1.0     0.0     0.0        0.0       1.0  ...    152.495671   \n...       ...     ...     ...        ...       ...  ...           ...   \n13123     1.0     0.0     0.0        0.0       0.0  ...    152.495671   \n3264      1.0     0.0     0.0        0.0       1.0  ...    101.000000   \n9845      1.0     0.0     0.0        1.0       0.0  ...    255.000000   \n10799     1.0     0.0     0.0        0.0       1.0  ...    152.495671   \n2732      1.0     0.0     0.0        0.0       0.0  ...    130.000000   \n\n                   Suburb  Rooms        Date  Distance Bedroom2  Bathroom  \\\n3857         Malvern East      5  15/10/2016      11.2      5.0       2.0   \n5862             St Kilda      2  26/07/2016       6.1      2.0       2.0   \n10164      Brunswick West      3  27/05/2017       5.2      3.0       1.0   \n8843               Jacana      4   1/07/2017      14.0      4.0       1.0   \n12389           Reservoir      3   3/09/2017      12.0      3.0       1.0   \n...                   ...    ...         ...       ...      ...       ...   \n13123           Brunswick      3  23/09/2017       5.2      3.0       1.0   \n3264   Heidelberg Heights      3  25/02/2017      10.5      3.0       1.0   \n9845               Coburg      4  24/06/2017       6.7      4.0       2.0   \n10799           Reservoir      3   8/07/2017      12.0      3.0       1.0   \n2732            Footscray      4  27/11/2016       6.4      4.0       2.0   \n\n       Car  Landsize  Propertycount  \n3857   2.0     639.0         8801.0  \n5862   1.0       0.0        13240.0  \n10164  3.0     484.0         7082.0  \n8843   1.0     692.0          851.0  \n12389  2.0     741.0        21650.0  \n...    ...       ...            ...  \n13123  2.0     212.0        11918.0  \n3264   1.0     748.0         2947.0  \n9845   2.0     441.0        11204.0  \n10799  1.0     606.0        21650.0  \n2732   1.0     319.0         7570.0  \n\n[12222 rows x 24 columns]",
      "text/html": "<div>\n<style scoped>\n    .dataframe tbody tr th:only-of-type {\n        vertical-align: middle;\n    }\n\n    .dataframe tbody tr th {\n        vertical-align: top;\n    }\n\n    .dataframe thead th {\n        text-align: right;\n    }\n</style>\n<table border=\"1\" class=\"dataframe\">\n  <thead>\n    <tr style=\"text-align: right;\">\n      <th></th>\n      <th>SellerG</th>\n      <th>Postcode</th>\n      <th>Regionname</th>\n      <th>CouncilArea</th>\n      <th>Postcode</th>\n      <th>Type_h</th>\n      <th>Type_t</th>\n      <th>Type_u</th>\n      <th>Method_PI</th>\n      <th>Method_S</th>\n      <th>...</th>\n      <th>BuildingArea</th>\n      <th>Suburb</th>\n      <th>Rooms</th>\n      <th>Date</th>\n      <th>Distance</th>\n      <th>Bedroom2</th>\n      <th>Bathroom</th>\n      <th>Car</th>\n      <th>Landsize</th>\n      <th>Propertycount</th>\n    </tr>\n  </thead>\n  <tbody>\n    <tr>\n      <th>3857</th>\n      <td>1.041916e+06</td>\n      <td>1.593424e+06</td>\n      <td>1.370599e+06</td>\n      <td>1.307007e+06</td>\n      <td>1.593424e+06</td>\n      <td>1.0</td>\n      <td>0.0</td>\n      <td>0.0</td>\n      <td>0.0</td>\n      <td>1.0</td>\n      <td>...</td>\n      <td>152.495671</td>\n      <td>Malvern East</td>\n      <td>5</td>\n      <td>15/10/2016</td>\n      <td>11.2</td>\n      <td>5.0</td>\n      <td>2.0</td>\n      <td>2.0</td>\n      <td>639.0</td>\n      <td>8801.0</td>\n    </tr>\n    <tr>\n      <th>5862</th>\n      <td>7.845643e+05</td>\n      <td>7.863326e+05</td>\n      <td>1.365564e+06</td>\n      <td>1.121814e+06</td>\n      <td>7.863326e+05</td>\n      <td>0.0</td>\n      <td>0.0</td>\n      <td>1.0</td>\n      <td>0.0</td>\n      <td>0.0</td>\n      <td>...</td>\n      <td>105.000000</td>\n      <td>St Kilda</td>\n      <td>2</td>\n      <td>26/07/2016</td>\n      <td>6.1</td>\n      <td>2.0</td>\n      <td>2.0</td>\n      <td>1.0</td>\n      <td>0.0</td>\n      <td>13240.0</td>\n    </tr>\n    <tr>\n      <th>10164</th>\n      <td>1.019539e+06</td>\n      <td>8.805224e+05</td>\n      <td>8.998646e+05</td>\n      <td>1.018565e+06</td>\n      <td>8.805224e+05</td>\n      <td>1.0</td>\n      <td>0.0</td>\n      <td>0.0</td>\n      <td>0.0</td>\n      <td>0.0</td>\n      <td>...</td>\n      <td>152.495671</td>\n      <td>Brunswick West</td>\n      <td>3</td>\n      <td>27/05/2017</td>\n      <td>5.2</td>\n      <td>3.0</td>\n      <td>1.0</td>\n      <td>3.0</td>\n      <td>484.0</td>\n      <td>7082.0</td>\n    </tr>\n    <tr>\n      <th>8843</th>\n      <td>6.014845e+05</td>\n      <td>5.295923e+05</td>\n      <td>8.998646e+05</td>\n      <td>5.541723e+05</td>\n      <td>5.295923e+05</td>\n      <td>1.0</td>\n      <td>0.0</td>\n      <td>0.0</td>\n      <td>1.0</td>\n      <td>0.0</td>\n      <td>...</td>\n      <td>181.000000</td>\n      <td>Jacana</td>\n      <td>4</td>\n      <td>1/07/2017</td>\n      <td>14.0</td>\n      <td>4.0</td>\n      <td>1.0</td>\n      <td>1.0</td>\n      <td>692.0</td>\n      <td>851.0</td>\n    </tr>\n    <tr>\n      <th>12389</th>\n      <td>8.796497e+05</td>\n      <td>6.852531e+05</td>\n      <td>8.998646e+05</td>\n      <td>1.018565e+06</td>\n      <td>6.852531e+05</td>\n      <td>1.0</td>\n      <td>0.0</td>\n      <td>0.0</td>\n      <td>0.0</td>\n      <td>1.0</td>\n      <td>...</td>\n      <td>152.495671</td>\n      <td>Reservoir</td>\n      <td>3</td>\n      <td>3/09/2017</td>\n      <td>12.0</td>\n      <td>3.0</td>\n      <td>1.0</td>\n      <td>2.0</td>\n      <td>741.0</td>\n      <td>21650.0</td>\n    </tr>\n    <tr>\n      <th>...</th>\n      <td>...</td>\n      <td>...</td>\n      <td>...</td>\n      <td>...</td>\n      <td>...</td>\n      <td>...</td>\n      <td>...</td>\n      <td>...</td>\n      <td>...</td>\n      <td>...</td>\n      <td>...</td>\n      <td>...</td>\n      <td>...</td>\n      <td>...</td>\n      <td>...</td>\n      <td>...</td>\n      <td>...</td>\n      <td>...</td>\n      <td>...</td>\n      <td>...</td>\n      <td>...</td>\n    </tr>\n    <tr>\n      <th>13123</th>\n      <td>1.159248e+06</td>\n      <td>1.034137e+06</td>\n      <td>8.910190e+05</td>\n      <td>1.013013e+06</td>\n      <td>1.034137e+06</td>\n      <td>1.0</td>\n      <td>0.0</td>\n      <td>0.0</td>\n      <td>0.0</td>\n      <td>0.0</td>\n      <td>...</td>\n      <td>152.495671</td>\n      <td>Brunswick</td>\n      <td>3</td>\n      <td>23/09/2017</td>\n      <td>5.2</td>\n      <td>3.0</td>\n      <td>1.0</td>\n      <td>2.0</td>\n      <td>212.0</td>\n      <td>11918.0</td>\n    </tr>\n    <tr>\n      <th>3264</th>\n      <td>1.114186e+06</td>\n      <td>7.014500e+05</td>\n      <td>1.108870e+06</td>\n      <td>9.543597e+05</td>\n      <td>7.014500e+05</td>\n      <td>1.0</td>\n      <td>0.0</td>\n      <td>0.0</td>\n      <td>0.0</td>\n      <td>1.0</td>\n      <td>...</td>\n      <td>101.000000</td>\n      <td>Heidelberg Heights</td>\n      <td>3</td>\n      <td>25/02/2017</td>\n      <td>10.5</td>\n      <td>3.0</td>\n      <td>1.0</td>\n      <td>1.0</td>\n      <td>748.0</td>\n      <td>2947.0</td>\n    </tr>\n    <tr>\n      <th>9845</th>\n      <td>8.847678e+05</td>\n      <td>9.192777e+05</td>\n      <td>9.026117e+05</td>\n      <td>1.025348e+06</td>\n      <td>9.192777e+05</td>\n      <td>1.0</td>\n      <td>0.0</td>\n      <td>0.0</td>\n      <td>1.0</td>\n      <td>0.0</td>\n      <td>...</td>\n      <td>255.000000</td>\n      <td>Coburg</td>\n      <td>4</td>\n      <td>24/06/2017</td>\n      <td>6.7</td>\n      <td>4.0</td>\n      <td>2.0</td>\n      <td>2.0</td>\n      <td>441.0</td>\n      <td>11204.0</td>\n    </tr>\n    <tr>\n      <th>10799</th>\n      <td>7.228054e+05</td>\n      <td>6.852531e+05</td>\n      <td>8.998646e+05</td>\n      <td>9.208275e+05</td>\n      <td>6.852531e+05</td>\n      <td>1.0</td>\n      <td>0.0</td>\n      <td>0.0</td>\n      <td>0.0</td>\n      <td>1.0</td>\n      <td>...</td>\n      <td>152.495671</td>\n      <td>Reservoir</td>\n      <td>3</td>\n      <td>8/07/2017</td>\n      <td>12.0</td>\n      <td>3.0</td>\n      <td>1.0</td>\n      <td>1.0</td>\n      <td>606.0</td>\n      <td>21650.0</td>\n    </tr>\n    <tr>\n      <th>2732</th>\n      <td>1.004570e+06</td>\n      <td>7.998352e+05</td>\n      <td>8.690705e+05</td>\n      <td>8.137952e+05</td>\n      <td>7.998352e+05</td>\n      <td>1.0</td>\n      <td>0.0</td>\n      <td>0.0</td>\n      <td>0.0</td>\n      <td>0.0</td>\n      <td>...</td>\n      <td>130.000000</td>\n      <td>Footscray</td>\n      <td>4</td>\n      <td>27/11/2016</td>\n      <td>6.4</td>\n      <td>4.0</td>\n      <td>2.0</td>\n      <td>1.0</td>\n      <td>319.0</td>\n      <td>7570.0</td>\n    </tr>\n  </tbody>\n</table>\n<p>12222 rows × 24 columns</p>\n</div>"
     },
     "execution_count": 36,
     "metadata": {},
     "output_type": "execute_result"
    }
   ],
   "source": [
    "preprocessing_housing.fit_transform(X_train, y_train)"
   ],
   "metadata": {
    "collapsed": false,
    "ExecuteTime": {
     "end_time": "2024-01-04T17:20:29.295707400Z",
     "start_time": "2024-01-04T17:20:26.154466900Z"
    }
   },
   "id": "cba20051ecf59fab"
  },
  {
   "cell_type": "markdown",
   "source": [
    "### Wine quality"
   ],
   "metadata": {
    "collapsed": false
   },
   "id": "3f5ff5b30468dbc3"
  },
  {
   "cell_type": "code",
   "execution_count": null,
   "outputs": [],
   "source": [
    "imputer = SimpleImputer()\n",
    "ct = ColumnTransformer()"
   ],
   "metadata": {
    "collapsed": false
   },
   "id": "672570c940c04898"
  },
  {
   "cell_type": "markdown",
   "source": [
    "### Abalone"
   ],
   "metadata": {
    "collapsed": false
   },
   "id": "d9e12304a79ed5ce"
  },
  {
   "cell_type": "code",
   "execution_count": null,
   "outputs": [],
   "source": [
    "imputer = SimpleImputer()\n",
    "ct = ColumnTransformer()"
   ],
   "metadata": {
    "collapsed": false
   },
   "id": "8dd807035d2c2e15"
  },
  {
   "cell_type": "code",
   "execution_count": 19,
   "outputs": [],
   "source": [
    "# i teraz dla każdego datasetu"
   ],
   "metadata": {
    "collapsed": false,
    "ExecuteTime": {
     "end_time": "2024-01-04T16:00:38.159969700Z",
     "start_time": "2024-01-04T16:00:38.159460700Z"
    }
   },
   "id": "e658c457cbf7a74f"
  },
  {
   "cell_type": "markdown",
   "source": [
    "# Modelowanie"
   ],
   "metadata": {
    "collapsed": false
   },
   "id": "1ea7313d61d65591"
  },
  {
   "cell_type": "code",
   "execution_count": 28,
   "outputs": [],
   "source": [
    "linear_regression = LinearRegression(n_jobs=-1)\n",
    "knn = KNeighborsRegressor(n_jobs=-1)\n",
    "random_forest = RandomForestRegressor(n_jobs=-1, random_state=random_state)"
   ],
   "metadata": {
    "collapsed": false,
    "ExecuteTime": {
     "end_time": "2024-01-04T17:18:09.317250Z",
     "start_time": "2024-01-04T17:18:09.301606400Z"
    }
   },
   "id": "c6a04b8a6e4c9097"
  },
  {
   "cell_type": "code",
   "execution_count": 1,
   "outputs": [],
   "source": [
    "knn_params = {\n",
    "    \"n_neighbors\": None,\n",
    "    \"weights\": [\"uniform\", \"distance\"],\n",
    "    \"leaf_size\": None,\n",
    "    \"p\": [1, 2],\n",
    "    # there could be other distance metrics but let's skip them\n",
    "}\n",
    "\n",
    "random_forest_params = {\n",
    "    \"n_estimator\": None,\n",
    "    \"criterion\": [\"squared_error\", \"absolute_error\"],\n",
    "    \"max_depth\": [None, 3, 4, 5],\n",
    "    \"min_samples_split\": None,\n",
    "    \"min_samples_leaf\": None,\n",
    "    \"max_features\": None,\n",
    "    \"bootstrap\": None,\n",
    "}"
   ],
   "metadata": {
    "collapsed": false,
    "ExecuteTime": {
     "end_time": "2024-01-03T22:17:48.282940300Z",
     "start_time": "2024-01-03T22:17:48.277168800Z"
    }
   },
   "id": "82bb73aa8ce0121a"
  },
  {
   "cell_type": "markdown",
   "source": [
    "Przy wyczerpującym przeszukiwania siatki parametrów w celu znalezienia najlepszej kombinacji parametrów użyjemy walidacji krzyżowej .\n",
    "\n",
    "[<img src=\"../img/grid_search_cross_validation.png\" alt=\"drawing\" width=\"400\"/>](\"../img/grid_search_cross_validation.png\")\n",
    "źródło: https://scikit-learn.org/stable/modules/cross_validation.html"
   ],
   "metadata": {
    "collapsed": false
   },
   "id": "14196c44e829d96d"
  },
  {
   "cell_type": "code",
   "execution_count": 10,
   "outputs": [],
   "source": [
    "# Możemy zrobić jeszcze poszukiwanie najlepszych hiperparametrów do modelu\n",
    "grid_search_results = GridSearchCV()"
   ],
   "metadata": {
    "collapsed": false,
    "ExecuteTime": {
     "end_time": "2023-12-22T11:41:36.080441800Z",
     "start_time": "2023-12-22T11:41:36.068118700Z"
    }
   },
   "id": "ffb8e9883d8c2da7"
  },
  {
   "cell_type": "markdown",
   "source": [
    "## Analiza\n",
    "\n",
    "Na tym tym posiadam już dostrojone, finalne modele. Teraz zostaną one porównane wg następujących metryk:\n",
    "\n",
    "- MAE\n",
    "- MAPE\n",
    "- R2"
   ],
   "metadata": {
    "collapsed": false
   },
   "id": "470cbd9665679eec"
  },
  {
   "cell_type": "code",
   "execution_count": 4,
   "outputs": [],
   "source": [
    "# TODO: wybrać finalne metryki"
   ],
   "metadata": {
    "collapsed": false,
    "ExecuteTime": {
     "end_time": "2023-12-24T11:10:31.580884100Z",
     "start_time": "2023-12-24T11:10:31.580884100Z"
    }
   },
   "id": "5e36da8ecc33e8ef"
  },
  {
   "cell_type": "code",
   "execution_count": null,
   "outputs": [],
   "source": [],
   "metadata": {
    "collapsed": false
   },
   "id": "c332aa77179d60cf"
  }
 ],
 "metadata": {
  "kernelspec": {
   "name": "conda-env-regression-methods-comparison-py",
   "language": "python",
   "display_name": "Python [conda env:regression-methods-comparison]"
  },
  "language_info": {
   "codemirror_mode": {
    "name": "ipython",
    "version": 2
   },
   "file_extension": ".py",
   "mimetype": "text/x-python",
   "name": "python",
   "nbconvert_exporter": "python",
   "pygments_lexer": "ipython2",
   "version": "2.7.6"
  }
 },
 "nbformat": 4,
 "nbformat_minor": 5
}
