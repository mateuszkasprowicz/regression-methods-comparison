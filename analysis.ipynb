{
 "cells": [
  {
   "cell_type": "markdown",
   "source": [
    "# Porównanie 3 metod regresji na podstawie 3 różnych zbiorów danych\n",
    "\n",
    "W niniejszej pracy wykorzystuję metody:\n",
    "- K najbliższych sąsiądów (KNN)\n",
    "- Regresji liniowej\n",
    "- Lasu losowego\n",
    "\n",
    "Używam następujących zbiorów danych:\n",
    "- The Boston Housing Dataset\n",
    "    - zmienna objaśniana: cena domu\n",
    "- Wine Quality\n",
    "    - zmienna objaśniana: jakość wina\n",
    "- Abalone\n",
    "    - zmienna objaśniana: wiek skamieliny"
   ],
   "metadata": {
    "collapsed": false
   },
   "id": "8e6a5c08fdf59c41"
  },
  {
   "cell_type": "markdown",
   "source": [
    "## Załadowanie potrzebnych bibliotek"
   ],
   "metadata": {
    "collapsed": false
   },
   "id": "cdbcf20ba0c64295"
  },
  {
   "cell_type": "code",
   "execution_count": 2,
   "outputs": [],
   "source": [
    "import pandas as pd\n",
    "import numpy as np\n",
    "\n",
    "import matplotlib as mpl\n",
    "import matplotlib.pyplot as plt\n",
    "import seaborn as sns\n",
    "import plotly.express as px\n",
    "\n",
    "import sklearn\n",
    "from sklearn.compose import ColumnTransformer\n",
    "from sklearn.impute import SimpleImputer"
   ],
   "metadata": {
    "collapsed": false,
    "ExecuteTime": {
     "end_time": "2023-12-22T11:02:24.934022700Z",
     "start_time": "2023-12-22T11:02:22.603055200Z"
    }
   },
   "id": "392b077ab414804e"
  }
 ],
 "metadata": {
  "kernelspec": {
   "display_name": "Python 3",
   "language": "python",
   "name": "python3"
  },
  "language_info": {
   "codemirror_mode": {
    "name": "ipython",
    "version": 2
   },
   "file_extension": ".py",
   "mimetype": "text/x-python",
   "name": "python",
   "nbconvert_exporter": "python",
   "pygments_lexer": "ipython2",
   "version": "2.7.6"
  }
 },
 "nbformat": 4,
 "nbformat_minor": 5
}
